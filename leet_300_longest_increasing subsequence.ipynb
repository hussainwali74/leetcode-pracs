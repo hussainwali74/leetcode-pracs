{
 "cells": [
  {
   "cell_type": "markdown",
   "metadata": {},
   "source": [
    "### Problem Description\n",
    "\n",
    "Given an integer array `nums`, return the length of the longest strictly increasing subsequence.\n",
    "\n",
    "A subsequence is a sequence that can be derived from an array by deleting some or no elements without changing the order of the remaining elements. For example, [0, 1, 2, 7] is a subsequence of the array [0, 3, 1, 6, 2, 2, 7].\n",
    "\n",
    "---\n",
    "\n",
    "### Example 1:\n",
    "**Input:**  \n",
    "`nums = [10,9,2,5,3,7,101,18]`  \n",
    "**Output:**  \n",
    "`4`  \n",
    "**Explanation:**  \n",
    "The longest increasing subsequence is `[2,3,7,101]`, which has a length of `4`.\n",
    "\n",
    "---\n",
    "\n",
    "### Example 2:\n",
    "**Input:**  \n",
    "`nums = [0,1,0,3,2,3]`  \n",
    "**Output:**  \n",
    "`4`  \n",
    "\n",
    "---\n",
    "\n",
    "### Example 3:\n",
    "**Input:**  \n",
    "`nums = [7,7,7,7,7,7,7]`  \n",
    "**Output:**  \n",
    "`1`  \n",
    "**Explanation:**  \n",
    "Since all elements are the same, the longest increasing subsequence has length `1`.\n",
    "\n",
    "---\n",
    "\n",
    "### Constraints:\n",
    "- `1 <= nums.length <= 2500`\n",
    "- `-10^4 <= nums[i] <= 10^4`\n",
    "\n",
    "---\n",
    "\n",
    "### Follow-up:\n",
    "Can you develop an algorithm that runs in `O(n log(n))` time complexity?\n"
   ]
  },
  {
   "cell_type": "code",
   "execution_count": null,
   "metadata": {},
   "outputs": [],
   "source": [
    "nums = [10,9,2,5,3,7,101,18]\n",
    "def func(nums,p):\n",
    "    prev = nums[p]\n",
    "    broke = 0\n",
    "    for i in range(1,len(nums)):\n",
    "        curr = nums[i]\n",
    "        if curr-prev <=0:\n",
    "            broke=1\n",
    "            break\n",
    "    \n",
    "    if broke ==1:\n",
    "        func(nums[p+1:])\n",
    "\n",
    "func(nums,0)"
   ]
  },
  {
   "cell_type": "code",
   "execution_count": 11,
   "metadata": {},
   "outputs": [
    {
     "data": {
      "text/plain": [
       "4"
      ]
     },
     "execution_count": 11,
     "metadata": {},
     "output_type": "execute_result"
    }
   ],
   "source": [
    "nums = [10,9,2,5,3,7,101,18]\n",
    "start = 0\n",
    "end = start+1\n",
    "remover  = []\n",
    "while start<end and start <len(nums) and end < len(nums):\n",
    "    if nums[end]-nums[start] <=0:\n",
    "        remover.append(start)\n",
    "    start+=1\n",
    "    end+=1\n",
    "\n",
    "for i in remover:\n",
    "    nums[i]=-1\n",
    "\n",
    "nums\n",
    "\n",
    "l = 0\n",
    "for n in nums:\n",
    "    if n!=-1:\n",
    "        l+=1\n",
    "l"
   ]
  },
  {
   "cell_type": "code",
   "execution_count": 17,
   "metadata": {},
   "outputs": [
    {
     "name": "stdout",
     "output_type": "stream",
     "text": [
      "[4, '-1', '-1', 3, 8, 9]\n"
     ]
    },
    {
     "data": {
      "text/plain": [
       "4"
      ]
     },
     "execution_count": 17,
     "metadata": {},
     "output_type": "execute_result"
    }
   ],
   "source": [
    "nums = [0,1,0,3,2,3]\n",
    "nums = [3,3,3,3,3,3]\n",
    "nums = [-2,-1]\n",
    "nums = [4,10,4,3,8,9]\n",
    "start = 0\n",
    "end = start+1\n",
    "remover  = []\n",
    "while start<end and start <len(nums) and end < len(nums):\n",
    "    if nums[end]-nums[start] <=0:\n",
    "        remover.append(start)\n",
    "    start+=1\n",
    "    end+=1\n",
    "\n",
    "for i in remover:\n",
    "    nums[i]='-1'\n",
    "print(nums)\n",
    "l = 0\n",
    "for n in nums:\n",
    "    if n!='-1':\n",
    "        l+=1\n",
    "l"
   ]
  },
  {
   "cell_type": "markdown",
   "metadata": {},
   "source": []
  },
  {
   "cell_type": "markdown",
   "metadata": {},
   "source": [
    "---"
   ]
  },
  {
   "cell_type": "markdown",
   "metadata": {},
   "source": [
    "# soln"
   ]
  },
  {
   "cell_type": "markdown",
   "metadata": {},
   "source": [
    "## Greg\n"
   ]
  },
  {
   "cell_type": "code",
   "execution_count": 12,
   "metadata": {},
   "outputs": [
    {
     "data": {
      "text/plain": [
       "4"
      ]
     },
     "execution_count": 12,
     "metadata": {},
     "output_type": "execute_result"
    }
   ],
   "source": [
    "from typing import List\n",
    "class Solution:\n",
    "    def lengthOfLIS(self, nums: List[int]) -> int:\n",
    "        # Bottom up dp tabulation\n",
    "\n",
    "        #time complexity O(n**2)\n",
    "        n = len(nums)\n",
    "        dp = [1]*n\n",
    "\n",
    "        for i in range(1, n):\n",
    "            for j in range(i):\n",
    "                if nums[i] > nums[j]:\n",
    "                    dp[i] = max(dp[i], dp[j]+1)\n",
    "        return max(dp)\n",
    "nums = [10, 1,2,3,4]\n",
    "s = Solution()\n",
    "s.lengthOfLIS(nums)\n"
   ]
  },
  {
   "cell_type": "markdown",
   "metadata": {},
   "source": [
    "## Neets"
   ]
  },
  {
   "cell_type": "code",
   "execution_count": 18,
   "metadata": {},
   "outputs": [
    {
     "name": "stdout",
     "output_type": "stream",
     "text": [
      "6 7\n",
      "5 6\n",
      "5 7\n",
      "4 5\n",
      "4 6\n",
      "4 7\n",
      "3 4\n",
      "3 5\n",
      "3 6\n",
      "3 7\n",
      "2 3\n",
      "2 4\n",
      "2 5\n",
      "2 6\n",
      "2 7\n",
      "1 2\n",
      "1 3\n",
      "1 4\n",
      "1 5\n",
      "1 6\n",
      "1 7\n",
      "0 1\n",
      "0 2\n",
      "0 3\n",
      "0 4\n",
      "0 5\n",
      "0 6\n",
      "0 7\n"
     ]
    },
    {
     "data": {
      "text/plain": [
       "4"
      ]
     },
     "execution_count": 18,
     "metadata": {},
     "output_type": "execute_result"
    }
   ],
   "source": [
    "from typing import List\n",
    "class Solution:\n",
    "    def lengthOfLIS(self, nums: List[int]) -> int:\n",
    "        l = len(nums)\n",
    "        LIS = [1]*l\n",
    "\n",
    "        for i in range(l-1, -1,-1):\n",
    "            for j in range(i+1, l):\n",
    "                if nums[i]<nums[j]:\n",
    "                    LIS[i] = max(LIS[i],1+LIS[j])\n",
    "        return max(LIS)\n",
    "\n",
    "nums = [10,9,2,5,3,7,101,18]\n",
    "s = Solution()\n",
    "s.lengthOfLIS(nums)"
   ]
  },
  {
   "cell_type": "code",
   "execution_count": 9,
   "metadata": {},
   "outputs": [
    {
     "name": "stdout",
     "output_type": "stream",
     "text": [
      "3\n"
     ]
    }
   ],
   "source": [
    "nums = [1,2,3]\n",
    "LIS = [1] * len(nums)\n",
    "\n",
    "for i in range(len(nums)-1,-1,-1):\n",
    "\n",
    "    for j in range(i+1, len(nums)):\n",
    "\n",
    "        if nums[i]<nums[j]:\n",
    "            LIS[i] = max(LIS[i],1+LIS[j])\n",
    "\n",
    "print(max(LIS))"
   ]
  },
  {
   "cell_type": "code",
   "execution_count": 7,
   "metadata": {},
   "outputs": [
    {
     "data": {
      "text/plain": [
       "3"
      ]
     },
     "execution_count": 7,
     "metadata": {},
     "output_type": "execute_result"
    }
   ],
   "source": [
    "nums = [1,2,3]\n",
    "len(nums)"
   ]
  }
 ],
 "metadata": {
  "kernelspec": {
   "display_name": "base",
   "language": "python",
   "name": "python3"
  },
  "language_info": {
   "codemirror_mode": {
    "name": "ipython",
    "version": 3
   },
   "file_extension": ".py",
   "mimetype": "text/x-python",
   "name": "python",
   "nbconvert_exporter": "python",
   "pygments_lexer": "ipython3",
   "version": "3.12.7"
  }
 },
 "nbformat": 4,
 "nbformat_minor": 2
}
