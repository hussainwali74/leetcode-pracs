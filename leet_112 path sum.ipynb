{
 "cells": [
  {
   "cell_type": "code",
   "execution_count": 39,
   "metadata": {},
   "outputs": [
    {
     "data": {
      "text/plain": [
       "False"
      ]
     },
     "execution_count": 39,
     "metadata": {},
     "output_type": "execute_result"
    }
   ],
   "source": [
    "from typing import Optional\n",
    "# Definition for a binary tree node.\n",
    "class TreeNode:\n",
    "    def __init__(self, val=0, left=None, right=None):\n",
    "        self.val = val\n",
    "        self.left = left\n",
    "        self.right = right\n",
    "class Solution:\n",
    "    def hasPathSum(self, root: Optional[TreeNode], targetSum: int) -> bool:\n",
    "        if root is None:\n",
    "            return False\n",
    "        if root.val == targetSum and root.left is None and root.right is None:\n",
    "            return True\n",
    "        curr_sum = root.val\n",
    "        left = False\n",
    "        right = False\n",
    "        def check(root, curr_sum):\n",
    "            if root is None and curr_sum==targetSum:\n",
    "                return True\n",
    "            \n",
    "            curr_sum+=root.val\n",
    "            if root.left is None and root.right is None and curr_sum==targetSum:\n",
    "                return True\n",
    "            \n",
    "            left = False\n",
    "            right = False\n",
    "            if root.left:\n",
    "                left = check(root.left, curr_sum)\n",
    "            if root.left:\n",
    "                left = check(root.left, curr_sum)\n",
    "\n",
    "        if root.left:\n",
    "            left = check(root.left, curr_sum)\n",
    "        if root.right:\n",
    "            right = check(root.right, curr_sum)\n",
    "        \n",
    "        return left or right\n",
    "            \n",
    "root = TreeNode(5, TreeNode(4,TreeNode(11,TreeNode(7),TreeNode(2))),TreeNode(8,TreeNode(13),TreeNode(4, None,TreeNode(1))))\n",
    "targetSum = 22\n",
    "# root = TreeNode(1, TreeNode(2), None)\n",
    "# targetSum = 1\n",
    "# root = TreeNode(1,TreeNode(2,TreeNode(3,TreeNode(4,TreeNode(5)))))\n",
    "# targetSum = 6\n",
    "soln = Solution()\n",
    "soln.hasPathSum(root, targetSum)"
   ]
  },
  {
   "cell_type": "code",
   "execution_count": 44,
   "metadata": {},
   "outputs": [
    {
     "data": {
      "text/plain": [
       "True"
      ]
     },
     "execution_count": 44,
     "metadata": {},
     "output_type": "execute_result"
    }
   ],
   "source": [
    "class Solution:\n",
    "    def hasPathSum(self, root: Optional[TreeNode], targetSum: int) -> bool:\n",
    "        if root is None:\n",
    "            return False\n",
    "        if root.val == targetSum and root.left is None and root.right is None:\n",
    "            return True\n",
    "        curr_sum = root.val\n",
    "        left = False\n",
    "        right = False\n",
    "        def check(root, curr_sum):\n",
    "            left = False\n",
    "            right = False\n",
    "            if root is None and curr_sum==targetSum:\n",
    "                return True\n",
    "\n",
    "            curr_sum+=root.val\n",
    "            if root.left is None and root.right is None and curr_sum==targetSum:\n",
    "                return True\n",
    "            \n",
    "            if root.left:\n",
    "                left = check(root.left, curr_sum)\n",
    "            if root.right:\n",
    "                right = check(root.right, curr_sum)\n",
    "            \n",
    "            return left or right\n",
    "        if root.left:\n",
    "            left = check(root.left, curr_sum)\n",
    "        if root.right:\n",
    "            right = check(root.right, curr_sum)\n",
    "        \n",
    "        return left or right\n",
    "            \n",
    "root = TreeNode(5, TreeNode(4,TreeNode(11,TreeNode(7),TreeNode(2))),TreeNode(8,TreeNode(13),TreeNode(4, None,TreeNode(1))))\n",
    "targetSum = 22\n",
    "root = TreeNode(1, TreeNode(2))\n",
    "targetSum = 3\n",
    "sol  = Solution()\n",
    "sol.hasPathSum(root, targetSum)"
   ]
  },
  {
   "cell_type": "code",
   "execution_count": 45,
   "metadata": {},
   "outputs": [
    {
     "data": {
      "text/plain": [
       "True"
      ]
     },
     "execution_count": 45,
     "metadata": {},
     "output_type": "execute_result"
    }
   ],
   "source": [
    "class Solution:\n",
    "    def hasPathSum(self, root: Optional[TreeNode], targetSum: int) -> bool:\n",
    "        if not root:\n",
    "            return False\n",
    "        if not root.right and not root.left:\n",
    "            return root.val == targetSum\n",
    "        targetSum -= root.val\n",
    "        return self.hasPathSum(root.right, targetSum) or self.hasPathSum(root.left, targetSum)\n",
    "\n",
    "root = TreeNode(1, TreeNode(2))\n",
    "targetSum = 3\n",
    "sol  = Solution()\n",
    "sol.hasPathSum(root, targetSum)"
   ]
  }
 ],
 "metadata": {
  "kernelspec": {
   "display_name": "langgraph",
   "language": "python",
   "name": "python3"
  },
  "language_info": {
   "codemirror_mode": {
    "name": "ipython",
    "version": 3
   },
   "file_extension": ".py",
   "mimetype": "text/x-python",
   "name": "python",
   "nbconvert_exporter": "python",
   "pygments_lexer": "ipython3",
   "version": "3.12.3"
  }
 },
 "nbformat": 4,
 "nbformat_minor": 2
}
