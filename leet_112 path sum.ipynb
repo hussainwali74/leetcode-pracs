{
 "cells": [
  {
   "cell_type": "code",
   "execution_count": 39,
   "metadata": {},
   "outputs": [
    {
     "data": {
      "text/plain": [
       "False"
      ]
     },
     "execution_count": 39,
     "metadata": {},
     "output_type": "execute_result"
    }
   ],
   "source": [
    "from typing import Optional\n",
    "# Definition for a binary tree node.\n",
    "class TreeNode:\n",
    "    def __init__(self, val=0, left=None, right=None):\n",
    "        self.val = val\n",
    "        self.left = left\n",
    "        self.right = right\n",
    "class Solution:\n",
    "    def hasPathSum(self, root: Optional[TreeNode], targetSum: int) -> bool:\n",
    "        if root is None:\n",
    "            return False\n",
    "        if root.val == targetSum and root.left is None and root.right is None:\n",
    "            return True\n",
    "        curr_sum = root.val\n",
    "        left = False\n",
    "        right = False\n",
    "        def check(root, curr_sum):\n",
    "            if root is None and curr_sum==targetSum:\n",
    "                return True\n",
    "            \n",
    "            curr_sum+=root.val\n",
    "            if root.left is None and root.right is None and curr_sum==targetSum:\n",
    "                return True\n",
    "            \n",
    "            left = False\n",
    "            right = False\n",
    "            if root.left:\n",
    "                left = check(root.left, curr_sum)\n",
    "            if root.left:\n",
    "                left = check(root.left, curr_sum)\n",
    "\n",
    "        if root.left:\n",
    "            left = check(root.left, curr_sum)\n",
    "        if root.right:\n",
    "            right = check(root.right, curr_sum)\n",
    "        \n",
    "        return left or right\n",
    "            \n",
    "root = TreeNode(5, TreeNode(4,TreeNode(11,TreeNode(7),TreeNode(2))),TreeNode(8,TreeNode(13),TreeNode(4, None,TreeNode(1))))\n",
    "targetSum = 22\n",
    "# root = TreeNode(1, TreeNode(2), None)\n",
    "# targetSum = 1\n",
    "# root = TreeNode(1,TreeNode(2,TreeNode(3,TreeNode(4,TreeNode(5)))))\n",
    "# targetSum = 6\n",
    "soln = Solution()\n",
    "soln.hasPathSum(root, targetSum)"
   ]
  },
  {
   "cell_type": "code",
   "execution_count": 44,
   "metadata": {},
   "outputs": [
    {
     "data": {
      "text/plain": [
       "True"
      ]
     },
     "execution_count": 44,
     "metadata": {},
     "output_type": "execute_result"
    }
   ],
   "source": [
    "class Solution:\n",
    "    def hasPathSum(self, root: Optional[TreeNode], targetSum: int) -> bool:\n",
    "        if root is None:\n",
    "            return False\n",
    "        if root.val == targetSum and root.left is None and root.right is None:\n",
    "            return True\n",
    "        curr_sum = root.val\n",
    "        left = False\n",
    "        right = False\n",
    "        def check(root, curr_sum):\n",
    "            left = False\n",
    "            right = False\n",
    "            if root is None and curr_sum==targetSum:\n",
    "                return True\n",
    "\n",
    "            curr_sum+=root.val\n",
    "            if root.left is None and root.right is None and curr_sum==targetSum:\n",
    "                return True\n",
    "            \n",
    "            if root.left:\n",
    "                left = check(root.left, curr_sum)\n",
    "            if root.right:\n",
    "                right = check(root.right, curr_sum)\n",
    "            \n",
    "            return left or right\n",
    "        if root.left:\n",
    "            left = check(root.left, curr_sum)\n",
    "        if root.right:\n",
    "            right = check(root.right, curr_sum)\n",
    "        \n",
    "        return left or right\n",
    "            \n",
    "root = TreeNode(5, TreeNode(4,TreeNode(11,TreeNode(7),TreeNode(2))),TreeNode(8,TreeNode(13),TreeNode(4, None,TreeNode(1))))\n",
    "targetSum = 22\n",
    "root = TreeNode(1, TreeNode(2))\n",
    "targetSum = 3\n",
    "sol  = Solution()\n",
    "sol.hasPathSum(root, targetSum)"
   ]
  },
  {
   "cell_type": "code",
   "execution_count": 1,
   "metadata": {},
   "outputs": [
    {
     "ename": "NameError",
     "evalue": "name 'Optional' is not defined",
     "output_type": "error",
     "traceback": [
      "\u001b[1;31m---------------------------------------------------------------------------\u001b[0m",
      "\u001b[1;31mNameError\u001b[0m                                 Traceback (most recent call last)",
      "Cell \u001b[1;32mIn[1], line 1\u001b[0m\n\u001b[1;32m----> 1\u001b[0m \u001b[38;5;28;43;01mclass\u001b[39;49;00m\u001b[43m \u001b[49m\u001b[38;5;21;43;01mSolution\u001b[39;49;00m\u001b[43m:\u001b[49m\n\u001b[0;32m      2\u001b[0m \u001b[43m    \u001b[49m\u001b[38;5;28;43;01mdef\u001b[39;49;00m\u001b[43m \u001b[49m\u001b[38;5;21;43mhasPathSum\u001b[39;49m\u001b[43m(\u001b[49m\u001b[38;5;28;43mself\u001b[39;49m\u001b[43m,\u001b[49m\u001b[43m \u001b[49m\u001b[43mroot\u001b[49m\u001b[43m:\u001b[49m\u001b[43m \u001b[49m\u001b[43mOptional\u001b[49m\u001b[43m[\u001b[49m\u001b[43mTreeNode\u001b[49m\u001b[43m]\u001b[49m\u001b[43m,\u001b[49m\u001b[43m \u001b[49m\u001b[43mtargetSum\u001b[49m\u001b[43m:\u001b[49m\u001b[43m \u001b[49m\u001b[38;5;28;43mint\u001b[39;49m\u001b[43m)\u001b[49m\u001b[43m \u001b[49m\u001b[38;5;241;43m-\u001b[39;49m\u001b[38;5;241;43m>\u001b[39;49m\u001b[43m \u001b[49m\u001b[38;5;28;43mbool\u001b[39;49m\u001b[43m:\u001b[49m\n\u001b[0;32m      3\u001b[0m \u001b[43m        \u001b[49m\u001b[38;5;28;43;01mif\u001b[39;49;00m\u001b[43m \u001b[49m\u001b[38;5;129;43;01mnot\u001b[39;49;00m\u001b[43m \u001b[49m\u001b[43mroot\u001b[49m\u001b[43m:\u001b[49m\n",
      "Cell \u001b[1;32mIn[1], line 2\u001b[0m, in \u001b[0;36mSolution\u001b[1;34m()\u001b[0m\n\u001b[0;32m      1\u001b[0m \u001b[38;5;28;01mclass\u001b[39;00m \u001b[38;5;21;01mSolution\u001b[39;00m:\n\u001b[1;32m----> 2\u001b[0m     \u001b[38;5;28;01mdef\u001b[39;00m \u001b[38;5;21mhasPathSum\u001b[39m(\u001b[38;5;28mself\u001b[39m, root: \u001b[43mOptional\u001b[49m[TreeNode], targetSum: \u001b[38;5;28mint\u001b[39m) \u001b[38;5;241m-\u001b[39m\u001b[38;5;241m>\u001b[39m \u001b[38;5;28mbool\u001b[39m:\n\u001b[0;32m      3\u001b[0m         \u001b[38;5;28;01mif\u001b[39;00m \u001b[38;5;129;01mnot\u001b[39;00m root:\n\u001b[0;32m      4\u001b[0m             \u001b[38;5;28;01mreturn\u001b[39;00m \u001b[38;5;28;01mFalse\u001b[39;00m\n",
      "\u001b[1;31mNameError\u001b[0m: name 'Optional' is not defined"
     ]
    }
   ],
   "source": [
    "class Solution:\n",
    "    def hasPathSum(self, root: Optional[TreeNode], targetSum: int) -> bool:\n",
    "        if not root:\n",
    "            return False\n",
    "        if not root.right and not root.left:\n",
    "            return root.val == targetSum\n",
    "        targetSum -= root.val\n",
    "        return self.hasPathSum(root.right, targetSum) or self.hasPathSum(root.left, targetSum)\n",
    "\n",
    "root = TreeNode(1, TreeNode(2))\n",
    "targetSum = 3\n",
    "sol  = Solution()\n",
    "sol.hasPathSum(root, targetSum)"
   ]
  },
  {
   "cell_type": "code",
   "execution_count": 17,
   "metadata": {},
   "outputs": [
    {
     "data": {
      "text/plain": [
       "True"
      ]
     },
     "execution_count": 17,
     "metadata": {},
     "output_type": "execute_result"
    }
   ],
   "source": [
    "from typing import Optional\n",
    "# Definition for a binary tree node.\n",
    "class TreeNode:\n",
    "    def __init__(self, val=0, left=None, right=None):\n",
    "        self.val = val\n",
    "        self.left = left\n",
    "        self.right = right\n",
    "class Solution:\n",
    "    def hasPathSum(self, root: Optional[TreeNode], targetSum: int) -> bool:\n",
    "        if root is None: return False\n",
    "        curr_sum=0\n",
    "        def check(root, curr_sum):\n",
    "            left = False\n",
    "            right = False\n",
    "            if  (root is None) and curr_sum==targetSum:\n",
    "                return True\n",
    "            if root is None:\n",
    "                return False\n",
    "            curr_sum+=root.val\n",
    "            if ((root.left is None and root.right is None) ) and curr_sum==targetSum:\n",
    "                return True\n",
    "            if root.left:\n",
    "                left = check(root.left, curr_sum)\n",
    "            if root.right:\n",
    "                right = check(root.right, curr_sum)\n",
    "            return left or right\n",
    "        return check(root, curr_sum)\n",
    "\n",
    "# [5,4,8,11,null,13,4,7,2,null,null,null,1]\n",
    "root = TreeNode(5, TreeNode(4,TreeNode(11, TreeNode(7),TreeNode(2)),None),TreeNode(8,TreeNode(13),TreeNode(4,None, TreeNode(1))))\n",
    "root = TreeNode(1,TreeNode(2),TreeNode(3))\n",
    "root = TreeNode(1,TreeNode(2))\n",
    "targetSum = 3\n",
    "sol = Solution()\n",
    "sol.hasPathSum(root,targetSum)\n",
    "\n"
   ]
  },
  {
   "cell_type": "code",
   "execution_count": 22,
   "metadata": {},
   "outputs": [
    {
     "data": {
      "text/plain": [
       "True"
      ]
     },
     "execution_count": 22,
     "metadata": {},
     "output_type": "execute_result"
    }
   ],
   "source": [
    "from typing import Optional\n",
    "# Definition for a binary tree node.\n",
    "class TreeNode:\n",
    "    def __init__(self, val=0, left=None, right=None):\n",
    "        self.val = val\n",
    "        self.left = left\n",
    "        self.right = right\n",
    "class Solution:\n",
    "    def hasPathSum(self, root: Optional[TreeNode], targetSum: int) -> bool:\n",
    "\n",
    "        def check(root, curr_sum):\n",
    "            if not root:\n",
    "                return False\n",
    "            curr_sum+=root.val\n",
    "            if not root.left and not root.right:\n",
    "                return curr_sum==targetSum\n",
    "            return check(root.left, curr_sum) or check(root.right, curr_sum)\n",
    "        \n",
    "        return check(root,0)\n",
    "\n",
    "# [5,4,8,11,null,13,4,7,2,null,null,null,1]\n",
    "root = TreeNode(5, TreeNode(4,TreeNode(11, TreeNode(7),TreeNode(2)),None),TreeNode(8,TreeNode(13),TreeNode(4,None, TreeNode(1))))\n",
    "# root = TreeNode(1,TreeNode(2),TreeNode(3))\n",
    "# root = TreeNode(1,TreeNode(2))\n",
    "targetSum = 22\n",
    "sol = Solution()\n",
    "sol.hasPathSum(root,targetSum)"
   ]
  }
 ],
 "metadata": {
  "kernelspec": {
   "display_name": "langgraph",
   "language": "python",
   "name": "python3"
  },
  "language_info": {
   "codemirror_mode": {
    "name": "ipython",
    "version": 3
   },
   "file_extension": ".py",
   "mimetype": "text/x-python",
   "name": "python",
   "nbconvert_exporter": "python",
   "pygments_lexer": "ipython3",
   "version": "3.12.3"
  }
 },
 "nbformat": 4,
 "nbformat_minor": 2
}
