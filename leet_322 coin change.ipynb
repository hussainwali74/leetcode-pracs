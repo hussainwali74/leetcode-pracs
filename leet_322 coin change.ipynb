{
 "cells": [
  {
   "cell_type": "markdown",
   "metadata": {},
   "source": [
    "### Problem Description\n",
    "\n",
    "Given an integer array `coins`, representing coins of different denominations, and an integer `amount` representing a total amount of money, return the fewest number of coins required to make up that amount. If the amount cannot be made with any combination of the coins, return `-1`.\n",
    "\n",
    "You may assume an infinite supply of each type of coin.\n",
    "\n",
    "---\n",
    "\n",
    "### Example 1:\n",
    "**Input:**  \n",
    "`coins = [1,2,5]`, `amount = 11`  \n",
    "**Output:**  \n",
    "`3`  \n",
    "**Explanation:**  \n",
    "`11 = 5 + 5 + 1`, so we need 3 coins.\n",
    "\n",
    "---\n",
    "\n",
    "### Example 2:\n",
    "**Input:**  \n",
    "`coins = [2]`, `amount = 3`  \n",
    "**Output:**  \n",
    "`-1`  \n",
    "**Explanation:**  \n",
    "The amount `3` cannot be made up with only coins of denomination `2`.\n",
    "\n",
    "---\n",
    "\n",
    "### Example 3:\n",
    "**Input:**  \n",
    "`coins = [1]`, `amount = 0`  \n",
    "**Output:**  \n",
    "`0`  \n",
    "**Explanation:**  \n",
    "No coins are needed to make an amount of `0`.\n",
    "\n",
    "---\n",
    "\n",
    "### Constraints:\n",
    "- `1 <= coins.length <= 12`\n",
    "- `1 <= coins[i] <= 2^31 - 1`\n",
    "- `0 <= amount <= 10^4`\n"
   ]
  },
  {
   "cell_type": "code",
   "execution_count": 6,
   "metadata": {},
   "outputs": [
    {
     "data": {
      "text/plain": [
       "[11]"
      ]
     },
     "execution_count": 6,
     "metadata": {},
     "output_type": "execute_result"
    }
   ],
   "source": [
    "t = 11\n",
    "rem = 11\n",
    "arr = [1,2,5]\n",
    "res = []\n",
    "for i,n in enumerate(arr):\n",
    "    d = rem//n\n",
    "    if d*n ==t:\n",
    "        res.append(d)\n",
    "    else:\n",
    "        temp_res = d\n",
    "        rem -=d\n",
    "        if rem in arr:\n",
    "            res.append(temp_res+1)\n",
    "    rem = t\n",
    "res"
   ]
  },
  {
   "cell_type": "code",
   "execution_count": 12,
   "metadata": {},
   "outputs": [
    {
     "name": "stdout",
     "output_type": "stream",
     "text": [
      "n=1\n",
      "-------------\n",
      "11\n",
      "n=2\n",
      "-------------\n",
      "n=5\n",
      "-------------\n"
     ]
    }
   ],
   "source": [
    "arr = [1,2,5]\n",
    "arr.sort()\n"
   ]
  },
  {
   "cell_type": "markdown",
   "metadata": {},
   "source": [
    "https://www.youtube.com/watch?v=H9bfqozjoqs&ab_channel=NeetCode"
   ]
  },
  {
   "cell_type": "code",
   "execution_count": null,
   "metadata": {},
   "outputs": [],
   "source": [
    "from typing import List\n",
    "class Solution:\n",
    "    def coinChange(self, coins:List[int], amount:int):\n",
    "        dp = [ amount+1]*(amount+1)\n",
    "        dp[0]=0\n",
    "        \n",
    "        for a in range(1, amount+1):\n",
    "            for c in coins:\n",
    "                if a - c >=0:\n",
    "                    dp[a] = min(dp[a],1+dp[a-c])"
   ]
  },
  {
   "cell_type": "markdown",
   "metadata": {},
   "source": [
    "hh"
   ]
  },
  {
   "cell_type": "code",
   "execution_count": 24,
   "metadata": {},
   "outputs": [
    {
     "name": "stdout",
     "output_type": "stream",
     "text": [
      "------------------------------------\n",
      "rem=6249 closest=419\n",
      "------------------------------------\n",
      "------------------------------------\n",
      "rem=5830 closest=419\n",
      "------------------------------------\n",
      "------------------------------------\n",
      "rem=5411 closest=419\n",
      "------------------------------------\n",
      "------------------------------------\n",
      "rem=4992 closest=419\n",
      "------------------------------------\n",
      "------------------------------------\n",
      "rem=4573 closest=419\n",
      "------------------------------------\n",
      "------------------------------------\n",
      "rem=4154 closest=419\n",
      "------------------------------------\n",
      "------------------------------------\n",
      "rem=3735 closest=419\n",
      "------------------------------------\n",
      "------------------------------------\n",
      "rem=3316 closest=419\n",
      "------------------------------------\n",
      "------------------------------------\n",
      "rem=2897 closest=419\n",
      "------------------------------------\n",
      "------------------------------------\n",
      "rem=2478 closest=419\n",
      "------------------------------------\n",
      "------------------------------------\n",
      "rem=2059 closest=419\n",
      "------------------------------------\n",
      "------------------------------------\n",
      "rem=1640 closest=419\n",
      "------------------------------------\n",
      "------------------------------------\n",
      "rem=1221 closest=419\n",
      "------------------------------------\n",
      "------------------------------------\n",
      "rem=802 closest=419\n",
      "------------------------------------\n",
      "------------------------------------\n",
      "rem=383 closest=186\n",
      "------------------------------------\n",
      "------------------------------------\n",
      "rem=197 closest=186\n",
      "------------------------------------\n",
      "------------------------------------\n",
      "rem=11 closest=None\n",
      "------------------------------------\n"
     ]
    },
    {
     "ename": "TypeError",
     "evalue": "unsupported operand type(s) for -: 'int' and 'NoneType'",
     "output_type": "error",
     "traceback": [
      "\u001b[1;31m---------------------------------------------------------------------------\u001b[0m",
      "\u001b[1;31mTypeError\u001b[0m                                 Traceback (most recent call last)",
      "Cell \u001b[1;32mIn[24], line 34\u001b[0m\n\u001b[0;32m     32\u001b[0m amount \u001b[38;5;241m=\u001b[39m \u001b[38;5;241m6249\u001b[39m\n\u001b[0;32m     33\u001b[0m s \u001b[38;5;241m=\u001b[39m Solution()\n\u001b[1;32m---> 34\u001b[0m \u001b[43ms\u001b[49m\u001b[38;5;241;43m.\u001b[39;49m\u001b[43mcoinChange\u001b[49m\u001b[43m(\u001b[49m\u001b[43mcoins\u001b[49m\u001b[43m,\u001b[49m\u001b[43m \u001b[49m\u001b[43mamount\u001b[49m\u001b[43m)\u001b[49m\n",
      "Cell \u001b[1;32mIn[24], line 21\u001b[0m, in \u001b[0;36mSolution.coinChange\u001b[1;34m(self, coins, amount)\u001b[0m\n\u001b[0;32m     19\u001b[0m     \u001b[38;5;28mprint\u001b[39m(\u001b[38;5;124m'\u001b[39m\u001b[38;5;124m------------------------------------\u001b[39m\u001b[38;5;124m'\u001b[39m);\n\u001b[0;32m     20\u001b[0m     \u001b[38;5;28;01mreturn\u001b[39;00m get_res(coins, amount, rem\u001b[38;5;241m-\u001b[39mclosest, res\u001b[38;5;241m+\u001b[39m\u001b[38;5;241m1\u001b[39m)\n\u001b[1;32m---> 21\u001b[0m \u001b[38;5;28;01mreturn\u001b[39;00m \u001b[43mget_res\u001b[49m\u001b[43m(\u001b[49m\u001b[43mcoins\u001b[49m\u001b[43m,\u001b[49m\u001b[43m \u001b[49m\u001b[43mamount\u001b[49m\u001b[43m,\u001b[49m\u001b[43m \u001b[49m\u001b[43mamount\u001b[49m\u001b[43m,\u001b[49m\u001b[43m \u001b[49m\u001b[38;5;241;43m0\u001b[39;49m\u001b[43m)\u001b[49m\n",
      "Cell \u001b[1;32mIn[24], line 20\u001b[0m, in \u001b[0;36mSolution.coinChange.<locals>.get_res\u001b[1;34m(coins, amount, rem, res)\u001b[0m\n\u001b[0;32m     18\u001b[0m \u001b[38;5;28mprint\u001b[39m(\u001b[38;5;124mf\u001b[39m\u001b[38;5;124m'\u001b[39m\u001b[38;5;132;01m{\u001b[39;00mrem\u001b[38;5;132;01m=}\u001b[39;00m\u001b[38;5;124m \u001b[39m\u001b[38;5;132;01m{\u001b[39;00mclosest\u001b[38;5;132;01m=}\u001b[39;00m\u001b[38;5;124m'\u001b[39m);\n\u001b[0;32m     19\u001b[0m \u001b[38;5;28mprint\u001b[39m(\u001b[38;5;124m'\u001b[39m\u001b[38;5;124m------------------------------------\u001b[39m\u001b[38;5;124m'\u001b[39m);\n\u001b[1;32m---> 20\u001b[0m \u001b[38;5;28;01mreturn\u001b[39;00m \u001b[43mget_res\u001b[49m\u001b[43m(\u001b[49m\u001b[43mcoins\u001b[49m\u001b[43m,\u001b[49m\u001b[43m \u001b[49m\u001b[43mamount\u001b[49m\u001b[43m,\u001b[49m\u001b[43m \u001b[49m\u001b[43mrem\u001b[49m\u001b[38;5;241;43m-\u001b[39;49m\u001b[43mclosest\u001b[49m\u001b[43m,\u001b[49m\u001b[43m \u001b[49m\u001b[43mres\u001b[49m\u001b[38;5;241;43m+\u001b[39;49m\u001b[38;5;241;43m1\u001b[39;49m\u001b[43m)\u001b[49m\n",
      "Cell \u001b[1;32mIn[24], line 20\u001b[0m, in \u001b[0;36mSolution.coinChange.<locals>.get_res\u001b[1;34m(coins, amount, rem, res)\u001b[0m\n\u001b[0;32m     18\u001b[0m \u001b[38;5;28mprint\u001b[39m(\u001b[38;5;124mf\u001b[39m\u001b[38;5;124m'\u001b[39m\u001b[38;5;132;01m{\u001b[39;00mrem\u001b[38;5;132;01m=}\u001b[39;00m\u001b[38;5;124m \u001b[39m\u001b[38;5;132;01m{\u001b[39;00mclosest\u001b[38;5;132;01m=}\u001b[39;00m\u001b[38;5;124m'\u001b[39m);\n\u001b[0;32m     19\u001b[0m \u001b[38;5;28mprint\u001b[39m(\u001b[38;5;124m'\u001b[39m\u001b[38;5;124m------------------------------------\u001b[39m\u001b[38;5;124m'\u001b[39m);\n\u001b[1;32m---> 20\u001b[0m \u001b[38;5;28;01mreturn\u001b[39;00m \u001b[43mget_res\u001b[49m\u001b[43m(\u001b[49m\u001b[43mcoins\u001b[49m\u001b[43m,\u001b[49m\u001b[43m \u001b[49m\u001b[43mamount\u001b[49m\u001b[43m,\u001b[49m\u001b[43m \u001b[49m\u001b[43mrem\u001b[49m\u001b[38;5;241;43m-\u001b[39;49m\u001b[43mclosest\u001b[49m\u001b[43m,\u001b[49m\u001b[43m \u001b[49m\u001b[43mres\u001b[49m\u001b[38;5;241;43m+\u001b[39;49m\u001b[38;5;241;43m1\u001b[39;49m\u001b[43m)\u001b[49m\n",
      "    \u001b[1;31m[... skipping similar frames: Solution.coinChange.<locals>.get_res at line 20 (14 times)]\u001b[0m\n",
      "Cell \u001b[1;32mIn[24], line 20\u001b[0m, in \u001b[0;36mSolution.coinChange.<locals>.get_res\u001b[1;34m(coins, amount, rem, res)\u001b[0m\n\u001b[0;32m     18\u001b[0m \u001b[38;5;28mprint\u001b[39m(\u001b[38;5;124mf\u001b[39m\u001b[38;5;124m'\u001b[39m\u001b[38;5;132;01m{\u001b[39;00mrem\u001b[38;5;132;01m=}\u001b[39;00m\u001b[38;5;124m \u001b[39m\u001b[38;5;132;01m{\u001b[39;00mclosest\u001b[38;5;132;01m=}\u001b[39;00m\u001b[38;5;124m'\u001b[39m);\n\u001b[0;32m     19\u001b[0m \u001b[38;5;28mprint\u001b[39m(\u001b[38;5;124m'\u001b[39m\u001b[38;5;124m------------------------------------\u001b[39m\u001b[38;5;124m'\u001b[39m);\n\u001b[1;32m---> 20\u001b[0m \u001b[38;5;28;01mreturn\u001b[39;00m get_res(coins, amount, \u001b[43mrem\u001b[49m\u001b[38;5;241;43m-\u001b[39;49m\u001b[43mclosest\u001b[49m, res\u001b[38;5;241m+\u001b[39m\u001b[38;5;241m1\u001b[39m)\n",
      "\u001b[1;31mTypeError\u001b[0m: unsupported operand type(s) for -: 'int' and 'NoneType'"
     ]
    }
   ],
   "source": [
    "from typing import List\n",
    "class Solution:\n",
    "    def get_closest(self, coins:List[int], n):\n",
    "        coins = sorted(coins, reverse=True)\n",
    "        for c in coins:\n",
    "            if n>=c:\n",
    "                return c\n",
    "    def coinChange(self, coins:List[int],amount:int):\n",
    "        if amount == 0:\n",
    "            return 0\n",
    "        def get_res(coins, amount, rem, res):\n",
    "            if rem in coins:\n",
    "                return res+1\n",
    "            if rem ==0 :\n",
    "                return -1    \n",
    "            closest = self.get_closest(coins, rem)\n",
    "            print('------------------------------------');\n",
    "            print(f'{rem=} {closest=}');\n",
    "            print('------------------------------------');\n",
    "            return get_res(coins, amount, rem-closest, res+1)\n",
    "        return get_res(coins, amount, amount, 0)\n",
    "\n",
    "        \n",
    "        \n",
    "coins = [1,2,5]\n",
    "# # coins = [1]\n",
    "# # amount = 0\n",
    "amount = 14\n",
    "# coins = [2]\n",
    "# amount= 3\n",
    "coins = [186,419,83,408]\n",
    "amount = 6249\n",
    "s = Solution()\n",
    "s.coinChange(coins, amount)"
   ]
  },
  {
   "cell_type": "code",
   "execution_count": 13,
   "metadata": {},
   "outputs": [
    {
     "ename": "IndentationError",
     "evalue": "expected an indented block after 'else' statement on line 17 (3384984228.py, line 19)",
     "output_type": "error",
     "traceback": [
      "\u001b[1;36m  Cell \u001b[1;32mIn[13], line 19\u001b[1;36m\u001b[0m\n\u001b[1;33m    print(f'{p=}');\u001b[0m\n\u001b[1;37m    ^\u001b[0m\n\u001b[1;31mIndentationError\u001b[0m\u001b[1;31m:\u001b[0m expected an indented block after 'else' statement on line 17\n"
     ]
    }
   ],
   "source": [
    "from typing import List\n",
    "class Solution:\n",
    "    def coinChange(self, coins:List[int],amount:int):\n",
    "        d = {}\n",
    "        if amount == 0:\n",
    "            return 0\n",
    "        for n in coins:\n",
    "            d[n] = amount//n\n",
    "        p = []\n",
    "        print('------------------------------------');\n",
    "        print(f'{d=}');\n",
    "        print('------------------------------------');\n",
    "        for k, v in d.items():\n",
    "            rem = amount-(k*v)\n",
    "            if k*v <amount and  rem in d :\n",
    "                p.append(v+1)\n",
    "            else:\n",
    "                \n",
    "        print(f'{p=}');\n",
    "        print('------------------------------------');\n",
    "        if p:\n",
    "            return min(p)\n",
    "        else:\n",
    "            return -1\n",
    "coins = [1,2,5]\n",
    "# coins = [1]\n",
    "# amount = 0\n",
    "amount = 13\n",
    "s = Solution()\n",
    "s.coinChange(coins, amount)"
   ]
  },
  {
   "cell_type": "code",
   "execution_count": null,
   "metadata": {},
   "outputs": [
    {
     "name": "stdout",
     "output_type": "stream",
     "text": [
      "------------------------------------\n",
      "dp=[0, 1]\n",
      "------------------------------------\n"
     ]
    },
    {
     "data": {
      "text/plain": [
       "-1"
      ]
     },
     "execution_count": 38,
     "metadata": {},
     "output_type": "execute_result"
    }
   ],
   "source": [
    "from typing import List\n",
    "class Solution:\n",
    "    def coinChange(self, coins:List[int], amount:int):\n",
    "        if amount ==0:\n",
    "            return 0\n",
    "        dp = [ amount+1]*(amount+1)\n",
    "        dp[0]=0\n",
    "        for a in range(1, amount+1):\n",
    "            for c in coins:\n",
    "                if a - c >=0:\n",
    "                    dp[a] = min(dp[a],1+dp[a-c])\n",
    "        print('------------------------------------');\n",
    "        print(f'{dp=}');\n",
    "        print('------------------------------------');\n",
    "        for i, v in enumerate(dp):\n",
    "            if v > amount:\n",
    "                dp[i]=-1\n",
    "        return dp[amount]\n",
    "coins = [1]\n",
    "# coins = [1]\n",
    "# amount = 0\n",
    "amount = 1\n",
    "s = Solution()\n",
    "s.coinChange(coins, amount)\n"
   ]
  }
 ],
 "metadata": {
  "kernelspec": {
   "display_name": "langgraph",
   "language": "python",
   "name": "python3"
  },
  "language_info": {
   "codemirror_mode": {
    "name": "ipython",
    "version": 3
   },
   "file_extension": ".py",
   "mimetype": "text/x-python",
   "name": "python",
   "nbconvert_exporter": "python",
   "pygments_lexer": "ipython3",
   "version": "3.12.3"
  }
 },
 "nbformat": 4,
 "nbformat_minor": 2
}
