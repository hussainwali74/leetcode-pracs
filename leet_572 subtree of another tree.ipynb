{
 "cells": [
  {
   "cell_type": "code",
   "execution_count": 33,
   "metadata": {},
   "outputs": [
    {
     "name": "stdout",
     "output_type": "stream",
     "text": [
      "------------------------------------\n",
      "------------------------------------\n",
      "self.res[0]=True\n",
      "------------------------------------\n",
      "------------------------------------\n",
      "self.res[0]=True\n",
      "------------------------------------\n",
      "------------------------------------\n",
      "self.res[0]=None\n",
      "------------------------------------\n",
      "------------------------------------\n",
      "self.res[0]=None\n",
      "------------------------------------\n",
      "------------------------------------\n",
      "self.res[0]=None\n",
      "------------------------------------\n",
      "------------------------------------\n",
      "self.res[0]=None\n",
      "------------------------------------\n",
      "------------------------------------\n",
      "self.res[0]=None\n",
      "------------------------------------\n",
      "soln.isSubtree(root, subRoot)=None\n",
      "------------------------------------\n"
     ]
    }
   ],
   "source": [
    "from typing import Optional\n",
    "# Definition for a binary tree node.\n",
    "class TreeNode:\n",
    "    def __init__(self, val=0, left=None, right=None):\n",
    "        self.val = val\n",
    "        self.left = left\n",
    "        self.right = right\n",
    "class Solution:\n",
    "    res = [False]\n",
    "    def isSubtree(self, root: Optional[TreeNode], subRoot: Optional[TreeNode]) -> bool:\n",
    "        # if root is None and subRoot is not None or root is not None and subRoot is None:\n",
    "        #     return False\n",
    "        # el\n",
    "        if root is None and subRoot is None:\n",
    "            return True\n",
    "        \n",
    "        left = None\n",
    "        right = None\n",
    "        if root and subRoot:\n",
    "            if root.val == subRoot.val:\n",
    "                left = self.isSubtree(root.left, subRoot.left)\n",
    "                # print('------------------------------------');\n",
    "                # print(f'{left=}');\n",
    "                # print('------------------------------------');\n",
    "                right = self.isSubtree(root.right, subRoot.right)\n",
    "                # print('------------------------------------');\n",
    "                # print(f'{right=}');\n",
    "                # print('------------------------------------');\n",
    "            if root.left is not None:\n",
    "                left =self.isSubtree(root.left, subRoot)\n",
    "            if root.right is not None:\n",
    "                right=self.isSubtree(root.right, subRoot)\n",
    "            self.res[0] = left or right\n",
    "        else:\n",
    "            return False\n",
    "        print('------------------------------------');\n",
    "        print(f'{self.res[0]=}');\n",
    "        print('------------------------------------');\n",
    "        return self.res[0]\n",
    "    \n",
    "root  = TreeNode(3,TreeNode(4,TreeNode(1),TreeNode(2,TreeNode(0))),TreeNode(5))\n",
    "root  = TreeNode(3,TreeNode(4,TreeNode(1),TreeNode(2)),TreeNode(5))\n",
    "subRoot = TreeNode(4,TreeNode(1),TreeNode(2))\n",
    "soln = Solution()\n",
    "print('------------------------------------');\n",
    "print(f'{soln.isSubtree(root, subRoot)=}');\n",
    "print('------------------------------------');"
   ]
  },
  {
   "cell_type": "code",
   "execution_count": 39,
   "metadata": {},
   "outputs": [
    {
     "name": "stdout",
     "output_type": "stream",
     "text": [
      "------------------------------------\n",
      "soln.isSubtree(root, subRoot)=True\n",
      "------------------------------------\n"
     ]
    }
   ],
   "source": [
    "from typing import Optional\n",
    "# Definition for a binary tree node.\n",
    "class TreeNode:\n",
    "    def __init__(self, val=0, left=None, right=None):\n",
    "        self.val = val\n",
    "        self.left = left\n",
    "        self.right = right\n",
    "class Solution:\n",
    "    res = [False]\n",
    "    def isSubtree(self, root: Optional[TreeNode], subRoot: Optional[TreeNode]) -> bool:\n",
    "        \n",
    "        def sameTree(p,q):\n",
    "            if not p and not q:\n",
    "                return True\n",
    "            \n",
    "            if (p and not q) or (not p and q) or (p.val != q.val):\n",
    "                return False\n",
    "            \n",
    "            return sameTree(p.left, q.left) and sameTree(p.right, q.right)\n",
    "        \n",
    "        def has_subtree(root):\n",
    "            if not root:\n",
    "                return False\n",
    "            if sameTree(root,subRoot):\n",
    "                return True\n",
    "            return has_subtree(root.left) or has_subtree(root.right)\n",
    "        return has_subtree(root)\n",
    "root  = TreeNode(3,TreeNode(4,TreeNode(1),TreeNode(2,TreeNode(0))),TreeNode(5))\n",
    "root  = TreeNode(3,TreeNode(4,TreeNode(1),TreeNode(2)),TreeNode(5))\n",
    "subRoot = TreeNode(4,TreeNode(1),TreeNode(2))\n",
    "soln = Solution()\n",
    "print('------------------------------------');\n",
    "print(f'{soln.isSubtree(root, subRoot)=}');\n",
    "print('------------------------------------');"
   ]
  },
  {
   "cell_type": "markdown",
   "metadata": {},
   "source": [
    "Time:\n",
    "    O(n*m)\n",
    "\n",
    "Space:\n",
    "\n",
    "because of the recursive call stack, it takes m+n space\n",
    "O(m+n)"
   ]
  }
 ],
 "metadata": {
  "kernelspec": {
   "display_name": "langgraph",
   "language": "python",
   "name": "python3"
  },
  "language_info": {
   "codemirror_mode": {
    "name": "ipython",
    "version": 3
   },
   "file_extension": ".py",
   "mimetype": "text/x-python",
   "name": "python",
   "nbconvert_exporter": "python",
   "pygments_lexer": "ipython3",
   "version": "3.12.3"
  }
 },
 "nbformat": 4,
 "nbformat_minor": 2
}
