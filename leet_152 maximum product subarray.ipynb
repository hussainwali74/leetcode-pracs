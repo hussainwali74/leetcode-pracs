{
 "cells": [
  {
   "cell_type": "code",
   "execution_count": null,
   "metadata": {},
   "outputs": [],
   "source": [
    "from typing import List\n",
    "class Solution:\n",
    "    def maxProduct(self, nums: List[int]) -> int:\n",
    "        max_prod = nums[0]\n",
    "        prev = nums[0]\n",
    "        for n in nums[1:]:\n",
    "            if prev != 0:\n",
    "                prod = prev *n\n",
    "                max_prod =  max(max_prod, prod)\n",
    "            print('------------------------------------');\n",
    "            print(f'{n=}');\n",
    "            print('------------------------------------');\n",
    "            prev = n\n",
    "        return max_prod\n",
    "soln = Solution()\n",
    "\n",
    "nums = [1,-2,-3,4]\n",
    "\n",
    "soln.maxProduct(nums)"
   ]
  },
  {
   "cell_type": "code",
   "execution_count": 11,
   "metadata": {},
   "outputs": [
    {
     "data": {
      "text/plain": [
       "3"
      ]
     },
     "execution_count": 11,
     "metadata": {},
     "output_type": "execute_result"
    }
   ],
   "source": [
    "arr = [2,3,-2,4] #6\n",
    "\n",
    "l = 1\n",
    "res = arr[0]\n",
    "\n",
    "prod = arr[0]\n",
    "\n",
    "for r in range(1,len(arr)):\n",
    "    for i in range(l,r):\n",
    "        prod = prod*arr[i]\n",
    "    if prod <res:\n",
    "        l+=1 \n",
    "    res = max(res,prod)\n",
    "    \n"
   ]
  }
 ],
 "metadata": {
  "kernelspec": {
   "display_name": "langgraph",
   "language": "python",
   "name": "python3"
  },
  "language_info": {
   "codemirror_mode": {
    "name": "ipython",
    "version": 3
   },
   "file_extension": ".py",
   "mimetype": "text/x-python",
   "name": "python",
   "nbconvert_exporter": "python",
   "pygments_lexer": "ipython3",
   "version": "3.12.3"
  }
 },
 "nbformat": 4,
 "nbformat_minor": 2
}
