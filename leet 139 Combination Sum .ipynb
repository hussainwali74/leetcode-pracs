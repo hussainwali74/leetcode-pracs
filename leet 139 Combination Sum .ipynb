{
 "cells": [
  {
   "cell_type": "markdown",
   "metadata": {},
   "source": [
    "# 39. Combination Sum\n",
    "\n",
    "### Difficulty\n",
    "Medium\n",
    "\n",
    "---\n",
    "\n",
    "### Problem Statement\n",
    "\n",
    "Given an array of distinct integers `candidates` and a target integer `target`, return a list of all unique combinations of `candidates` where the chosen numbers sum to `target`. \n",
    "\n",
    "The same number may be chosen from `candidates` an unlimited number of times. Two combinations are unique if the **frequency** of at least one of the chosen numbers is different.\n",
    "\n",
    "The test cases are generated such that the number of unique combinations that sum up to `target` is less than 150 combinations for the given input.\n",
    "\n",
    "---\n",
    "\n",
    "### Examples\n",
    "\n",
    "#### Example 1:\n",
    "**Input:**  \n",
    "`candidates = [2,3,6,7]`  \n",
    "`target = 7`  \n",
    "**Output:**  \n",
    "`[[2,2,3],[7]]`  \n",
    "**Explanation:**  \n",
    "- `2` and `3` are candidates, and `2 + 2 + 3 = 7`.  \n",
    "- `7` is also a candidate, and `7 = 7`.  \n",
    "These are the only two combinations.\n",
    "\n",
    "---\n",
    "\n",
    "#### Example 2:\n",
    "**Input:**  \n",
    "`candidates = [2,3,5]`  \n",
    "`target = 8`  \n",
    "**Output:**  \n",
    "`[[2,2,2,2],[2,3,3],[3,5]]`\n",
    "\n",
    "---\n",
    "\n",
    "#### Example 3:\n",
    "**Input:**  \n",
    "`candidates = [2]`  \n",
    "`target = 1`  \n",
    "**Output:**  \n",
    "`[]`\n",
    "\n",
    "---\n",
    "\n",
    "### Constraints\n",
    "\n",
    "- `1 <= candidates.length <= 30`\n",
    "- `2 <= candidates[i] <= 40`\n",
    "- All elements of `candidates` are distinct.\n",
    "- `1 <= target <= 40`\n"
   ]
  },
  {
   "cell_type": "code",
   "execution_count": 10,
   "metadata": {},
   "outputs": [
    {
     "name": "stdout",
     "output_type": "stream",
     "text": [
      "n=2\n",
      "5\n",
      "n=2\n",
      "3\n",
      "n=2\n",
      "1\n",
      "n=3\n",
      "n=3\n",
      "2\n",
      "n=2\n"
     ]
    },
    {
     "data": {
      "text/plain": [
       "[[2, 2, 2, 3, 2]]"
      ]
     },
     "execution_count": 10,
     "metadata": {},
     "output_type": "execute_result"
    }
   ],
   "source": [
    "def cont(nums, rem, res):\n",
    "\n",
    "    if rem ==0:\n",
    "        return res\n",
    "\n",
    "    for n in nums:\n",
    "        if n<=rem:\n",
    "            print(f\"{n=}\")\n",
    "\n",
    "            rem  = rem-n\n",
    "            if rem ==0:\n",
    "                return res.append(n)\n",
    "            if rem <0:\n",
    "                return []\n",
    "            res.append(n)\n",
    "            print(rem)\n",
    "            temp_res = cont(nums,rem,res)\n",
    "            if temp_res is not None and len(temp_res):\n",
    "                res= res+temp_res\n",
    "    return res\n",
    "\n",
    "nums = [2,3,6,7]\n",
    "target = 7\n",
    "res = []\n",
    "temp = cont(nums, target, [])\n",
    "# print(len())\n",
    "if len(temp):\n",
    "    res.append(temp)\n",
    "res"
   ]
  },
  {
   "cell_type": "code",
   "execution_count": 15,
   "metadata": {},
   "outputs": [
    {
     "data": {
      "text/plain": [
       "[[2, 2, 3], [7]]"
      ]
     },
     "execution_count": 15,
     "metadata": {},
     "output_type": "execute_result"
    }
   ],
   "source": [
    "def combinationSum(candidates, target):\n",
    "    res = []\n",
    "\n",
    "    def dfs(i, curr, total):\n",
    "        if total == target:\n",
    "            res.append(curr.copy())\n",
    "            return \n",
    "\n",
    "        if i>=len(candidates) or total > target:\n",
    "            return\n",
    "        curr.append(candidates[i])\n",
    "        dfs(i, curr, total+candidates[i])\n",
    "\n",
    "        curr.pop()\n",
    "        \n",
    "        dfs(i+1,curr, total)\n",
    "    dfs(0, [], 0)\n",
    "    return res\n",
    "\n",
    "combinationSum(candidates=nums, target=7)"
   ]
  },
  {
   "cell_type": "code",
   "execution_count": 13,
   "metadata": {},
   "outputs": [],
   "source": [
    "a=[1]\n",
    "a= a.append(2)\n",
    "a"
   ]
  }
 ],
 "metadata": {
  "kernelspec": {
   "display_name": "base",
   "language": "python",
   "name": "python3"
  },
  "language_info": {
   "codemirror_mode": {
    "name": "ipython",
    "version": 3
   },
   "file_extension": ".py",
   "mimetype": "text/x-python",
   "name": "python",
   "nbconvert_exporter": "python",
   "pygments_lexer": "ipython3",
   "version": "3.12.7"
  }
 },
 "nbformat": 4,
 "nbformat_minor": 2
}
