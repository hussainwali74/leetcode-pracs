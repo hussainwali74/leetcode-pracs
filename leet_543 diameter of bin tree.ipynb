{
 "cells": [
  {
   "cell_type": "code",
   "execution_count": 1,
   "metadata": {},
   "outputs": [
    {
     "name": "stdout",
     "output_type": "stream",
     "text": [
      "2\n"
     ]
    }
   ],
   "source": [
    "from typing import Optional\n",
    "# Definition for a binary tree node.\n",
    "class TreeNode:\n",
    "    def __init__(self, val=0, left=None, right=None):\n",
    "        self.val = val\n",
    "        self.left = left\n",
    "        self.right = right\n",
    "        \n",
    "class Solution:\n",
    "    def diameterOfBinaryTree(self, root: Optional[TreeNode]) -> int:\n",
    "        result = [0]\n",
    "        def height (root):\n",
    "            if root is None:\n",
    "                return 0\n",
    "            left_height = height(root.left)\n",
    "            right_height = height(root.right)\n",
    "            diameter = right_height+left_height\n",
    "            result[0] = max(result[0], diameter)\n",
    "            return 1+max(right_height, left_height)\n",
    "        height(root)\n",
    "        return result[0]\n",
    "    \n",
    "soln = Solution()\n",
    "\n",
    "root =  TreeNode(1,TreeNode(2), TreeNode(3))\n",
    "print(soln.diameterOfBinaryTree(root))"
   ]
  }
 ],
 "metadata": {
  "kernelspec": {
   "display_name": "langgraph",
   "language": "python",
   "name": "python3"
  },
  "language_info": {
   "codemirror_mode": {
    "name": "ipython",
    "version": 3
   },
   "file_extension": ".py",
   "mimetype": "text/x-python",
   "name": "python",
   "nbconvert_exporter": "python",
   "pygments_lexer": "ipython3",
   "version": "3.12.3"
  }
 },
 "nbformat": 4,
 "nbformat_minor": 2
}
