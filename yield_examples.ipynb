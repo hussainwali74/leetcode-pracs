{
 "cells": [
  {
   "cell_type": "code",
   "execution_count": 29,
   "metadata": {},
   "outputs": [
    {
     "data": {
      "text/plain": [
       "{2, 3, 22}"
      ]
     },
     "execution_count": 29,
     "metadata": {},
     "output_type": "execute_result"
    }
   ],
   "source": [
    "s = {2,3,3}\n",
    "\n",
    "s.add(22)\n",
    "s"
   ]
  },
  {
   "cell_type": "code",
   "execution_count": 8,
   "metadata": {},
   "outputs": [
    {
     "name": "stdout",
     "output_type": "stream",
     "text": [
      "Case 1: Simple Python code for showcasing the yield statement\n",
      "The number of 'o' in word is: 3\n"
     ]
    }
   ],
   "source": [
    "# Python program to showcase the working of yield\n",
    "\n",
    "print(\"Case 1: Simple Python code for showcasing the yield statement\")\n",
    "# Creating a user-defined function that shall check if the string has the letter specified inside the for loop or not.\n",
    "def printOutput(string):\n",
    "   for val in string:\n",
    "      if val == \"o\":\n",
    "        yield val\n",
    " \n",
    "# Initializing the sample string as below\n",
    "string = \"  ooo000.  \"xc\n",
    "initial = 0\n",
    "print (\"The number of 'o' in word is: \", end = \"\" )\n",
    "#strip function in Python helps to remove spaces at the beginning and the end of the string.\n",
    "string = string.strip()\n",
    "# n = printOutput(string)\n",
    "# next(n),next(n), next(n)\n",
    "# implmeented the for loop to iterate over the user-defined function created above-named printOutput(string)\n",
    "for value in printOutput(string):\n",
    "   initial = initial + 1\n",
    "print (initial)"
   ]
  },
  {
   "cell_type": "code",
   "execution_count": 3,
   "metadata": {},
   "outputs": [
    {
     "data": {
      "text/plain": [
       "(10, 11)"
      ]
     },
     "execution_count": 3,
     "metadata": {},
     "output_type": "execute_result"
    }
   ],
   "source": [
    "s = \"Case 1: Simple Python code for showcasing the yield statement yield\"\n",
    "len(list(set(s.split(' ')))), len(s.split(' '))\n"
   ]
  },
  {
   "cell_type": "code",
   "execution_count": 9,
   "metadata": {},
   "outputs": [
    {
     "name": "stdout",
     "output_type": "stream",
     "text": [
      "Case 2: Simple Python code for showcasing the yield statement\n",
      "The number of 'e' in the word is:   9\n"
     ]
    }
   ],
   "source": [
    "\n",
    "print(\"Case 2: Simple Python code for showcasing the yield statement\")\n",
    "# Creating a user-defined function that shall check if the string has the letter specified inside the for loop or not.\n",
    "def printOutput(stringtwo):\n",
    "   for val in stringtwo:\n",
    "      if val == \"e\":\n",
    "         yield val\n",
    "\n",
    "# Initializing the sample string as below\n",
    "stringtwo = \"  Sample string to represent the Python yield in the generator.  \"\n",
    "initial = 0\n",
    "print (\"The number of 'e' in the word is: \", end =\"  \" )\n",
    "#strip function in Python helps to remove spaces at the beginning and the end of the string.\n",
    "stringtwo = stringtwo.strip()\n",
    "\n",
    "# implmeented the for loop to iterate over the user-defined function created above-named printOutput(string)\n",
    "for value in printOutput(stringtwo):\n",
    "   initial = initial + 1\n",
    "print (initial)\n",
    "\n"
   ]
  },
  {
   "cell_type": "code",
   "execution_count": 16,
   "metadata": {},
   "outputs": [
    {
     "name": "stdout",
     "output_type": "stream",
     "text": [
      "Case 3: Simple Python code for usage of yield while defining a sampleFunc()\n",
      "-------sd\n",
      "-------sd\n",
      "-------sd\n",
      "-------sd\n",
      "The addition of the two numbers is:  \n",
      "20\n",
      "The subtraction of the two numbers is:  \n",
      "2\n",
      "The multiplication of the two numbers is:  \n",
      "99\n",
      "The division of the two numbers is:  \n",
      "2\n"
     ]
    }
   ],
   "source": [
    "\n",
    "print(\"Case 3: Simple Python code for usage of yield while defining a sampleFunc()\")\n",
    "# Creating a user-defined function that shall calculate the various operator as seen in the function.\n",
    "def sampleFunc(x, y):\n",
    "    print('-------sd')\n",
    "    print('-------sd')\n",
    "    print('-------sd')\n",
    "    print('-------sd')\n",
    "    addition = x + y\n",
    "    print(\"The addition of the two numbers is:  \")\n",
    "    yield addition\n",
    "    subtract = x - y\n",
    "    print(\"The subtraction of the two numbers is:  \")\n",
    "    yield subtract\n",
    "    multiply = x * y\n",
    "    print(\"The multiplication of the two numbers is:  \")\n",
    "    yield multiply\n",
    "    division = x % y\n",
    "    print(\"The division of the two numbers is:  \")\n",
    "    yield division\n",
    "\n",
    "# Calling the UDF created above and iterating the value through it in a loop using the for loop in Python.\n",
    "x = 11\n",
    "y = 9\n",
    "# res = sampleFunc(x,y)\n",
    "# next(res)\n",
    "# next(res)\n",
    "# next(res)\n",
    "# print(\"The two numbers are: \" , x, y)\n",
    "for val in sampleFunc(x, y):\n",
    "    print(val)\n"
   ]
  },
  {
   "cell_type": "markdown",
   "metadata": {},
   "source": [
    "- **Sends a Value**: It sends the value next to the `yield` keyword back to wherever the function was called.\n",
    "- **Pauses**: It then pauses its execution immediately after `yield`. This isn't just stopping; it saves everything about where it is in the function, including any variables it created and the exact place it paused."
   ]
  },
  {
   "cell_type": "markdown",
   "metadata": {},
   "source": [
    "in the above execution result you can see that the ---sd lines are printed once so it remembers to what point the function is executed already.\n"
   ]
  },
  {
   "cell_type": "code",
   "execution_count": 22,
   "metadata": {},
   "outputs": [
    {
     "data": {
      "text/plain": [
       "('123', '123')"
      ]
     },
     "execution_count": 22,
     "metadata": {},
     "output_type": "execute_result"
    }
   ],
   "source": [
    "def check():\n",
    "    yield \"123\"\n",
    "    yield \"1232\"\n",
    "next(check()), next(check())"
   ]
  },
  {
   "cell_type": "code",
   "execution_count": 23,
   "metadata": {},
   "outputs": [
    {
     "data": {
      "text/plain": [
       "('123', '1232')"
      ]
     },
     "execution_count": 23,
     "metadata": {},
     "output_type": "execute_result"
    }
   ],
   "source": [
    "def check():\n",
    "    yield \"123\"\n",
    "    yield \"1232\"\n",
    "c = check()\n",
    "\n",
    "next(c), next(c)"
   ]
  },
  {
   "cell_type": "code",
   "execution_count": 25,
   "metadata": {},
   "outputs": [
    {
     "ename": "NameError",
     "evalue": "name 'i' is not defined",
     "output_type": "error",
     "traceback": [
      "\u001b[1;31m---------------------------------------------------------------------------\u001b[0m",
      "\u001b[1;31mNameError\u001b[0m                                 Traceback (most recent call last)",
      "Cell \u001b[1;32mIn[25], line 1\u001b[0m\n\u001b[1;32m----> 1\u001b[0m \u001b[38;5;28;01mwhile\u001b[39;00m \u001b[43mi\u001b[49m \u001b[38;5;129;01min\u001b[39;00m c:\n\u001b[0;32m      2\u001b[0m     \u001b[38;5;28mprint\u001b[39m (i )\n",
      "\u001b[1;31mNameError\u001b[0m: name 'i' is not defined"
     ]
    }
   ],
   "source": [
    "while i in c:\n",
    "    print (i )"
   ]
  }
 ],
 "metadata": {
  "kernelspec": {
   "display_name": "worksappai",
   "language": "python",
   "name": "python3"
  },
  "language_info": {
   "codemirror_mode": {
    "name": "ipython",
    "version": 3
   },
   "file_extension": ".py",
   "mimetype": "text/x-python",
   "name": "python",
   "nbconvert_exporter": "python",
   "pygments_lexer": "ipython3",
   "version": "3.12.3"
  }
 },
 "nbformat": 4,
 "nbformat_minor": 2
}
