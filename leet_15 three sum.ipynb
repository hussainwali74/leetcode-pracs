{
 "cells": [
  {
   "cell_type": "markdown",
   "metadata": {},
   "source": [
    "# 15 3sum"
   ]
  },
  {
   "cell_type": "markdown",
   "metadata": {},
   "source": [
    "### Problem Description\n",
    "#### Medium\n",
    "Given an integer array `nums`, return all the triplets `[nums[i], nums[j], nums[k]]` such that:\n",
    "\n",
    "- `i != j`\n",
    "- `i != k`\n",
    "- `j != k`\n",
    "- `nums[i] + nums[j] + nums[k] == 0`\n",
    "\n",
    "Notice that the solution set must not contain duplicate triplets.\n",
    "\n",
    "---\n",
    "\n",
    "### Example 1:\n",
    "**Input:**  \n",
    "`nums = [-1,0,1,2,-1,-4]`  \n",
    "**Output:**  \n",
    "`[[-1,-1,2], [-1,0,1]]`  \n",
    "**Explanation:**  \n",
    "- `nums[0] + nums[1] + nums[2] = (-1) + 0 + 1 = 0`\n",
    "- `nums[1] + nums[2] + nums[4] = 0 + 1 + (-1) = 0`\n",
    "- `nums[0] + nums[3] + nums[4] = (-1) + 2 + (-1) = 0`\n",
    "\n",
    "The distinct triplets are `[-1, 0, 1]` and `[-1, -1, 2]`.  \n",
    "Notice that the order of the output and the order of the triplets does not matter.\n",
    "\n",
    "---\n",
    "\n",
    "### Example 2:\n",
    "**Input:**  \n",
    "`nums = [0,1,1]`  \n",
    "**Output:**  \n",
    "`[]`  \n",
    "**Explanation:**  \n",
    "The only possible triplet does not sum up to 0.\n",
    "\n",
    "---\n",
    "\n",
    "### Example 3:\n",
    "**Input:**  \n",
    "`nums = [0,0,0]`  \n",
    "**Output:**  \n",
    "`[[0,0,0]]`  \n",
    "**Explanation:**  \n",
    "The only possible triplet sums up to 0.\n",
    "\n",
    "---\n",
    "\n",
    "### Constraints:\n",
    "- `3 <= nums.length <= 3000`\n",
    "- `-10^5 <= nums[i] <= 10^5`\n"
   ]
  },
  {
   "cell_type": "code",
   "execution_count": 3,
   "metadata": {},
   "outputs": [
    {
     "name": "stdout",
     "output_type": "stream",
     "text": [
      "[-1, 0, 1]\n",
      "[0, 1, 2]\n",
      "[1, 2, -1]\n",
      "[2, -1, -4]\n",
      "[-1, -4]\n",
      "[-4]\n"
     ]
    },
    {
     "data": {
      "text/plain": [
       "[[-1, 0, 1]]"
      ]
     },
     "execution_count": 3,
     "metadata": {},
     "output_type": "execute_result"
    }
   ],
   "source": [
    "nums = [-1,0,1,2,-1,-4]\n",
    "def func(nums):\n",
    "    res = []\n",
    "    for i in range(0,len(nums)):\n",
    "        sub_arr = nums[i:i+3]\n",
    "        print(sub_arr)\n",
    "        s = sum(sub_arr)\n",
    "        if s==0 and len(sub_arr)==3:\n",
    "            res.append(sub_arr)\n",
    "    return res\n",
    "func(nums)"
   ]
  },
  {
   "cell_type": "code",
   "execution_count": 13,
   "metadata": {},
   "outputs": [
    {
     "data": {
      "text/plain": [
       "[[-1, 0, 1], [-1, -1, 2]]"
      ]
     },
     "execution_count": 13,
     "metadata": {},
     "output_type": "execute_result"
    }
   ],
   "source": [
    "# time limit exceeds\n",
    "nums = [-1,0,1,2,-1,-4]\n",
    "def func(nums):\n",
    "    res = []\n",
    "    \n",
    "    for i in range(0,len(nums)):\n",
    "        for j in range(i+1, len(nums)):\n",
    "            for k in range(i+2, len(nums)):\n",
    "                if i!=j and i!=k and j!=k:\n",
    "                    sub_arr = [nums[i],nums[j],nums[k]]\n",
    "                    s = sum(sub_arr)\n",
    "                    if s==0 :\n",
    "                        res.append(sub_arr)\n",
    "    result = []\n",
    "    for r in res:\n",
    "        r.sort()\n",
    "        if r not in result:\n",
    "            result.append(r)\n",
    "    return result\n",
    "func(nums)"
   ]
  },
  {
   "cell_type": "code",
   "execution_count": 15,
   "metadata": {},
   "outputs": [
    {
     "data": {
      "text/plain": [
       "[[-1, 0, 1], [-1, 2, -1]]"
      ]
     },
     "execution_count": 15,
     "metadata": {},
     "output_type": "execute_result"
    }
   ],
   "source": [
    "# wrong\n",
    "nums = [-1,0,1,2,-1,-4]\n",
    "def func(nums):\n",
    "    res = []\n",
    "    \n",
    "    for i in range(0,len(nums)):\n",
    "        \n",
    "        for j in range(i+1, len(nums)-1):\n",
    "            if nums[i]+nums[j]+nums[j+1] ==0:\n",
    "                res.append([nums[i],nums[j],nums[j+1]])\n",
    "    return res\n",
    "func(nums)"
   ]
  },
  {
   "cell_type": "code",
   "execution_count": 19,
   "metadata": {},
   "outputs": [
    {
     "data": {
      "text/plain": [
       "[]"
      ]
     },
     "execution_count": 19,
     "metadata": {},
     "output_type": "execute_result"
    }
   ],
   "source": [
    "import math\n",
    "nums = [-1, 0,  1, 2, -1, -4]\n",
    "nums.sort()\n",
    "l = 0\n",
    "r = len(nums)-1\n",
    "p = 1\n",
    "res = []\n",
    "for i in range(r+1):\n",
    "\n",
    "    first_num = nums[i]\n",
    "    d = {}\n",
    "    l = i+1\n",
    "    r = len(nums)-1\n",
    "    rem = 0-first_num\n",
    "    while(l!=r and l<len(nums) and r>0):\n",
    "        if (nums[l]+nums[r])-first_num ==0:\n",
    "            res.append([nums[l]+nums[r]+first_num])\n",
    "        elif nums[l]+nums[r]>rem:\n",
    "            r-=1\n",
    "        else:\n",
    "            l+=1\n",
    "res\n",
    "            \n",
    "        \n",
    "        \n"
   ]
  },
  {
   "cell_type": "code",
   "execution_count": 20,
   "metadata": {},
   "outputs": [],
   "source": [
    "from typing import List\n",
    "\n",
    "\n",
    "class Solution:\n",
    "    def threeSum(self, nums: List[int]) -> List[List[int]]:\n",
    "        res = []\n",
    "        nums.sort()\n",
    "\n",
    "        for i, v in enumerate(nums):\n",
    "            if i > 0 and v == nums[i - 1]:\n",
    "                continue\n",
    "            l = i + 1\n",
    "            r = len(nums) - 1\n",
    "\n",
    "            while l < r:\n",
    "                threeSum = v + nums[l] + nums[r]\n",
    "                if threeSum > 0:\n",
    "                    r -= 1\n",
    "                elif threeSum < 0:\n",
    "                    l += 1\n",
    "                else:\n",
    "                    res.append([v, nums[l], nums[r]])\n",
    "\n",
    "                    l += 1\n",
    "                    while (nums[l] == nums[l - 1]) and l < r:\n",
    "                        l += 1\n",
    "        return res"
   ]
  }
 ],
 "metadata": {
  "kernelspec": {
   "display_name": "langgraph",
   "language": "python",
   "name": "python3"
  },
  "language_info": {
   "codemirror_mode": {
    "name": "ipython",
    "version": 3
   },
   "file_extension": ".py",
   "mimetype": "text/x-python",
   "name": "python",
   "nbconvert_exporter": "python",
   "pygments_lexer": "ipython3",
   "version": "3.12.3"
  }
 },
 "nbformat": 4,
 "nbformat_minor": 2
}
