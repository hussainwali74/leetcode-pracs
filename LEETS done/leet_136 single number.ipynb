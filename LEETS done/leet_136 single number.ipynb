{
 "cells": [
  {
   "cell_type": "code",
   "execution_count": 25,
   "metadata": {},
   "outputs": [
    {
     "name": "stdout",
     "output_type": "stream",
     "text": [
      "------------------------------------\n",
      "d={1: 1, 2: 2}\n",
      "------------------------------------\n",
      "v=1\n",
      "------------------------------------\n"
     ]
    },
    {
     "data": {
      "text/plain": [
       "1"
      ]
     },
     "execution_count": 25,
     "metadata": {},
     "output_type": "execute_result"
    }
   ],
   "source": [
    "from typing import List\n",
    "class Solution:\n",
    "    def singleNumber(self, nums: List[int]) -> int:\n",
    "        nums.sort()\n",
    "        d = {}\n",
    "        for n in nums:\n",
    "            d[n] = d.get(n,0)+1\n",
    "        for i,v in d.items():\n",
    "            if v ==1:\n",
    "                return i\n",
    "nums = [4,1,2,1,2] # 4\n",
    "nums = [2,2,1] # 1\n",
    "sol = Solution()\n",
    "sol.singleNumber(nums)\n"
   ]
  },
  {
   "cell_type": "code",
   "execution_count": 29,
   "metadata": {},
   "outputs": [
    {
     "name": "stdout",
     "output_type": "stream",
     "text": [
      "------------------------------------\n",
      "counter=Counter({2: 2, 1: 1})\n",
      "------------------------------------\n"
     ]
    },
    {
     "data": {
      "text/plain": [
       "1"
      ]
     },
     "execution_count": 29,
     "metadata": {},
     "output_type": "execute_result"
    }
   ],
   "source": [
    "from collections import Counter\n",
    "class Solution:\n",
    "    def singleNumber(self, nums: List[int]) -> int:\n",
    "        counter = Counter(nums)\n",
    "        print('------------------------------------');\n",
    "        print(f'{counter=}');\n",
    "        print('------------------------------------');\n",
    "        for i, v in counter.items():\n",
    "            if v ==1:\n",
    "                return i\n",
    "        \n",
    "    \n",
    "nums = [2,2,1]\n",
    "sol = Solution()\n",
    "sol.singleNumber(nums)\n"
   ]
  },
  {
   "cell_type": "code",
   "execution_count": 31,
   "metadata": {},
   "outputs": [
    {
     "data": {
      "text/plain": [
       "3"
      ]
     },
     "execution_count": 31,
     "metadata": {},
     "output_type": "execute_result"
    }
   ],
   "source": [
    "from collections import Counter\n",
    "class Solution:\n",
    "    def singleNumber(self, nums: List[int]) -> int:\n",
    "        res = 0\n",
    "        for n in nums:\n",
    "            res = res ^ n\n",
    "        return res\n",
    "    \n",
    "nums = [2,2,1,1,3]\n",
    "sol = Solution()\n",
    "sol.singleNumber(nums)\n"
   ]
  },
  {
   "cell_type": "code",
   "execution_count": null,
   "metadata": {},
   "outputs": [],
   "source": []
  }
 ],
 "metadata": {
  "kernelspec": {
   "display_name": "langgraph",
   "language": "python",
   "name": "python3"
  },
  "language_info": {
   "codemirror_mode": {
    "name": "ipython",
    "version": 3
   },
   "file_extension": ".py",
   "mimetype": "text/x-python",
   "name": "python",
   "nbconvert_exporter": "python",
   "pygments_lexer": "ipython3",
   "version": "3.12.3"
  }
 },
 "nbformat": 4,
 "nbformat_minor": 2
}
