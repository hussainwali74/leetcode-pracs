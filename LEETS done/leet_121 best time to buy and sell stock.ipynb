{
 "cells": [
  {
   "cell_type": "markdown",
   "metadata": {},
   "source": [
    "# 121. Best Time to Buy and Sell Stock\n",
    "\n",
    "### Difficulty\n",
    "Easy\n",
    "\n",
    "---\n",
    "\n",
    "### Problem Statement\n",
    "\n",
    "You are given an array `prices` where `prices[i]` represents the price of a given stock on the `i`th day.\n",
    "\n",
    "You want to maximize your profit by choosing a single day to buy one stock and a different day in the future to sell it.\n",
    "\n",
    "Return the maximum profit you can achieve from this transaction. If no profit can be achieved, return `0`.\n",
    "\n",
    "---\n",
    "\n",
    "### Examples\n",
    "\n",
    "#### Example 1:\n",
    "**Input:**  \n",
    "`prices = [7,1,5,3,6,4]`  \n",
    "**Output:**  \n",
    "`5`  \n",
    "**Explanation:**  \n",
    "Buy on day 2 (price = 1) and sell on day 5 (price = 6), profit = `6 - 1 = 5`.  \n",
    "**Note:** Buying on day 2 and selling on day 1 is not allowed because you must buy before you sell.\n",
    "\n",
    "---\n",
    "\n",
    "#### Example 2:\n",
    "**Input:**  \n",
    "`prices = [7,6,4,3,1]`  \n",
    "**Output:**  \n",
    "`0`  \n",
    "**Explanation:**  \n",
    "No transactions are done, so the maximum profit = `0`.\n",
    "\n",
    "---\n",
    "\n",
    "### Constraints\n",
    "\n",
    "- `1 <= prices.length <= 10^5`\n",
    "- `0 <= prices[i] <= 10^4`\n"
   ]
  },
  {
   "cell_type": "markdown",
   "metadata": {},
   "source": [
    "### time limit exceeds O(n^2)"
   ]
  },
  {
   "cell_type": "code",
   "execution_count": 1,
   "metadata": {},
   "outputs": [
    {
     "data": {
      "text/plain": [
       "5"
      ]
     },
     "execution_count": 1,
     "metadata": {},
     "output_type": "execute_result"
    }
   ],
   "source": [
    "class Solution:\n",
    "    def maxProfit(self,prices):\n",
    "        profit = 0\n",
    "        for j in range(len(prices)-1):\n",
    "            for i in range(j+1, len(prices)):\n",
    "                profit = max(profit, prices[i]-prices[j])\n",
    "        return profit\n",
    "\n",
    "prices = [7,1,5,3,6,4]\n",
    "\n",
    "sol = Solution()\n",
    "\n",
    "sol.maxProfit(prices)"
   ]
  },
  {
   "cell_type": "markdown",
   "metadata": {},
   "source": [
    "### Solution"
   ]
  },
  {
   "cell_type": "code",
   "execution_count": 3,
   "metadata": {},
   "outputs": [
    {
     "data": {
      "text/plain": [
       "5"
      ]
     },
     "execution_count": 3,
     "metadata": {},
     "output_type": "execute_result"
    }
   ],
   "source": [
    "class Solution:\n",
    "    def maxProfit(self,prices):\n",
    "        mi, ma = float('inf'), 0\n",
    "        for p in prices:\n",
    "            if p < mi:\n",
    "                mi = p\n",
    "            elif p - mi > ma:\n",
    "                ma = p - mi\n",
    "        return ma\n",
    "\n",
    "prices = [7,1,5,3,6,4]\n",
    "\n",
    "sol = Solution()\n",
    "\n",
    "sol.maxProfit(prices)"
   ]
  },
  {
   "cell_type": "code",
   "execution_count": 8,
   "metadata": {},
   "outputs": [
    {
     "data": {
      "text/plain": [
       "0"
      ]
     },
     "execution_count": 8,
     "metadata": {},
     "output_type": "execute_result"
    }
   ],
   "source": [
    "class Solution:\n",
    "    def maxProfit(self, prices):\n",
    "        l,r = 0,0\n",
    "        profit  = 0\n",
    "        while (r<len(prices)):\n",
    "            if prices[l]<prices[r]:\n",
    "                pr = prices[r]-prices[l]\n",
    "                profit = max(profit,pr)\n",
    "            else:\n",
    "                l = r\n",
    "            r+=1\n",
    "        return profit\n",
    "\n",
    "\n",
    "prices = [7,1]\n",
    "\n",
    "sol = Solution()\n",
    "\n",
    "sol.maxProfit(prices)\n",
    "                "
   ]
  },
  {
   "cell_type": "code",
   "execution_count": 28,
   "metadata": {},
   "outputs": [
    {
     "name": "stdout",
     "output_type": "stream",
     "text": [
      "9 9 0 0\n"
     ]
    },
    {
     "data": {
      "text/plain": [
       "9"
      ]
     },
     "execution_count": 28,
     "metadata": {},
     "output_type": "execute_result"
    }
   ],
   "source": [
    "nums = [7,1,5,3,6,4]\n",
    "# nums = [1,2,3,4,4,5]\n",
    "nums = [7,6,4,3,1]\n",
    "nums = []\n",
    "nums = [1,2,4,2,5,7,2,4,9,0,9]\n",
    "n = len(nums)\n",
    "r = 1\n",
    "res = 0\n",
    "l = 0\n",
    "while r<n:\n",
    "    if nums[l] >=nums[r]:\n",
    "        l =r\n",
    "        print(l,r, nums[l], nums[r])\n",
    "    \n",
    "    res = max(res, nums[r]-nums[l])\n",
    "    r+=1\n",
    "res"
   ]
  },
  {
   "cell_type": "code",
   "execution_count": 35,
   "metadata": {},
   "outputs": [
    {
     "data": {
      "text/plain": [
       "5"
      ]
     },
     "execution_count": 35,
     "metadata": {},
     "output_type": "execute_result"
    }
   ],
   "source": [
    "nums = [7, 1, 5, 3, 6, 4]\n",
    "\n",
    "ma"
   ]
  }
 ],
 "metadata": {
  "kernelspec": {
   "display_name": "base",
   "language": "python",
   "name": "python3"
  },
  "language_info": {
   "codemirror_mode": {
    "name": "ipython",
    "version": 3
   },
   "file_extension": ".py",
   "mimetype": "text/x-python",
   "name": "python",
   "nbconvert_exporter": "python",
   "pygments_lexer": "ipython3",
   "version": "3.12.7"
  }
 },
 "nbformat": 4,
 "nbformat_minor": 2
}
