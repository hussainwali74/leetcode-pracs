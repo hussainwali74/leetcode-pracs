{
 "cells": [
  {
   "cell_type": "code",
   "execution_count": null,
   "metadata": {},
   "outputs": [],
   "source": [
    "from typing import List\n",
    "class Solution:\n",
    "    def maxProduct(self, nums: List[int]) -> int:\n",
    "        max_prod = nums[0]\n",
    "        prev = nums[0]\n",
    "        for n in nums[1:]:\n",
    "            if prev != 0:\n",
    "                prod = prev *n\n",
    "                max_prod =  max(max_prod, prod)\n",
    "            print('------------------------------------');\n",
    "            print(f'{n=}');\n",
    "            print('------------------------------------');\n",
    "            prev = n\n",
    "        return max_prod\n",
    "soln = Solution()\n",
    "\n",
    "nums = [1,-2,-3,4]\n",
    "\n",
    "soln.maxProduct(nums)"
   ]
  },
  {
   "cell_type": "markdown",
   "metadata": {},
   "source": [
    "vars:\n",
    "\n",
    "left pointer \n",
    "\n",
    "right pointere this will move forward\n",
    "\n",
    "n\n",
    "\n",
    "max_product for tracking result\n",
    "\n",
    "prod for tracking product of current sub array\n",
    "\n",
    "initially prod = left\n",
    "\n",
    "---\n",
    "\n",
    "l = len(arr)\n",
    "\n",
    "if l == 1:\n",
    "\n",
    "    return arr[0]\n",
    "\n",
    "if l  ==2:\n",
    "\n",
    "    return arr[0] * arr[1]\n",
    "\n",
    "max_prod = -inf\n",
    "\n",
    "right = 1\n",
    "\n",
    "left = 0\n",
    "\n",
    "prod = arr[left] * arr[right]\n",
    "\n",
    "right +=1\n",
    "\n",
    "while right< l:\n",
    "\n",
    "\n",
    "    prod = prod * arr[right]\n",
    "\n",
    "    max_prod = max(max_prod, prod)\n",
    "\n",
    "    right +=1    "
   ]
  },
  {
   "cell_type": "code",
   "execution_count": 17,
   "metadata": {},
   "outputs": [
    {
     "name": "stdout",
     "output_type": "stream",
     "text": [
      "[0, 2]\n",
      "0\n"
     ]
    },
    {
     "data": {
      "text/plain": [
       "2"
      ]
     },
     "execution_count": 17,
     "metadata": {},
     "output_type": "execute_result"
    }
   ],
   "source": [
    "\n",
    "import math\n",
    "arr = [2,3,-2,4] #6\n",
    "def func(arr):\n",
    "    l = len(arr)\n",
    "    if l == 1:\n",
    "        return arr[0]\n",
    "    if l  ==2:\n",
    "        for i in arr:\n",
    "            if i<=0:\n",
    "                return max(arr)\n",
    "        return arr[0] * arr[1]\n",
    "    max_prod = -math.inf\n",
    "    right = 1\n",
    "    left = 0\n",
    "    max_prod= prod = arr[left] * arr[right]\n",
    "    \n",
    "    right +=1\n",
    "    while right< l:\n",
    "        prod = prod * arr[right]\n",
    "        if prod <0:\n",
    "            left =right\n",
    "            prod = 0\n",
    "        max_prod = max(max_prod, prod)\n",
    "        right +=1\n",
    "    return max_prod\n",
    "# func(arr)\n",
    "nums = [-2,0,-1]\n",
    "nums = [0,2] # 2\n",
    "nums = [-4,-3] # 13\n",
    "func(nums)"
   ]
  },
  {
   "cell_type": "code",
   "execution_count": 20,
   "metadata": {},
   "outputs": [
    {
     "data": {
      "text/plain": [
       "0"
      ]
     },
     "execution_count": 20,
     "metadata": {},
     "output_type": "execute_result"
    }
   ],
   "source": [
    "import math\n",
    "arr = [2,3,-2,4] #6\n",
    "def func(arr):\n",
    "    l = len(arr)\n",
    "    negs = 0\n",
    "    for i in arr:\n",
    "        if i<0:\n",
    "            negs+=1\n",
    "    if negs:\n",
    "\n",
    "        return max(arr[0],arr[1], arr[0]*arr[1])        \n",
    "    else:\n",
    "        prod = arr[0]\n",
    "        for i in arr[1:]:\n",
    "            prod = prod*i\n",
    "        return prod\n",
    "    max_prod = -math.inf\n",
    "    right = 1\n",
    "    left = 0\n",
    "    max_prod= prod = arr[left] * arr[right]\n",
    "    \n",
    "    right +=1\n",
    "    while right< l:\n",
    "        prod = prod * arr[right]\n",
    "        if prod <0:\n",
    "            left =right\n",
    "            prod = 0\n",
    "        max_prod = max(max_prod, prod)\n",
    "        right +=1\n",
    "    return max_prod\n",
    "# func(arr)\n",
    "nums = [-2,0,-1]\n",
    "# nums = [0,2] # 2\n",
    "# nums = [-4,-3] # 13\n",
    "func(nums)"
   ]
  },
  {
   "cell_type": "markdown",
   "metadata": {},
   "source": [
    "## solution"
   ]
  },
  {
   "cell_type": "code",
   "execution_count": 22,
   "metadata": {},
   "outputs": [
    {
     "data": {
      "text/plain": [
       "2"
      ]
     },
     "execution_count": 22,
     "metadata": {},
     "output_type": "execute_result"
    }
   ],
   "source": [
    "from typing import List\n",
    "class Solution:\n",
    "    def maxProduct(self, nums:List[int]):\n",
    "        res = max(nums)\n",
    "        curMin = 1\n",
    "        curMax = 1\n",
    "        \n",
    "        for n in nums:\n",
    "            if n ==0:\n",
    "                curMax=1\n",
    "                curMin = 1\n",
    "                continue\n",
    "            temp = curMax*n\n",
    "            curMax = max(curMax, n*curMax, n*curMin)\n",
    "            curMin = min(curMin, temp, n*curMin)\n",
    "\n",
    "            res = max(res, curMax)\n",
    "        return res\n",
    "nums = [0,2] # 2\n",
    "s = Solution()\n",
    "s.maxProduct(nums)"
   ]
  },
  {
   "cell_type": "markdown",
   "metadata": {},
   "source": [
    "OPtimized best genius"
   ]
  },
  {
   "cell_type": "code",
   "execution_count": 2,
   "metadata": {},
   "outputs": [
    {
     "name": "stdout",
     "output_type": "stream",
     "text": [
      "[2, 6, -12, -48]\n",
      "[4, -8, -24, -48]\n"
     ]
    }
   ],
   "source": [
    "def func(arr):\n",
    "    rev = arr[::-1]\n",
    "    for i in range(1,len(arr)):\n",
    "        arr[i] *= arr[i-1] or 1\n",
    "        rev[i] *= rev[i-1] or 1\n",
    "    print(arr)\n",
    "    print(rev)\n",
    "\n",
    "arr = [2,3,-2,4]\n",
    "func(arr)"
   ]
  }
 ],
 "metadata": {
  "kernelspec": {
   "display_name": "langgraph",
   "language": "python",
   "name": "python3"
  },
  "language_info": {
   "codemirror_mode": {
    "name": "ipython",
    "version": 3
   },
   "file_extension": ".py",
   "mimetype": "text/x-python",
   "name": "python",
   "nbconvert_exporter": "python",
   "pygments_lexer": "ipython3",
   "version": "3.12.3"
  }
 },
 "nbformat": 4,
 "nbformat_minor": 2
}
