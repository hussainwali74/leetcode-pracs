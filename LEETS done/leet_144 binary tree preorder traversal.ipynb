{
 "cells": [
  {
   "cell_type": "code",
   "execution_count": 1,
   "metadata": {},
   "outputs": [],
   "source": [
    "arr = [1,2,3,4,5,None,8,None,None,6,7,9]\n"
   ]
  },
  {
   "cell_type": "code",
   "execution_count": 2,
   "metadata": {},
   "outputs": [],
   "source": [
    "from typing import Optional, List\n",
    "\n",
    "class TreeNode:\n",
    "    def __init__(self, val=0, left=None, right=None):\n",
    "        self.val = val\n",
    "        self.left = left\n",
    "        self.right = right\n"
   ]
  },
  {
   "cell_type": "code",
   "execution_count": 9,
   "metadata": {},
   "outputs": [
    {
     "data": {
      "text/plain": [
       "[1, 2, 4, 5, 6, 7, 3, 8, 9]"
      ]
     },
     "execution_count": 9,
     "metadata": {},
     "output_type": "execute_result"
    }
   ],
   "source": [
    "\n",
    "class Solution:\n",
    "\n",
    "    def preorderTraversal(self, root: Optional[TreeNode], res=[]) -> List[int]:\n",
    "        if root is not None:\n",
    "            res.append(root.val)\n",
    "            self.preorderTraversal(root.left, res)\n",
    "            self.preorderTraversal(root.right,res)\n",
    "        return res\n",
    "root = TreeNode(val=arr[0])\n",
    "root.left = TreeNode(2)\n",
    "root.right = TreeNode(3)\n",
    "left = root.left\n",
    "right = root.right\n",
    "left.left = TreeNode(4)\n",
    "left.right = TreeNode(5, TreeNode(6), TreeNode(7))\n",
    "right.right = TreeNode(8,None, TreeNode(9))\n",
    "\n",
    "soln = Solution()\n",
    "soln.preorderTraversal(root)"
   ]
  },
  {
   "cell_type": "code",
   "execution_count": 16,
   "metadata": {},
   "outputs": [
    {
     "name": "stdout",
     "output_type": "stream",
     "text": [
      "------------------------------------\n",
      "root.val=4 result=[4]\n",
      "------------------------------------\n",
      "------------------------------------\n",
      "root.val=2 result=[2, 4]\n",
      "------------------------------------\n",
      "------------------------------------\n",
      "root.val=6 result=[6]\n",
      "------------------------------------\n",
      "------------------------------------\n",
      "root.val=5 result=[5, 6]\n",
      "------------------------------------\n",
      "------------------------------------\n",
      "root.val=7 result=[7]\n",
      "------------------------------------\n",
      "------------------------------------\n",
      "root.val=1 result=[1, 2, 4, 5, 6, 7]\n",
      "------------------------------------\n",
      "------------------------------------\n",
      "root.val=3 result=[3]\n",
      "------------------------------------\n",
      "------------------------------------\n",
      "root.val=8 result=[8]\n",
      "------------------------------------\n",
      "------------------------------------\n",
      "root.val=9 result=[9]\n",
      "------------------------------------\n"
     ]
    },
    {
     "data": {
      "text/plain": [
       "[1, 2, 4, 5, 6, 7, 3, 8, 9]"
      ]
     },
     "execution_count": 16,
     "metadata": {},
     "output_type": "execute_result"
    }
   ],
   "source": [
    "class Solution:\n",
    "    def preorderTraversal(self, root: Optional[TreeNode]) -> List[int]:\n",
    "        result = []\n",
    "        if root:\n",
    "            result.append(root.val)\n",
    "            result.extend(self.preorderTraversal(root.left))\n",
    "            print('------------------------------------');\n",
    "            print(f'{root.val=} {result=}');\n",
    "            print('------------------------------------');\n",
    "            result.extend(self.preorderTraversal(root.right))\n",
    "        return result\n",
    "soln = Solution()\n",
    "soln.preorderTraversal(root)"
   ]
  },
  {
   "cell_type": "markdown",
   "metadata": {},
   "source": [
    "### iterative soln"
   ]
  },
  {
   "cell_type": "code",
   "execution_count": 19,
   "metadata": {},
   "outputs": [
    {
     "name": "stdout",
     "output_type": "stream",
     "text": [
      "------------------------------------\n",
      "stack=[<__main__.TreeNode object at 0x000002A328D3D340>]\n",
      "------------------------------------\n",
      "------------------------------------\n",
      "stack=[<__main__.TreeNode object at 0x000002A328D3D340>, None]\n",
      "------------------------------------\n",
      "------------------------------------\n",
      "stack=[<__main__.TreeNode object at 0x000002A328D3D340>, None, None]\n",
      "------------------------------------\n",
      "------------------------------------\n",
      "stack=[<__main__.TreeNode object at 0x000002A328D3D340>, None]\n",
      "------------------------------------\n",
      "------------------------------------\n",
      "stack=[<__main__.TreeNode object at 0x000002A328D3D340>]\n",
      "------------------------------------\n",
      "------------------------------------\n",
      "stack=[]\n",
      "------------------------------------\n",
      "------------------------------------\n",
      "stack=[None]\n",
      "------------------------------------\n",
      "------------------------------------\n",
      "stack=[]\n",
      "------------------------------------\n"
     ]
    },
    {
     "data": {
      "text/plain": [
       "[1, 2, 4, 3]"
      ]
     },
     "execution_count": 19,
     "metadata": {},
     "output_type": "execute_result"
    }
   ],
   "source": [
    "class Solution:\n",
    "    def preorderTraversal(self, root:Optional[TreeNode])->List[int]:\n",
    "        cur = root\n",
    "        stack = []\n",
    "        res = []\n",
    "        while cur or stack:\n",
    "            if cur:\n",
    "                res.append(cur.val)\n",
    "                stack.append(cur.right)\n",
    "                cur = cur.left\n",
    "            else:\n",
    "                cur = stack.pop()\n",
    "        return res\n",
    "root = TreeNode(1,TreeNode(2, TreeNode(4)),TreeNode(3))\n",
    "\n",
    "soln = Solution()\n",
    "\n",
    "soln.preorderTraversal(root)"
   ]
  }
 ],
 "metadata": {
  "kernelspec": {
   "display_name": "langgraph",
   "language": "python",
   "name": "python3"
  },
  "language_info": {
   "codemirror_mode": {
    "name": "ipython",
    "version": 3
   },
   "file_extension": ".py",
   "mimetype": "text/x-python",
   "name": "python",
   "nbconvert_exporter": "python",
   "pygments_lexer": "ipython3",
   "version": "3.12.3"
  }
 },
 "nbformat": 4,
 "nbformat_minor": 2
}
