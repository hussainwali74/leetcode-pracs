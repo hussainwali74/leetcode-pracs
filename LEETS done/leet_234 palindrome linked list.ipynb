{
 "cells": [
  {
   "cell_type": "markdown",
   "metadata": {},
   "source": [
    "Using extra memory: additional array used "
   ]
  },
  {
   "cell_type": "code",
   "execution_count": 2,
   "metadata": {},
   "outputs": [
    {
     "data": {
      "text/plain": [
       "True"
      ]
     },
     "execution_count": 2,
     "metadata": {},
     "output_type": "execute_result"
    }
   ],
   "source": [
    "from typing import Optional\n",
    "# Definition for singly-linked list.\n",
    "class ListNode:\n",
    "    def __init__(self, val=0, next=None):\n",
    "        self.val = val\n",
    "        self.next = next\n",
    "        \n",
    "class Solution:\n",
    "    # def isPalindrome(self, head: Optional[ListNode]) -> bool:\n",
    "    def isPalindrome(self, head: Optional[ListNode]) -> bool:\n",
    "        arr = []\n",
    "        h = head\n",
    "        while h is not None:\n",
    "            arr.append(h.val)\n",
    "            h = h.next\n",
    "        if len(arr)%2==0:\n",
    "            return arr[:len(arr)//2] == arr[:(len(arr)//2)-1:-1]\n",
    "        else:\n",
    "            return arr[:len(arr)//2] == arr[:(len(arr)//2):-1]\n",
    "\n",
    "\n",
    "list_node = ListNode(1, ListNode(2,ListNode(2,ListNode(1))))\n",
    "\n",
    "sol = Solution()\n",
    "sol.isPalindrome(list_node)"
   ]
  },
  {
   "cell_type": "markdown",
   "metadata": {},
   "source": []
  },
  {
   "cell_type": "code",
   "execution_count": 21,
   "metadata": {},
   "outputs": [
    {
     "name": "stdout",
     "output_type": "stream",
     "text": [
      "------------------------------------\n",
      "fast.val=1\n",
      "slow.val=1\n",
      "------------------------------------\n",
      "------------------------------------\n",
      "fast.val=2\n",
      "slow.val=2\n",
      "------------------------------------\n",
      "==========\n",
      "slow.val=2\n",
      "==========\n",
      "True\n",
      "1 - 2 - 2 - "
     ]
    }
   ],
   "source": [
    "class Solution:\n",
    "    # def isPalindrome(self, head: Optional[ListNode]) -> bool:\n",
    "    def isPalindrome(self, head: Optional[ListNode]) -> bool:\n",
    "        slow = head\n",
    "        fast= head\n",
    "        while fast and fast.next:\n",
    "            print('------------------------------------');\n",
    "            print(f'{fast.val=}');\n",
    "            print(f'{slow.val=}');\n",
    "            print('------------------------------------');\n",
    "            fast = fast.next.next\n",
    "            slow=slow.next\n",
    "        print('==========');\n",
    "        # print(f'{fast.val=}');\n",
    "        print(f'{slow.val=}');\n",
    "        print('==========');\n",
    "        prev = None\n",
    "        \n",
    "        while slow:\n",
    "            temp = slow.next\n",
    "            slow.next = prev\n",
    "            prev = slow            \n",
    "            slow = temp\n",
    "        # check if palindrome\n",
    "        left, right = head, prev\n",
    "        while right:\n",
    "            if left.val != right.val:\n",
    "                return False\n",
    "            left = left.next\n",
    "            right = right.next\n",
    "        return True\n",
    "    \n",
    "    def print(self, head:Optional[ListNode]):\n",
    "        h = head\n",
    "        while h:\n",
    "            print(h.val, end=' - ')\n",
    "            h=h.next\n",
    "list_node = ListNode(1, ListNode(2,ListNode(2,ListNode(1))))\n",
    "# list_node = ListNode(1, ListNode(2,ListNode(3,ListNode(4,ListNode(5, ListNode(6, ListNode(7)))))))\n",
    "\n",
    "sol = Solution()\n",
    "print(sol.isPalindrome(list_node))\n",
    "sol.print(list_node)"
   ]
  },
  {
   "cell_type": "code",
   "execution_count": 24,
   "metadata": {},
   "outputs": [
    {
     "name": "stdout",
     "output_type": "stream",
     "text": [
      "6\n"
     ]
    }
   ],
   "source": [
    "from typing import Optional\n",
    "# Definition for singly-linked list.\n",
    "class ListNode:\n",
    "    def __init__(self, val=0, next=None):\n",
    "        self.val = val\n",
    "        self.next = next\n",
    "class Solution:\n",
    "    def isPalindrome(self, head: Optional[ListNode]) -> bool:\n",
    "        h = head\n",
    "        slow = h\n",
    "        fast = h\n",
    "        while fast:\n",
    "            # print('------------------------------------');\n",
    "            # print(f'{slow.val=}');\n",
    "            # print('------------------------------------');\n",
    "            slow = h.next\n",
    "            h = h.next\n",
    "            fast = h.next.next\n",
    "        while slow:\n",
    "            print(slow.val)\n",
    "            slow = slow.next\n",
    "        # print(fast.val, slow.val)\n",
    "        \n",
    "list_node = ListNode(1, ListNode(4,ListNode(2,ListNode(6))))\n",
    "soln = Solution()\n",
    "soln.isPalindrome(list_node)"
   ]
  }
 ],
 "metadata": {
  "kernelspec": {
   "display_name": "langgraph",
   "language": "python",
   "name": "python3"
  },
  "language_info": {
   "codemirror_mode": {
    "name": "ipython",
    "version": 3
   },
   "file_extension": ".py",
   "mimetype": "text/x-python",
   "name": "python",
   "nbconvert_exporter": "python",
   "pygments_lexer": "ipython3",
   "version": "3.12.3"
  }
 },
 "nbformat": 4,
 "nbformat_minor": 2
}
