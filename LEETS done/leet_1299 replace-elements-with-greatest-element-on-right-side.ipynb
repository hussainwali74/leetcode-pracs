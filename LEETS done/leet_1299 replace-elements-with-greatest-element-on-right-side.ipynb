{
 "cells": [
  {
   "cell_type": "code",
   "execution_count": null,
   "metadata": {},
   "outputs": [],
   "source": [
    "from typing import List\n",
    "class Solution:\n",
    "    def replaceElements(self, arr: List[int]) -> List[int]:\n",
    "        def partition(array, low,high):\n",
    "            pivot = array[high]\n",
    "            i = low -1\n",
    "            \n",
    "            for j in range(low,high):\n",
    "                if array[j] >= pivot:\n",
    "                    i = i+1\n",
    "                    \n",
    "                    (array[i],array[j]) = (array[j],array[i])\n",
    "            (array[i+1], array[high]) = (array[high], array[i+1])\n",
    "            \n",
    "            return i+1\n",
    "\n",
    "        def quicksort(array, low, high):\n",
    "            if low<high:\n",
    "                pi = partition(array, low, high)\n",
    "                quicksort(array, low, pi-1)\n",
    "                quicksort(array, pi+1, high)\n",
    "            \n",
    "        for i in range(len(arr)-1):\n",
    "            temp = arr[i+1:]\n",
    "            quicksort(temp, i,len(temp)-1)\n",
    "            max_num = temp[0] \n",
    "            arr[i] = max_num\n",
    "        arr[-1]=-1\n",
    "        return arr\n",
    "    # def max_binary_search(arr)\n",
    "arr = [17,18,5,4,6,1]\n",
    "soln = Solution()\n",
    "\n",
    "soln.replaceElements(arr)\n"
   ]
  },
  {
   "cell_type": "code",
   "execution_count": 9,
   "metadata": {},
   "outputs": [
    {
     "data": {
      "text/plain": [
       "[18, 17, 6, 5, 4, 1]"
      ]
     },
     "execution_count": 9,
     "metadata": {},
     "output_type": "execute_result"
    }
   ],
   "source": [
    "def partition(array, low,high):\n",
    "    pivot = array[high]\n",
    "    i = low -1\n",
    "    \n",
    "    for j in range(low,high):\n",
    "        if array[j] >= pivot:\n",
    "            i = i+1\n",
    "            \n",
    "            (array[i],array[j]) = (array[j],array[i])\n",
    "    (array[i+1], array[high]) = (array[high], array[i+1])\n",
    "    \n",
    "    return i+1\n",
    "\n",
    "def quicksort(array, low, high):\n",
    "    if low<high:\n",
    "        pi = partition(array, low, high)\n",
    "        quicksort(array, low, pi-1)\n",
    "        quicksort(array, pi+1, high)\n",
    "    \n",
    "arr = [17,18,5,4,6,1]\n",
    "\n",
    "quicksort(arr, 0, len(arr)-1)   \n",
    "arr"
   ]
  },
  {
   "cell_type": "markdown",
   "metadata": {},
   "source": [
    "#soln\n"
   ]
  },
  {
   "cell_type": "code",
   "execution_count": 51,
   "metadata": {},
   "outputs": [
    {
     "data": {
      "text/plain": [
       "[18, 6, 6, 6, 1, -1]"
      ]
     },
     "execution_count": 51,
     "metadata": {},
     "output_type": "execute_result"
    }
   ],
   "source": [
    "from typing import List\n",
    "class Solution:\n",
    "    def replaceElements(self, arr: List[int]) -> List[int]:\n",
    "        rev_arr = arr[::-1]\n",
    "        max_ = -1\n",
    "        prev = None\n",
    "        for i in range(len(rev_arr)):\n",
    "            if prev is None:\n",
    "                prev = rev_arr[i]\n",
    "                rev_arr[i] = max_\n",
    "                max_ = max(max_, prev)\n",
    "            else:\n",
    "                prev = rev_arr[i]\n",
    "                rev_arr[i] = max_\n",
    "                \n",
    "                max_ = max(prev,rev_arr[i])\n",
    "        return rev_arr[::-1]\n",
    "    # def max_binary_search(arr)\n",
    "arr = [17,18,5,4,6,1]\n",
    "soln = Solution()\n",
    "\n",
    "soln.replaceElements(arr)\n"
   ]
  },
  {
   "cell_type": "code",
   "execution_count": 64,
   "metadata": {},
   "outputs": [
    {
     "data": {
      "text/plain": [
       "[18, 6, 6, 6, 1, -1]"
      ]
     },
     "execution_count": 64,
     "metadata": {},
     "output_type": "execute_result"
    }
   ],
   "source": [
    "from typing import List\n",
    "class Solution:\n",
    "    def replaceElements(self, arr: List[int]) -> List[int]:\n",
    "        max_ = -1\n",
    "        prev = None\n",
    "        for i in range(len(arr),0,-1):\n",
    "            if prev is None:\n",
    "                prev = arr[i-1]\n",
    "                arr[i-1] = max_\n",
    "                max_ = max(max_, prev)\n",
    "            else:\n",
    "                prev = arr[i]\n",
    "                arr[i] = max_\n",
    "                \n",
    "                max_ = max(prev,arr[i])\n",
    "        arr[0]= max_\n",
    "        arr[len(arr)-1]=-1\n",
    "\n",
    "        return arr\n",
    "    # def max_binary_search(arr)\n",
    "arr = [17,18,5,4,6,1]\n",
    "soln = Solution()\n",
    "\n",
    "soln.replaceElements(arr)\n"
   ]
  },
  {
   "cell_type": "code",
   "execution_count": 1,
   "metadata": {},
   "outputs": [
    {
     "data": {
      "text/plain": [
       "[18, 6, 6, 6, 1, -1]"
      ]
     },
     "execution_count": 1,
     "metadata": {},
     "output_type": "execute_result"
    }
   ],
   "source": [
    "from typing import List\n",
    "class Solution:\n",
    "    def replaceElements(self, arr: List[int]) -> List[int]:\n",
    "        max_ = -1\n",
    "        for i in range(len(arr)-1,-1,-1):\n",
    "            temp_max = max(max_,arr[i])\n",
    "            arr[i]=max_\n",
    "            max_ = temp_max\n",
    "        return arr\n",
    "    # def max_binary_search(arr)\n",
    "arr = [17,18,5,4,6,1]\n",
    "soln = Solution()\n",
    "\n",
    "soln.replaceElements(arr)\n"
   ]
  },
  {
   "cell_type": "code",
   "execution_count": 2,
   "metadata": {},
   "outputs": [
    {
     "data": {
      "text/plain": [
       "[18, 6, 6, 6, 1, -1]"
      ]
     },
     "execution_count": 2,
     "metadata": {},
     "output_type": "execute_result"
    }
   ],
   "source": [
    "arr = [17, 18, 5, 4, 6, 1]\n",
    "curr = -1\n",
    "arr.reverse()\n",
    "for i in range(len(arr)):\n",
    "    temp = arr[i]\n",
    "    arr[i] = curr\n",
    "    curr = max(temp,curr)\n",
    "arr.reverse()\n",
    "arr"
   ]
  }
 ],
 "metadata": {
  "kernelspec": {
   "display_name": "langgraph",
   "language": "python",
   "name": "python3"
  },
  "language_info": {
   "codemirror_mode": {
    "name": "ipython",
    "version": 3
   },
   "file_extension": ".py",
   "mimetype": "text/x-python",
   "name": "python",
   "nbconvert_exporter": "python",
   "pygments_lexer": "ipython3",
   "version": "3.12.3"
  }
 },
 "nbformat": 4,
 "nbformat_minor": 2
}
