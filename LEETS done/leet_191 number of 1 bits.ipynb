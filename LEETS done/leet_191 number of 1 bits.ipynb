{
 "cells": [
  {
   "cell_type": "markdown",
   "metadata": {},
   "source": [
    "### Problem Description\n",
    "#### easy\n",
    "Write a function that takes the binary representation of a positive integer and returns the number of set bits it has (also known as the **Hamming weight**).\n",
    "\n",
    "---\n",
    "\n",
    "### Example 1:\n",
    "**Input:**  \n",
    "`n = 11`  \n",
    "**Output:**  \n",
    "`3`  \n",
    "**Explanation:**  \n",
    "The binary representation of `11` is `1011`, which has a total of three set bits.\n",
    "\n",
    "---\n",
    "\n",
    "### Example 2:\n",
    "**Input:**  \n",
    "`n = 128`  \n",
    "**Output:**  \n",
    "`1`  \n",
    "**Explanation:**  \n",
    "The binary representation of `128` is `10000000`, which has a total of one set bit.\n",
    "\n",
    "---\n",
    "\n",
    "### Example 3:\n",
    "**Input:**  \n",
    "`n = 2147483645`  \n",
    "**Output:**  \n",
    "`30`  \n",
    "**Explanation:**  \n",
    "The binary representation of `2147483645` is `1111111111111111111111111111101`, which has a total of thirty set bits.\n",
    "\n",
    "---\n",
    "\n",
    "### Constraints:\n",
    "- `1 <= n <= 2^31 - 1`\n",
    "\n",
    "---\n",
    "\n",
    "### Follow-up:\n",
    "If this function is called many times, how would you optimize it?\n"
   ]
  },
  {
   "cell_type": "code",
   "execution_count": 7,
   "metadata": {},
   "outputs": [
    {
     "data": {
      "text/plain": [
       "3"
      ]
     },
     "execution_count": 7,
     "metadata": {},
     "output_type": "execute_result"
    }
   ],
   "source": [
    "bin(11).count('1')"
   ]
  },
  {
   "cell_type": "markdown",
   "metadata": {},
   "source": [
    "# Soln\n",
    "\n"
   ]
  },
  {
   "cell_type": "code",
   "execution_count": null,
   "metadata": {},
   "outputs": [],
   "source": [
    "class Solution:\n",
    "    def hammingWeight(self, n: int) -> int:\n",
    "        res = 0\n",
    "        while n:\n",
    "            res += n % 2\n",
    "            n = n>> 1\n",
    "        return res"
   ]
  },
  {
   "cell_type": "markdown",
   "metadata": {},
   "source": [
    "# TMPTS\n"
   ]
  },
  {
   "cell_type": "code",
   "execution_count": 33,
   "metadata": {},
   "outputs": [
    {
     "name": "stdout",
     "output_type": "stream",
     "text": [
      "4 0\n",
      "2 0\n",
      "1 0\n",
      "0 1\n"
     ]
    },
    {
     "data": {
      "text/plain": [
       "1"
      ]
     },
     "execution_count": 33,
     "metadata": {},
     "output_type": "execute_result"
    }
   ],
   "source": [
    "n = 8\n",
    "count = 0\n",
    "while n != 0:\n",
    "    count += n & 1\n",
    "    n >>= 1\n",
    "    print(n, count)\n",
    "count"
   ]
  },
  {
   "cell_type": "code",
   "execution_count": 25,
   "metadata": {},
   "outputs": [
    {
     "data": {
      "text/plain": [
       "0"
      ]
     },
     "execution_count": 25,
     "metadata": {},
     "output_type": "execute_result"
    }
   ],
   "source": [
    "6&1"
   ]
  },
  {
   "cell_type": "code",
   "execution_count": 24,
   "metadata": {},
   "outputs": [
    {
     "data": {
      "text/plain": [
       "0"
      ]
     },
     "execution_count": 24,
     "metadata": {},
     "output_type": "execute_result"
    }
   ],
   "source": [
    "## 2/10\n",
    "\n",
    "n = 5\n",
    "r = 0\n",
    "while (n&1)!=0:\n",
    "    print('------------------------------------');\n",
    "    print(f'{n=}');\n",
    "    print('------------------------------------');\n",
    "    r+=1\n",
    "    n = n&1\n",
    "# n>>1\n",
    "r"
   ]
  },
  {
   "cell_type": "code",
   "execution_count": 19,
   "metadata": {},
   "outputs": [
    {
     "data": {
      "text/plain": [
       "('1010101010', '0b1010')"
      ]
     },
     "execution_count": 19,
     "metadata": {},
     "output_type": "execute_result"
    }
   ],
   "source": [
    "n=10\n",
    "\n",
    "# convert a decimal to binary\n",
    "s=''\n",
    "for i in range(n):\n",
    "   if i%2==0:\n",
    "       s+='1'\n",
    "   else:\n",
    "       s+='0'\n",
    "s , bin(n)"
   ]
  },
  {
   "cell_type": "code",
   "execution_count": null,
   "metadata": {},
   "outputs": [],
   "source": [
    "# mod or bitwise and operator to find the last 1 \n",
    "# # 30/09/24\n",
    "\n",
    "# 1 = 2^0 = 1\n",
    "# 2 = 2^1 = 10\n",
    "# 3 = 2^1 + 2^0 = 11\n",
    "# 4 = 2^2 + 0^2 = 100\n",
    "# 5 = 2^2 + 2^0 = 101\n",
    "# 6 = 2^2 + 2^1= 110\n",
    "# 7 = 2^2 + 2^1 + 2^0\n",
    "# 8 = 2^3\n",
    "3 & 1\n",
    "\n",
    "class Solution:\n",
    "    def hammingWeight(self, n: int) -> int:\n",
    "\n",
    "        return bin(n).count('1')"
   ]
  },
  {
   "cell_type": "code",
   "execution_count": 27,
   "metadata": {},
   "outputs": [
    {
     "name": "stdout",
     "output_type": "stream",
     "text": [
      "------------------------------------\n",
      "n=6n&1=0\n",
      "------------------------------------\n",
      "------------------------------------\n",
      "n=3n&1=1\n",
      "------------------------------------\n",
      "------------------------------------\n",
      "n=1n&1=1\n",
      "------------------------------------\n"
     ]
    },
    {
     "data": {
      "text/plain": [
       "2"
      ]
     },
     "execution_count": 27,
     "metadata": {},
     "output_type": "execute_result"
    }
   ],
   "source": [
    "count = 0\n",
    "n = 6\n",
    "while n != 0:\n",
    "    print('------------------------------------');\n",
    "    print(f'{n=}{n&1=}');\n",
    "    print('------------------------------------');\n",
    "    count += n & 1\n",
    "    n >>= 1\n",
    "count"
   ]
  },
  {
   "cell_type": "code",
   "execution_count": 15,
   "metadata": {},
   "outputs": [
    {
     "data": {
      "text/plain": [
       "25"
      ]
     },
     "execution_count": 15,
     "metadata": {},
     "output_type": "execute_result"
    }
   ],
   "source": [
    "20 >> 1\n",
    "30 >> 1\n",
    "50 >> 1"
   ]
  },
  {
   "cell_type": "code",
   "execution_count": 4,
   "metadata": {},
   "outputs": [
    {
     "data": {
      "text/plain": [
       "'00000001'"
      ]
     },
     "execution_count": 4,
     "metadata": {},
     "output_type": "execute_result"
    }
   ],
   "source": [
    "n = 128\n",
    "bins = bin(n).split('0b')[1]\n",
    "for i in bins:\n",
    "    if i=='1'"
   ]
  },
  {
   "cell_type": "markdown",
   "metadata": {},
   "source": [
    "---\n",
    "\n",
    "## points to remember\n",
    "### Bitwise operation:\n",
    "### 1. n>>1 halves the number n\n",
    "\n",
    "### 2. n&1  checks last bit for 1 if last bit of n is 1 result will be 1\n",
    "\n",
    "---"
   ]
  },
  {
   "cell_type": "markdown",
   "metadata": {},
   "source": [
    "1. Brian Kernighan's Algorithm:\n",
    "- Initialize a count variable to 0.\n",
    "- Iterate through each bit of the number using the following steps:\n",
    "    - If the current bit is 1, increment the count.\n",
    "    - Set the current bit to 0 using the expression n = n & (n - 1).\n",
    "- The count variable now holds the number of 1 bits.\n",
    "\n",
    "Complexity\n",
    "⏱️ Time Complexity: O(k), where k is the number of set bits in the binary representation of the number.\n",
    "\n",
    "🚀 Space Complexity: O(1)"
   ]
  },
  {
   "cell_type": "code",
   "execution_count": null,
   "metadata": {},
   "outputs": [],
   "source": [
    "class Solution:\n",
    "    def hammingWeight(self, n: int) -> int:\n",
    "        count = 0\n",
    "        while n != 0:\n",
    "            n &= (n - 1)\n",
    "            count += 1\n",
    "        return count"
   ]
  },
  {
   "cell_type": "markdown",
   "metadata": {},
   "source": [
    "2. Bit Manipulation:\n",
    "- Initialize a count variable to 0.\n",
    "- Iterate through each bit of the number using a loop.\n",
    "    - If the current bit is 1, increment the count.\n",
    "- The count variable now holds the number of 1 bits.\n",
    "\n",
    "Complexity\n",
    "\n",
    "⏱️ Time Complexity: O(log n), where n is the value of the input number.\n",
    "\n",
    "\n",
    "🚀 Space Complexity: O(1)"
   ]
  },
  {
   "cell_type": "code",
   "execution_count": 29,
   "metadata": {},
   "outputs": [],
   "source": [
    "class Solution:\n",
    "    def hammingWeight(self, n: int) -> int:\n",
    "        count = 0\n",
    "        while n != 0:\n",
    "            count += n & 1\n",
    "            n >>= 1\n",
    "        return count"
   ]
  },
  {
   "cell_type": "markdown",
   "metadata": {},
   "source": [
    "3. String Conversion:\n",
    "- Convert the integer to its binary string representation.\n",
    "- Count the number of '1' characters in the binary string\n",
    "\n",
    "Complexity\n",
    "\n",
    "⏱️ Time Complexity: O(log n), where n is the value of the input number.\n",
    "\n",
    "🚀 Space Complexity:O(log n)"
   ]
  },
  {
   "cell_type": "code",
   "execution_count": null,
   "metadata": {},
   "outputs": [],
   "source": [
    "class Solution:\n",
    "    def hammingWeight(self, n: int) -> int:\n",
    "        binary_string = bin(n)[2:]\n",
    "        count = binary_string.count('1')\n",
    "        return count"
   ]
  }
 ],
 "metadata": {
  "kernelspec": {
   "display_name": "langgraph",
   "language": "python",
   "name": "python3"
  },
  "language_info": {
   "codemirror_mode": {
    "name": "ipython",
    "version": 3
   },
   "file_extension": ".py",
   "mimetype": "text/x-python",
   "name": "python",
   "nbconvert_exporter": "python",
   "pygments_lexer": "ipython3",
   "version": "3.12.3"
  }
 },
 "nbformat": 4,
 "nbformat_minor": 2
}
