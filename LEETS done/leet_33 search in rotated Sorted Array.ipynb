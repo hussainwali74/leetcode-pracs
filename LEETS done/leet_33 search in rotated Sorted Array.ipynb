{
 "cells": [
  {
   "cell_type": "markdown",
   "metadata": {},
   "source": [
    "# Search in Rotated Sorted Array"
   ]
  },
  {
   "cell_type": "markdown",
   "metadata": {},
   "source": [
    "## Medium  \n",
    "\n",
    "There is an integer array `nums` sorted in ascending order (with distinct values).\n",
    "\n",
    "Prior to being passed to your function, `nums` is possibly rotated at an unknown pivot index `k` (1 <= k < nums.length) such that the resulting array is `[nums[k], nums[k+1], ..., nums[n-1], nums[0], nums[1], ..., nums[k-1]]` (0-indexed). For example, `[0,1,2,4,5,6,7]` might be rotated at pivot index 3 and become `[4,5,6,7,0,1,2]`.\n",
    "\n",
    "Given the array `nums` after the possible rotation and an integer `target`, return the index of `target` if it is in `nums`, or `-1` if it is not in `nums`.\n",
    "\n",
    "You must write an algorithm with `O(log n)` runtime complexity.\n",
    "\n",
    "### Example 1:\n",
    "**Input:**  \n",
    "`nums = [4,5,6,7,0,1,2]`, `target = 0`  \n",
    "**Output:**  \n",
    "`4`\n",
    "\n",
    "### Example 2:\n",
    "**Input:**  \n",
    "`nums = [4,5,6,7,0,1,2]`, `target = 3`  \n",
    "**Output:**  \n",
    "`-1`\n",
    "\n",
    "### Example 3:\n",
    "**Input:**  \n",
    "`nums = [1]`, `target = 0`  \n",
    "**Output:**  \n",
    "`-1`\n",
    "\n",
    "### Constraints:\n",
    "- 1 <= `nums.length` <= 5000  \n",
    "- -10⁴ <= `nums[i]` <= 10⁴  \n",
    "- All values of `nums` are unique.  \n",
    "- `nums` is an ascending array that is possibly rotated.  \n",
    "- -10⁴ <= `target` <= 10⁴  \n"
   ]
  },
  {
   "cell_type": "markdown",
   "metadata": {},
   "source": [
    "HW: works"
   ]
  },
  {
   "cell_type": "code",
   "execution_count": 21,
   "metadata": {},
   "outputs": [
    {
     "name": "stdout",
     "output_type": "stream",
     "text": [
      "1\n"
     ]
    }
   ],
   "source": [
    "from typing import List\n",
    "class Solution:\n",
    "    def search(self, nums: List[int], target: int) -> int:\n",
    "        l = 0\n",
    "        r = len(nums)-1\n",
    "        if r ==0 and target == nums[r]:\n",
    "            return r\n",
    "        while (l!=r):            \n",
    "            m = (l+r)//2\n",
    "            if nums[l] ==target:\n",
    "                return l\n",
    "            if nums[r] ==target:\n",
    "                return r\n",
    "            if nums[m] ==target:\n",
    "                return m\n",
    "            \n",
    "            if target >nums[l] and target< nums[m]:\n",
    "                r = m-1\n",
    "            elif target> nums[m] and target <nums[r]:\n",
    "                l = m+1\n",
    "            else:\n",
    "                l+=1\n",
    "        return -1\n",
    "\n",
    "# nums = [4,5,6,7,0,1,2]\n",
    "# target = 3\n",
    "\n",
    "nums = [1]\n",
    "target = 1\n",
    "nums = [5,1,2,3,4]\n",
    "target = 1\n",
    "# nums = [8,9,2,3,4]\n",
    "# target = 9\n",
    "\n",
    "soln = Solution()\n",
    "\n",
    "x = soln.search(nums, target)\n",
    "print(x)"
   ]
  },
  {
   "cell_type": "markdown",
   "metadata": {},
   "source": [
    "OPtim1:"
   ]
  },
  {
   "cell_type": "code",
   "execution_count": 34,
   "metadata": {},
   "outputs": [
    {
     "name": "stdout",
     "output_type": "stream",
     "text": [
      "else 0\n",
      "------------------------------------\n",
      "l=0 m=0 nums[l]=5 nums[m]=5\n",
      "------------------------------------\n",
      "1\n"
     ]
    }
   ],
   "source": [
    "from typing import List\n",
    "\n",
    "class Solution:\n",
    "    def search(self, nums: List[int], target: int) -> int:\n",
    "        l, r = 0, len(nums) - 1\n",
    "        \n",
    "        while l <= r:\n",
    "            m = (l + r) // 2\n",
    "            \n",
    "            # Check if the middle element is the target\n",
    "            if nums[m] == target:\n",
    "                return m\n",
    "            \n",
    "            # If left half is sorted\n",
    "            if nums[l] <= nums[m]:\n",
    "                # Target is in the left sorted half\n",
    "                if nums[l] <= target < nums[m]:\n",
    "                    r = m - 1\n",
    "                else:\n",
    "                    l = m + 1\n",
    "            # If right half is sorted\n",
    "            else:\n",
    "                print('else', l)\n",
    "                # Target is in the right sorted half\n",
    "                if nums[m] < target <= nums[r]:\n",
    "                    l = m + 1\n",
    "                else:\n",
    "                    r = m - 1\n",
    "                    \n",
    "        return -1\n",
    "\n",
    "nums = [1]\n",
    "target = 1\n",
    "nums = [5,1,2,3,4]\n",
    "target = 1\n",
    "# nums = [8,9,2,3,4]\n",
    "# target = 9\n",
    "\n",
    "soln = Solution()\n",
    "\n",
    "x = soln.search(nums, target)\n",
    "print(x)"
   ]
  },
  {
   "cell_type": "code",
   "execution_count": 39,
   "metadata": {},
   "outputs": [
    {
     "data": {
      "text/plain": [
       "False"
      ]
     },
     "execution_count": 39,
     "metadata": {},
     "output_type": "execute_result"
    }
   ],
   "source": [
    "# if nums[l] <= target < nums[m]:\n",
    "5 <=1 and 1 <5"
   ]
  }
 ],
 "metadata": {
  "kernelspec": {
   "display_name": "langgraph",
   "language": "python",
   "name": "python3"
  },
  "language_info": {
   "codemirror_mode": {
    "name": "ipython",
    "version": 3
   },
   "file_extension": ".py",
   "mimetype": "text/x-python",
   "name": "python",
   "nbconvert_exporter": "python",
   "pygments_lexer": "ipython3",
   "version": "3.12.3"
  }
 },
 "nbformat": 4,
 "nbformat_minor": 2
}
