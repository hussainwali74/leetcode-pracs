{
 "cells": [
  {
   "cell_type": "markdown",
   "metadata": {},
   "source": [
    "# 217. Contains Duplicate\n",
    "\n",
    "### Difficulty : \n",
    "Easy\n",
    "\n",
    "---\n",
    "\n",
    "### Problem Statement\n",
    "\n",
    "Given an integer array `nums`, return `true` if any value appears **at least twice** in the array, and return `false` if every element is distinct.\n",
    "\n",
    "---\n",
    "\n",
    "### Examples\n",
    "\n",
    "#### Example 1:\n",
    "**Input:**  \n",
    "`nums = [1,2,3,1]`  \n",
    "**Output:**  \n",
    "`true`  \n",
    "**Explanation:**  \n",
    "The element `1` occurs at the indices `0` and `3`.\n",
    "\n",
    "---\n",
    "\n",
    "#### Example 2:\n",
    "**Input:**  \n",
    "`nums = [1,2,3,4]`  \n",
    "**Output:**  \n",
    "`false`  \n",
    "**Explanation:**  \n",
    "All elements are distinct.\n",
    "\n",
    "---\n",
    "\n",
    "#### Example 3:\n",
    "**Input:**  \n",
    "`nums = [1,1,1,3,3,4,3,2,4,2]`  \n",
    "**Output:**  \n",
    "`true`  \n",
    "\n",
    "---\n",
    "\n",
    "### Constraints\n",
    "\n",
    "- `1 <= nums.length <= 10^5`\n",
    "- `-10^9 <= nums[i] <= 10^9`\n"
   ]
  },
  {
   "cell_type": "code",
   "execution_count": 1,
   "metadata": {},
   "outputs": [],
   "source": [
    "#accepted\n",
    "\n",
    "from typing import List\n",
    "class Solution:\n",
    "    def containsDuplicate(self, nums: List[int]) -> bool:\n",
    "        return len(list(set(nums))) != len(nums)"
   ]
  },
  {
   "cell_type": "code",
   "execution_count": null,
   "metadata": {},
   "outputs": [],
   "source": [
    "# max time overflow\n",
    "class Solution:\n",
    "    def containsDuplicate(self, nums: List[int]) -> bool:\n",
    "        d  = []\n",
    "        for n in nums:\n",
    "            if n not in d:\n",
    "                d.append(n)\n",
    "            else:\n",
    "                return True\n",
    "        return False\n"
   ]
  },
  {
   "cell_type": "markdown",
   "metadata": {},
   "source": [
    "Time Complexity: The in operation on a list takes \n",
    "\n",
    "𝑂(𝑛)\n",
    "\n",
    "O(n) time in the worst case, where  𝑛 is the number of elements in the list d. For each element in nums, you are potentially scanning the entire list d to check if the element is present, leading to a time complexity of 𝑂(𝑛^2).\n",
    "\n",
    "Performance: As the list grows, the time to check for the existence of an element in the list increases. This leads to a significant slowdown, especially with large inputs, and can cause the code to exceed the time limit in competitive programming."
   ]
  },
  {
   "cell_type": "markdown",
   "metadata": {},
   "source": [
    "### using hash set"
   ]
  },
  {
   "cell_type": "code",
   "execution_count": 3,
   "metadata": {},
   "outputs": [],
   "source": [
    "class Solution:\n",
    "    def containsDuplicate(self, nums: List[int]) -> bool:\n",
    "        h = set()\n",
    "        for n in nums:\n",
    "            if n in h:\n",
    "                return True\n",
    "            h.add(n)\n",
    "        return False"
   ]
  },
  {
   "cell_type": "markdown",
   "metadata": {},
   "source": [
    "Time Complexity: The in operation on a set takes \n",
    "\n",
    "𝑂(1)\n",
    "\n",
    "O(1) time on average due to the underlying hash table implementation. This means checking for the existence of an element in the \n",
    "\n",
    "set is very fast, regardless of the size of the set.\n",
    "\n",
    "\n",
    "Performance: The set provides a significant speed advantage because it allows constant time complexity for both the in check and \n",
    "\n",
    "the add operation. This efficiency makes the set-based solution much faster and suitable for handling large inputs without \n",
    "\n",
    "exceeding the time limit."
   ]
  },
  {
   "cell_type": "code",
   "execution_count": 4,
   "metadata": {},
   "outputs": [
    {
     "data": {
      "text/plain": [
       "True"
      ]
     },
     "execution_count": 4,
     "metadata": {},
     "output_type": "execute_result"
    }
   ],
   "source": [
    "from typing import List\n",
    "class Solution:\n",
    "    def containsDuplicate(self, nums: List[int]) -> bool:\n",
    "        return True if len(list(set(nums))) != len(nums) else False\n",
    "    \n",
    "nums = [1,2,3,1]\n",
    "sol = Solution()\n",
    "sol.containsDuplicate(nums)\n"
   ]
  },
  {
   "cell_type": "code",
   "execution_count": 5,
   "metadata": {},
   "outputs": [
    {
     "data": {
      "text/plain": [
       "{1, 2, 3}"
      ]
     },
     "execution_count": 5,
     "metadata": {},
     "output_type": "execute_result"
    }
   ],
   "source": [
    "d = set()\n",
    "d.add(3)\n",
    "d.add(1)\n",
    "d.add(2)\n",
    "d"
   ]
  },
  {
   "cell_type": "code",
   "execution_count": 7,
   "metadata": {},
   "outputs": [
    {
     "data": {
      "text/plain": [
       "{0: 3, 2: 1, 1: 2}"
      ]
     },
     "execution_count": 7,
     "metadata": {},
     "output_type": "execute_result"
    }
   ],
   "source": [
    "d = {}\n",
    "d[0]=3\n",
    "d[2]=1\n",
    "d[1]=2\n",
    "d"
   ]
  },
  {
   "cell_type": "code",
   "execution_count": 8,
   "metadata": {},
   "outputs": [
    {
     "data": {
      "text/plain": [
       "[1, 2, 3, 4]"
      ]
     },
     "execution_count": 8,
     "metadata": {},
     "output_type": "execute_result"
    }
   ],
   "source": [
    "d = [1,2,4,3]\n",
    "d.sort()\n",
    "d"
   ]
  }
 ],
 "metadata": {
  "kernelspec": {
   "display_name": "base",
   "language": "python",
   "name": "python3"
  },
  "language_info": {
   "codemirror_mode": {
    "name": "ipython",
    "version": 3
   },
   "file_extension": ".py",
   "mimetype": "text/x-python",
   "name": "python",
   "nbconvert_exporter": "python",
   "pygments_lexer": "ipython3",
   "version": "3.12.7"
  }
 },
 "nbformat": 4,
 "nbformat_minor": 2
}
