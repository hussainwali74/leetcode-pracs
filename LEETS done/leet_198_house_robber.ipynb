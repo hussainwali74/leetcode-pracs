{
 "cells": [
  {
   "cell_type": "markdown",
   "metadata": {},
   "source": [
    "\n",
    "You are a professional robber planning to rob houses along a street. Each house has a certain amount of money stashed, the only constraint stopping you from robbing each of them is that adjacent houses have security systems connected and **it will automatically contact the police if two adjacent houses were broken into on the same night**.\n",
    "\n",
    "Given an integer array `nums` representing the amount of money of each house, return *the maximum amount of money you can rob tonight **without alerting the police***.\n",
    "\n",
    "**Example 1:**\n",
    "\n",
    "```\n",
    "Input: nums = [1,2,3,1]\n",
    "Output: 4\n",
    "Explanation: Rob house 1 (money = 1) and then rob house 3 (money = 3).\n",
    "Total amount you can rob = 1 + 3 = 4.\n",
    "```\n",
    "\n",
    "**Example 2:**\n",
    "\n",
    "```\n",
    "Input: nums = [2,7,9,3,1]\n",
    "Output: 12\n",
    "Explanation: Rob house 1 (money = 2), rob house 3 (money = 9) and rob house 5 (money = 1).\n",
    "Total amount you can rob = 2 + 9 + 1 = 12.\n",
    "```\n"
   ]
  },
  {
   "cell_type": "markdown",
   "metadata": {},
   "source": [
    "# Recursion\n"
   ]
  },
  {
   "cell_type": "code",
   "execution_count": null,
   "metadata": {},
   "outputs": [],
   "source": [
    "nums = [2,7,9,3,1]\n",
    "\n",
    "def TopDown(nums, i,n):\n",
    "    if i>= n:\n",
    "        return 0\n",
    "    steal = nums[i]+TopDown(nums,i+2, n)\n",
    "    skip = TopDown(nums, i+1,n)\n",
    "    return max(steal, skip)\n",
    "\n",
    "def rob(nums):\n",
    "    n = len(nums)\n",
    "    return TopDown(nums,0,n)\n",
    "rob(nums)"
   ]
  },
  {
   "cell_type": "markdown",
   "metadata": {},
   "source": [
    "# Recursion+Memo"
   ]
  },
  {
   "cell_type": "code",
   "execution_count": null,
   "metadata": {},
   "outputs": [],
   "source": [
    "nums = [2,7,9,3,1]\n",
    "\n",
    "t = [-1]* (len(nums)+1)\n",
    "def TopDown(nums, i,n):\n",
    "    if i>= n:\n",
    "        return 0\n",
    "    if t[i] != -1:\n",
    "        return t[i]\n",
    "    steal = nums[i]+TopDown(nums,i+2, n)\n",
    "    skip = TopDown(nums, i+1,n)\n",
    "    t[i]=max(steal, skip)\n",
    "    return t[i]\n",
    "\n",
    "def rob(nums):\n",
    "    n = len(nums)\n",
    "    return TopDown(nums,0,n)\n",
    "rob(nums)"
   ]
  },
  {
   "cell_type": "markdown",
   "metadata": {},
   "source": [
    "# Bottom Up"
   ]
  },
  {
   "cell_type": "code",
   "execution_count": null,
   "metadata": {},
   "outputs": [],
   "source": [
    "# nums = [2,1,1,3]\n",
    "nums = [2,7,9,3,1]\n",
    "n=len(nums)+1\n",
    "t = [0]*n\n",
    "t[0]=0\n",
    "t[1]=nums[0]\n",
    "print(t)\n",
    "for i in range(2,n):\n",
    "    steal = nums[i-1]+t[i-2]\n",
    "    skip = t[i-1]\n",
    "    \n",
    "    t[i]= max(skip,steal)\n",
    "    print('------------------------------------');\n",
    "    print(f'{i=} {steal=} {skip=}  {t[i]=}');\n",
    "    print('------------------------------------');\n",
    "t"
   ]
  },
  {
   "cell_type": "code",
   "execution_count": 17,
   "metadata": {},
   "outputs": [
    {
     "data": {
      "text/plain": [
       "5"
      ]
     },
     "execution_count": 17,
     "metadata": {},
     "output_type": "execute_result"
    }
   ],
   "source": [
    "class Solution:\n",
    "    def rob(self, nums):\n",
    "        n = len(nums)\n",
    "        if n==1:\n",
    "            return nums[0]\n",
    "        dp = [0]*n\n",
    "        dp[0] = nums[0]\n",
    "        dp[1] = max(nums[0],nums[1])\n",
    "        for i in range(2,n):\n",
    "            dp[i] = max(dp[i-1], nums[i]+dp[i-2])\n",
    "        return dp[-1]\n",
    "arr = [2,1,1]\n",
    "arr = [1,1]\n",
    "arr = [2,1,1,2,2]\n",
    "s = Solution()\n",
    "s.rob(arr)"
   ]
  },
  {
   "cell_type": "markdown",
   "metadata": {},
   "source": [
    "### Neets"
   ]
  },
  {
   "cell_type": "code",
   "execution_count": 1,
   "metadata": {},
   "outputs": [
    {
     "data": {
      "text/plain": [
       "4"
      ]
     },
     "execution_count": 1,
     "metadata": {},
     "output_type": "execute_result"
    }
   ],
   "source": [
    "class Solution:\n",
    "    def rob(self, nums):\n",
    "        n = len(nums)\n",
    "        if n==1:\n",
    "            return nums[0]\n",
    "        prev_rob = 0\n",
    "        max_rob = 0\n",
    "        for num in nums:\n",
    "            temp = max(max_rob, prev_rob+num)\n",
    "            prev_rob = max_rob\n",
    "            max_rob = temp\n",
    "        return max_rob\n",
    "arr = [2,1,1]\n",
    "arr = [1,1]\n",
    "arr = [2,1,1,2,2]\n",
    "arr = [2,1,1,2]\n",
    "s = Solution()\n",
    "s.rob(arr)"
   ]
  },
  {
   "cell_type": "markdown",
   "metadata": {},
   "source": [
    "Let's break down the `rob` function and the role of `temp`.  This code implements a dynamic programming solution to the House Robber problem, where you want to maximize the amount of money you can rob from a row of houses without robbing adjacent houses.\n",
    "\n",
    "**Understanding the Variables**\n",
    "\n",
    "* `nums`: This is the input list representing the amount of money in each house.\n",
    "* `n`: The number of houses.\n",
    "* `prev_rob`: Stores the maximum amount you can rob *without* robbing the current house.  It's the maximum robbery value from the previous iteration.\n",
    "* `max_rob`: Stores the overall maximum amount you can rob *up to and including* the current house.\n",
    "* `temp`: A temporary variable crucial for updating `prev_rob` and `max_rob` correctly in each iteration.\n",
    "\n",
    "**The Core Logic (and the Importance of `temp`)**\n",
    "\n",
    "The key idea is to calculate the maximum robbery amount at each house, building upon the results from previous houses.  Here's how it works step-by-step within the loop:\n",
    "\n",
    "1. **`temp = max(max_rob, prev_rob + num)`:** This is the most important line.  It calculates the potential maximum robbery amount at the current house (`num`).  There are two possibilities:\n",
    "   - `max_rob`: This represents the maximum robbery we could achieve *without* robbing the current house (because `max_rob` stores the maximum from the previous houses).\n",
    "   - `prev_rob + num`: This represents the maximum robbery we could achieve *if we rob* the current house.  Since we can't rob adjacent houses, `prev_rob` (maximum from the house before the previous one) is the relevant previous maximum to consider.\n",
    "   The `max()` function chooses the larger of these two possibilities and stores it in `temp`.\n",
    "\n",
    "2. **`prev_rob = max_rob`:** We update `prev_rob` to be the previous `max_rob`.  This means `prev_rob` now holds the maximum robbery amount *excluding* the current house, which will be used in the *next* iteration.\n",
    "\n",
    "3. **`max_rob = temp`:** We update `max_rob` to be the value of `temp`. This means `max_rob` now stores the maximum robbery amount *including* the current house.\n",
    "\n",
    "**Why `temp` is Necessary**\n",
    "\n",
    "The `temp` variable is crucial to avoid overwriting `prev_rob` before it's used in the calculation. If we didn't use `temp` and directly assigned `prev_rob = max_rob` before calculating the new `max_rob`, we would lose the correct value of `prev_rob` needed for the `prev_rob + num` calculation.\n",
    "\n",
    "\n",
    "**Example Walkthrough (nums = [2, 7, 9, 3, 1])**\n",
    "\n",
    "| House (num) | prev_rob | max_rob | temp |\n",
    "|---|---|---|---|\n",
    "| 2 | 0 | 0 | 2 |\n",
    "| 7 | 2 | 2 | 7 |\n",
    "| 9 | 7 | 7 | 11 |\n",
    "| 3 | 11 | 11 | 11 |\n",
    "| 1 | 11 | 11 | 12 |\n",
    "\n",
    "Final result: `max_rob = 12`\n",
    "\n",
    "\n",
    "**In summary:**  `temp` acts as a temporary storage to hold the newly calculated maximum robbery amount so that we can update `prev_rob` and `max_rob` correctly without overwriting essential values. It ensures that the dynamic programming approach maintains the correct state as we iterate through the houses."
   ]
  },
  {
   "cell_type": "code",
   "execution_count": null,
   "metadata": {},
   "outputs": [],
   "source": [
    "def topDown(nums, i, n):\n",
    "    if i>=n:\n",
    "        return 0\n",
    "    steal = nums[i]+topDown(nums, i+2, n)\n",
    "    skip = topDown(nums,)"
   ]
  },
  {
   "cell_type": "code",
   "execution_count": 4,
   "metadata": {},
   "outputs": [
    {
     "name": "stdout",
     "output_type": "stream",
     "text": [
      "6\n"
     ]
    }
   ],
   "source": [
    "nums=[1,1,2,1,2,3,1]\n",
    "n = len(nums)\n",
    "def topDown(nums,i,n):\n",
    "    if i>=n:\n",
    "        return 0\n",
    "    steal = nums[i]+topDown(nums,i+2,n)\n",
    "    skip  = topDown(nums,i+1,n)\n",
    "    return max(steal,skip)\n",
    "def rob(nums):\n",
    "    res = topDown(nums,0,len(nums))\n",
    "    print(res)\n",
    "rob(nums)"
   ]
  },
  {
   "cell_type": "code",
   "execution_count": 5,
   "metadata": {},
   "outputs": [
    {
     "name": "stdout",
     "output_type": "stream",
     "text": [
      "[2, 7, 11, 11, 12]\n"
     ]
    }
   ],
   "source": [
    "nums = [2,7,9,3,1]\n",
    "n = len(nums)\n",
    "dp = [0]*len(nums)\n",
    "dp[0]=nums[0]\n",
    "dp[1] = max(nums[0],nums[1])\n",
    "\n",
    "for i in range(2,n):\n",
    "    steal = nums[i]+dp[i-2]\n",
    "    skip=dp[i-1]\n",
    "    dp[i] = max(steal, skip)\n",
    "print(dp)\n"
   ]
  }
 ],
 "metadata": {
  "kernelspec": {
   "display_name": "base",
   "language": "python",
   "name": "python3"
  },
  "language_info": {
   "codemirror_mode": {
    "name": "ipython",
    "version": 3
   },
   "file_extension": ".py",
   "mimetype": "text/x-python",
   "name": "python",
   "nbconvert_exporter": "python",
   "pygments_lexer": "ipython3",
   "version": "3.12.7"
  }
 },
 "nbformat": 4,
 "nbformat_minor": 2
}
