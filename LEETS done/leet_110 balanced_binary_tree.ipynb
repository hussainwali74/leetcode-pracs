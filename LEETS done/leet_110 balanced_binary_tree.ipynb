{
 "cells": [
  {
   "cell_type": "code",
   "execution_count": 31,
   "metadata": {},
   "outputs": [
    {
     "name": "stdout",
     "output_type": "stream",
     "text": [
      "True\n"
     ]
    }
   ],
   "source": [
    "from typing import Optional\n",
    "# Definition for a binary tree node.\n",
    "class TreeNode:\n",
    "    def __init__(self, val=0, left=None, right=None):\n",
    "        self.val = val\n",
    "        self.left = left\n",
    "        self.right = right\n",
    "        \n",
    "class Solution:\n",
    "    res = True\n",
    "    def isBalanced(self, root: Optional[TreeNode]) -> bool:\n",
    "        if root is None:\n",
    "            return True\n",
    "        self.height(root)\n",
    "        return self.res  \n",
    "    def height(self, root:Optional[TreeNode]):\n",
    "        if root is None:\n",
    "            return 0\n",
    "        left = self.height(root.left)\n",
    "        right = self.height(root.right)\n",
    "        if abs(left-right) >1:\n",
    "            self.res = False\n",
    "        return 1+max(left, right)\n",
    "    \n",
    "# ro = TreeNode(3,TreeNode(9,None, None),TreeNode(20, TreeNode(15), TreeNode(7)))\n",
    "# ro = TreeNode(1,TreeNode(2,TreeNode(3,TreeNode(4), TreeNode(4)), TreeNode(3)),TreeNode(2))\n",
    "# [1,2,2,3,null,null,3,4,null,null,4]\n",
    "\n",
    "# ro = TreeNode(1,TreeNode(2, TreeNode(3, TreeNode(4))), TreeNode(2, None, TreeNode(3, None, TreeNode(4))))\n",
    "\n",
    "ro = None\n",
    "soln = Solution()\n",
    "print(soln.isBalanced(ro))"
   ]
  },
  {
   "cell_type": "code",
   "execution_count": null,
   "metadata": {},
   "outputs": [],
   "source": []
  }
 ],
 "metadata": {
  "kernelspec": {
   "display_name": "langgraph",
   "language": "python",
   "name": "python3"
  },
  "language_info": {
   "codemirror_mode": {
    "name": "ipython",
    "version": 3
   },
   "file_extension": ".py",
   "mimetype": "text/x-python",
   "name": "python",
   "nbconvert_exporter": "python",
   "pygments_lexer": "ipython3",
   "version": "3.12.3"
  }
 },
 "nbformat": 4,
 "nbformat_minor": 2
}
