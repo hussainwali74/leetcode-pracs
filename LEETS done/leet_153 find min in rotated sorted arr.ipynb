{
 "cells": [
  {
   "cell_type": "markdown",
   "metadata": {},
   "source": [
    "# Find minimum in Rotated Sorted Array"
   ]
  },
  {
   "cell_type": "markdown",
   "metadata": {},
   "source": [
    "### Problem Description\n",
    "\n",
    "Suppose an array of length `n` sorted in ascending order is rotated between 1 and `n` times. For example, the array `nums = [0,1,2,4,5,6,7]` might become:\n",
    "\n",
    "- `[4,5,6,7,0,1,2]` if it was rotated 4 times.\n",
    "- `[0,1,2,4,5,6,7]` if it was rotated 7 times.\n",
    "\n",
    "Notice that rotating an array `[a[0], a[1], a[2], ..., a[n-1]]` one time results in the array `[a[n-1], a[0], a[1], a[2], ..., a[n-2]]`.\n",
    "\n",
    "Given the sorted rotated array `nums` of unique elements, return the minimum element of this array.\n",
    "\n",
    "You must write an algorithm that runs in O(log n) time.\n",
    "\n",
    "---\n",
    "\n",
    "### Example 1:\n",
    "**Input:**  \n",
    "`nums = [3,4,5,1,2]`  \n",
    "**Output:**  \n",
    "`1`  \n",
    "**Explanation:**  \n",
    "The original array was `[1,2,3,4,5]` rotated 3 times.\n",
    "\n",
    "---\n",
    "\n",
    "### Example 2:\n",
    "**Input:**  \n",
    "`nums = [4,5,6,7,0,1,2]`  \n",
    "**Output:**  \n",
    "`0`  \n",
    "**Explanation:**  \n",
    "The original array was `[0,1,2,4,5,6,7]` and it was rotated 4 times.\n",
    "\n",
    "---\n",
    "\n",
    "### Example 3:\n",
    "**Input:**  \n",
    "`nums = [11,13,15,17]`  \n",
    "**Output:**  \n",
    "`11`  \n",
    "**Explanation:**  \n",
    "The original array was `[11,13,15,17]` and it was rotated 4 times.\n",
    "\n",
    "---\n",
    "\n",
    "### Constraints:\n",
    "- `n == nums.length`\n",
    "- `1 <= n <= 5000`\n",
    "- `-5000 <= nums[i] <= 5000`\n",
    "- All the integers of `nums` are unique.\n",
    "- `nums` is sorted and rotated between 1 and `n` times.\n"
   ]
  },
  {
   "cell_type": "code",
   "execution_count": 18,
   "metadata": {},
   "outputs": [
    {
     "data": {
      "text/plain": [
       "3"
      ]
     },
     "execution_count": 18,
     "metadata": {},
     "output_type": "execute_result"
    }
   ],
   "source": [
    "def func(nums):\n",
    "    res = nums[0]\n",
    "    left = 0\n",
    "    right = len(nums)-1\n",
    "    \n",
    "    while left<=right:\n",
    "        if nums[left]< nums[right]:\n",
    "            res = nums[left]\n",
    "            break\n",
    "        m = (left+right)//2\n",
    "        res = min(res, nums[m])\n",
    "        if nums[m]>=nums[left]:\n",
    "            left = m+1\n",
    "        else:\n",
    "            right = m-1\n",
    "    return res\n",
    "nums = [3,4,5,1,2]\n",
    "nums = [4,5,1,2,3]\n",
    "nums = [3,4,5,1]\n",
    "nums = [5,1,2,3]\n",
    "nums = [3,4,5]\n",
    "# nums = [2,1]\n",
    "# nums = [2]\n",
    "func(nums)"
   ]
  },
  {
   "cell_type": "code",
   "execution_count": 1,
   "metadata": {},
   "outputs": [
    {
     "data": {
      "text/plain": [
       "0"
      ]
     },
     "execution_count": 1,
     "metadata": {},
     "output_type": "execute_result"
    }
   ],
   "source": []
  },
  {
   "cell_type": "code",
   "execution_count": 12,
   "metadata": {},
   "outputs": [
    {
     "data": {
      "text/plain": [
       "1"
      ]
     },
     "execution_count": 12,
     "metadata": {},
     "output_type": "execute_result"
    }
   ],
   "source": [
    "def func(nums):\n",
    "    left = 0\n",
    "    right = len(nums)-1\n",
    "    m = 0\n",
    "    while left< len(nums):\n",
    "        if nums[left] <=  nums[right]:\n",
    "            return nums[left]\n",
    "        if not m:\n",
    "            m = (left+right)//2\n",
    "        else:\n",
    "            m += (right-left)//2\n",
    "        left = m +1\n",
    "\n",
    "nums = [3,4,5,1,2]\n",
    "nums = [3,4,5]\n",
    "nums = [2,1]\n",
    "func(nums)"
   ]
  },
  {
   "cell_type": "markdown",
   "metadata": {},
   "source": [
    "## Hw"
   ]
  },
  {
   "cell_type": "code",
   "execution_count": 8,
   "metadata": {},
   "outputs": [],
   "source": [
    "from typing import List\n",
    "class Solution:\n",
    "    def findMin(self, nums: List[int]) -> int:\n",
    "        left = 0\n",
    "        right = len(nums)-1\n",
    "        m = (left+right)//2\n",
    "        arrs = []\n",
    "        if nums[left:m]:\n",
    "            min1 = min(nums[left:m])\n",
    "            arrs.append(min1)\n",
    "        if nums[m]:\n",
    "            arrs.append(nums[m])\n",
    "        if nums[m:]:\n",
    "            min3 = min(nums[m:])\n",
    "            arrs.append(min3)\n",
    "        return min(arrs)"
   ]
  },
  {
   "cell_type": "markdown",
   "metadata": {},
   "source": [
    "## Soln"
   ]
  },
  {
   "cell_type": "markdown",
   "metadata": {},
   "source": [
    "nums[m] >=nums[left]:\n",
    "\n",
    "    search right\n",
    "\n",
    "else:\n",
    "\n",
    "    search left\n"
   ]
  },
  {
   "cell_type": "code",
   "execution_count": 19,
   "metadata": {},
   "outputs": [
    {
     "data": {
      "text/plain": [
       "4"
      ]
     },
     "execution_count": 19,
     "metadata": {},
     "output_type": "execute_result"
    }
   ],
   "source": [
    "def func(nums):\n",
    "    res = nums[0]\n",
    "    left = 0\n",
    "    right = len(nums)-1\n",
    "    m = 0\n",
    "    while left<= right:\n",
    "        if nums[left]< nums[right]:\n",
    "            res = nums[left]\n",
    "            break\n",
    "        m  =(left+right)//2\n",
    "        res = min(res, nums[m])\n",
    "        \n",
    "        if nums[m]>=nums[left]:\n",
    "            # search right\n",
    "            left = m+1\n",
    "        else:\n",
    "            # search left\n",
    "            right= m-1\n",
    "    return res\n",
    "        \n",
    "\n",
    "nums = [3,4,5,1,2]\n",
    "nums = [4,5,1,2,3]\n",
    "# nums = [3,4,5,1]\n",
    "# nums = [5,1,2,3]\n",
    "# nums = [3,4,5]\n",
    "# nums = [2,1]\n",
    "func(nums)"
   ]
  }
 ],
 "metadata": {
  "kernelspec": {
   "display_name": "langgraph",
   "language": "python",
   "name": "python3"
  },
  "language_info": {
   "codemirror_mode": {
    "name": "ipython",
    "version": 3
   },
   "file_extension": ".py",
   "mimetype": "text/x-python",
   "name": "python",
   "nbconvert_exporter": "python",
   "pygments_lexer": "ipython3",
   "version": "3.12.3"
  }
 },
 "nbformat": 4,
 "nbformat_minor": 2
}
