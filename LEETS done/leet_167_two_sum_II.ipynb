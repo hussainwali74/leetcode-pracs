{
 "cells": [
  {
   "cell_type": "code",
   "execution_count": 3,
   "metadata": {},
   "outputs": [
    {
     "name": "stdout",
     "output_type": "stream",
     "text": [
      "0 3 2 15 False\n",
      "0 2 2 11 False\n",
      "0 1 2 7 True\n"
     ]
    },
    {
     "data": {
      "text/plain": [
       "[1, 2]"
      ]
     },
     "execution_count": 3,
     "metadata": {},
     "output_type": "execute_result"
    }
   ],
   "source": [
    "class Solution:\n",
    "    def twoSum(self, numbers, target: int) :\n",
    "        res = [1]\n",
    "        # nums = [num for num in numbers if num<=target]\n",
    "        right = l = len(numbers)-1\n",
    "        left = 0\n",
    "        while(left!=right):\n",
    "            print(left,right, numbers[left], numbers[right], numbers[left]+numbers[right]==target)\n",
    "            if numbers[left]+numbers[right]==target:\n",
    "                return [left+1, right+1]\n",
    "            elif numbers[left]+numbers[right] >target:\n",
    "                right-=1\n",
    "            else:\n",
    "                left+=1\n",
    "sol = Solution()\n",
    "numbers = [2,7,11,15]\n",
    "target = 9\n",
    "sol.twoSum(numbers,target)"
   ]
  },
  {
   "cell_type": "code",
   "execution_count": null,
   "metadata": {},
   "outputs": [],
   "source": [
    "class Solution:\n",
    "    def twoSum(self, numbers: List[int], target: int) -> List[int]:\n",
    "        l = 0\n",
    "        r = len(numbers) -1\n",
    "        while True:\n",
    "            if numbers[l] + numbers[r] > target:\n",
    "                r -= 1\n",
    "            elif numbers[l] + numbers[r] < target:\n",
    "                l += 1\n",
    "            else:\n",
    "                return [l+1, r+1]"
   ]
  },
  {
   "cell_type": "code",
   "execution_count": null,
   "metadata": {},
   "outputs": [],
   "source": [
    "class Solution:\n",
    "    def twoSum(self, numbers: List[int], target: int) -> List[int]:\n",
    "        l, r  = 0, len(numbers)-1\n",
    "    \n",
    "        while(l!=r):\n",
    "            if numbers[l]+numbers[r] == target:\n",
    "                return [l+1, r+1]\n",
    "            elif numbers[l]+numbers[r] >target:\n",
    "                r-=1\n",
    "            else:\n",
    "                l+=1\n"
   ]
  },
  {
   "cell_type": "code",
   "execution_count": 4,
   "metadata": {},
   "outputs": [
    {
     "name": "stdout",
     "output_type": "stream",
     "text": [
      "2 7\n",
      "4 5\n"
     ]
    }
   ],
   "source": [
    "nums = [1,2,3,4,5,7]\n",
    "target = 9\n",
    "\n",
    "l =0\n",
    "r = len(nums)-1\n",
    "while(l!=r):\n",
    "    if nums[l]+nums[r] == target:\n",
    "        print(nums[l], nums[r])\n",
    "        r-=1\n",
    "        # break\n",
    "    elif nums[l]+nums[r]>target:\n",
    "        r-=1\n",
    "    else:\n",
    "        l+=1\n",
    "        "
   ]
  },
  {
   "cell_type": "code",
   "execution_count": null,
   "metadata": {},
   "outputs": [],
   "source": []
  }
 ],
 "metadata": {
  "kernelspec": {
   "display_name": "langgraph",
   "language": "python",
   "name": "python3"
  },
  "language_info": {
   "codemirror_mode": {
    "name": "ipython",
    "version": 3
   },
   "file_extension": ".py",
   "mimetype": "text/x-python",
   "name": "python",
   "nbconvert_exporter": "python",
   "pygments_lexer": "ipython3",
   "version": "3.12.3"
  }
 },
 "nbformat": 4,
 "nbformat_minor": 2
}
