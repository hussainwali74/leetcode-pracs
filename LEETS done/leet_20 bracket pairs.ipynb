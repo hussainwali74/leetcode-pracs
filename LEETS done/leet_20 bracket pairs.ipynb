{
 "cells": [
  {
   "cell_type": "code",
   "execution_count": 7,
   "metadata": {},
   "outputs": [
    {
     "data": {
      "text/plain": [
       "False"
      ]
     },
     "execution_count": 7,
     "metadata": {},
     "output_type": "execute_result"
    }
   ],
   "source": [
    "class Solution:\n",
    "    def isValid(self, s: str) -> bool:\n",
    "        stack = []\n",
    "        c_map = {'(':')','[':']','{':'}'}        \n",
    "        for c in s:\n",
    "            if c in c_map:\n",
    "                stack.append(c)\n",
    "            else:\n",
    "                if len(stack)==0 or  c != c_map[stack.pop()]:\n",
    "                    return False\n",
    "        return len(stack)==0\n",
    "\n",
    "soln = Solution()\n",
    "s = '({}'\n",
    "soln.isValid(s)"
   ]
  }
 ],
 "metadata": {
  "kernelspec": {
   "display_name": "langgraph",
   "language": "python",
   "name": "python3"
  },
  "language_info": {
   "codemirror_mode": {
    "name": "ipython",
    "version": 3
   },
   "file_extension": ".py",
   "mimetype": "text/x-python",
   "name": "python",
   "nbconvert_exporter": "python",
   "pygments_lexer": "ipython3",
   "version": "3.12.3"
  }
 },
 "nbformat": 4,
 "nbformat_minor": 2
}
