{
 "cells": [
  {
   "cell_type": "markdown",
   "metadata": {},
   "source": [
    "# 139. Word Break\n",
    "\n",
    "### Difficulty\n",
    "Medium\n",
    "\n",
    "---\n",
    "\n",
    "### Problem Statement\n",
    "\n",
    "Given a string `s` and a dictionary of strings `wordDict`, return `true` if `s` can be segmented into a space-separated sequence of one or more dictionary words.\n",
    "\n",
    "**Note:** The same word in the dictionary may be reused multiple times in the segmentation.\n",
    "\n",
    "---\n",
    "\n",
    "### Examples\n",
    "\n",
    "#### Example 1:\n",
    "**Input:**  \n",
    "`s = \"leetcode\"`, `wordDict = [\"leet\", \"code\"]`  \n",
    "**Output:**  \n",
    "`true`  \n",
    "**Explanation:**  \n",
    "Return `true` because `\"leetcode\"` can be segmented as `\"leet code\"`.\n",
    "\n",
    "---\n",
    "\n",
    "#### Example 2:\n",
    "**Input:**  \n",
    "`s = \"applepenapple\"`, `wordDict = [\"apple\", \"pen\"]`  \n",
    "**Output:**  \n",
    "`true`  \n",
    "**Explanation:**  \n",
    "Return `true` because `\"applepenapple\"` can be segmented as `\"apple pen apple\"`.  \n",
    "**Note:** You are allowed to reuse a dictionary word.\n",
    "\n",
    "---\n",
    "\n",
    "#### Example 3:\n",
    "**Input:**  \n",
    "`s = \"catsandog\"`, `wordDict = [\"cats\", \"dog\", \"sand\", \"and\", \"cat\"]`\n",
    "**Output:**  \n",
    "`false`\n",
    "\n",
    "---\n",
    "\n",
    "### Constraints\n",
    "\n",
    "- `1 <= s.length <= 300`\n",
    "- `1 <= wordDict.length <= 1000`\n",
    "- `1 <= wordDict[i].length <= 20`\n",
    "- `s` and `wordDict[i]` consist of only lowercase English letters.\n",
    "- All the strings in `wordDict` are unique.\n"
   ]
  },
  {
   "cell_type": "code",
   "execution_count": 16,
   "metadata": {},
   "outputs": [
    {
     "name": "stdout",
     "output_type": "stream",
     "text": [
      "['aaa', 'aaa']\n"
     ]
    },
    {
     "data": {
      "text/plain": [
       "False"
      ]
     },
     "execution_count": 16,
     "metadata": {},
     "output_type": "execute_result"
    }
   ],
   "source": [
    "from typing import List\n",
    "class Solution:\n",
    "    def wordBreak(self, s: str, wordDict: List[str]) -> bool:\n",
    "\n",
    "        res = []\n",
    "        temp = \"\"\n",
    "        for c  in s :\n",
    "            temp +=c\n",
    "            if temp in wordDict:\n",
    "                res.append(temp)\n",
    "                temp = \"\"\n",
    "        print(res)\n",
    "        return len(''.join(res))==len(s)\n",
    "s = \"catsandog\"\n",
    "wordDict= [\"cats\", \"dog\", \"sand\", \"and\", \"cat\"]\n",
    "s = \"applepenapple\"\n",
    "wordDict = [\"apple\",\"pen\"]\n",
    "s=\"aaaaaaa\"\n",
    "wordDict= [\"aaaa\",\"aaa\"]\n",
    "\n",
    "sol = Solution()\n",
    "sol.wordBreak(s,wordDict)"
   ]
  },
  {
   "cell_type": "code",
   "execution_count": 35,
   "metadata": {},
   "outputs": [
    {
     "data": {
      "text/plain": [
       "('cars',\n",
       " [False, False, False, False, False],\n",
       " [False, False, False, False, False])"
      ]
     },
     "execution_count": 35,
     "metadata": {},
     "output_type": "execute_result"
    }
   ],
   "source": [
    "dp1 = [False for _ in range(len(s)+1)]\n",
    "dp = [False] *(len(s)+1)\n",
    "s, dp,dp1"
   ]
  },
  {
   "cell_type": "code",
   "execution_count": 49,
   "metadata": {},
   "outputs": [
    {
     "name": "stdout",
     "output_type": "stream",
     "text": [
      "[False, False, False, False, False, False, True, False, False, True]\n"
     ]
    },
    {
     "data": {
      "text/plain": [
       "False"
      ]
     },
     "execution_count": 49,
     "metadata": {},
     "output_type": "execute_result"
    }
   ],
   "source": [
    "from typing import List\n",
    "class Solution:\n",
    "    def wordBreak(self, s: str, wordDict: List[str]) -> bool:\n",
    "        dp = [False] * (len(s)+1)\n",
    "        dp[len(s)] = True\n",
    "\n",
    "        for i in range(len(s)-1, -1, -1):\n",
    "            for w in wordDict:\n",
    "                if (i + len(w))<=len(s) and s[i : i + len(w)] == w:\n",
    "                    dp[i]= dp[i+len(w)]\n",
    "                if dp[i]:\n",
    "                    break\n",
    "        return dp[0]\n",
    "s = \"catsandog\"\n",
    "wordDict= [\"cats\", \"dog\", \"sand\", \"and\", \"cat\"]\n",
    "# s = \"applepenapple\"\n",
    "# wordDict = [\"apple\",\"pen\"]\n",
    "# s=\"aaaaaaa\"\n",
    "# wordDict= [\"aaaa\",\"aaa\"]\n",
    "# s = \"cars\"\n",
    "# wordDict = [\"car\",\"ca\",\"rs\"]\n",
    "\n",
    "sol = Solution()\n",
    "sol.wordBreak(s,wordDict)"
   ]
  },
  {
   "cell_type": "code",
   "execution_count": 19,
   "metadata": {},
   "outputs": [
    {
     "data": {
      "text/plain": [
       "'0bcsca'"
      ]
     },
     "execution_count": 19,
     "metadata": {},
     "output_type": "execute_result"
    }
   ],
   "source": [
    "s='abcsca'\n",
    "\n",
    "s.replace('a','0',1)\n"
   ]
  },
  {
   "cell_type": "markdown",
   "metadata": {},
   "source": [
    "---\n",
    "\n",
    "### Soln \n",
    "neets"
   ]
  },
  {
   "cell_type": "code",
   "execution_count": 4,
   "metadata": {},
   "outputs": [
    {
     "name": "stdout",
     "output_type": "stream",
     "text": [
      "rs\n",
      "ca\n",
      "[True, False, True, False, True]\n"
     ]
    }
   ],
   "source": [
    "def check(s, wordDict):\n",
    "\n",
    "    dp = [False for _ in range(len(s)+1)]\n",
    "    n = len(s)\n",
    "    dp[n]=True\n",
    "    for i in range(len(s)-1,-1,-1):\n",
    "        for w in wordDict:\n",
    "            if len(w)+i<=n and s[i:i+len(w)]==w:\n",
    "                print(w)\n",
    "                dp[i]= True\n",
    "            if dp[i]:\n",
    "                break\n",
    "    print(dp)\n",
    "\n",
    "s= 'cars'\n",
    "wordDict=['ca','rs']\n",
    "check(s,wordDict)"
   ]
  }
 ],
 "metadata": {
  "kernelspec": {
   "display_name": "base",
   "language": "python",
   "name": "python3"
  },
  "language_info": {
   "codemirror_mode": {
    "name": "ipython",
    "version": 3
   },
   "file_extension": ".py",
   "mimetype": "text/x-python",
   "name": "python",
   "nbconvert_exporter": "python",
   "pygments_lexer": "ipython3",
   "version": "3.12.7"
  }
 },
 "nbformat": 4,
 "nbformat_minor": 2
}
