{
 "cells": [
  {
   "cell_type": "code",
   "execution_count": 1,
   "metadata": {},
   "outputs": [
    {
     "name": "stdout",
     "output_type": "stream",
     "text": [
      "<__main__.TreeNode object at 0x00000179B9D76EA0>\n"
     ]
    }
   ],
   "source": [
    "from typing import Optional\n",
    "\n",
    "class TreeNode:\n",
    "    def __init__(self, val=0, left=None, right=None):\n",
    "        self.val = val\n",
    "        self.left = left\n",
    "        self.right = right\n",
    "class Solution:\n",
    "    tree = TreeNode(0)\n",
    "    def mergeTrees(self, root1: Optional[TreeNode], root2: Optional[TreeNode]) -> Optional[TreeNode]:\n",
    "        def check(root1, root2):\n",
    "            if root1 is None and root2 is None:\n",
    "                return None\n",
    "            if root1 is None and root2 is not None:\n",
    "                return root2\n",
    "            elif root1 is not None and root2 is None:\n",
    "                return root1\n",
    "            new_node = TreeNode()\n",
    "            if root1 and root2:\n",
    "                new_node.val = root1.val+root2.val\n",
    "            \n",
    "            new_node.left  = check(root1.left, root2.left)\n",
    "            \n",
    "            new_node.right = check(root1.right, root2.right)\n",
    "            return new_node\n",
    "\n",
    "        return check(root1,root2)\n",
    "\n",
    "    \n",
    "# root1 = [1,3,2,5]\n",
    "root1 = TreeNode(1,TreeNode(3,TreeNode(5)), TreeNode(2))\n",
    "# root2 = [2,1,3,null,4,null,7]\n",
    "root2 = TreeNode(2,TreeNode(1,None, TreeNode(4)),TreeNode(3,None, TreeNode(7)))\n",
    "soln= Solution()\n",
    "soln.mergeTrees(root1,root2)\n"
   ]
  },
  {
   "cell_type": "code",
   "execution_count": null,
   "metadata": {},
   "outputs": [],
   "source": [
    "# Definition for a binary tree node.\n",
    "# class TreeNode:\n",
    "#     def __init__(self, val=0, left=None, right=None):\n",
    "#         self.val = val\n",
    "#         self.left = left\n",
    "#         self.right = right\n",
    "class Solution:\n",
    "    def mergeTrees(self, root1: Optional[TreeNode], root2: Optional[TreeNode]) -> Optional[TreeNode]:\n",
    "        if root1 is None:\n",
    "            return root2\n",
    "        if root2 is None:\n",
    "            return root1\n",
    "        n = TreeNode((root1.val if root1 else 0) + (root2.val if root2 else 0))\n",
    "        n.left = self.mergeTrees(root1.left if root1 else None, root2.left if root2 else None)\n",
    "        n.right = self.mergeTrees(root1.right if root1 else None, root2.right if root2 else None)\n",
    "        return n"
   ]
  }
 ],
 "metadata": {
  "kernelspec": {
   "display_name": "langgraph",
   "language": "python",
   "name": "python3"
  },
  "language_info": {
   "codemirror_mode": {
    "name": "ipython",
    "version": 3
   },
   "file_extension": ".py",
   "mimetype": "text/x-python",
   "name": "python",
   "nbconvert_exporter": "python",
   "pygments_lexer": "ipython3",
   "version": "3.12.3"
  }
 },
 "nbformat": 4,
 "nbformat_minor": 2
}
