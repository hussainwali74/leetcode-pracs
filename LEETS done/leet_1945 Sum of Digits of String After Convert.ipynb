{
 "cells": [
  {
   "cell_type": "code",
   "execution_count": 1,
   "metadata": {},
   "outputs": [
    {
     "data": {
      "text/plain": [
       "'91152626225172623216211826265'"
      ]
     },
     "execution_count": 1,
     "metadata": {},
     "output_type": "execute_result"
    }
   ],
   "source": [
    "s = 'iaozzbyqzwbpurzze'\n",
    "sst = ''.join([str(ord(ss)-96) for ss in s])\n",
    "sst"
   ]
  },
  {
   "cell_type": "code",
   "execution_count": 2,
   "metadata": {},
   "outputs": [
    {
     "name": "stdout",
     "output_type": "stream",
     "text": [
      "temp=91152626225172623216211826265\n",
      "temp=104\n"
     ]
    },
    {
     "data": {
      "text/plain": [
       "5"
      ]
     },
     "execution_count": 2,
     "metadata": {},
     "output_type": "execute_result"
    }
   ],
   "source": [
    "sum_ = 0\n",
    "\n",
    "for i in range(2):\n",
    "    if sum_!=0:\n",
    "        temp = sum_\n",
    "        sum_= 0\n",
    "    else:\n",
    "        temp = int(sst)\n",
    "    print(f'{temp=}');\n",
    "    while(temp)>=10:\n",
    "        sum_+=temp%10\n",
    "        temp = temp//10\n",
    "    sum_+=temp\n",
    "sum_    "
   ]
  },
  {
   "cell_type": "code",
   "execution_count": 3,
   "metadata": {},
   "outputs": [],
   "source": [
    "#mine\n",
    "class Solution:\n",
    "    def getLucky(self, s: str, k: int) -> int:\n",
    "        sst = ''.join([str(ord(ss)-96) for ss in s])\n",
    "        sum_ = 0\n",
    "        for i in range(k):\n",
    "            if sum_ == 0:\n",
    "                temp=int(sst)\n",
    "            else:\n",
    "                temp = sum_\n",
    "                sum_=0\n",
    "            while temp>=10:\n",
    "                sum_+=temp%10\n",
    "                temp = temp//10\n",
    "            sum_+=temp\n",
    "        return sum_"
   ]
  },
  {
   "cell_type": "code",
   "execution_count": 6,
   "metadata": {},
   "outputs": [],
   "source": [
    "class Solution:\n",
    "    def getLucky(self, s: str, k: int) -> int:\n",
    "        def convert(s):\n",
    "            return ''.join(str(ord(c) - ord('a') + 1) for c in s)\n",
    "        \n",
    "        def transform(n):\n",
    "            return sum(int(d) for d in str(n))\n",
    "        \n",
    "        # Convert the string to the integer\n",
    "        num = convert(s)\n",
    "        \n",
    "        # Perform the transform operation k times\n",
    "        for _ in range(k):\n",
    "            num = transform(num)\n",
    "        \n",
    "        return num\n",
    "soln = Solution()\n",
    "s = \"iiii\""
   ]
  },
  {
   "cell_type": "code",
   "execution_count": 9,
   "metadata": {},
   "outputs": [
    {
     "data": {
      "text/plain": [
       "36"
      ]
     },
     "execution_count": 9,
     "metadata": {},
     "output_type": "execute_result"
    }
   ],
   "source": [
    "t= ''.join(str(ord(c) - ord('a') + 1) for c in s)\n",
    "ttt= sum(int(tt) for tt in t)\n",
    "str(a)"
   ]
  }
 ],
 "metadata": {
  "kernelspec": {
   "display_name": "langgraph",
   "language": "python",
   "name": "python3"
  },
  "language_info": {
   "codemirror_mode": {
    "name": "ipython",
    "version": 3
   },
   "file_extension": ".py",
   "mimetype": "text/x-python",
   "name": "python",
   "nbconvert_exporter": "python",
   "pygments_lexer": "ipython3",
   "version": "3.12.3"
  }
 },
 "nbformat": 4,
 "nbformat_minor": 2
}
