{
 "cells": [
  {
   "cell_type": "markdown",
   "metadata": {},
   "source": [
    "You are given a large integer represented as an integer array `digits`, where each `digits[i]` is the i-th digit of the integer. The digits are ordered from most significant to least significant in left-to-right order. The large integer does not contain any leading 0's.\n",
    "\n",
    "### Question => Increment the large integer by one and return the resulting array of digits.\n",
    "\n",
    "### Example 1:\n",
    "\n",
    "- **Input:** `digits = [1,2,3]`\n",
    "- **Output:** `[1,2,4]`\n",
    "- **Explanation:** The array represents the integer `123`. Incrementing by one gives `123 + 1 = 124`. Thus, the result should be `[1,2,4]`.\n",
    "\n",
    "### Example 2:\n",
    "\n",
    "- **Input:** `digits = [4,3,2,1]`\n",
    "- **Output:** `[4,3,2,2]`\n",
    "- **Explanation:** The array represents the integer `4321`. Incrementing by one gives `4321 + 1 = 4322`. Thus, the result should be `[4,3,2,2]`.\n",
    "\n",
    "### Example 3:\n",
    "\n",
    "- **Input:** `digits = [9]`\n",
    "- **Output:** `[1,0]`\n",
    "- **Explanation:** The array represents the integer `9`. Incrementing by one gives `9 + 1 = 10`. Thus, the result should be `[1,0]`.\n",
    "\n",
    "### Constraints:\n",
    "\n",
    "- `1 <= digits.length <= 100`\n",
    "- `0 <= digits[i] <= 9`\n",
    "- The digits do not contain any leading 0's.\n"
   ]
  },
  {
   "cell_type": "code",
   "execution_count": 9,
   "metadata": {},
   "outputs": [
    {
     "data": {
      "text/plain": [
       "[9, 1, 0]"
      ]
     },
     "execution_count": 9,
     "metadata": {},
     "output_type": "execute_result"
    }
   ],
   "source": [
    "# digits = [1,2,3]\n",
    "digits = [9,9]\n",
    "largest = digits[-1]+1\n",
    "if largest>=10:\n",
    "    digits = [d for d in digits[0:-1]]\n",
    "    digits+=[int(l) for l in str(largest)]\n",
    "else:\n",
    "    digits = [d for d in digits[0:-1]]+[largest]\n",
    "digits"
   ]
  },
  {
   "cell_type": "code",
   "execution_count": 16,
   "metadata": {},
   "outputs": [
    {
     "data": {
      "text/plain": [
       "[1, 2, 4]"
      ]
     },
     "execution_count": 16,
     "metadata": {},
     "output_type": "execute_result"
    }
   ],
   "source": [
    "digits = [1,2,3]\n",
    "# digits = [9,9]\n",
    "number = int(''.join([str(n) for n in digits]))\n",
    "number+=1\n",
    "digits = [int(d) for d in str(number) ]\n",
    "digits"
   ]
  },
  {
   "cell_type": "code",
   "execution_count": null,
   "metadata": {},
   "outputs": [],
   "source": [
    "from typing import List\n",
    "class Solution:\n",
    "    def plusOne(self, digits: List[int]) -> List[int]:\n",
    "        number = int(''.join([str(n) for n in digits]))\n",
    "        number+=1\n",
    "        digits = [int(d) for d in str(number) ]\n",
    "        return digits"
   ]
  }
 ],
 "metadata": {
  "kernelspec": {
   "display_name": "langgraph",
   "language": "python",
   "name": "python3"
  },
  "language_info": {
   "codemirror_mode": {
    "name": "ipython",
    "version": 3
   },
   "file_extension": ".py",
   "mimetype": "text/x-python",
   "name": "python",
   "nbconvert_exporter": "python",
   "pygments_lexer": "ipython3",
   "version": "3.12.3"
  }
 },
 "nbformat": 4,
 "nbformat_minor": 2
}
