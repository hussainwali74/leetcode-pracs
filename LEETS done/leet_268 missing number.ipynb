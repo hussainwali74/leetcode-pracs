{
 "cells": [
  {
   "cell_type": "markdown",
   "metadata": {},
   "source": [
    "### Problem Description\n",
    "\n",
    "Given an array `nums` containing `n` distinct numbers in the range `[0, n]`, return the only number in the range that is missing from the array.\n",
    "\n",
    "---\n",
    "\n",
    "### Example 1:\n",
    "**Input:**  \n",
    "`nums = [3,0,1]`  \n",
    "**Output:**  \n",
    "`2`  \n",
    "**Explanation:**  \n",
    "`n = 3` since there are 3 numbers, so all numbers are in the range `[0, 3]`. `2` is the missing number in the range since it does not appear in `nums`.\n",
    "\n",
    "---\n",
    "\n",
    "### Example 2:\n",
    "**Input:**  \n",
    "`nums = [0,1]`  \n",
    "**Output:**  \n",
    "`2`  \n",
    "**Explanation:**  \n",
    "`n = 2` since there are 2 numbers, so all numbers are in the range `[0, 2]`. `2` is the missing number in the range since it does not appear in `nums`.\n",
    "\n",
    "---\n",
    "\n",
    "### Example 3:\n",
    "**Input:**  \n",
    "`nums = [9,6,4,2,3,5,7,0,1]`  \n",
    "**Output:**  \n",
    "`8`  \n",
    "**Explanation:**  \n",
    "`n = 9` since there are 9 numbers, so all numbers are in the range `[0, 9]`. `8` is the missing number in the range since it does not appear in `nums`.\n",
    "\n",
    "---\n",
    "\n",
    "### Constraints:\n",
    "- `n == nums.length`\n",
    "- `1 <= n <= 10^4`\n",
    "- `0 <= nums[i] <= n`\n",
    "- All the numbers in `nums` are unique.\n",
    "\n",
    "---\n",
    "\n",
    "### Follow-up:\n",
    "Could you implement a solution using only O(1) extra space complexity and O(n) runtime complexity?\n"
   ]
  },
  {
   "cell_type": "code",
   "execution_count": 9,
   "metadata": {},
   "outputs": [
    {
     "data": {
      "text/plain": [
       "2"
      ]
     },
     "execution_count": 9,
     "metadata": {},
     "output_type": "execute_result"
    }
   ],
   "source": [
    "from typing import List\n",
    "class Solution:\n",
    "    def missingNumber(self, nums: List[int]) -> int:\n",
    "        nums.sort()\n",
    "        for i in range(min(nums),len(nums)+2):\n",
    "            if i not in nums:\n",
    "                return i\n",
    "# nums = [0,1]\n",
    "nums = [1]\n",
    "\n",
    "sol = Solution()\n",
    "\n",
    "sol.missingNumber(nums)"
   ]
  },
  {
   "cell_type": "code",
   "execution_count": 12,
   "metadata": {},
   "outputs": [
    {
     "data": {
      "text/plain": [
       "[1, 2, 2]"
      ]
     },
     "execution_count": 12,
     "metadata": {},
     "output_type": "execute_result"
    }
   ],
   "source": [
    "nums = [2,1,2,]\n",
    "nums.sort()\n",
    "nums"
   ]
  },
  {
   "cell_type": "markdown",
   "metadata": {},
   "source": [
    "### Extra space"
   ]
  },
  {
   "cell_type": "code",
   "execution_count": 13,
   "metadata": {},
   "outputs": [
    {
     "data": {
      "text/plain": [
       "3"
      ]
     },
     "execution_count": 13,
     "metadata": {},
     "output_type": "execute_result"
    }
   ],
   "source": [
    "n = len(nums)+1\n",
    "\n",
    "temp = [-1 for _ in range(n)]\n",
    "\n",
    "for i in nums:\n",
    "    temp[i]=i\n",
    "temp\n",
    "\n",
    "for i in range(n):\n",
    "    if temp[i]==-1:\n",
    "        print(i)\n",
    "        break"
   ]
  },
  {
   "cell_type": "code",
   "execution_count": 6,
   "metadata": {},
   "outputs": [
    {
     "data": {
      "text/plain": [
       "7"
      ]
     },
     "execution_count": 6,
     "metadata": {},
     "output_type": "execute_result"
    }
   ],
   "source": [
    "ans = 0\n",
    "for i in range(3):\n",
    "    ans ^=i\n",
    "for i in range(5):\n",
    "    ans ^=i\n",
    "ans"
   ]
  },
  {
   "cell_type": "markdown",
   "metadata": {},
   "source": [
    "### XOR\n",
    "\n",
    "5 XOR 0 = 5\n",
    "\n",
    "5 XOR 5 = 0\n",
    "\n",
    "5 XOR 1 = 4\n",
    "\n",
    "4 XOR 1 = 5"
   ]
  },
  {
   "cell_type": "code",
   "execution_count": 31,
   "metadata": {},
   "outputs": [
    {
     "name": "stdout",
     "output_type": "stream",
     "text": [
      "------------------------------------\n",
      "ans^i=1 ans=0 i=1\n",
      "------------------------------------\n",
      "------------------------------------\n",
      "ans^i=3 ans=1 i=2\n",
      "------------------------------------\n",
      "------------------------------------\n",
      "ans^i=0 ans=3 i=3\n",
      "------------------------------------\n",
      "0\n"
     ]
    },
    {
     "data": {
      "text/plain": [
       "2"
      ]
     },
     "execution_count": 31,
     "metadata": {},
     "output_type": "execute_result"
    }
   ],
   "source": [
    "class Solution:\n",
    "    def missingNumber(self, nums):\n",
    "        n = len(nums)\n",
    "        ans = 0\n",
    "        for i in range(1,n+1):\n",
    "            ans=ans^i\n",
    "        for num in nums:\n",
    "            ans = ans^ num\n",
    "        return ans\n",
    "\n",
    "nums = [3,0,1]\n",
    "s = Solution()\n",
    "s.missingNumber(nums)"
   ]
  },
  {
   "cell_type": "markdown",
   "metadata": {},
   "source": [
    "### Approach 3(Sum of all elememnts)\n",
    "\n",
    "sum of all elements in the range[0,n].\n",
    "\n",
    "sum of nums.\n",
    "\n",
    "If we subtrate both we will get the missing number\n",
    "\n",
    "![image.png](https://assets.leetcode.com/users/images/4fe083ce-7da9-4f12-8228-663704ece990_1708391316.4567716.png)"
   ]
  },
  {
   "cell_type": "code",
   "execution_count": null,
   "metadata": {},
   "outputs": [],
   "source": [
    "class Solution:\n",
    "    def missingNumber(self, nums: List[int]) -> int:\n",
    "        n = len(nums)\n",
    "        Tsum = (n * (n + 1)) // 2\n",
    "        actual_sum = sum(nums)\n",
    "        return Tsum - actual_sum\n"
   ]
  },
  {
   "cell_type": "code",
   "execution_count": 10,
   "metadata": {},
   "outputs": [
    {
     "name": "stdout",
     "output_type": "stream",
     "text": [
      "1,0,3,2,5,4,7,6,9,8,---\n",
      "\n",
      "0,1,2,3,4,5,6,7,8,9,---\n",
      "\n",
      "0,0,0,0,0,0,0,0,0,0,"
     ]
    }
   ],
   "source": [
    "for i in range(10):\n",
    "    print(i^1, end=',')\n",
    "print('---\\n')\n",
    "for i in range(10):\n",
    "    print(i^0, end=',')\n",
    "print('---\\n')\n",
    "for i in range(10):\n",
    "    print(i^i, end=',')\n"
   ]
  }
 ],
 "metadata": {
  "kernelspec": {
   "display_name": "langgraph",
   "language": "python",
   "name": "python3"
  },
  "language_info": {
   "codemirror_mode": {
    "name": "ipython",
    "version": 3
   },
   "file_extension": ".py",
   "mimetype": "text/x-python",
   "name": "python",
   "nbconvert_exporter": "python",
   "pygments_lexer": "ipython3",
   "version": "3.12.3"
  }
 },
 "nbformat": 4,
 "nbformat_minor": 2
}
