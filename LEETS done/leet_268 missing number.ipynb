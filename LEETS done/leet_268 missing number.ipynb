{
 "cells": [
  {
   "cell_type": "markdown",
   "metadata": {},
   "source": [
    "### Problem Description\n",
    "\n",
    "Given an array `nums` containing `n` distinct numbers in the range `[0, n]`, return the only number in the range that is missing from the array.\n",
    "\n",
    "---\n",
    "\n",
    "### Example 1:\n",
    "**Input:**  \n",
    "`nums = [3,0,1]`  \n",
    "**Output:**  \n",
    "`2`  \n",
    "**Explanation:**  \n",
    "`n = 3` since there are 3 numbers, so all numbers are in the range `[0, 3]`. `2` is the missing number in the range since it does not appear in `nums`.\n",
    "\n",
    "---\n",
    "\n",
    "### Example 2:\n",
    "**Input:**  \n",
    "`nums = [0,1]`  \n",
    "**Output:**  \n",
    "`2`  \n",
    "**Explanation:**  \n",
    "`n = 2` since there are 2 numbers, so all numbers are in the range `[0, 2]`. `2` is the missing number in the range since it does not appear in `nums`.\n",
    "\n",
    "---\n",
    "\n",
    "### Example 3:\n",
    "**Input:**  \n",
    "`nums = [9,6,4,2,3,5,7,0,1]`  \n",
    "**Output:**  \n",
    "`8`  \n",
    "**Explanation:**  \n",
    "`n = 9` since there are 9 numbers, so all numbers are in the range `[0, 9]`. `8` is the missing number in the range since it does not appear in `nums`.\n",
    "\n",
    "---\n",
    "\n",
    "### Constraints:\n",
    "- `n == nums.length`\n",
    "- `1 <= n <= 10^4`\n",
    "- `0 <= nums[i] <= n`\n",
    "- All the numbers in `nums` are unique.\n",
    "\n",
    "---\n",
    "\n",
    "### Follow-up:\n",
    "Could you implement a solution using only O(1) extra space complexity and O(n) runtime complexity?\n"
   ]
  },
  {
   "cell_type": "code",
   "execution_count": 9,
   "metadata": {},
   "outputs": [
    {
     "data": {
      "text/plain": [
       "2"
      ]
     },
     "execution_count": 9,
     "metadata": {},
     "output_type": "execute_result"
    }
   ],
   "source": [
    "from typing import List\n",
    "class Solution:\n",
    "    def missingNumber(self, nums: List[int]) -> int:\n",
    "        nums.sort()\n",
    "        for i in range(min(nums),len(nums)+2):\n",
    "            if i not in nums:\n",
    "                return i\n",
    "# nums = [0,1]\n",
    "nums = [1]\n",
    "\n",
    "sol = Solution()\n",
    "\n",
    "sol.missingNumber(nums)"
   ]
  },
  {
   "cell_type": "code",
   "execution_count": 12,
   "metadata": {},
   "outputs": [
    {
     "data": {
      "text/plain": [
       "[1, 2, 2]"
      ]
     },
     "execution_count": 12,
     "metadata": {},
     "output_type": "execute_result"
    }
   ],
   "source": [
    "nums = [2,1,2,]\n",
    "nums.sort()\n",
    "nums"
   ]
  },
  {
   "cell_type": "code",
   "execution_count": 13,
   "metadata": {},
   "outputs": [
    {
     "data": {
      "text/plain": [
       "3"
      ]
     },
     "execution_count": 13,
     "metadata": {},
     "output_type": "execute_result"
    }
   ],
   "source": []
  }
 ],
 "metadata": {
  "kernelspec": {
   "display_name": "langgraph",
   "language": "python",
   "name": "python3"
  },
  "language_info": {
   "codemirror_mode": {
    "name": "ipython",
    "version": 3
   },
   "file_extension": ".py",
   "mimetype": "text/x-python",
   "name": "python",
   "nbconvert_exporter": "python",
   "pygments_lexer": "ipython3",
   "version": "3.12.3"
  }
 },
 "nbformat": 4,
 "nbformat_minor": 2
}
