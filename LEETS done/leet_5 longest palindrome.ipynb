{
 "cells": [
  {
   "cell_type": "code",
   "execution_count": 20,
   "metadata": {},
   "outputs": [
    {
     "data": {
      "text/plain": [
       "'bb'"
      ]
     },
     "execution_count": 20,
     "metadata": {},
     "output_type": "execute_result"
    }
   ],
   "source": [
    "class Solution:\n",
    "    def longestPalindrome(self, s: str) -> str:\n",
    "        def isPalindrome(st):\n",
    "            return st==''.join([d for d in st][::-1])\n",
    "        if isPalindrome(s):\n",
    "            return s\n",
    "        left = 0\n",
    "        right = len(s)-1\n",
    "        k = 1\n",
    "        res = s[0]\n",
    "        while left<len(s):\n",
    "            print('------------------------------------');\n",
    "            print(f'{left=} {right=} {k=} {s[left:k]}');\n",
    "            print('------------------------------------');\n",
    "            if isPalindrome(s[left:k]) and len(s[left:k])>len(res):\n",
    "                res = s[left:k]\n",
    "            if k<right:\n",
    "                if isPalindrome(s[k:right]) and len(s[k:right])>len(res):\n",
    "                    res = s[k:right]\n",
    "            print('------------------------------------');\n",
    "            print(f'{s=} {res=}');\n",
    "            print('------------------------------------');\n",
    "            k+=1\n",
    "            left+=1\n",
    "            right-=1\n",
    "        return res\n",
    "s  ='bb' # bb\n",
    "s  ='abb' # bb\n",
    "sol = Solution()\n",
    "sol.longestPalindrome(s)"
   ]
  },
  {
   "cell_type": "code",
   "execution_count": 50,
   "metadata": {},
   "outputs": [
    {
     "name": "stdout",
     "output_type": "stream",
     "text": [
      "------------------------------------\n",
      "s[left:k]='a' k=1\n",
      "------------------------------------\n",
      "------------------------------------\n",
      "s[left:k]='ab' k=2\n",
      "------------------------------------\n",
      "------------------------------------\n",
      "s[left:k]='abb' k=3\n",
      "------------------------------------\n"
     ]
    },
    {
     "data": {
      "text/plain": [
       "'a'"
      ]
     },
     "execution_count": 50,
     "metadata": {},
     "output_type": "execute_result"
    }
   ],
   "source": [
    "class Solution:\n",
    "    def longestPalindrome(self, s: str) -> str:\n",
    "        def isPalindrome(st):\n",
    "            return st==''.join([d for d in st][::-1])\n",
    "        if isPalindrome(s):\n",
    "            return s\n",
    "        left = 0\n",
    "        right = len(s)-1\n",
    "        k = 1\n",
    "        res = s[0]\n",
    "        while k<=len(s):\n",
    "            print('------------------------------------');\n",
    "            print(f'{s[left:k]=} {k=}');\n",
    "            print('------------------------------------');\n",
    "            if isPalindrome(s[left:k]) and len(s[left:k])>len(res):\n",
    "                res = s[left:k]\n",
    "                left-=1\n",
    "                k+=1\n",
    "                right-=1\n",
    "            if k<right:\n",
    "                if isPalindrome(s[k:right]) and len(s[k:right])>len(res):\n",
    "                    res = s[k:right]\n",
    "                    right+=1\n",
    "                    k+=1\n",
    "                    left+=1\n",
    "            k+=1\n",
    "        return res\n",
    "s  ='bbc' # bb\n",
    "s  ='abb' # bb\n",
    "sol = Solution()\n",
    "sol.longestPalindrome(s)"
   ]
  },
  {
   "cell_type": "markdown",
   "metadata": {},
   "source": [
    "Soln:\n"
   ]
  },
  {
   "cell_type": "code",
   "execution_count": 60,
   "metadata": {},
   "outputs": [
    {
     "data": {
      "text/plain": [
       "'bb'"
      ]
     },
     "execution_count": 60,
     "metadata": {},
     "output_type": "execute_result"
    }
   ],
   "source": [
    "class Solution:\n",
    "    def longestPalindrome(self, s: str) -> str:\n",
    "        def isPalindrome(st):\n",
    "            return st==st[::-1]\n",
    "        if isPalindrome(s):\n",
    "            return s\n",
    "        res = \"\"\n",
    "        resLen = 0\n",
    "        \n",
    "        for i in range(len(s)):\n",
    "            # odd length\n",
    "            l,r = i,i\n",
    "            while l>=0 and r< len(s) and s[l] == s[r]:\n",
    "                if (r-l+1)>resLen:\n",
    "                    res = s[l:r+1]\n",
    "                    resLen = r - l+1\n",
    "                l-=1\n",
    "                r+=1\n",
    "            # even length\n",
    "            l,r = i,i+1\n",
    "            while l>=0 and r < len(s) and s[l] == s[r]:\n",
    "                if (r-l+1)>resLen:\n",
    "                    res = s[l:r+1]\n",
    "                    resLen = r - l+1\n",
    "                l-=1\n",
    "                r+=1\n",
    "        return res\n",
    "            \n",
    "\n",
    "    \n",
    "s  ='bbc' # bb\n",
    "s  ='abb' # bb\n",
    "sol = Solution()\n",
    "sol.longestPalindrome(s)\n"
   ]
  }
 ],
 "metadata": {
  "kernelspec": {
   "display_name": "ai",
   "language": "python",
   "name": "python3"
  },
  "language_info": {
   "codemirror_mode": {
    "name": "ipython",
    "version": 3
   },
   "file_extension": ".py",
   "mimetype": "text/x-python",
   "name": "python",
   "nbconvert_exporter": "python",
   "pygments_lexer": "ipython3",
   "version": "3.10.14"
  }
 },
 "nbformat": 4,
 "nbformat_minor": 2
}
