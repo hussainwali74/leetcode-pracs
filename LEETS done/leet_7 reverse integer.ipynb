{
 "cells": [
  {
   "cell_type": "code",
   "execution_count": 11,
   "metadata": {},
   "outputs": [
    {
     "data": {
      "text/plain": [
       "321"
      ]
     },
     "execution_count": 11,
     "metadata": {},
     "output_type": "execute_result"
    }
   ],
   "source": [
    "class Solution:\n",
    "    def reverse(self, x: int) -> int:\n",
    "        if x ==0:\n",
    "            return 0\n",
    "        if x>0:\n",
    "            rev = int(''.join([y for y in str(x)][::-1]))\n",
    "        else:\n",
    "            rev = int(''.join([y for y in str(x)[1:]][::-1]))\n",
    "            rev = rev*-1\n",
    "        op = 2**31\n",
    "        j_max = op - 1\n",
    "        op = op*-1\n",
    "        if op > rev or rev > j_max:\n",
    "            return 0\n",
    "        return rev\n",
    "# x =1534236469 \n",
    "x =123 \n",
    "sol = Solution()\n",
    "sol.reverse(x)\n"
   ]
  }
 ],
 "metadata": {
  "kernelspec": {
   "display_name": "langgraph",
   "language": "python",
   "name": "python3"
  },
  "language_info": {
   "codemirror_mode": {
    "name": "ipython",
    "version": 3
   },
   "file_extension": ".py",
   "mimetype": "text/x-python",
   "name": "python",
   "nbconvert_exporter": "python",
   "pygments_lexer": "ipython3",
   "version": "3.12.3"
  }
 },
 "nbformat": 4,
 "nbformat_minor": 2
}
