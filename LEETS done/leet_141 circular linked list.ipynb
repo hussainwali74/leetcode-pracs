{
 "cells": [
  {
   "cell_type": "code",
   "execution_count": 6,
   "metadata": {},
   "outputs": [
    {
     "data": {
      "text/plain": [
       "False"
      ]
     },
     "execution_count": 6,
     "metadata": {},
     "output_type": "execute_result"
    }
   ],
   "source": [
    "# Definition for singly-linked list.\n",
    "class ListNode:\n",
    "    def __init__(self, x):\n",
    "        self.val = x\n",
    "        self.next = None\n",
    "from typing import Optional\n",
    "class Solution:\n",
    "    def hasCycle(self, head: Optional[ListNode]) -> bool:\n",
    "        slow = head\n",
    "        fast= head\n",
    "        while slow.next:\n",
    "            slow = slow.next\n",
    "            if slow:\n",
    "                fast = slow.next\n",
    "                if fast and fast == slow  :\n",
    "                    return True\n",
    "            else:\n",
    "                return False\n",
    "        return False\n",
    "    \n",
    "soln = Solution()\n",
    "ks = [-21,10,17,8,4,26,5,35,33,-7,-16,27,-12,6,29,-12,5,9,20,14,14,2,13,-24,21,23,-21,5]\n",
    "h1=head = ListNode(ks[0])\n",
    "for k in ks[1:]:\n",
    "    head.next = ListNode(k)\n",
    "    head = head.next\n",
    "\n",
    "soln.hasCycle(h1)\n"
   ]
  },
  {
   "cell_type": "code",
   "execution_count": 5,
   "metadata": {},
   "outputs": [
    {
     "data": {
      "text/plain": [
       "False"
      ]
     },
     "execution_count": 5,
     "metadata": {},
     "output_type": "execute_result"
    }
   ],
   "source": [
    "# Definition for singly-linked list.\n",
    "class ListNode:\n",
    "    def __init__(self, x):\n",
    "        self.val = x\n",
    "        self.next = None\n",
    "from typing import Optional\n",
    "class Solution:\n",
    "    def hasCycle(self, head: Optional[ListNode]) -> bool:\n",
    "        s = set()\n",
    "        s.add(head)\n",
    "        slow = head\n",
    "        fast= head\n",
    "        while slow:\n",
    "            slow = slow.next\n",
    "            if slow in s:\n",
    "                return True\n",
    "            else:\n",
    "                s.add(slow)\n",
    "        return False\n",
    "    \n",
    "soln = Solution()\n",
    "# ks = [-21,10,17,8,4,26,5,35,33,-7,-16,27,-12,6,29,-12,5,9,20,14,14,2,13,-24,21,23,-21,5]\n",
    "ks = [3,2,0,-4]\n",
    "h1=head = ListNode(ks[0])\n",
    "for k in ks[1:]:\n",
    "    head.next = ListNode(k)\n",
    "    head = head.next\n",
    "\n",
    "soln.hasCycle(h1)\n"
   ]
  },
  {
   "cell_type": "code",
   "execution_count": null,
   "metadata": {},
   "outputs": [],
   "source": [
    "# Definition for singly-linked list.\n",
    "class ListNode:\n",
    "    def __init__(self, x):\n",
    "        self.val = x\n",
    "        self.next = None\n",
    "from typing import Optional\n",
    "class Solution:\n",
    "    def hasCycle(self, head: Optional[ListNode]) -> bool:\n",
    "        slow = None\n",
    "        fast= None\n",
    "        while slow:\n",
    "            slow = slow.next\n",
    "            if slow in s:\n",
    "                return True\n",
    "            else:\n",
    "                s.add(slow)\n",
    "        return False\n",
    "    \n",
    "soln = Solution()\n",
    "# ks = [-21,10,17,8,4,26,5,35,33,-7,-16,27,-12,6,29,-12,5,9,20,14,14,2,13,-24,21,23,-21,5]\n",
    "ks = [3,2,0,-4]\n",
    "h1=head = ListNode(ks[0])\n",
    "for k in ks[1:]:\n",
    "    head.next = ListNode(k)\n",
    "    head = head.next\n",
    "\n",
    "soln.hasCycle(h1)\n"
   ]
  },
  {
   "cell_type": "markdown",
   "metadata": {},
   "source": [
    "optimal"
   ]
  },
  {
   "cell_type": "code",
   "execution_count": 7,
   "metadata": {},
   "outputs": [],
   "source": [
    "class Solution:\n",
    "    def hasCycle(self, head: Optional[ListNode]) -> bool:\n",
    "        dummy = ListNode()\n",
    "        dummy.next = head\n",
    "        flow = slow= dummy\n",
    "\n",
    "        while fast and fast.next:\n",
    "            fast = fast.next.next\n",
    "            slow = slow.next\n",
    "            if slow is fast:\n",
    "                return True\n",
    "\n",
    "        return False"
   ]
  }
 ],
 "metadata": {
  "kernelspec": {
   "display_name": "langgraph",
   "language": "python",
   "name": "python3"
  },
  "language_info": {
   "codemirror_mode": {
    "name": "ipython",
    "version": 3
   },
   "file_extension": ".py",
   "mimetype": "text/x-python",
   "name": "python",
   "nbconvert_exporter": "python",
   "pygments_lexer": "ipython3",
   "version": "3.12.3"
  }
 },
 "nbformat": 4,
 "nbformat_minor": 2
}
