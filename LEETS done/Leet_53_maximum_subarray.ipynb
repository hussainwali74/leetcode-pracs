{
 "cells": [
  {
   "cell_type": "code",
   "execution_count": 30,
   "metadata": {},
   "outputs": [
    {
     "data": {
      "text/plain": [
       "6"
      ]
     },
     "execution_count": 30,
     "metadata": {},
     "output_type": "execute_result"
    }
   ],
   "source": [
    "def maxSubArray( nums) -> int:\n",
    "    if len(nums)==1:\n",
    "        return nums[0]\n",
    "    l= len(nums)\n",
    "    max_sum = sum(nums)\n",
    "    for i  in range(1,l):\n",
    "        left = 0\n",
    "        right = i\n",
    "        for j in range(0,l):\n",
    "            if right <=l and left <=l:\n",
    "                in_sum = sum(nums[left:right])\n",
    "                left +=1\n",
    "                right+=1\n",
    "                if in_sum>max_sum:\n",
    "                    max_sum=in_sum\n",
    "    return max_sum\n",
    "nums = [-2,1,-3,4,-1,2,1,-5,4]\n",
    "maxSubArray(nums)"
   ]
  },
  {
   "cell_type": "code",
   "execution_count": 16,
   "metadata": {},
   "outputs": [
    {
     "data": {
      "text/plain": [
       "[]"
      ]
     },
     "execution_count": 16,
     "metadata": {},
     "output_type": "execute_result"
    }
   ],
   "source": [
    "def maxSubArray( nums) -> int:\n",
    "    if len(nums)==1:\n",
    "        return nums[0]\n",
    "    l= len(nums)\n",
    "    prev = max_sum = nums[0]\n",
    "    \n",
    "    for i  in range(1,l):\n",
    "        if nums[i] >max_sum:\n",
    "            max_sum = nums[i]\n",
    "        elif 0 <nums[i] :\n",
    "            max_sum+=nums[i]\n",
    "        prev=  nums[i]\n",
    "                \n",
    "    return max_sum\n",
    "nums = [-2,1,-3,4,-1,2,1,-5,4]\n",
    "maxSubArray(nums)"
   ]
  },
  {
   "cell_type": "code",
   "execution_count": 35,
   "metadata": {},
   "outputs": [
    {
     "name": "stdout",
     "output_type": "stream",
     "text": [
      "-------------------------------------------------------------------\n",
      "n=-2,curSum=-2,\n",
      " maxSum=-2,\n",
      "-------------------------------------------------------------------\n",
      "-------------------------------------------------------------------\n",
      "n=1,curSum=1,\n",
      " maxSum=1,\n",
      "-------------------------------------------------------------------\n",
      "-------------------------------------------------------------------\n",
      "n=-3,curSum=-2,\n",
      " maxSum=1,\n",
      "-------------------------------------------------------------------\n",
      "-------------------------------------------------------------------\n",
      "n=4,curSum=4,\n",
      " maxSum=4,\n",
      "-------------------------------------------------------------------\n",
      "-------------------------------------------------------------------\n",
      "n=-1,curSum=3,\n",
      " maxSum=4,\n",
      "-------------------------------------------------------------------\n",
      "-------------------------------------------------------------------\n",
      "n=2,curSum=5,\n",
      " maxSum=5,\n",
      "-------------------------------------------------------------------\n",
      "-------------------------------------------------------------------\n",
      "n=1,curSum=6,\n",
      " maxSum=6,\n",
      "-------------------------------------------------------------------\n",
      "-------------------------------------------------------------------\n",
      "n=-5,curSum=1,\n",
      " maxSum=6,\n",
      "-------------------------------------------------------------------\n",
      "-------------------------------------------------------------------\n",
      "n=4,curSum=5,\n",
      " maxSum=6,\n",
      "-------------------------------------------------------------------\n"
     ]
    },
    {
     "data": {
      "text/plain": [
       "6"
      ]
     },
     "execution_count": 35,
     "metadata": {},
     "output_type": "execute_result"
    }
   ],
   "source": [
    "def maxSubArray( nums) -> int:\n",
    "    maxSum = nums[0]\n",
    "    curSum = 0 \n",
    "    for n in nums:\n",
    "        if curSum <0:\n",
    "            curSum = 0\n",
    "        curSum += n\n",
    "        maxSum = max(maxSum, curSum)\n",
    "    return maxSum\n",
    "                \n",
    "nums = [-2,1,-3,4,-1,2,1,-5,4]\n",
    "maxSubArray(nums)"
   ]
  },
  {
   "cell_type": "code",
   "execution_count": 22,
   "metadata": {},
   "outputs": [
    {
     "name": "stdout",
     "output_type": "stream",
     "text": [
      "------------------------------------\n",
      "n=-2 cur_sum=-2 max_sum=-2\n",
      "------------------------------------\n",
      "------------------------------------\n",
      "n=1 cur_sum=1 max_sum=1\n",
      "------------------------------------\n",
      "------------------------------------\n",
      "n=-3 cur_sum=-2 max_sum=1\n",
      "------------------------------------\n",
      "------------------------------------\n",
      "n=4 cur_sum=4 max_sum=4\n",
      "------------------------------------\n",
      "------------------------------------\n",
      "n=-1 cur_sum=3 max_sum=4\n",
      "------------------------------------\n",
      "------------------------------------\n",
      "n=2 cur_sum=5 max_sum=5\n",
      "------------------------------------\n",
      "------------------------------------\n",
      "n=1 cur_sum=6 max_sum=6\n",
      "------------------------------------\n",
      "------------------------------------\n",
      "n=-5 cur_sum=1 max_sum=6\n",
      "------------------------------------\n",
      "------------------------------------\n",
      "n=4 cur_sum=5 max_sum=6\n",
      "------------------------------------\n"
     ]
    },
    {
     "data": {
      "text/plain": [
       "6"
      ]
     },
     "execution_count": 22,
     "metadata": {},
     "output_type": "execute_result"
    }
   ],
   "source": [
    "arr = [-2,1,-3,4,-1,2,1,-5,4]\n",
    "\n",
    "cur_sum= 0\n",
    "max_sum =arr[0]\n",
    "\n",
    "for n in arr:\n",
    "    if cur_sum <0:\n",
    "        cur_sum =0\n",
    "        \n",
    "    cur_sum += n\n",
    "    max_sum = max(max_sum, cur_sum)\n",
    "    print('------------------------------------');\n",
    "    print(f'{n=} {cur_sum=} {max_sum=}');\n",
    "    print('------------------------------------');\n",
    "max_sum"
   ]
  }
 ],
 "metadata": {
  "kernelspec": {
   "display_name": "ai",
   "language": "python",
   "name": "python3"
  },
  "language_info": {
   "codemirror_mode": {
    "name": "ipython",
    "version": 3
   },
   "file_extension": ".py",
   "mimetype": "text/x-python",
   "name": "python",
   "nbconvert_exporter": "python",
   "pygments_lexer": "ipython3",
   "version": "3.12.3"
  }
 },
 "nbformat": 4,
 "nbformat_minor": 2
}
