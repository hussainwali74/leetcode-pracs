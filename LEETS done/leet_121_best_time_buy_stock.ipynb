{
 "cells": [
  {
   "cell_type": "markdown",
   "metadata": {},
   "source": [
    "### max time limit exceeded"
   ]
  },
  {
   "cell_type": "code",
   "execution_count": 9,
   "metadata": {},
   "outputs": [
    {
     "data": {
      "text/plain": [
       "0"
      ]
     },
     "execution_count": 9,
     "metadata": {},
     "output_type": "execute_result"
    }
   ],
   "source": [
    "from typing import List\n",
    "class Solution:\n",
    "    def maxProfit(self, prices: List[int]) -> int:\n",
    "        d = {}\n",
    "        max_profit = 0\n",
    "        for i, price in enumerate(prices):\n",
    "            for j in range(i+1, len(prices)):\n",
    "                d[i] = d.get(i,0)\n",
    "                profit = prices[j]-price\n",
    "                if profit>max_profit:\n",
    "                    max_profit = profit\n",
    "                if d[i]<profit:\n",
    "                    d[i] = profit\n",
    "        return max_profit\n",
    "prices = [7,1,5,3,6,4]\n",
    "prices = [7,6,4,3,1]\n",
    "s = Solution()\n",
    "s.maxProfit(prices)"
   ]
  },
  {
   "cell_type": "markdown",
   "metadata": {},
   "source": [
    "### new x"
   ]
  },
  {
   "cell_type": "markdown",
   "metadata": {},
   "source": [
    "---"
   ]
  },
  {
   "cell_type": "code",
   "execution_count": 45,
   "metadata": {},
   "outputs": [
    {
     "name": "stdout",
     "output_type": "stream",
     "text": [
      "------------------------------------\n",
      "min_index=0 max_index=2 prices=[1, 2, 4]\n",
      "------------------------------------\n"
     ]
    },
    {
     "data": {
      "text/plain": [
       "3"
      ]
     },
     "execution_count": 45,
     "metadata": {},
     "output_type": "execute_result"
    }
   ],
   "source": [
    "class Solution:\n",
    "    def maxProfit(self, prices: List[int]) -> int:\n",
    "        if len(prices)>1:\n",
    "            prices.sort()\n",
    "            min_index = prices.index(min(prices))\n",
    "            max_index = prices.index(max(prices))\n",
    "            print('------------------------------------');\n",
    "            print(f'{min_index=} {max_index=} {prices=}');\n",
    "            print('------------------------------------');\n",
    "            while min_index>max_index and len(prices)>0:\n",
    "                prices = prices[min_index:]\n",
    "                print('------------------------------------');\n",
    "                print(f'{prices=}');\n",
    "                print('------------------------------------');\n",
    "                min_index = prices.index(min(prices))\n",
    "                max_index = prices.index(max(prices))\n",
    "            if max_index > min_index:\n",
    "                return prices[max_index] - prices[min_index]\n",
    "        return 0        \n",
    "\n",
    "prices = [5,4,3,2,1]\n",
    "# prices = [1,2,3,4,5]\n",
    "prices = [2,4,1]\n",
    "# prices = [1,1,1]\n",
    "# prices = [1,1]\n",
    "# prices = [1]\n",
    "# prices = []\n",
    "# prices = [7,1,5,3,6,4]\n",
    "s = Solution()\n",
    "s.maxProfit(prices)"
   ]
  },
  {
   "cell_type": "code",
   "execution_count": 43,
   "metadata": {},
   "outputs": [
    {
     "data": {
      "text/plain": [
       "[1, 2, 4]"
      ]
     },
     "execution_count": 43,
     "metadata": {},
     "output_type": "execute_result"
    }
   ],
   "source": [
    "prices.sort()\n",
    "prices"
   ]
  },
  {
   "cell_type": "markdown",
   "metadata": {},
   "source": [
    "### new"
   ]
  },
  {
   "cell_type": "code",
   "execution_count": 95,
   "metadata": {},
   "outputs": [
    {
     "data": {
      "text/plain": [
       "5"
      ]
     },
     "execution_count": 95,
     "metadata": {},
     "output_type": "execute_result"
    }
   ],
   "source": [
    "class Solution:\n",
    "    def maxProfit(self, prices: List[int]) -> int:\n",
    "        profit = 0\n",
    "        l = len(prices)\n",
    "        if l>1:\n",
    "            left = 0\n",
    "            right = 1\n",
    "            i = 0\n",
    "            while(left<l and right < l ):\n",
    "                if prices[left]<prices[right]:\n",
    "                    dif = prices[right] - prices[left]\n",
    "                    if dif>profit:\n",
    "                        profit = dif\n",
    "                        \n",
    "                if prices[i+1] <prices[left]:\n",
    "                    left=i+1\n",
    "                right+=1\n",
    "                i+=1\n",
    "        return profit\n",
    "prices = [7,1,5,3,6,4]\n",
    "# prices = [2,4,1]\n",
    "# prices = [1,1]\n",
    "# prices = [1]\n",
    "# prices = []\n",
    "# prices = [1,2,3,4,5,6,7]\n",
    "# prices = [7,6,5,4,3,2,11]\n",
    "# prices = [1,2,1,0,1,2]\n",
    "s = Solution()\n",
    "s.maxProfit(prices)"
   ]
  },
  {
   "cell_type": "code",
   "execution_count": 101,
   "metadata": {},
   "outputs": [
    {
     "data": {
      "text/plain": [
       "2"
      ]
     },
     "execution_count": 101,
     "metadata": {},
     "output_type": "execute_result"
    }
   ],
   "source": [
    "class Solution:\n",
    "    def maxProfit(self, prices: List[int]) -> int:\n",
    "        profit = 0\n",
    "        l = len(prices)\n",
    "        if l>1:\n",
    "            left = 0\n",
    "            right = 1\n",
    "            i = 0\n",
    "            while(left<l and right < l ):\n",
    "                if prices[left]<prices[right]:\n",
    "                    dif = prices[right] - prices[left]\n",
    "                    if dif>profit:\n",
    "                        profit = dif\n",
    "                    \n",
    "                else:\n",
    "                    left = right\n",
    "                right+=1\n",
    "                    \n",
    "                i+=1\n",
    "        return profit\n",
    "prices = [7,1,5,3,6,4]\n",
    "# prices = [2,4,1]\n",
    "# prices = [1,1]\n",
    "# prices = [1]\n",
    "# prices = []\n",
    "# prices = [1,2,3,4,5,6,7]\n",
    "# prices = [7,6,5,4,3,2,11]\n",
    "prices = [1,2,1,0,1,2]\n",
    "s = Solution()\n",
    "s.maxProfit(prices)"
   ]
  },
  {
   "cell_type": "code",
   "execution_count": 103,
   "metadata": {},
   "outputs": [
    {
     "data": {
      "text/plain": [
       "(0, 1)"
      ]
     },
     "execution_count": 103,
     "metadata": {},
     "output_type": "execute_result"
    }
   ],
   "source": [
    "left,right = 0,1\n",
    "left,right"
   ]
  },
  {
   "cell_type": "markdown",
   "metadata": {},
   "source": [
    "### AAWesome soln"
   ]
  },
  {
   "cell_type": "code",
   "execution_count": 94,
   "metadata": {},
   "outputs": [
    {
     "data": {
      "text/plain": [
       "5"
      ]
     },
     "execution_count": 94,
     "metadata": {},
     "output_type": "execute_result"
    }
   ],
   "source": [
    "class Solution:\n",
    "    def maxProfit(self, prices: List[int]) -> int:\n",
    "        min_price = float('inf')\n",
    "        max_profit = 0\n",
    "        \n",
    "        for price in prices:\n",
    "            if price < min_price:\n",
    "                min_price = price\n",
    "            elif price - min_price > max_profit:\n",
    "                max_profit = price - min_price\n",
    "        \n",
    "        return max_profit\n",
    "prices = [7,1,5,3,6,4]\n",
    "\n",
    "s = Solution()\n",
    "s.maxProfit(prices)"
   ]
  },
  {
   "cell_type": "code",
   "execution_count": 91,
   "metadata": {},
   "outputs": [
    {
     "data": {
      "text/plain": [
       "True"
      ]
     },
     "execution_count": 91,
     "metadata": {},
     "output_type": "execute_result"
    }
   ],
   "source": [
    "m = float('inf')\n",
    "\n",
    "7<m"
   ]
  }
 ],
 "metadata": {
  "kernelspec": {
   "display_name": "langgraph",
   "language": "python",
   "name": "python3"
  },
  "language_info": {
   "codemirror_mode": {
    "name": "ipython",
    "version": 3
   },
   "file_extension": ".py",
   "mimetype": "text/x-python",
   "name": "python",
   "nbconvert_exporter": "python",
   "pygments_lexer": "ipython3",
   "version": "3.12.3"
  }
 },
 "nbformat": 4,
 "nbformat_minor": 2
}
