{
 "cells": [
  {
   "cell_type": "markdown",
   "metadata": {},
   "source": [
    "## 70. Climbing stairs\n",
    "\n",
    "You are climbing a staircase. It takes n steps to reach the top.\n",
    "\n",
    "\n",
    "Each time you can either climb 1 or 2 steps. In how many distinct ways can you climb to the top?\n",
    "\n",
    " \n",
    "\n",
    "Example 1:\n",
    "\n",
    "    Input: n = 2\n",
    "\n",
    "    Output: 2\n",
    "\n",
    "    Explanation: There are two ways to climb to the top.\n",
    "\n",
    "    1. 1 step + 1 step\n",
    "\n",
    "    2. 2 steps\n",
    "\n",
    "Example 2:\n",
    "\n",
    "    Input: n = 3\n",
    "\n",
    "    Output: 3\n",
    "\n",
    "    Explanation: There are three ways to climb to the top.\n",
    "\n",
    "    1. 1 step + 1 step + 1 step\n",
    "\n",
    "    2. 1 step + 2 steps\n",
    "\n",
    "    3. 2 steps + 1 step"
   ]
  },
  {
   "cell_type": "markdown",
   "metadata": {},
   "source": [
    "my solution\n"
   ]
  },
  {
   "cell_type": "code",
   "execution_count": 4,
   "metadata": {},
   "outputs": [],
   "source": [
    "class Solution:\n",
    "    d = {}\n",
    "    def climbStairs(self, n: int) -> int:\n",
    "        if n==0 or n==1:\n",
    "            return 1\n",
    "        if n in self.d:\n",
    "            return self.d[n]\n",
    "        self.d[n]= self.climbStairs(n-1)+self.climbStairs(n-2)\n",
    "        return self.d[n]"
   ]
  },
  {
   "cell_type": "code",
   "execution_count": null,
   "metadata": {},
   "outputs": [],
   "source": [
    "def fun(n):\n",
    "    if n<0:\n",
    "        return 0\n",
    "    if n == 0:\n",
    "        return 1\n",
    "    return fun(n-1)+fun(n-2)\n",
    "fun(5)"
   ]
  },
  {
   "cell_type": "markdown",
   "metadata": {},
   "source": [
    "## soln"
   ]
  },
  {
   "cell_type": "markdown",
   "metadata": {},
   "source": [
    "fib series\n",
    "\n",
    "bottom up dp\n",
    "\n",
    "two variables shifted n-1 times"
   ]
  },
  {
   "cell_type": "code",
   "execution_count": 1,
   "metadata": {},
   "outputs": [],
   "source": [
    "class Solution:\n",
    "    d = {}\n",
    "    def climbStairs(self, n: int) -> int:\n",
    "        one,two = 1,1        \n",
    "        for i in range(n-1):\n",
    "            temp = one\n",
    "            one = one+two\n",
    "            two = temp\n",
    "        return one\n"
   ]
  },
  {
   "cell_type": "code",
   "execution_count": 7,
   "metadata": {},
   "outputs": [
    {
     "data": {
      "text/plain": [
       "3"
      ]
     },
     "execution_count": 7,
     "metadata": {},
     "output_type": "execute_result"
    }
   ],
   "source": [
    "d = {}\n",
    "i=0\n",
    "def sol(n):\n",
    "    if n ==0 or n==1:\n",
    "        return 1\n",
    "    if n in d:\n",
    "        return d[n]    \n",
    "    return sol(n-1)+sol(n-2)\n",
    "\n",
    "sol(3)"
   ]
  },
  {
   "cell_type": "code",
   "execution_count": 5,
   "metadata": {},
   "outputs": [
    {
     "data": {
      "text/plain": [
       "3"
      ]
     },
     "execution_count": 5,
     "metadata": {},
     "output_type": "execute_result"
    }
   ],
   "source": [
    "s = Solution()\n",
    "s.climbStairs(3)"
   ]
  },
  {
   "cell_type": "code",
   "execution_count": 4,
   "metadata": {},
   "outputs": [
    {
     "name": "stdout",
     "output_type": "stream",
     "text": [
      "5\n"
     ]
    }
   ],
   "source": [
    "def step(n):\n",
    "    if n==1 or n==0:\n",
    "        return 1\n",
    "    return step(n-1)+step(n-2)\n",
    "print(step(4))"
   ]
  },
  {
   "cell_type": "code",
   "execution_count": 6,
   "metadata": {},
   "outputs": [
    {
     "data": {
      "text/plain": [
       "5"
      ]
     },
     "execution_count": 6,
     "metadata": {},
     "output_type": "execute_result"
    }
   ],
   "source": [
    "n = 4\n",
    "\n",
    "prev = 1\n",
    "curr = 1\n",
    "\n",
    "for i in range(n-1):\n",
    "    prev, curr = curr, prev+curr\n",
    "\n",
    "curr"
   ]
  }
 ],
 "metadata": {
  "kernelspec": {
   "display_name": "base",
   "language": "python",
   "name": "python3"
  },
  "language_info": {
   "codemirror_mode": {
    "name": "ipython",
    "version": 3
   },
   "file_extension": ".py",
   "mimetype": "text/x-python",
   "name": "python",
   "nbconvert_exporter": "python",
   "pygments_lexer": "ipython3",
   "version": "3.12.7"
  }
 },
 "nbformat": 4,
 "nbformat_minor": 2
}
