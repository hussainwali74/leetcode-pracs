{
 "cells": [
  {
   "cell_type": "markdown",
   "metadata": {},
   "source": [
    "## 70. Climbing stairs\n",
    "\n",
    "You are climbing a staircase. It takes n steps to reach the top.\n",
    "\n",
    "\n",
    "Each time you can either climb 1 or 2 steps. In how many distinct ways can you climb to the top?\n",
    "\n",
    " \n",
    "\n",
    "Example 1:\n",
    "\n",
    "    Input: n = 2\n",
    "\n",
    "    Output: 2\n",
    "\n",
    "    Explanation: There are two ways to climb to the top.\n",
    "\n",
    "    1. 1 step + 1 step\n",
    "\n",
    "    2. 2 steps\n",
    "\n",
    "Example 2:\n",
    "\n",
    "    Input: n = 3\n",
    "\n",
    "    Output: 3\n",
    "\n",
    "    Explanation: There are three ways to climb to the top.\n",
    "\n",
    "    1. 1 step + 1 step + 1 step\n",
    "\n",
    "    2. 1 step + 2 steps\n",
    "\n",
    "    3. 2 steps + 1 step"
   ]
  },
  {
   "cell_type": "markdown",
   "metadata": {},
   "source": [
    "my solution\n"
   ]
  },
  {
   "cell_type": "code",
   "execution_count": null,
   "metadata": {},
   "outputs": [],
   "source": [
    "class Solution:\n",
    "    d = {}\n",
    "    def climbStairs(self, n: int) -> int:\n",
    "        if n==0 or n==1:\n",
    "            return 1\n",
    "        if n in self.d:\n",
    "            return self.d[n]\n",
    "        self.d[n]= self.climbStairs(n-1)+self.climbStairs(n-2)\n",
    "        return self.d[n]"
   ]
  },
  {
   "cell_type": "code",
   "execution_count": null,
   "metadata": {},
   "outputs": [],
   "source": [
    "def fun(n):\n",
    "    if n<0:\n",
    "        return 0\n",
    "    if n == 0:\n",
    "        return 1\n",
    "    return fun(n-1)+fun(n-2)\n",
    "fun(5)"
   ]
  }
 ],
 "metadata": {
  "language_info": {
   "name": "python"
  }
 },
 "nbformat": 4,
 "nbformat_minor": 2
}
