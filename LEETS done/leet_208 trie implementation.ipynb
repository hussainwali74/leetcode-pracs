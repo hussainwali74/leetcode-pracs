{
 "cells": [
  {
   "cell_type": "code",
   "execution_count": 6,
   "metadata": {},
   "outputs": [],
   "source": [
    "class Trie:\n",
    "    def __init__(self):\n",
    "        self.trie = {}\n",
    "    \n",
    "    def insert(self, word):\n",
    "        d = self.trie\n",
    "        for c in word:\n",
    "            if c not in d:\n",
    "                d[c] = {}\n",
    "            d = d[c]\n",
    "        d['.'] = '.'\n",
    "    \n",
    "    def search(self, word:str):\n",
    "        d = self.trie\n",
    "        \n",
    "        for c in word:\n",
    "            if c not in d:\n",
    "                return False\n",
    "            d = d[c]\n",
    "        # if '.' in d['.'] and d['.'] == '.':\n",
    "        #     return\n",
    "        return '.' in d\n",
    "    \n",
    "    def startsWith(self, prefix):\n",
    "        d = self.trie\n",
    "        \n",
    "        for c in prefix:\n",
    "            if c not in d:\n",
    "                return False\n",
    "            d = d[c]\n",
    "        return True\n",
    "    "
   ]
  },
  {
   "cell_type": "code",
   "execution_count": 7,
   "metadata": {},
   "outputs": [
    {
     "name": "stdout",
     "output_type": "stream",
     "text": [
      "------------------------------------\n",
      "d={'a': {}}\n",
      "d={}\n",
      "------------------------------------\n",
      "------------------------------------\n",
      "d={'p': {}}\n",
      "d={}\n",
      "------------------------------------\n",
      "=========================================\n",
      "d={'.': '.'}\n",
      "self.trie={'a': {'p': {'.': '.'}}}\n",
      "------------------------------------\n"
     ]
    }
   ],
   "source": [
    "t = Trie()\n",
    "word = 'ap'\n",
    "# word = 'app'\n",
    "# word = 'appl'\n",
    "# word = 'apple'\n",
    "t.insert(word)"
   ]
  },
  {
   "cell_type": "code",
   "execution_count": 9,
   "metadata": {},
   "outputs": [
    {
     "name": "stdout",
     "output_type": "stream",
     "text": [
      "------------------------------------\n",
      "d={'a': {}}\n",
      "d={}\n",
      "------------------------------------\n",
      "------------------------------------\n",
      "d={'p': {}}\n",
      "d={}\n",
      "------------------------------------\n",
      "------------------------------------\n",
      "d={'p': {}}\n",
      "d={}\n",
      "------------------------------------\n",
      "------------------------------------\n",
      "d={'l': {}}\n",
      "d={}\n",
      "------------------------------------\n",
      "------------------------------------\n",
      "d={'e': {}}\n",
      "d={}\n",
      "------------------------------------\n",
      "------------------------------------\n",
      "endd={'.': '.'}\n",
      "endj={'a': {'p': {'p': {'l': {'e': {'.': '.'}}}}}}\n",
      "------------------------------------\n"
     ]
    }
   ],
   "source": [
    "j = {}\n",
    "s = 'apple'\n",
    "d = j\n",
    "for c in s:\n",
    "    if c not in d:\n",
    "        d[c] = {}\n",
    "    print('------------------------------------');\n",
    "    print(f'{d=}');\n",
    "    d = d[c]\n",
    "    print(f'{d=}');\n",
    "    print('------------------------------------');\n",
    "d['.'] = '.'\n",
    "\n",
    "print('------------------------------------');\n",
    "print(f'end{d=}');\n",
    "print(f'end{j=}');\n",
    "print('------------------------------------');"
   ]
  },
  {
   "cell_type": "markdown",
   "metadata": {},
   "source": [
    "In Python, when you assign a variable like `d = j`, you're not creating a copy of `j`, but rather making `d` a reference to the same object that `j` points to. This means both `d` and `j` refer to the same dictionary in memory.\n",
    "\n",
    "Let's break down your code and output step by step:\n",
    "\n",
    "1. `j = {}`: You create an empty dictionary `j`.\n",
    "2. `d = j`: Now `d` is a reference to `j`. At this point, both `d` and `j` point to the same empty dictionary.\n",
    "3. You iterate over the string `s = 'apple'` character by character in the `for` loop.\n",
    "4. For each character `c` in `s`, the `if` condition checks whether `c` is already a key in `d`. If not, it adds `c` as a key with an empty dictionary as its value.\n",
    "\n",
    "Since `d` is a reference to `j`, modifying `d` affects `j` as well. When you assign `d = d[c]` inside the loop, you're changing `d` to reference the nested dictionary inside `j`.\n",
    "\n",
    "Here’s what happens during each iteration:\n",
    "- First, `c = 'a'`. Since `'a'` is not in `d`, the code adds `'a': {}` to `d` (which is still the same as `j`). Then `d = d['a']` makes `d` now refer to the empty dictionary `{}` inside the value for the `'a'` key.\n",
    "  \n",
    "- Then `c = 'p'`. Since `'p'` is not in `d`, it adds `'p': {}` to the dictionary referenced by `d` (which is inside the `'a'` key of `j`). Then `d = d['p']` makes `d` point to the empty dictionary associated with `'p'`, and so on for the remaining characters.\n",
    "\n",
    "By the end of the loop, `j` is updated with the entire nested structure, and `d` points to the innermost dictionary `{}`. After the loop, you add `'.': '.'` to `d`, which updates the deepest nested dictionary inside `j` because `d` is still a reference to the dictionary inside `j`.\n",
    "\n",
    "Thus, at the end:\n",
    "- `d` refers to `{'a': {'p': {'p': {'l': {'e': {'.': '.'}}}}}}`.\n",
    "- `j` also refers to the same object.\n",
    "\n",
    "Both `d` and `j` refer to the same object, but `d` is just pointing to the innermost part of that object at the end of the loop. That's why modifying `d` also affects `j`."
   ]
  }
 ],
 "metadata": {
  "kernelspec": {
   "display_name": "langgraph",
   "language": "python",
   "name": "python3"
  },
  "language_info": {
   "codemirror_mode": {
    "name": "ipython",
    "version": 3
   },
   "file_extension": ".py",
   "mimetype": "text/x-python",
   "name": "python",
   "nbconvert_exporter": "python",
   "pygments_lexer": "ipython3",
   "version": "3.12.3"
  }
 },
 "nbformat": 4,
 "nbformat_minor": 2
}
