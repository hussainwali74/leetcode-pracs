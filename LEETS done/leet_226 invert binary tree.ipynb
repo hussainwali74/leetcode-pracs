{
 "cells": [
  {
   "cell_type": "code",
   "execution_count": 7,
   "metadata": {},
   "outputs": [
    {
     "name": "stdout",
     "output_type": "stream",
     "text": [
      "1-2-\n",
      "1-2-"
     ]
    }
   ],
   "source": [
    "from typing import Optional\n",
    "# Definition for a binary tree node.\n",
    "class TreeNode:\n",
    "    def __init__(self, val=0, left=None, right=None):\n",
    "        self.val = val\n",
    "        self.left = left\n",
    "        self.right = right\n",
    "class Solution:\n",
    "    def invertTree(self, root: Optional[TreeNode]) -> Optional[TreeNode]:\n",
    "        if root is None:\n",
    "            return None\n",
    "        (root.left, root.right) = (root.right, root.left)\n",
    "        self.invertTree(root.left)\n",
    "        self.invertTree(root.right)\n",
    "\n",
    "        return root\n",
    "    \n",
    "    # dfs, pre order\n",
    "    def printTree(self, root):\n",
    "        if root:\n",
    "            print(root.val,end='-')\n",
    "            self.printTree(root.left)\n",
    "            self.printTree(root.right)\n",
    "# root = [2,1,3]\n",
    "# root = TreeNode(2,TreeNode(1),TreeNode(3))\n",
    "# root = [4,2,7,1,3,6,9]\n",
    "# root = TreeNode(4,TreeNode(2, TreeNode(1), TreeNode(3)), TreeNode(7, TreeNode(6), TreeNode(9)))\n",
    "root = TreeNode(1,None, TreeNode(2))\n",
    "soln = Solution()\n",
    "soln.printTree(root)\n",
    "print()\n",
    "soln.printTree(soln.invertTree(root))\n"
   ]
  }
 ],
 "metadata": {
  "kernelspec": {
   "display_name": "langgraph",
   "language": "python",
   "name": "python3"
  },
  "language_info": {
   "codemirror_mode": {
    "name": "ipython",
    "version": 3
   },
   "file_extension": ".py",
   "mimetype": "text/x-python",
   "name": "python",
   "nbconvert_exporter": "python",
   "pygments_lexer": "ipython3",
   "version": "3.12.3"
  }
 },
 "nbformat": 4,
 "nbformat_minor": 2
}
