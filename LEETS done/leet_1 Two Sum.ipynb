{
 "cells": [
  {
   "cell_type": "markdown",
   "metadata": {},
   "source": [
    "# two sum\n",
    "Given an array of integers *nums* and an integer *target*, return indices of the two numbers such that they add up to *target*.\n",
    "\n",
    "You may assume that each input would have exactly one solution, and you may not use the same element twice.\n",
    "\n",
    "You can return the answer in any order."
   ]
  },
  {
   "cell_type": "markdown",
   "metadata": {},
   "source": [
    "Example 1:\n",
    "\n",
    "    Input: nums = [2,7,11,15], target = 9\n",
    "\n",
    "    Output: [0,1]\n",
    "\n",
    "    Explanation: Because nums[0] + nums[1] == 9, we return [0, 1].\n",
    "\n",
    "Example 2:\n",
    "\n",
    "    Input: nums = [3,2,4], target = 6\n",
    "\n",
    "    Output: [1,2]\n",
    "\n",
    "Example 3:\n",
    "\n",
    "    Input: nums = [3,3], target = 6\n",
    "\n",
    "    Output: [0,1]\n",
    " \n",
    "\n",
    "Constraints:\n",
    "\n",
    "    2 <= nums.length <= 104\n",
    "\n",
    "    -109 <= nums[i] <= 109\n",
    "\n",
    "    -109 <= target <= 109\n",
    "\n",
    "    Only one valid answer exists.\n",
    " \n",
    "\n",
    "Follow-up: Can you come up with an algorithm that is less than O(n2) time complexity?"
   ]
  },
  {
   "cell_type": "code",
   "execution_count": 8,
   "metadata": {},
   "outputs": [
    {
     "data": {
      "text/plain": [
       "[3, 5]"
      ]
     },
     "execution_count": 8,
     "metadata": {},
     "output_type": "execute_result"
    }
   ],
   "source": [
    "from typing import List\n",
    "class Solution:\n",
    "    def twoSum(self, nums: List[int], target: int) -> List[int]:\n",
    "        d = {}\n",
    "        for i, n in enumerate(nums):\n",
    "            if n in d:\n",
    "                return [d[n],i]\n",
    "            d[target-n] = i\n",
    "\n",
    "# nums = [2,7,11,15]\n",
    "nums = [8,1,2,4,5,7]\n",
    "target = 11\n",
    "soln = Solution()\n",
    "soln.twoSum(nums, target)"
   ]
  },
  {
   "cell_type": "code",
   "execution_count": 3,
   "metadata": {},
   "outputs": [
    {
     "name": "stdout",
     "output_type": "stream",
     "text": [
      "5 4\n",
      "7 2\n"
     ]
    }
   ],
   "source": [
    "nums = [1,2,3,4,5,7]\n",
    "d = {}\n",
    "target = 9\n",
    "for n in nums:\n",
    "    if n in d:\n",
    "        print(n,d[n])\n",
    "        \n",
    "    rem = target -n\n",
    "    d[rem]=n"
   ]
  },
  {
   "cell_type": "code",
   "execution_count": 1,
   "metadata": {},
   "outputs": [
    {
     "name": "stdout",
     "output_type": "stream",
     "text": [
      "7 2\n"
     ]
    }
   ],
   "source": [
    "import math\n",
    "nums = [2,7,11,15]\n",
    "target = 9\n",
    "\n",
    "rem = math.inf\n",
    "arr = []\n",
    "d = {}\n",
    "for i in range(len(nums)):\n",
    "    if nums[i] in d:\n",
    "        print(nums[i],d[nums[i]])\n",
    "        break\n",
    "    rem = target-nums[i]\n",
    "    d[rem] = nums[i]\n",
    "    "
   ]
  },
  {
   "cell_type": "code",
   "execution_count": 5,
   "metadata": {},
   "outputs": [
    {
     "name": "stdout",
     "output_type": "stream",
     "text": [
      "0 1\n"
     ]
    }
   ],
   "source": [
    "nums = [2,7,11,15]\n",
    "d = {}\n",
    "t = 9\n",
    "\n",
    "result = []\n",
    "for i in range(len(nums)):\n",
    "    for j in range(i+1,len(nums)):\n",
    "        if nums[i]+nums[j] == t:\n",
    "            print(i,j)\n"
   ]
  },
  {
   "cell_type": "code",
   "execution_count": 7,
   "metadata": {},
   "outputs": [
    {
     "name": "stdout",
     "output_type": "stream",
     "text": [
      "[0, 1]\n"
     ]
    },
    {
     "data": {
      "text/plain": [
       "{7: 0, 2: 1, -2: 2, -6: 3}"
      ]
     },
     "execution_count": 7,
     "metadata": {},
     "output_type": "execute_result"
    }
   ],
   "source": [
    "nums = [2,7,11,15]\n",
    "d = {}\n",
    "target = 9\n",
    "\n",
    "for i, n in enumerate(nums):\n",
    "    if n in d:\n",
    "        print([d[n],i])\n",
    "    d[target-n] = i\n",
    "d"
   ]
  }
 ],
 "metadata": {
  "kernelspec": {
   "display_name": "base",
   "language": "python",
   "name": "python3"
  },
  "language_info": {
   "codemirror_mode": {
    "name": "ipython",
    "version": 3
   },
   "file_extension": ".py",
   "mimetype": "text/x-python",
   "name": "python",
   "nbconvert_exporter": "python",
   "pygments_lexer": "ipython3",
   "version": "3.12.7"
  }
 },
 "nbformat": 4,
 "nbformat_minor": 2
}
