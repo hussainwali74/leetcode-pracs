{
 "cells": [
  {
   "cell_type": "markdown",
   "metadata": {},
   "source": [
    "### Problem Description\n",
    "#### easy\n",
    "Given an integer `n`, return an array `ans` of length `n + 1` such that for each `i` (`0 <= i <= n`), `ans[i]` is the number of 1's in the binary representation of `i`.\n",
    "\n",
    "---\n",
    "\n",
    "### Example 1:\n",
    "**Input:**  \n",
    "`n = 2`  \n",
    "**Output:**  \n",
    "`[0,1,1]`  \n",
    "**Explanation:**\n",
    "- `0 --> 0`\n",
    "- `1 --> 1`\n",
    "- `2 --> 10`\n",
    "\n",
    "---\n",
    "\n",
    "### Example 2:\n",
    "**Input:**  \n",
    "`n = 5`  \n",
    "**Output:**  \n",
    "`[0,1,1,2,1,2]`  \n",
    "**Explanation:**\n",
    "- `0 --> 0`\n",
    "- `1 --> 1`\n",
    "- `2 --> 10`\n",
    "- `3 --> 11`\n",
    "- `4 --> 100`\n",
    "- `5 --> 101`\n",
    "\n",
    "---\n",
    "\n",
    "### Constraints:\n",
    "- `0 <= n <= 10^5`\n"
   ]
  },
  {
   "cell_type": "code",
   "execution_count": 1,
   "metadata": {},
   "outputs": [
    {
     "data": {
      "text/plain": [
       "[0, 1, 1, 2, 1, 2]"
      ]
     },
     "execution_count": 1,
     "metadata": {},
     "output_type": "execute_result"
    }
   ],
   "source": [
    "n = 5\n",
    "\n",
    "d = {}\n",
    "def get_bin_counts(n):\n",
    "    if n in d:\n",
    "        return d[n]\n",
    "\n",
    "    r = 0\n",
    "    while n:\n",
    "        if n&1:\n",
    "            r+=1\n",
    "            \n",
    "        n>>=1\n",
    "    d[n]=r\n",
    "    return r\n",
    "arr = []  \n",
    "for i in range(n+1):\n",
    "    arr.append(get_bin_counts(i))\n",
    "arr"
   ]
  },
  {
   "cell_type": "code",
   "execution_count": 14,
   "metadata": {},
   "outputs": [
    {
     "data": {
      "text/plain": [
       "1"
      ]
     },
     "execution_count": 14,
     "metadata": {},
     "output_type": "execute_result"
    }
   ],
   "source": [
    "n = 0 # 0\n",
    "n = 1 #1\n",
    "n = 2 #1 = 10\n",
    "n =3 # 2 =11 \n",
    "n=4 # 1\n",
    "def count_ones(n):\n",
    "    r = []\n",
    "    while n!=0:\n",
    "        if n&1 ==1:\n",
    "            r.append(1)\n",
    "        n = n>>1\n",
    "    return len(r)\n",
    "count_ones(n)"
   ]
  },
  {
   "cell_type": "code",
   "execution_count": 24,
   "metadata": {},
   "outputs": [
    {
     "data": {
      "text/plain": [
       "[0, 1, 1]"
      ]
     },
     "execution_count": 24,
     "metadata": {},
     "output_type": "execute_result"
    }
   ],
   "source": [
    "n = 2\n",
    "\n",
    "def count_ones(n):\n",
    "    r = 0\n",
    "    while n!=0:\n",
    "        if n&1==1:\n",
    "            r+=1\n",
    "        n = n>>1\n",
    "    return r\n",
    "[count_ones(i) for i in range(n+1)]\n",
    "# res = []\n",
    "# for i in range(n+1):\n",
    "#     res.append(count_ones(i))\n",
    "#     # n=n>>1\n",
    "# res\n",
    "# [0, 1, 1, 2, 1, 2]\n"
   ]
  },
  {
   "cell_type": "code",
   "execution_count": 31,
   "metadata": {},
   "outputs": [
    {
     "data": {
      "text/plain": [
       "0"
      ]
     },
     "execution_count": 31,
     "metadata": {},
     "output_type": "execute_result"
    }
   ],
   "source": [
    "def count_ones(n):\n",
    "        r = 0\n",
    "        while n!=0:\n",
    "            print(n&1)\n",
    "            if n&1 ==0:\n",
    "                r+=1\n",
    "            n>>=1\n",
    "        return r\n",
    "count_ones(1)"
   ]
  },
  {
   "cell_type": "code",
   "execution_count": 32,
   "metadata": {},
   "outputs": [
    {
     "name": "stdout",
     "output_type": "stream",
     "text": [
      "0\n"
     ]
    },
    {
     "data": {
      "text/plain": [
       "[0, 0, 1]"
      ]
     },
     "execution_count": 32,
     "metadata": {},
     "output_type": "execute_result"
    }
   ],
   "source": [
    "from typing_extensions import List\n",
    "class Solution:\n",
    "    def countBits(self, n: int) -> List[int]:\n",
    "        def count_ones(n):\n",
    "            r = 0\n",
    "            while n!=0:\n",
    "                if n&1 ==0:\n",
    "                    r+=1\n",
    "                n>>=1\n",
    "            return r\n",
    "        print(count_ones(1))\n",
    "        return [count_ones(i) for i in range(n+1)]\n",
    "s = Solution()\n",
    "s.countBits(2)"
   ]
  },
  {
   "cell_type": "code",
   "execution_count": 47,
   "metadata": {},
   "outputs": [
    {
     "name": "stdout",
     "output_type": "stream",
     "text": [
      "offset=1 offset*2=2 i=1 False\n",
      "------------------------------------\n",
      "dp=[0, 0, 0, 0, 0, 0, 0, 0, 0, 0]\n",
      "------------------------------------\n",
      "offset=1 offset*2=2 i=2 True\n",
      "------------------------------------\n",
      "dp=[0, 1, 0, 0, 0, 0, 0, 0, 0, 0]\n",
      "------------------------------------\n",
      "offset=2 offset*2=4 i=3 False\n",
      "------------------------------------\n",
      "dp=[0, 1, 1, 0, 0, 0, 0, 0, 0, 0]\n",
      "------------------------------------\n",
      "offset=2 offset*2=4 i=4 True\n",
      "------------------------------------\n",
      "dp=[0, 1, 1, 2, 0, 0, 0, 0, 0, 0]\n",
      "------------------------------------\n",
      "offset=4 offset*2=8 i=5 False\n",
      "------------------------------------\n",
      "dp=[0, 1, 1, 2, 1, 0, 0, 0, 0, 0]\n",
      "------------------------------------\n",
      "offset=4 offset*2=8 i=6 False\n",
      "------------------------------------\n",
      "dp=[0, 1, 1, 2, 1, 2, 0, 0, 0, 0]\n",
      "------------------------------------\n",
      "offset=4 offset*2=8 i=7 False\n",
      "------------------------------------\n",
      "dp=[0, 1, 1, 2, 1, 2, 2, 0, 0, 0]\n",
      "------------------------------------\n",
      "offset=4 offset*2=8 i=8 True\n",
      "------------------------------------\n",
      "dp=[0, 1, 1, 2, 1, 2, 2, 3, 0, 0]\n",
      "------------------------------------\n",
      "offset=8 offset*2=16 i=9 False\n",
      "------------------------------------\n",
      "dp=[0, 1, 1, 2, 1, 2, 2, 3, 1, 0]\n",
      "------------------------------------\n"
     ]
    }
   ],
   "source": [
    "class Solution:\n",
    "    def countBits(self, n: int) -> List[int]:\n",
    "        dp=[0]*(n+1)\n",
    "        offset = 1\n",
    "        for i in range(1,n+1):\n",
    "            if offset*2== i:\n",
    "                offset= i\n",
    "            dp[i]= 1+ dp[i- offset]   \n",
    "        return dp     \n",
    "n =9\n",
    "dp=[0]*(n+1)\n",
    "# dp\n",
    "offset=1\n",
    "for i in range(1,n+1):\n",
    "    print(f\"{offset=} {offset*2=} {i=} {offset*2== i}\")\n",
    "    if offset*2== i:\n",
    "        offset= i\n",
    "    print('------------------------------------');\n",
    "    print(f'{dp=}');\n",
    "    print('------------------------------------');\n",
    "    dp[i]= 1+ dp[i- offset]   \n"
   ]
  },
  {
   "cell_type": "code",
   "execution_count": 5,
   "metadata": {},
   "outputs": [
    {
     "data": {
      "text/plain": [
       "[[10], [10], [10], [10], [10], [10]]"
      ]
     },
     "execution_count": 5,
     "metadata": {},
     "output_type": "execute_result"
    }
   ],
   "source": [
    "\n",
    "arr = [[0]]*6\n",
    "arr[1][0]=10\n",
    "arr"
   ]
  },
  {
   "cell_type": "code",
   "execution_count": 6,
   "metadata": {},
   "outputs": [
    {
     "data": {
      "text/plain": [
       "[0, 10, 0, 0, 0, 0]"
      ]
     },
     "execution_count": 6,
     "metadata": {},
     "output_type": "execute_result"
    }
   ],
   "source": [
    "\n",
    "arr = [0]*6\n",
    "arr[1]=10\n",
    "arr"
   ]
  },
  {
   "cell_type": "code",
   "execution_count": 7,
   "metadata": {},
   "outputs": [
    {
     "data": {
      "text/plain": [
       "[0, 1, 1, 2, 1, 2]"
      ]
     },
     "execution_count": 7,
     "metadata": {},
     "output_type": "execute_result"
    }
   ],
   "source": [
    "n = 5\n",
    "of = 1\n",
    "arr = [0]*(n+1)\n",
    "\n",
    "for i in range(1, n+1):\n",
    "    if of*2==i:\n",
    "        of = i\n",
    "    arr[i] = 1+arr[i-of]\n",
    "arr"
   ]
  }
 ],
 "metadata": {
  "kernelspec": {
   "display_name": "langgraph",
   "language": "python",
   "name": "python3"
  },
  "language_info": {
   "codemirror_mode": {
    "name": "ipython",
    "version": 3
   },
   "file_extension": ".py",
   "mimetype": "text/x-python",
   "name": "python",
   "nbconvert_exporter": "python",
   "pygments_lexer": "ipython3",
   "version": "3.12.3"
  }
 },
 "nbformat": 4,
 "nbformat_minor": 2
}
