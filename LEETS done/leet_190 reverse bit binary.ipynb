{
 "cells": [
  {
   "cell_type": "markdown",
   "metadata": {},
   "source": [
    "### Problem Description\n",
    "#### easy\n",
    "Reverse the bits of a given 32-bit unsigned integer.\n",
    "\n",
    "---\n",
    "\n",
    "### Notes:\n",
    "In some languages (e.g., Java), there is no unsigned integer type. In these cases, both input and output will be given as signed integer types. However, this should not affect the implementation since the internal binary representation is the same for signed and unsigned integers in such languages. \n",
    "\n",
    "In Java, the signed integers are represented using 2's complement notation. For example, in **Example 2** below, the input represents the signed integer `-3`, and the output represents the signed integer `-1073741825`.\n",
    "\n",
    "---\n",
    "\n",
    "### Example 1:\n",
    "**Input:**  \n",
    "`n = 00000010100101000001111010011100`  \n",
    "**Output:**  \n",
    "`964176192` (`00111001011110000010100101000000`)  \n",
    "**Explanation:**  \n",
    "The input binary string `00000010100101000001111010011100` represents the unsigned integer `43261596`. The reversed binary is `00111001011110000010100101000000`, which corresponds to `964176192`.\n",
    "\n",
    "---\n",
    "\n",
    "### Example 2:\n",
    "**Input:**  \n",
    "`n = 11111111111111111111111111111101`  \n",
    "**Output:**  \n",
    "`3221225471` (`10111111111111111111111111111111`)  \n",
    "**Explanation:**  \n",
    "The input binary string `11111111111111111111111111111101` represents the unsigned integer `4294967293`. The reversed binary is `10111111111111111111111111111111`, which corresponds to `3221225471`.\n",
    "\n",
    "---\n",
    "\n",
    "### Constraints:\n",
    "- The input must be a binary string of length 32.\n",
    "\n",
    "---\n",
    "\n",
    "### Follow-up:\n",
    "If this function is called many times, how would you optimize it?\n"
   ]
  },
  {
   "cell_type": "code",
   "execution_count": 34,
   "metadata": {},
   "outputs": [
    {
     "name": "stdout",
     "output_type": "stream",
     "text": [
      "10000000000000000000000000000000 32\n"
     ]
    },
    {
     "data": {
      "text/plain": [
       "1"
      ]
     },
     "execution_count": 34,
     "metadata": {},
     "output_type": "execute_result"
    }
   ],
   "source": [
    "class Solution:\n",
    "    def reverseBits(self, n: int) -> int:\n",
    "        x = bin(n)[2:]\n",
    "        new_x = ''\n",
    "\n",
    "        for _ in range(32-len(x)):\n",
    "            new_x+='0'\n",
    "        new_x+=x\n",
    "        res = 0\n",
    "        for i,v in enumerate(new_x):\n",
    "            if int(v):\n",
    "                res += 2**int(i)\n",
    "        return res\n",
    "\n",
    "sol = Solution()\n",
    "\n",
    "n = 2147483648\n",
    "sol.reverseBits(n)"
   ]
  },
  {
   "cell_type": "code",
   "execution_count": 44,
   "metadata": {},
   "outputs": [
    {
     "data": {
      "text/plain": [
       "1"
      ]
     },
     "execution_count": 44,
     "metadata": {},
     "output_type": "execute_result"
    }
   ],
   "source": [
    "result = 0\n",
    "n = 3\n",
    "(result << 1) | (n & 1)\n"
   ]
  },
  {
   "cell_type": "markdown",
   "metadata": {},
   "source": [
    "Solns:\n"
   ]
  },
  {
   "cell_type": "code",
   "execution_count": 5,
   "metadata": {},
   "outputs": [
    {
     "name": "stdout",
     "output_type": "stream",
     "text": [
      "0|1 = 1\n",
      "1|1 = 1\n",
      "2|1 = 3\n",
      "3|1 = 3\n",
      "4|1 = 5\n",
      "5|1 = 5\n",
      "6|1 = 7\n",
      "7|1 = 7\n",
      "8|1 = 9\n",
      "9|1 = 9\n",
      "10|1 = 11\n",
      "11|1 = 11\n",
      "12|1 = 13\n",
      "13|1 = 13\n",
      "14|1 = 15\n",
      "15|1 = 15\n",
      "16|1 = 17\n",
      "17|1 = 17\n",
      "18|1 = 19\n",
      "19|1 = 19\n",
      "20|1 = 21\n",
      "21|1 = 21\n",
      "22|1 = 23\n",
      "23|1 = 23\n",
      "24|1 = 25\n",
      "25|1 = 25\n",
      "26|1 = 27\n",
      "27|1 = 27\n",
      "28|1 = 29\n",
      "29|1 = 29\n",
      "30|1 = 31\n",
      "31|1 = 31\n",
      "32|1 = 33\n",
      "33|1 = 33\n",
      "34|1 = 35\n"
     ]
    }
   ],
   "source": [
    "for i in range(35):\n",
    "    print( f\"{i}|1 =\",  i|1)"
   ]
  },
  {
   "cell_type": "code",
   "execution_count": 59,
   "metadata": {},
   "outputs": [
    {
     "name": "stdout",
     "output_type": "stream",
     "text": [
      "4\n",
      "5\n",
      "6\n",
      "7\n",
      "4\n",
      "5\n",
      "6\n",
      "7\n",
      "12\n",
      "13\n",
      "14\n",
      "15\n",
      "12\n",
      "13\n",
      "14\n"
     ]
    }
   ],
   "source": [
    "for i in range(15):\n",
    "    print(i|4)"
   ]
  },
  {
   "cell_type": "code",
   "execution_count": 7,
   "metadata": {},
   "outputs": [
    {
     "data": {
      "text/plain": [
       "3"
      ]
     },
     "execution_count": 7,
     "metadata": {},
     "output_type": "execute_result"
    }
   ],
   "source": [
    "7<<1\n",
    "7>>1"
   ]
  },
  {
   "cell_type": "code",
   "execution_count": 45,
   "metadata": {},
   "outputs": [],
   "source": [
    "class Solution:\n",
    "    def reverseBits(self, n: int) -> int:\n",
    "        result = 0\n",
    "        for i in range(32):\n",
    "            result = (result << 1) | (n & 1)\n",
    "            n >>= 1\n",
    "        return result"
   ]
  },
  {
   "cell_type": "code",
   "execution_count": 50,
   "metadata": {},
   "outputs": [],
   "source": [
    "class Solution:\n",
    "    def reverseBits(self, n: int) -> int:\n",
    "        result = 0\n",
    "        for i in range(32):\n",
    "            bit = (n>>i) &1\n",
    "            \n",
    "            result = result | (bit << (31-i))\n",
    "            n >>= 1\n",
    "        return result"
   ]
  },
  {
   "cell_type": "code",
   "execution_count": 11,
   "metadata": {},
   "outputs": [
    {
     "data": {
      "text/plain": [
       "3"
      ]
     },
     "execution_count": 11,
     "metadata": {},
     "output_type": "execute_result"
    }
   ],
   "source": [
    "n = 5\n",
    "result = 0<<1 | (n&1)\n",
    "result = (result << 1)|(n&1)\n",
    "result"
   ]
  },
  {
   "cell_type": "code",
   "execution_count": 30,
   "metadata": {},
   "outputs": [
    {
     "data": {
      "text/plain": [
       "2"
      ]
     },
     "execution_count": 30,
     "metadata": {},
     "output_type": "execute_result"
    }
   ],
   "source": [
    "n = 5 # 101\n",
    "n>> 1# 10\n",
    "# 2>>1 # 1"
   ]
  },
  {
   "cell_type": "code",
   "execution_count": 25,
   "metadata": {},
   "outputs": [
    {
     "data": {
      "text/plain": [
       "4"
      ]
     },
     "execution_count": 25,
     "metadata": {},
     "output_type": "execute_result"
    }
   ],
   "source": [
    "# (n&1)\n",
    "# 0<<1\n",
    "# 1<<1\n",
    "2<<1"
   ]
  },
  {
   "cell_type": "code",
   "execution_count": 7,
   "metadata": {},
   "outputs": [
    {
     "data": {
      "text/plain": [
       "6"
      ]
     },
     "execution_count": 7,
     "metadata": {},
     "output_type": "execute_result"
    }
   ],
   "source": [
    "x = 4\n",
    "position = 1\n",
    "x | (1 << position)\n"
   ]
  },
  {
   "cell_type": "code",
   "execution_count": 9,
   "metadata": {},
   "outputs": [
    {
     "name": "stdout",
     "output_type": "stream",
     "text": [
      "-1\n",
      "-2\n",
      "-3\n",
      "-4\n",
      "-5\n",
      "-6\n",
      "-7\n",
      "-8\n",
      "-9\n",
      "-10\n"
     ]
    }
   ],
   "source": [
    "for i in range(10):\n",
    "    print(~i)"
   ]
  }
 ],
 "metadata": {
  "kernelspec": {
   "display_name": "langgraph",
   "language": "python",
   "name": "python3"
  },
  "language_info": {
   "codemirror_mode": {
    "name": "ipython",
    "version": 3
   },
   "file_extension": ".py",
   "mimetype": "text/x-python",
   "name": "python",
   "nbconvert_exporter": "python",
   "pygments_lexer": "ipython3",
   "version": "3.12.3"
  }
 },
 "nbformat": 4,
 "nbformat_minor": 2
}
