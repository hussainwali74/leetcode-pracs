{
 "cells": [
  {
   "cell_type": "code",
   "execution_count": 13,
   "metadata": {},
   "outputs": [
    {
     "data": {
      "text/plain": [
       "'flowfl'"
      ]
     },
     "execution_count": 13,
     "metadata": {},
     "output_type": "execute_result"
    }
   ],
   "source": [
    "strs = [\"flower\",\"flow\",\"flight\"]\n",
    "\n",
    "    \n",
    "common = ''\n",
    "min_l = min([len(l) for l in strs])\n",
    "for i, word in enumerate(strs):\n",
    "    for k in range(min_l): # go over each letter of the word\n",
    "        in_ = False\n",
    "        for j in range(i+1,len(strs)):\n",
    "            inner_word = strs[j]\n",
    "            if word[k] ==inner_word[k]:\n",
    "                in_= True                \n",
    "            \n",
    "        if in_:\n",
    "            common+=word[k]\n",
    "            \n",
    "common"
   ]
  },
  {
   "cell_type": "code",
   "execution_count": 16,
   "metadata": {},
   "outputs": [
    {
     "data": {
      "text/plain": [
       "'flower'"
      ]
     },
     "execution_count": 16,
     "metadata": {},
     "output_type": "execute_result"
    }
   ],
   "source": [
    "word = strs[0]\n",
    "word"
   ]
  },
  {
   "cell_type": "code",
   "execution_count": 30,
   "metadata": {},
   "outputs": [
    {
     "data": {
      "text/plain": [
       "'fl'"
      ]
     },
     "execution_count": 30,
     "metadata": {},
     "output_type": "execute_result"
    }
   ],
   "source": [
    "from typing import List\n",
    "class Solution:\n",
    "    def longestCommonPrefix(self, strs: List[str]) -> str:\n",
    "        common = ''\n",
    "        n = True\n",
    "        word = strs[0]\n",
    "        min_l = min([len(l) for l in strs])\n",
    "        for i in range(min_l):\n",
    "            for w in strs[1:]:\n",
    "                if w[i]!=word[i]:\n",
    "                    n = False\n",
    "                    break\n",
    "            if n:\n",
    "                common+=word[i]\n",
    "        return common\n",
    "strs = [\"flower\",\"flow\",\"flight\"]\n",
    "# strs = [\"dog\",\"racecar\",\"car\"]\n",
    "\n",
    "soln = Solution()\n",
    "\n",
    "soln.longestCommonPrefix(strs)"
   ]
  },
  {
   "cell_type": "code",
   "execution_count": 34,
   "metadata": {},
   "outputs": [
    {
     "data": {
      "text/plain": [
       "20"
      ]
     },
     "execution_count": 34,
     "metadata": {},
     "output_type": "execute_result"
    }
   ],
   "source": []
  },
  {
   "cell_type": "code",
   "execution_count": 29,
   "metadata": {},
   "outputs": [
    {
     "name": "stdout",
     "output_type": "stream",
     "text": [
      "fl\n"
     ]
    }
   ],
   "source": [
    "class Solution:\n",
    "    def longestCommonPrefix(self, strs: List[str]) -> str:\n",
    "        if not strs:\n",
    "            return \"\"\n",
    "        prefix=strs[0]\n",
    "        for s in strs[1:]:\n",
    "            while (s[:len(prefix)]!=prefix):\n",
    "                prefix=prefix[:-1]\n",
    "                if not prefix:\n",
    "                    return \"\"\n",
    "        return prefix\n",
    "a=Solution()\n",
    "b=a.longestCommonPrefix([\"flower\",\"flow\",\"flight\"])\n",
    "print(b)"
   ]
  },
  {
   "cell_type": "code",
   "execution_count": null,
   "metadata": {},
   "outputs": [],
   "source": []
  }
 ],
 "metadata": {
  "kernelspec": {
   "display_name": "langgraph",
   "language": "python",
   "name": "python3"
  },
  "language_info": {
   "codemirror_mode": {
    "name": "ipython",
    "version": 3
   },
   "file_extension": ".py",
   "mimetype": "text/x-python",
   "name": "python",
   "nbconvert_exporter": "python",
   "pygments_lexer": "ipython3",
   "version": "3.12.3"
  }
 },
 "nbformat": 4,
 "nbformat_minor": 2
}
