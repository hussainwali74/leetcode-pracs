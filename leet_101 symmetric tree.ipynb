{
 "cells": [
  {
   "cell_type": "code",
   "execution_count": 9,
   "metadata": {},
   "outputs": [
    {
     "name": "stdout",
     "output_type": "stream",
     "text": [
      "------------------------------------\n",
      "arr=[2, 4, 3, 2, 4, 3]\n",
      "------------------------------------\n"
     ]
    },
    {
     "data": {
      "text/plain": [
       "True"
      ]
     },
     "execution_count": 9,
     "metadata": {},
     "output_type": "execute_result"
    }
   ],
   "source": [
    "from typing import Optional\n",
    "# Definition for a binary tree node.\n",
    "class TreeNode:\n",
    "    def __init__(self, val=0, left=None, right=None):\n",
    "        self.val = val\n",
    "        self.left = left\n",
    "        self.right = right\n",
    "\n",
    "class Solution:\n",
    "    def isSymmetric(self, root: Optional[TreeNode]) -> bool:\n",
    "        arr = []\n",
    "        def check(root:Optional[TreeNode], arr):\n",
    "            if root is None:\n",
    "                return arr\n",
    "            arr +=[root.val]\n",
    "            r = check(root.right,arr)\n",
    "            l = check(root.left, arr)\n",
    "            return r\n",
    "        arr = check(root,arr)[1:]\n",
    "        print('------------------------------------');\n",
    "        print(f'{arr=}');\n",
    "        print('------------------------------------');\n",
    "        return arr[:len(arr)//2]==arr[len(arr)//2:]\n",
    "root = TreeNode(1,TreeNode(2, TreeNode(3), TreeNode(4)), TreeNode(2, TreeNode(3), TreeNode(4)))\n",
    "soln = Solution()\n",
    "soln.isSymmetric(root)"
   ]
  },
  {
   "cell_type": "markdown",
   "metadata": {},
   "source": [
    "## Soln"
   ]
  },
  {
   "cell_type": "code",
   "execution_count": 7,
   "metadata": {},
   "outputs": [
    {
     "data": {
      "text/plain": [
       "True"
      ]
     },
     "execution_count": 7,
     "metadata": {},
     "output_type": "execute_result"
    }
   ],
   "source": [
    "from typing import Optional\n",
    "# Definition for a binary tree node.\n",
    "class TreeNode:\n",
    "    def __init__(self, val=0, left=None, right=None):\n",
    "        self.val = val\n",
    "        self.left = left\n",
    "        self.right = right\n",
    "\n",
    "class Solution:\n",
    "    def isSymmetric(self, root: Optional[TreeNode]) -> bool:\n",
    "        arr = []\n",
    "        def check(root1:Optional[TreeNode], root2:Optional[TreeNode]):\n",
    "            if root1 is None and root2 is None:\n",
    "                return True\n",
    "            if root1 is None or root2 is None:\n",
    "                return False\n",
    "            \n",
    "            if root2.val != root1.val:\n",
    "                return False\n",
    "\n",
    "            return  check(root1.left, root2.right) and check(root1.right, root2.left)\n",
    "        \n",
    "        return check(root,root)\n",
    "root = TreeNode(1,TreeNode(2, TreeNode(3), TreeNode(4)), TreeNode(2, TreeNode(4), TreeNode(3)))\n",
    "soln = Solution()\n",
    "soln.isSymmetric(root)"
   ]
  }
 ],
 "metadata": {
  "kernelspec": {
   "display_name": "langgraph",
   "language": "python",
   "name": "python3"
  },
  "language_info": {
   "codemirror_mode": {
    "name": "ipython",
    "version": 3
   },
   "file_extension": ".py",
   "mimetype": "text/x-python",
   "name": "python",
   "nbconvert_exporter": "python",
   "pygments_lexer": "ipython3",
   "version": "3.12.3"
  }
 },
 "nbformat": 4,
 "nbformat_minor": 2
}
