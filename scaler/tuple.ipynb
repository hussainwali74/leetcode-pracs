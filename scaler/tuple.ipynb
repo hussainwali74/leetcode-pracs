{
 "cells": [
  {
   "cell_type": "markdown",
   "metadata": {},
   "source": [
    "## Get the index\n",
    "\n",
    "### Problem Description:\n",
    "\n",
    "\n",
    "\n",
    "Write a function to search for a given element **elem** in the tuple **tup** and return its index. Return -1 if elem is not present in tup.\n",
    "\n",
    "\n",
    "\n",
    "**Input Format:**\n",
    "\n",
    "\n",
    "` The first line consists of tuple.` \n",
    "\n",
    "` The second line consists of an element for which index is required to be returned.`\n",
    "\n",
    "**Output Format:**\n",
    "\n",
    "\n",
    "\n",
    "Return the index value in integer format.\n",
    "\n",
    "**Sample Input:**\n",
    "\n",
    "`(10, 20, 30, 40, 50)`\n",
    "\n",
    "`30` \n",
    "\n",
    "**Sample Output:**\n",
    "\n",
    "\n",
    "\n",
    "`2`\n",
    "\n",
    "**Sample explanation:**\n",
    "\n",
    "\n",
    "\n",
    "`30 is present at index 2, therefore 2 is returned.`"
   ]
  },
  {
   "cell_type": "code",
   "execution_count": 7,
   "metadata": {},
   "outputs": [
    {
     "ename": "SyntaxError",
     "evalue": "invalid syntax (2094355915.py, line 13)",
     "output_type": "error",
     "traceback": [
      "\u001b[1;36m  Cell \u001b[1;32mIn[7], line 13\u001b[1;36m\u001b[0m\n\u001b[1;33m    tup.\u001b[0m\n\u001b[1;37m        ^\u001b[0m\n\u001b[1;31mSyntaxError\u001b[0m\u001b[1;31m:\u001b[0m invalid syntax\n"
     ]
    }
   ],
   "source": [
    "def get_index(tup, elem):\n",
    "    arr = list(tup)\n",
    "    arr.sort()\n",
    "    if len(arr)==0:\n",
    "        return -1\n",
    "    for i,j in enumerate(tup):\n",
    "        if j == elem:\n",
    "            return i\n",
    "tup = (1,2,3,\"Hello\",[4, 8, 16])\n",
    "elem = \"Hello\"\n",
    "get_index(tup,elem)\n",
    "tup.index(elem)\n"
   ]
  },
  {
   "cell_type": "code",
   "execution_count": 24,
   "metadata": {},
   "outputs": [
    {
     "name": "stdout",
     "output_type": "stream",
     "text": [
      "Even: (1, 3, [4, 8, 16], 'Hello') \n",
      "Odd: (2, 'Hello', 2) \n"
     ]
    }
   ],
   "source": [
    "def odd_even_split_tuple(tup):\n",
    "    ''' input:tup-indicates the tuple\n",
    "         output:print two tuples one for even indexed and odd indexed in the given output format'''\n",
    "    even = []\n",
    "    odd = []\n",
    "    for i, val in enumerate(tup):        \n",
    "        if i%2==0:\n",
    "            even.append(val)\n",
    "        else:\n",
    "            odd.append(val)\n",
    "    print(f\"Even: {tuple(even)} \")\n",
    "    print(f\"Odd: {tuple(odd)} \")\n",
    "tup = (1, 2, 3, \"Hello\", [4, 8, 16], 2, \"Hello\")\n",
    "\n",
    "odd_even_split_tuple(tup)"
   ]
  },
  {
   "cell_type": "code",
   "execution_count": 6,
   "metadata": {},
   "outputs": [
    {
     "data": {
      "text/plain": [
       "2"
      ]
     },
     "execution_count": 6,
     "metadata": {},
     "output_type": "execute_result"
    }
   ],
   "source": []
  },
  {
   "cell_type": "code",
   "execution_count": 1,
   "metadata": {},
   "outputs": [
    {
     "name": "stdout",
     "output_type": "stream",
     "text": [
      "('Item_1', 0.5, ['Vijay', 'Vickey', 'Vishal'])\n"
     ]
    }
   ],
   "source": [
    "name_lst = [\"Vijay\", \"Vickey\"]\n",
    "tup = (\"Item_1\", 0.5, name_lst)\n",
    "name_lst.append(\"Vishal\")\n",
    "print(tup)"
   ]
  },
  {
   "cell_type": "markdown",
   "metadata": {},
   "source": [
    "In Python, when you create a variable with a single value in parentheses, it is \n",
    "not considered a tuple unless there is a trailing comma. Without the comma,\n",
    " Python treats it as a value in parentheses (i.e., an integer in this case)."
   ]
  },
  {
   "cell_type": "code",
   "execution_count": 37,
   "metadata": {},
   "outputs": [
    {
     "name": "stdout",
     "output_type": "stream",
     "text": [
      "(1,) 1\n"
     ]
    }
   ],
   "source": [
    "fruits = (1),\n",
    "\n",
    "type(fruits)\n",
    "print(fruits, fruits[0])"
   ]
  }
 ],
 "metadata": {
  "kernelspec": {
   "display_name": "langgraph",
   "language": "python",
   "name": "python3"
  },
  "language_info": {
   "codemirror_mode": {
    "name": "ipython",
    "version": 3
   },
   "file_extension": ".py",
   "mimetype": "text/x-python",
   "name": "python",
   "nbconvert_exporter": "python",
   "pygments_lexer": "ipython3",
   "version": "3.12.3"
  }
 },
 "nbformat": 4,
 "nbformat_minor": 2
}
