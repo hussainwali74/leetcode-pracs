{
 "cells": [
  {
   "cell_type": "code",
   "execution_count": 16,
   "metadata": {},
   "outputs": [
    {
     "data": {
      "text/plain": [
       "3"
      ]
     },
     "execution_count": 16,
     "metadata": {},
     "output_type": "execute_result"
    }
   ],
   "source": [
    "from typing import Optional\n",
    "\n",
    "class TreeNode:\n",
    "    def __init__(self,val=0, left=None, right=None):\n",
    "        self.val = val\n",
    "        self.left = left\n",
    "        self.right = right\n",
    "\n",
    "class Solution:\n",
    "    def goodNodes(self, root):\n",
    "        good_nodes =  [1] # root is always good\n",
    "        curr_max=  [0] \n",
    "        self.curr_max[0] = root.val\n",
    "        def findNextGood(root):\n",
    "            if root is None:\n",
    "                return \n",
    "            if root.val>=self.curr_max[0]:\n",
    "                self.curr_max[0]=root.val\n",
    "                self.good_nodes[0]+=1\n",
    "            findNextGood(root.left)\n",
    "            findNextGood(root.right)\n",
    "        findNextGood(root.left)\n",
    "        findNextGood(root.right)\n",
    "        return self.good_nodes[0]\n",
    "# root = TreeNode(3,TreeNode(1, TreeNode(3)),TreeNode(4,TreeNode(1),TreeNode(5)))\n",
    "# root = TreeNode(3,TreeNode(3,TreeNode(1),TreeNode(2)))\n",
    "# [3,3,null,4,2]\n",
    "root = TreeNode(3,TreeNode(3,TreeNode(4),TreeNode(2)), None)\n",
    "soln  = Solution()\n",
    "soln.goodNodes(root)\n",
    "# store path from root to x = path_arr\n",
    "# if x > max path_arr[1:]  add 1\n",
    "\n"
   ]
  },
  {
   "cell_type": "code",
   "execution_count": 17,
   "metadata": {},
   "outputs": [
    {
     "name": "stdout",
     "output_type": "stream",
     "text": [
      "[0]\n",
      "[3]\n",
      "[3]\n"
     ]
    }
   ],
   "source": [
    "class Solution:\n",
    "    good_nodes =  [1] # root is always good\n",
    "    curr_max=  [0] \n",
    "    def print(self):\n",
    "        print(self.curr_max)\n",
    "        self.curr_max[0] = 3\n",
    "        print(self.curr_max)\n",
    "        self.curr_max[0] = 3\n",
    "        print(self.curr_max)\n",
    "sol = Solution()\n",
    "sol.print()"
   ]
  },
  {
   "cell_type": "code",
   "execution_count": 20,
   "metadata": {},
   "outputs": [
    {
     "data": {
      "text/plain": [
       "3"
      ]
     },
     "execution_count": 20,
     "metadata": {},
     "output_type": "execute_result"
    }
   ],
   "source": [
    "\n",
    "class Solution:\n",
    "    good_nodes =  [1] # root is always good\n",
    "    def goodNodes(self, root):\n",
    "        def findNextGood(root, curr_max=-100000):\n",
    "            if root is None:\n",
    "                return \n",
    "            if root.val>=curr_max:\n",
    "                curr_max=root.val\n",
    "                self.good_nodes[0]+=1\n",
    "            findNextGood(root.left, curr_max)\n",
    "            findNextGood(root.right, curr_max)\n",
    "        findNextGood(root.left)\n",
    "        findNextGood(root.right)\n",
    "        return self.good_nodes[0]\n",
    "# root = TreeNode(3,TreeNode(1, TreeNode(3)),TreeNode(4,TreeNode(1),TreeNode(5)))\n",
    "# root = TreeNode(3,TreeNode(3,TreeNode(1),TreeNode(2)))\n",
    "# [3,3,null,4,2]\n",
    "root = TreeNode(3,TreeNode(3,TreeNode(4),TreeNode(2)), None)\n",
    "# root = TreeNode(1)\n",
    "soln  = Solution()\n",
    "soln.goodNodes(root)\n",
    "# store path from root to x = path_arr\n",
    "# if x > max path_arr[1:]  add 1"
   ]
  },
  {
   "cell_type": "markdown",
   "metadata": {},
   "source": [
    "Soln"
   ]
  },
  {
   "cell_type": "code",
   "execution_count": 21,
   "metadata": {},
   "outputs": [
    {
     "data": {
      "text/plain": [
       "3"
      ]
     },
     "execution_count": 21,
     "metadata": {},
     "output_type": "execute_result"
    }
   ],
   "source": [
    "\n",
    "class Solution:\n",
    "    def goodNodes(self, root):\n",
    "        def findNextGood(root, curr_max):\n",
    "            if root is None:\n",
    "                return 0\n",
    "            total_good = 0\n",
    "            if root.val >= curr_max:\n",
    "                total_good+=1\n",
    "                curr_max = root.val\n",
    "            total_good+=findNextGood(root.left, curr_max)\n",
    "            total_good+=findNextGood(root.right, curr_max)\n",
    "            return total_good\n",
    "        if root is None:\n",
    "            return 0\n",
    "        return findNextGood(root,root.val)\n",
    "root = TreeNode(3,TreeNode(3,TreeNode(4),TreeNode(2)), None)\n",
    "# root = TreeNode(1)\n",
    "soln  = Solution()\n",
    "soln.goodNodes(root)\n",
    "# store path from root to x = path_arr\n",
    "# if x > max path_arr[1:]  add 1"
   ]
  },
  {
   "cell_type": "code",
   "execution_count": 22,
   "metadata": {},
   "outputs": [
    {
     "data": {
      "text/plain": [
       "3"
      ]
     },
     "execution_count": 22,
     "metadata": {},
     "output_type": "execute_result"
    }
   ],
   "source": [
    "\n",
    "class Solution:\n",
    "    def goodNodes(self, root):\n",
    "            good_nodes = 0\n",
    "            stk = [(root,float('-inf'))]\n",
    "            while stk:\n",
    "                node, largest = stk.pop()\n",
    "                if node.val >=largest:\n",
    "                    good_nodes+=1\n",
    "                largest = max(largest,node.val)\n",
    "                if node.right:stk.append((node.right,largest))\n",
    "                if node.left:stk.append((node.left,largest))\n",
    "            return good_nodes\n",
    "root = TreeNode(3,TreeNode(3,TreeNode(4),TreeNode(2)), None)\n",
    "# root = TreeNode(1)\n",
    "soln  = Solution()\n",
    "soln.goodNodes(root)\n",
    "# store path from root to x = path_arr\n",
    "# if x > max path_arr[1:]  add 1"
   ]
  }
 ],
 "metadata": {
  "kernelspec": {
   "display_name": "langgraph",
   "language": "python",
   "name": "python3"
  },
  "language_info": {
   "codemirror_mode": {
    "name": "ipython",
    "version": 3
   },
   "file_extension": ".py",
   "mimetype": "text/x-python",
   "name": "python",
   "nbconvert_exporter": "python",
   "pygments_lexer": "ipython3",
   "version": "3.12.3"
  }
 },
 "nbformat": 4,
 "nbformat_minor": 2
}
