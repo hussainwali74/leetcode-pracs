{
 "cells": [
  {
   "cell_type": "markdown",
   "metadata": {},
   "source": [
    "### Problem Description\n",
    "\n",
    "You are a professional robber planning to rob houses along a street arranged in a circle. Each house has a certain amount of money, and adjacent houses are connected to a security system that triggers the police if two adjacent houses are robbed on the same night.\n",
    "\n",
    "Given an integer array `nums` representing the amount of money in each house, return the maximum amount of money you can rob without triggering the alarm.\n",
    "\n",
    "---\n",
    "\n",
    "### Example 1:\n",
    "**Input:**  \n",
    "`nums = [2,3,2]`  \n",
    "**Output:**  \n",
    "`3`  \n",
    "**Explanation:**  \n",
    "You cannot rob house 1 (money = 2) and then rob house 3 (money = 2) since they are adjacent. The maximum money you can rob is `3`.\n",
    "\n",
    "---\n",
    "\n",
    "### Example 2:\n",
    "**Input:**  \n",
    "`nums = [1,2,3,1]`  \n",
    "**Output:**  \n",
    "`4`  \n",
    "**Explanation:**  \n",
    "Rob house 1 (money = 1) and house 3 (money = 3).  \n",
    "Total money robbed = `1 + 3 = 4`.\n",
    "\n",
    "---\n",
    "\n",
    "### Example 3:\n",
    "**Input:**  \n",
    "`nums = [1,2,3]`  \n",
    "**Output:**  \n",
    "`3`  \n",
    "**Explanation:**  \n",
    "Rob house 3 (money = 3).\n",
    "\n",
    "---\n",
    "\n",
    "### Constraints:\n",
    "- `1 <= nums.length <= 100`\n",
    "- `0 <= nums[i] <= 1000`\n",
    "\n",
    "---\n",
    "\n",
    "### Approach:\n",
    "Since the houses are arranged in a circle:\n",
    "1. Treat the problem as two separate linear house robber problems:\n",
    "   - Rob houses from index `0` to `n-2` (excluding the last house).\n",
    "   - Rob houses from index `1` to `n-1` (excluding the first house).\n",
    "2. Use the linear house robber dynamic programming approach for each case.\n",
    "3. Return the maximum of the two results.\n"
   ]
  },
  {
   "cell_type": "code",
   "execution_count": 26,
   "metadata": {},
   "outputs": [
    {
     "data": {
      "text/plain": [
       "([0, 2], [1, 2])"
      ]
     },
     "execution_count": 26,
     "metadata": {},
     "output_type": "execute_result"
    }
   ],
   "source": [
    "nums = [200,3,140,20,10]\n",
    "nums = [2,3,2]\n",
    "nums = [1,2,3,1]\n",
    "nums = [1,2,3]\n",
    "n = len(nums)\n",
    "\n",
    "dp = [-1]*(n-1)\n",
    "dp[0] = nums[0]\n",
    "dp[1]= max(nums[0],nums[1])\n",
    "\n",
    "dp1 = [-1]*(n-1)\n",
    "dp1[0] = 0\n",
    "dp1[1] = nums[1]\n",
    "\n",
    "for i in range(2, n-1):\n",
    "    steal = nums[i]+dp[i-2]\n",
    "    skip = dp[i-1]\n",
    "    # dp[i] = i\n",
    "    dp[i] = max(steal,skip)\n",
    "\n",
    "for j in range(2,n-1):\n",
    "    steal = nums[j]+dp[j-2]\n",
    "    skip = dp[j-1]\n",
    "    dp1[i] = max(steal,skip)\n",
    "# max(max(dp1), max(dp))\n",
    "dp1,dp"
   ]
  },
  {
   "cell_type": "code",
   "execution_count": 40,
   "metadata": {},
   "outputs": [
    {
     "name": "stdout",
     "output_type": "stream",
     "text": [
      "3\n",
      "2 3\n"
     ]
    },
    {
     "data": {
      "text/plain": [
       "3"
      ]
     },
     "execution_count": 40,
     "metadata": {},
     "output_type": "execute_result"
    }
   ],
   "source": [
    "nums = [1,2,3,1]\n",
    "nums = [1,2,3]\n",
    "n = len(nums)\n",
    "def solve(nums, i, n):\n",
    "    if i>n:\n",
    "        return 0\n",
    "\n",
    "    if t[i] !=-1:\n",
    "        return t[i]\n",
    "    \n",
    "    steal = nums[i]+solve(nums,i+2,n)\n",
    "    skip = solve(nums, i+1,n)\n",
    "\n",
    "    t[i] = max(steal, skip)\n",
    "    return t[i]\n",
    "# case 1: take first house 0th index wala house\n",
    "\n",
    "t = [-1]*n\n",
    "zeroth_house = solve(nums,0,n-2)\n",
    "t = [-1]*n\n",
    "first_house = solve(nums,1,n-1 )\n",
    "\n",
    "print(first_house)\n",
    "print(zeroth_house,first_house)\n",
    "max(zeroth_house,first_house)"
   ]
  }
 ],
 "metadata": {
  "kernelspec": {
   "display_name": "base",
   "language": "python",
   "name": "python3"
  },
  "language_info": {
   "codemirror_mode": {
    "name": "ipython",
    "version": 3
   },
   "file_extension": ".py",
   "mimetype": "text/x-python",
   "name": "python",
   "nbconvert_exporter": "python",
   "pygments_lexer": "ipython3",
   "version": "3.12.7"
  }
 },
 "nbformat": 4,
 "nbformat_minor": 2
}
