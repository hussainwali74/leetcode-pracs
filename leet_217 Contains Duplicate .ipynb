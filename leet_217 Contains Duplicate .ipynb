{
 "cells": [
  {
   "cell_type": "code",
   "execution_count": 1,
   "metadata": {},
   "outputs": [],
   "source": [
    "#accepted\n",
    "\n",
    "from typing import List\n",
    "class Solution:\n",
    "    def containsDuplicate(self, nums: List[int]) -> bool:\n",
    "        return len(list(set(nums))) != len(nums)"
   ]
  },
  {
   "cell_type": "code",
   "execution_count": null,
   "metadata": {},
   "outputs": [],
   "source": [
    "# max time overflow\n",
    "class Solution:\n",
    "    def containsDuplicate(self, nums: List[int]) -> bool:\n",
    "        d  = []\n",
    "        for n in nums:\n",
    "            if n not in d:\n",
    "                d.append(n)\n",
    "            else:\n",
    "                return True\n",
    "        return False\n"
   ]
  },
  {
   "cell_type": "markdown",
   "metadata": {},
   "source": [
    "Time Complexity: The in operation on a list takes \n",
    "\n",
    "𝑂(𝑛)\n",
    "\n",
    "O(n) time in the worst case, where  𝑛 is the number of elements in the list d. For each element in nums, you are potentially scanning the entire list d to check if the element is present, leading to a time complexity of 𝑂(𝑛^2).\n",
    "\n",
    "Performance: As the list grows, the time to check for the existence of an element in the list increases. This leads to a significant slowdown, especially with large inputs, and can cause the code to exceed the time limit in competitive programming."
   ]
  },
  {
   "cell_type": "markdown",
   "metadata": {},
   "source": [
    "### using hash set"
   ]
  },
  {
   "cell_type": "code",
   "execution_count": 3,
   "metadata": {},
   "outputs": [],
   "source": [
    "class Solution:\n",
    "    def containsDuplicate(self, nums: List[int]) -> bool:\n",
    "        h = set()\n",
    "        for n in nums:\n",
    "            if n in h:\n",
    "                return True\n",
    "            h.add(n)\n",
    "        return False"
   ]
  },
  {
   "cell_type": "markdown",
   "metadata": {},
   "source": [
    "Time Complexity: The in operation on a set takes \n",
    "\n",
    "𝑂(1)\n",
    "\n",
    "O(1) time on average due to the underlying hash table implementation. This means checking for the existence of an element in the \n",
    "\n",
    "set is very fast, regardless of the size of the set.\n",
    "\n",
    "\n",
    "Performance: The set provides a significant speed advantage because it allows constant time complexity for both the in check and \n",
    "\n",
    "the add operation. This efficiency makes the set-based solution much faster and suitable for handling large inputs without \n",
    "\n",
    "exceeding the time limit."
   ]
  }
 ],
 "metadata": {
  "kernelspec": {
   "display_name": "langgraph",
   "language": "python",
   "name": "python3"
  },
  "language_info": {
   "codemirror_mode": {
    "name": "ipython",
    "version": 3
   },
   "file_extension": ".py",
   "mimetype": "text/x-python",
   "name": "python",
   "nbconvert_exporter": "python",
   "pygments_lexer": "ipython3",
   "version": "3.12.3"
  }
 },
 "nbformat": 4,
 "nbformat_minor": 2
}
