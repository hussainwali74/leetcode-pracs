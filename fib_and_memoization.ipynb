{
 "cells": [
  {
   "cell_type": "markdown",
   "metadata": {},
   "source": [
    "# this takes more than 3 minute to run :"
   ]
  },
  {
   "cell_type": "code",
   "execution_count": null,
   "metadata": {},
   "outputs": [],
   "source": [
    "def fib(n):\n",
    "    if n==0 or n==1:\n",
    "        return n\n",
    "    return fib(n-1)+fib(n-2)\n",
    "arr = []\n",
    "for i in range(100):\n",
    "    arr.append(fib(i))\n",
    "arr\n"
   ]
  },
  {
   "cell_type": "markdown",
   "metadata": {},
   "source": [
    "# make it faster\n",
    "The given Fibonacci function is inefficient due to its exponential time complexity, which results from repeated calculations of the same Fibonacci numbers. We can optimize it using memoization or by using an iterative approach. Here are both methods:"
   ]
  },
  {
   "cell_type": "markdown",
   "metadata": {},
   "source": [
    "## Method 1: Memoization\n",
    "Memoization stores previously computed values to avoid redundant calculations.\n",
    "\n"
   ]
  },
  {
   "cell_type": "code",
   "execution_count": null,
   "metadata": {},
   "outputs": [],
   "source": [
    "def fib_memo(n, memo={}):\n",
    "    if n in memo:\n",
    "        return memo[n]\n",
    "    if n == 0 or n == 1:\n",
    "        return n\n",
    "    memo[n] = fib_memo(n-1, memo) + fib_memo(n-2, memo)\n",
    "    return memo[n]\n",
    "\n",
    "arr = [fib_memo(i) for i in range(100)]\n",
    "print(arr)\n"
   ]
  },
  {
   "cell_type": "markdown",
   "metadata": {},
   "source": [
    "Memoization is an optimization technique used to speed up function calls by storing the results of expensive function calls and reusing them when the same inputs occur again. Here’s a detailed explanation of how memoization works in the context of the Fibonacci sequence:"
   ]
  },
  {
   "cell_type": "markdown",
   "metadata": {},
   "source": [
    "### How It Works:\n",
    "1. **Base Case Check**: If `n` is 0 or 1, return `n` immediately since these are the base cases of the Fibonacci sequence.\n",
    "2. **Memoization Check**: Before computing the Fibonacci number for n, check if it is already in the memo dictionary. If it is, return the stored value to avoid redundant computation.\n",
    "3. **Recursive Calculation**: If the value is not in the memo dictionary, compute it using the recursive relation `fib(n-1) + fib(n-2)`.\n",
    "4. **Store Result**: Store the computed Fibonacci number in the memo dictionary.\n",
    "5. **Return Result**: Return the computed Fibonacci number."
   ]
  },
  {
   "cell_type": "markdown",
   "metadata": {},
   "source": [
    "This approach reduces the time complexity from exponential `O(2^n)` to linear `𝑂(𝑛)`,\n",
    "\n",
    " because each Fibonacci number from 0 to n is calculated only once and then stored for future use."
   ]
  },
  {
   "cell_type": "markdown",
   "metadata": {},
   "source": [
    "## Method 2: Iterative Approach\n",
    "The iterative approach is straightforward and avoids the overhead of function calls.\n",
    "\n"
   ]
  },
  {
   "cell_type": "code",
   "execution_count": null,
   "metadata": {},
   "outputs": [],
   "source": [
    "def fib_iter(n):\n",
    "    if n == 0:\n",
    "        return 0\n",
    "    elif n == 1:\n",
    "        return 1\n",
    "    \n",
    "    a, b = 0, 1\n",
    "    for _ in range(2, n+1):\n",
    "        a, b = b, a + b\n",
    "    return b\n",
    "\n",
    "arr = [fib_iter(i) for i in range(100)]\n",
    "print(arr)\n"
   ]
  },
  {
   "cell_type": "markdown",
   "metadata": {},
   "source": [
    "The iterative approach computes the Fibonacci sequence using a bottom-up approach, starting from the base cases and iteratively building up to the desired Fibonacci number. This avoids the overhead of recursive function calls and is straightforward to implement.\n",
    "\n",
    "### How It Works:\n",
    "1. **Base Cases**: Directly return 0 for `n = 0` and 1 for `n = 1`.\n",
    "2. **Initialization**: Initialize two variables a and b to represent the two most recent Fibonacci numbers, starting with fib(0) and fib(1).\n",
    "3. **Iteration**: Use a loop to iteratively compute the next Fibonacci number by updating a and b. For each iteration, set a to b and b to a + b.\n",
    "4. **Return Result**: After the loop, b will contain the Fibonacci number for n.\n",
    "\n",
    "This approach has a time complexity of `O(n)` and a space complexity of `O(1)`, making it very efficient."
   ]
  },
  {
   "cell_type": "markdown",
   "metadata": {},
   "source": [
    "## Comparison:\n",
    "### Memoization:\n",
    "- Pros: Easily transforms the recursive approach into an efficient one.\n",
    "- Cons: Uses additional space to store computed values (memo dictionary).\n",
    "### Iterative Approach:\n",
    "- Pros: Simple and uses constant space.\n",
    "- Cons: Might be less intuitive for those familiar with the recursive definition of Fibonacci."
   ]
  }
 ],
 "metadata": {
  "language_info": {
   "name": "python"
  }
 },
 "nbformat": 4,
 "nbformat_minor": 2
}
