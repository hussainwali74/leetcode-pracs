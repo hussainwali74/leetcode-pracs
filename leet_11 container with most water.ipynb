{
 "cells": [
  {
   "cell_type": "markdown",
   "metadata": {},
   "source": [
    "### Problem Description\n",
    "\n",
    "#### Medium \n",
    "\n",
    "You are given an integer array `height` of length `n`. There are `n` vertical lines drawn such that the two endpoints of the `i`th line are `(i, 0)` and `(i, height[i])`.\n",
    "\n",
    "Find two lines that, together with the x-axis, form a container such that the container holds the most water.\n",
    "\n",
    "Return the maximum amount of water the container can store.\n",
    "\n",
    "**Notice:** You may not slant the container.\n",
    "\n",
    "---\n",
    "\n",
    "### Example 1:\n",
    "![image.png](https://s3-lc-upload.s3.amazonaws.com/uploads/2018/07/17/question_11.jpg)\n",
    "\n",
    "**Input:**  \n",
    "`height = [1,8,6,2,5,4,8,3,7]`  \n",
    "**Output:**  \n",
    "`49`  \n",
    "**Explanation:**  \n",
    "The vertical lines are represented by the array `[1,8,6,2,5,4,8,3,7]`. The maximum area of water the container can hold (blue section) is `49`.\n",
    "\n",
    "---\n",
    "\n",
    "### Example 2:\n",
    "**Input:**  \n",
    "`height = [1,1]`  \n",
    "**Output:**  \n",
    "`1`  \n",
    "**Explanation:**  \n",
    "The only possible container can hold an area of `1`.\n",
    "\n",
    "---\n",
    "\n",
    "### Constraints:\n",
    "- `n == height.length`\n",
    "- `2 <= n <= 10^5`\n",
    "- `0 <= height[i] <= 10^4`\n"
   ]
  },
  {
   "cell_type": "code",
   "execution_count": 4,
   "metadata": {},
   "outputs": [
    {
     "data": {
      "text/plain": [
       "36"
      ]
     },
     "execution_count": 4,
     "metadata": {},
     "output_type": "execute_result"
    }
   ],
   "source": [
    "# nums = [1,2, 4,3,2,1]\n",
    "nums = [1,8,6,2,5,4,8,3,7]\n",
    "\n",
    "l = 0\n",
    "r = len(nums)-1\n",
    "max_h = 0\n",
    "while l<r:\n",
    "    L = nums[l]\n",
    "    R = nums[r]\n",
    "    h = min(L,R)\n",
    "    max_h+=h\n",
    "    \n",
    "    if L>R:\n",
    "        r-=1\n",
    "    else:\n",
    "        l+=1\n",
    "max_h\n",
    "    "
   ]
  },
  {
   "cell_type": "code",
   "execution_count": 13,
   "metadata": {},
   "outputs": [
    {
     "data": {
      "text/plain": [
       "{0: {'arr': [1, 1, 1, 1, 1, 1, 1, 1], 'sum': 8},\n",
       " 1: {'arr': [6, 2, 5, 4, 8, 3, 7], 'sum': 35},\n",
       " 2: {'arr': [2, 5, 4, 6, 3, 6], 'sum': 26},\n",
       " 3: {'arr': [2, 2, 2, 2, 2], 'sum': 10},\n",
       " 4: {'arr': [4, 5, 3, 5], 'sum': 17},\n",
       " 5: {'arr': [4, 3, 4], 'sum': 11},\n",
       " 6: {'arr': [3, 7], 'sum': 10},\n",
       " 7: {'arr': [3], 'sum': 3},\n",
       " 8: {'arr': [], 'sum': 0}}"
      ]
     },
     "execution_count": 13,
     "metadata": {},
     "output_type": "execute_result"
    }
   ],
   "source": [
    "\n",
    "p = nums[0]\n",
    "h = 0\n",
    "d = {}\n",
    "for i in range(len(nums)):\n",
    "    d[i]= {}\n",
    "    arr = []\n",
    "    for j in range(i+1, len(nums)):\n",
    "        dif = min(nums[i], nums[j])\n",
    "        arr.append(dif) \n",
    "    d[i]['arr']=arr \n",
    "    d[i]['sum']=sum(arr) \n",
    "d"
   ]
  },
  {
   "cell_type": "code",
   "execution_count": 3,
   "metadata": {},
   "outputs": [
    {
     "name": "stdout",
     "output_type": "stream",
     "text": [
      "0\n",
      "1\n",
      "2\n",
      "3\n",
      "4\n",
      "5\n",
      "6\n",
      "7\n",
      "8\n"
     ]
    },
    {
     "data": {
      "text/plain": [
       "(49, [1, 8, 6, 2, 5, 4, 8, 3, 7])"
      ]
     },
     "execution_count": 3,
     "metadata": {},
     "output_type": "execute_result"
    }
   ],
   "source": [
    "res = 0\n",
    "height = [1, 8, 6, 2, 5, 4, 8, 3, 7]\n",
    "for l in range(len(height)):\n",
    "    print(l)\n",
    "    for r in range(l+1, len(height)):\n",
    "        area = (r-l)* min(height[l],height[r])\n",
    "        res = max(area,res)\n",
    "res, height"
   ]
  },
  {
   "cell_type": "markdown",
   "metadata": {},
   "source": [
    "### Solution"
   ]
  },
  {
   "cell_type": "code",
   "execution_count": 5,
   "metadata": {},
   "outputs": [],
   "source": [
    "from typing import List\n",
    "class Solution:\n",
    "    \n",
    "    def max_area(self, height):\n",
    "        res = 0\n",
    "        l = 0\n",
    "        r  = len(height)-1\n",
    "        \n",
    "        while l<r:\n",
    "            # r - l is the width\n",
    "            area = (r-1)* min(height[l],height[r])\n",
    "            res = max(res, area)\n",
    "            \n",
    "            if height[l]< height[r]:\n",
    "                l+=1\n",
    "            elif height[l]>=height[r]:\n",
    "                r-=1\n",
    "        return res"
   ]
  },
  {
   "cell_type": "code",
   "execution_count": null,
   "metadata": {},
   "outputs": [],
   "source": [
    "class Solution:\n",
    "    def maxArea(self, height: List[int]) -> int:\n",
    "        m = max(height)\n",
    "        left, right = 0, len(height)-1\n",
    "        res = 0\n",
    "                \n",
    "        while  left < right:\n",
    "            leftval= height[left]\n",
    "            rightval =height[right]    \n",
    "            a = (right - left) * (min(leftval, rightval))\n",
    "            res = max( a, res)\n",
    "            \n",
    "            if leftval < rightval:\n",
    "                left += 1\n",
    "            else:\n",
    "                right -= 1\n",
    "                \n",
    "            if res > (right - left) * m:\n",
    "                break\n",
    "\n",
    "        return res\n",
    "            "
   ]
  },
  {
   "cell_type": "markdown",
   "metadata": {},
   "source": [
    "### prac\n"
   ]
  },
  {
   "cell_type": "code",
   "execution_count": null,
   "metadata": {},
   "outputs": [],
   "source": [
    "height = [1,8,6,2,5,4,8,3,7]\n"
   ]
  },
  {
   "cell_type": "code",
   "execution_count": 14,
   "metadata": {},
   "outputs": [
    {
     "name": "stdout",
     "output_type": "stream",
     "text": [
      "------------------------------------\n",
      "area=3 l=0 r=3 L=8 R=1\n",
      "------------------------------------\n",
      "------------------------------------\n",
      "area=4 l=0 r=2 L=8 R=2\n",
      "------------------------------------\n",
      "------------------------------------\n",
      "area=7 l=0 r=1 L=8 R=7\n",
      "------------------------------------\n"
     ]
    },
    {
     "data": {
      "text/plain": [
       "7"
      ]
     },
     "execution_count": 14,
     "metadata": {},
     "output_type": "execute_result"
    }
   ],
   "source": [
    "# 30/09/2024\n",
    "\n",
    "height = [1,8,6,2,5,4,8,3,7]\n",
    "height = [8,7,2,1] # 7o\n",
    "res = 0\n",
    "l = 0\n",
    "r = len(height)-1\n",
    "m = max(height)\n",
    "while l<r:\n",
    "    L = height[l]\n",
    "    R = height[r]\n",
    "    area = (r-l)* min(L,R)\n",
    "    print('------------------------------------');\n",
    "    print(f'{area=} {l=} {r=} {L=} {R=}');\n",
    "    print('------------------------------------');\n",
    "    res = max(res,area)\n",
    "    if L<R:\n",
    "        l+=1\n",
    "    elif L>=R:\n",
    "        r-=1\n",
    "    # if L>R:\n",
    "    #     r-=1\n",
    "    # else:\n",
    "    #     l+=1\n",
    "    if res > (r - l) * m:\n",
    "        break\n",
    " \n",
    "res"
   ]
  },
  {
   "cell_type": "markdown",
   "metadata": {},
   "source": []
  },
  {
   "cell_type": "code",
   "execution_count": 16,
   "metadata": {},
   "outputs": [
    {
     "data": {
      "text/plain": [
       "1"
      ]
     },
     "execution_count": 16,
     "metadata": {},
     "output_type": "execute_result"
    }
   ],
   "source": []
  }
 ],
 "metadata": {
  "kernelspec": {
   "display_name": "langgraph",
   "language": "python",
   "name": "python3"
  },
  "language_info": {
   "codemirror_mode": {
    "name": "ipython",
    "version": 3
   },
   "file_extension": ".py",
   "mimetype": "text/x-python",
   "name": "python",
   "nbconvert_exporter": "python",
   "pygments_lexer": "ipython3",
   "version": "3.12.3"
  }
 },
 "nbformat": 4,
 "nbformat_minor": 2
}
