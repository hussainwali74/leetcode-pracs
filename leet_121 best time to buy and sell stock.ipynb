{
 "cells": [
  {
   "cell_type": "code",
   "execution_count": null,
   "metadata": {},
   "outputs": [],
   "source": []
  },
  {
   "cell_type": "markdown",
   "metadata": {},
   "source": []
  },
  {
   "cell_type": "markdown",
   "metadata": {},
   "source": [
    "### time limit exceeds O(n^2)"
   ]
  },
  {
   "cell_type": "code",
   "execution_count": 8,
   "metadata": {},
   "outputs": [
    {
     "data": {
      "text/plain": [
       "5"
      ]
     },
     "execution_count": 8,
     "metadata": {},
     "output_type": "execute_result"
    }
   ],
   "source": [
    "class Solution:\n",
    "    def maxProfit(self,prices):\n",
    "        profit = 0\n",
    "        for j in range(len(prices)-1):\n",
    "            for i in range(j+1, len(prices)):\n",
    "                profit = max(profit, prices[i]-prices[j])\n",
    "        return profit\n",
    "\n",
    "prices = [7,1,5,3,6,4]\n",
    "\n",
    "sol = Solution()\n",
    "\n",
    "sol.maxProfit(prices)"
   ]
  },
  {
   "cell_type": "markdown",
   "metadata": {},
   "source": [
    "### Solution"
   ]
  },
  {
   "cell_type": "code",
   "execution_count": 7,
   "metadata": {},
   "outputs": [
    {
     "name": "stdout",
     "output_type": "stream",
     "text": [
      "------------------------------------\n",
      "mi=inf p=7 p<mi=True\n",
      "------------------------------------\n",
      "------------------------------------\n",
      "mi=7 p=1 p<mi=True\n",
      "------------------------------------\n",
      "------------------------------------\n",
      "mi=1 p=5 p<mi=False\n",
      "------------------------------------\n",
      "------------------------------------\n",
      "mi=1 p=3 p<mi=False\n",
      "------------------------------------\n",
      "------------------------------------\n",
      "mi=1 p=6 p<mi=False\n",
      "------------------------------------\n",
      "------------------------------------\n",
      "mi=1 p=4 p<mi=False\n",
      "------------------------------------\n"
     ]
    },
    {
     "data": {
      "text/plain": [
       "5"
      ]
     },
     "execution_count": 7,
     "metadata": {},
     "output_type": "execute_result"
    }
   ],
   "source": [
    "class Solution:\n",
    "    def maxProfit(self,prices):\n",
    "        mi, ma = float('inf'), 0\n",
    "        for p in prices:\n",
    "            if p < mi:\n",
    "                mi = p\n",
    "            elif p - mi > ma:\n",
    "                ma = p - mi\n",
    "        return ma\n",
    "\n",
    "prices = [7,1,5,3,6,4]\n",
    "\n",
    "sol = Solution()\n",
    "\n",
    "sol.maxProfit(prices)"
   ]
  }
 ],
 "metadata": {
  "kernelspec": {
   "display_name": "langgraph",
   "language": "python",
   "name": "python3"
  },
  "language_info": {
   "codemirror_mode": {
    "name": "ipython",
    "version": 3
   },
   "file_extension": ".py",
   "mimetype": "text/x-python",
   "name": "python",
   "nbconvert_exporter": "python",
   "pygments_lexer": "ipython3",
   "version": "3.12.3"
  }
 },
 "nbformat": 4,
 "nbformat_minor": 2
}
