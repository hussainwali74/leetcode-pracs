{
 "cells": [
  {
   "cell_type": "code",
   "execution_count": 53,
   "metadata": {},
   "outputs": [
    {
     "data": {
      "text/plain": [
       "[11, 12, 14]"
      ]
     },
     "execution_count": 53,
     "metadata": {},
     "output_type": "execute_result"
    }
   ],
   "source": [
    "x = [11,12,13,14]\n",
    "x.pop(2)\n",
    "x"
   ]
  },
  {
   "cell_type": "markdown",
   "metadata": {},
   "source": [
    "# mine\n"
   ]
  },
  {
   "cell_type": "code",
   "execution_count": 1,
   "metadata": {},
   "outputs": [
    {
     "data": {
      "text/plain": [
       "['c']"
      ]
     },
     "execution_count": 1,
     "metadata": {},
     "output_type": "execute_result"
    }
   ],
   "source": [
    "# words = [\"cool\",\"loock\",\"cook\"]\n",
    "# words=[\"bella\",\"label\",\"roller\"]\n",
    "words = [\"bbddaabc\",\"bacdbbaa\",\"dbbddcdc\",\"ddaddacd\",\"cbbacbcc\",\"acabdadb\",\"cadcaacb\",\"dbcacbbd\"]\n",
    "\n",
    "w = words[0]\n",
    "j = 0\n",
    "res=[]\n",
    "while j<=len(w)-1:\n",
    "    is_in = True\n",
    "    for i in range(1,len(words)):\n",
    "        word = words[i]\n",
    "        if w[j] not in word:\n",
    "            is_in = False\n",
    "    if is_in:\n",
    "        for i in range(1, len(words)):\n",
    "            word_rr = [k for k in words[i]]\n",
    "            j_index = words[i].index(w[j])\n",
    "            word_rr.pop(j_index)\n",
    "            words[i]=''.join(word_rr)\n",
    "        res.append(w[j])\n",
    "    j+=1\n",
    "res"
   ]
  },
  {
   "cell_type": "markdown",
   "metadata": {},
   "source": [
    "# optimal"
   ]
  },
  {
   "cell_type": "code",
   "execution_count": 2,
   "metadata": {},
   "outputs": [
    {
     "name": "stdout",
     "output_type": "stream",
     "text": [
      "b [1, 1, 0]\n",
      "e [1, 1, 1]\n",
      "l [2, 2, 2]\n",
      "a [1, 1, 0]\n"
     ]
    },
    {
     "data": {
      "text/plain": [
       "(['e', 'l', 'l'], {'a', 'b', 'e', 'l'})"
      ]
     },
     "execution_count": 2,
     "metadata": {},
     "output_type": "execute_result"
    }
   ],
   "source": [
    "words=[\"bella\",\"label\",\"roller\"]\n",
    "\n",
    "s = set(words[0])\n",
    "res = []\n",
    "for ch in s:\n",
    "    word_counts = []\n",
    "    for word in words:\n",
    "        word_counts.append(word.count(ch))\n",
    "    print(ch, word_counts)\n",
    "    freq = min(word_counts)\n",
    "    res+=ch*freq\n",
    "res,s"
   ]
  },
  {
   "cell_type": "code",
   "execution_count": 5,
   "metadata": {},
   "outputs": [
    {
     "name": "stdout",
     "output_type": "stream",
     "text": [
      "[1, 1, 0] b\n",
      "[1, 1, 1] e\n",
      "[2, 2, 2] l\n",
      "[1, 1, 0] a\n"
     ]
    },
    {
     "data": {
      "text/plain": [
       "['', 'e', 'll', '']"
      ]
     },
     "execution_count": 5,
     "metadata": {},
     "output_type": "execute_result"
    }
   ],
   "source": [
    "words=[\"bella\",\"label\",\"roller\"]\n",
    "chars_set = set(words[0])\n",
    "res = []\n",
    "for char in chars_set:\n",
    "    counts_rr = []\n",
    "    for word in words:\n",
    "        counts_rr.append(word.count(char))\n",
    "    print(counts_rr, char)\n",
    "    min_ = min(counts_rr)\n",
    "    res.append(char*min_)\n",
    "res"
   ]
  },
  {
   "cell_type": "code",
   "execution_count": 6,
   "metadata": {},
   "outputs": [
    {
     "name": "stdout",
     "output_type": "stream",
     "text": [
      "[1, 1, 0] b\n",
      "[1, 1, 1] e\n",
      "[2, 2, 2] l\n",
      "[1, 1, 0] a\n"
     ]
    },
    {
     "data": {
      "text/plain": [
       "['e', 'l', 'l']"
      ]
     },
     "execution_count": 6,
     "metadata": {},
     "output_type": "execute_result"
    }
   ],
   "source": [
    "words=[\"bella\",\"label\",\"roller\"]\n",
    "chars_set = set(words[0])\n",
    "res = []\n",
    "for char in chars_set:\n",
    "    counts_rr = []\n",
    "    for word in words:\n",
    "        counts_rr.append(word.count(char))\n",
    "    print(counts_rr, char)\n",
    "    min_ = min(counts_rr)\n",
    "    res+=char*min_\n",
    "res"
   ]
  },
  {
   "cell_type": "code",
   "execution_count": 43,
   "metadata": {},
   "outputs": [
    {
     "name": "stdout",
     "output_type": "stream",
     "text": [
      "14\n"
     ]
    },
    {
     "data": {
      "text/plain": [
       "[1, 3, 5, 7, 9, 11, 13]"
      ]
     },
     "execution_count": 43,
     "metadata": {},
     "output_type": "execute_result"
    }
   ],
   "source": [
    "# generate n odd numbers\n",
    "n=7\n",
    "arr = [1]\n",
    "i=1\n",
    "while len(arr) !=7:\n",
    "    if i%2!=0:\n",
    "        arr+=[i+2]\n",
    "    i+=1\n",
    "\n",
    "arr = []\n",
    "print(n*2)\n",
    "for i in range(1, n*2, 2):\n",
    "    arr.append(i)\n",
    "arr"
   ]
  },
  {
   "cell_type": "code",
   "execution_count": 44,
   "metadata": {},
   "outputs": [
    {
     "name": "stdout",
     "output_type": "stream",
     "text": [
      "[1, 3, 5, 7, 9, 11, 13]\n"
     ]
    }
   ],
   "source": [
    "n = 7\n",
    "arr = [1]  # Start with the first odd number (1)\n",
    "i = 1\n",
    "\n",
    "while len(arr) < n:  # Use '<' for desired number of elements\n",
    "  i += 2  # Increment by 2 to get the next odd number\n",
    "  arr.append(i)\n",
    "\n",
    "print(arr)  # Print the final list\n"
   ]
  },
  {
   "cell_type": "code",
   "execution_count": 48,
   "metadata": {},
   "outputs": [],
   "source": [
    "for i in range(0,0):\n",
    "    print('----')"
   ]
  },
  {
   "cell_type": "code",
   "execution_count": 29,
   "metadata": {},
   "outputs": [
    {
     "name": "stdout",
     "output_type": "stream",
     "text": [
      "0\n",
      "1\n",
      "2\n",
      "4\n"
     ]
    }
   ],
   "source": [
    "\n",
    "for i in range(5):\n",
    "    if i==3:\n",
    "        continue\n",
    "    print(i)"
   ]
  },
  {
   "cell_type": "code",
   "execution_count": 52,
   "metadata": {},
   "outputs": [
    {
     "name": "stdout",
     "output_type": "stream",
     "text": [
      "    *\n",
      "   ***\n",
      "  *****\n",
      " *******\n",
      "*********\n"
     ]
    }
   ],
   "source": [
    "n = 5\n",
    "for i in range(n):\n",
    "    for j in range(n-1, i,-1):\n",
    "        print(' ', end='')\n",
    "    p=i+1\n",
    "    for k in range(p+p-1):\n",
    "        print('*',end='')\n",
    "    print()"
   ]
  },
  {
   "cell_type": "code",
   "execution_count": 51,
   "metadata": {},
   "outputs": [
    {
     "name": "stdout",
     "output_type": "stream",
     "text": [
      "['1', '2', 'Fizz', '4', 'Buzz', 'Fizz', '7', '8', 'Fizz', 'Buzz', '11', 'Fizz', '13', '14', 'fizzBuzz']\n"
     ]
    }
   ],
   "source": [
    "# A= 15\n",
    "def fizzBuzz( A):\n",
    "    arr = []\n",
    "    for i in range(1, A+1):\n",
    "        r=None\n",
    "        if i%3==0:\n",
    "            r=\"Fizz\"\n",
    "        if i%5==0:\n",
    "            r=\"Buzz\"\n",
    "        if i%3==0 and i%5==0:\n",
    "            r=\"FizzBuzz\"\n",
    "        arr.append(r or str(i))\n",
    "    return arr\n",
    "print(fizzBuzz(A))"
   ]
  },
  {
   "cell_type": "code",
   "execution_count": 5,
   "metadata": {},
   "outputs": [
    {
     "data": {
      "text/plain": [
       "4"
      ]
     },
     "execution_count": 5,
     "metadata": {},
     "output_type": "execute_result"
    }
   ],
   "source": [
    "s2=\"richie rich is very rich\"\n",
    "\n",
    "x = len(set(s2.split(' ')))\n",
    "x\n"
   ]
  },
  {
   "cell_type": "code",
   "execution_count": 21,
   "metadata": {},
   "outputs": [
    {
     "data": {
      "text/plain": [
       "True"
      ]
     },
     "execution_count": 21,
     "metadata": {},
     "output_type": "execute_result"
    }
   ],
   "source": [
    "\"more\" in unique_1"
   ]
  }
 ],
 "metadata": {
  "kernelspec": {
   "display_name": "ai",
   "language": "python",
   "name": "python3"
  },
  "language_info": {
   "codemirror_mode": {
    "name": "ipython",
    "version": 3
   },
   "file_extension": ".py",
   "mimetype": "text/x-python",
   "name": "python",
   "nbconvert_exporter": "python",
   "pygments_lexer": "ipython3",
   "version": "3.12.3"
  }
 },
 "nbformat": 4,
 "nbformat_minor": 2
}
