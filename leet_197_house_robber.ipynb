{
 "cells": [
  {
   "cell_type": "markdown",
   "metadata": {},
   "source": [
    "\n",
    "You are a professional robber planning to rob houses along a street. Each house has a certain amount of money stashed, the only constraint stopping you from robbing each of them is that adjacent houses have security systems connected and **it will automatically contact the police if two adjacent houses were broken into on the same night**.\n",
    "\n",
    "Given an integer array `nums` representing the amount of money of each house, return *the maximum amount of money you can rob tonight **without alerting the police***.\n",
    "\n",
    "**Example 1:**\n",
    "\n",
    "```\n",
    "Input: nums = [1,2,3,1]\n",
    "Output: 4\n",
    "Explanation: Rob house 1 (money = 1) and then rob house 3 (money = 3).\n",
    "Total amount you can rob = 1 + 3 = 4.\n",
    "```\n",
    "\n",
    "**Example 2:**\n",
    "\n",
    "```\n",
    "Input: nums = [2,7,9,3,1]\n",
    "Output: 12\n",
    "Explanation: Rob house 1 (money = 2), rob house 3 (money = 9) and rob house 5 (money = 1).\n",
    "Total amount you can rob = 2 + 9 + 1 = 12.\n",
    "```\n"
   ]
  },
  {
   "cell_type": "markdown",
   "metadata": {},
   "source": [
    "# Recursion\n"
   ]
  },
  {
   "cell_type": "code",
   "execution_count": null,
   "metadata": {},
   "outputs": [],
   "source": [
    "nums = [2,7,9,3,1]\n",
    "\n",
    "def TopDown(nums, i,n):\n",
    "    if i>= n:\n",
    "        return 0\n",
    "    steal = nums[i]+TopDown(nums,i+2, n)\n",
    "    skip = TopDown(nums, i+1,n)\n",
    "    return max(steal, skip)\n",
    "\n",
    "def rob(nums):\n",
    "    n = len(nums)\n",
    "    return TopDown(nums,0,n)\n",
    "rob(nums)"
   ]
  },
  {
   "cell_type": "markdown",
   "metadata": {},
   "source": [
    "# Recursion+Memo"
   ]
  },
  {
   "cell_type": "code",
   "execution_count": null,
   "metadata": {},
   "outputs": [],
   "source": [
    "nums = [2,7,9,3,1]\n",
    "\n",
    "t = [-1]* (len(nums)+1)\n",
    "def TopDown(nums, i,n):\n",
    "    if i>= n:\n",
    "        return 0\n",
    "    if t[i] != -1:\n",
    "        return t[i]\n",
    "    steal = nums[i]+TopDown(nums,i+2, n)\n",
    "    skip = TopDown(nums, i+1,n)\n",
    "    t[i]=max(steal, skip)\n",
    "    return t[i]\n",
    "\n",
    "def rob(nums):\n",
    "    n = len(nums)\n",
    "    return TopDown(nums,0,n)\n",
    "rob(nums)"
   ]
  },
  {
   "cell_type": "markdown",
   "metadata": {},
   "source": [
    "# Bottom Up"
   ]
  },
  {
   "cell_type": "code",
   "execution_count": null,
   "metadata": {},
   "outputs": [],
   "source": [
    "# nums = [2,1,1,3]\n",
    "nums = [2,7,9,3,1]\n",
    "n=len(nums)+1\n",
    "t = [0]*n\n",
    "t[0]=0\n",
    "t[1]=nums[0]\n",
    "print(t)\n",
    "for i in range(2,n):\n",
    "    steal = nums[i-1]+t[i-2]\n",
    "    skip = t[i-1]\n",
    "    \n",
    "    t[i]= max(skip,steal)\n",
    "    print('------------------------------------');\n",
    "    print(f'{i=} {steal=} {skip=}  {t[i]=}');\n",
    "    print('------------------------------------');\n",
    "t"
   ]
  },
  {
   "cell_type": "code",
   "execution_count": 17,
   "metadata": {},
   "outputs": [
    {
     "data": {
      "text/plain": [
       "5"
      ]
     },
     "execution_count": 17,
     "metadata": {},
     "output_type": "execute_result"
    }
   ],
   "source": [
    "class Solution:\n",
    "    def rob(self, nums):\n",
    "        n = len(nums)\n",
    "        if n==1:\n",
    "            return nums[0]\n",
    "        dp = [0]*n\n",
    "        dp[0] = nums[0]\n",
    "        dp[1] = max(nums[0],nums[1])\n",
    "        for i in range(2,n):\n",
    "            dp[i] = max(dp[i-1], nums[i]+dp[i-2])\n",
    "        return dp[-1]\n",
    "arr = [2,1,1]\n",
    "arr = [1,1]\n",
    "arr = [2,1,1,2,2]\n",
    "s = Solution()\n",
    "s.rob(arr)"
   ]
  },
  {
   "cell_type": "code",
   "execution_count": 19,
   "metadata": {},
   "outputs": [
    {
     "data": {
      "text/plain": [
       "5"
      ]
     },
     "execution_count": 19,
     "metadata": {},
     "output_type": "execute_result"
    }
   ],
   "source": [
    "class Solution:\n",
    "    def rob(self, nums):\n",
    "        n = len(nums)\n",
    "        if n==1:\n",
    "            return nums[0]\n",
    "        prev_rob = 0\n",
    "        max_rob = 0\n",
    "        for num in nums:\n",
    "            temp = max(max_rob, prev_rob+num)\n",
    "            prev_rob = max_rob\n",
    "            max_rob = temp\n",
    "        return max_rob\n",
    "arr = [2,1,1]\n",
    "arr = [1,1]\n",
    "arr = [2,1,1,2,2]\n",
    "s = Solution()\n",
    "s.rob(arr)"
   ]
  }
 ],
 "metadata": {
  "kernelspec": {
   "display_name": "langgraph",
   "language": "python",
   "name": "python3"
  },
  "language_info": {
   "codemirror_mode": {
    "name": "ipython",
    "version": 3
   },
   "file_extension": ".py",
   "mimetype": "text/x-python",
   "name": "python",
   "nbconvert_exporter": "python",
   "pygments_lexer": "ipython3",
   "version": "3.12.3"
  }
 },
 "nbformat": 4,
 "nbformat_minor": 2
}
