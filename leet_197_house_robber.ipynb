{
 "cells": [
  {
   "cell_type": "markdown",
   "metadata": {},
   "source": [
    "\n",
    "You are a professional robber planning to rob houses along a street. Each house has a certain amount of money stashed, the only constraint stopping you from robbing each of them is that adjacent houses have security systems connected and **it will automatically contact the police if two adjacent houses were broken into on the same night**.\n",
    "\n",
    "Given an integer array `nums` representing the amount of money of each house, return *the maximum amount of money you can rob tonight **without alerting the police***.\n",
    "\n",
    "**Example 1:**\n",
    "\n",
    "```\n",
    "Input: nums = [1,2,3,1]\n",
    "Output: 4\n",
    "Explanation: Rob house 1 (money = 1) and then rob house 3 (money = 3).\n",
    "Total amount you can rob = 1 + 3 = 4.\n",
    "```\n",
    "\n",
    "**Example 2:**\n",
    "\n",
    "```\n",
    "Input: nums = [2,7,9,3,1]\n",
    "Output: 12\n",
    "Explanation: Rob house 1 (money = 2), rob house 3 (money = 9) and rob house 5 (money = 1).\n",
    "Total amount you can rob = 2 + 9 + 1 = 12.\n",
    "```\n"
   ]
  },
  {
   "cell_type": "markdown",
   "metadata": {},
   "source": [
    "# Recursion\n"
   ]
  },
  {
   "cell_type": "code",
   "execution_count": null,
   "metadata": {},
   "outputs": [],
   "source": [
    "nums = [2,7,9,3,1]\n",
    "\n",
    "def TopDown(nums, i,n):\n",
    "    if i>= n:\n",
    "        return 0\n",
    "    steal = nums[i]+TopDown(nums,i+2, n)\n",
    "    skip = TopDown(nums, i+1,n)\n",
    "    return max(steal, skip)\n",
    "\n",
    "def rob(nums):\n",
    "    n = len(nums)\n",
    "    return TopDown(nums,0,n)\n",
    "rob(nums)"
   ]
  },
  {
   "cell_type": "markdown",
   "metadata": {},
   "source": [
    "# Recursion+Memo"
   ]
  },
  {
   "cell_type": "code",
   "execution_count": null,
   "metadata": {},
   "outputs": [],
   "source": [
    "nums = [2,7,9,3,1]\n",
    "\n",
    "t = [-1]* (len(nums)+1)\n",
    "def TopDown(nums, i,n):\n",
    "    if i>= n:\n",
    "        return 0\n",
    "    if t[i] != -1:\n",
    "        return t[i]\n",
    "    steal = nums[i]+TopDown(nums,i+2, n)\n",
    "    skip = TopDown(nums, i+1,n)\n",
    "    t[i]=max(steal, skip)\n",
    "    return t[i]\n",
    "\n",
    "def rob(nums):\n",
    "    n = len(nums)\n",
    "    return TopDown(nums,0,n)\n",
    "rob(nums)"
   ]
  },
  {
   "cell_type": "markdown",
   "metadata": {},
   "source": [
    "# Bottom Up"
   ]
  },
  {
   "cell_type": "code",
   "execution_count": null,
   "metadata": {},
   "outputs": [],
   "source": [
    "# nums = [2,1,1,3]\n",
    "nums = [2,7,9,3,1]\n",
    "n=len(nums)+1\n",
    "t = [0]*n\n",
    "t[0]=0\n",
    "t[1]=nums[0]\n",
    "print(t)\n",
    "for i in range(2,n):\n",
    "    steal = nums[i-1]+t[i-2]\n",
    "    skip = t[i-1]\n",
    "    \n",
    "    t[i]= max(skip,steal)\n",
    "    print('------------------------------------');\n",
    "    print(f'{i=} {steal=} {skip=}  {t[i]=}');\n",
    "    print('------------------------------------');\n",
    "t"
   ]
  }
 ],
 "metadata": {
  "language_info": {
   "name": "python"
  }
 },
 "nbformat": 4,
 "nbformat_minor": 2
}
