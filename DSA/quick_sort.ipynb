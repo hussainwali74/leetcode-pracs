{
 "cells": [
  {
   "cell_type": "code",
   "execution_count": 22,
   "metadata": {},
   "outputs": [
    {
     "name": "stdout",
     "output_type": "stream",
     "text": [
      "[2, 7, 9, 11, 15, 28, 29]\n",
      "[1, 2, 3, 4, 5]\n",
      "[1, 2, 3, 4, 5]\n",
      "[15, 28, 29]\n",
      "[]\n",
      "[6]\n"
     ]
    }
   ],
   "source": [
    "def swap(a,b, arr):\n",
    "    temp = arr[a]\n",
    "    arr[a]=arr[b]\n",
    "    arr[b]=temp\n",
    "    # elements[start],elements[end]=elements[end], elements[start]\n",
    "    \n",
    "def parition(elements, start, end):\n",
    "    pivot_index = start\n",
    "    pivot = elements[pivot_index]\n",
    "    \n",
    "    while start< end:\n",
    "        # from start to end move till you find element> pivot\n",
    "        while(start< len(elements) and elements[start] <= pivot):\n",
    "            start+=1\n",
    "        \n",
    "        while elements[end] > pivot:\n",
    "            end -= 1\n",
    "            \n",
    "        if start < end:\n",
    "            swap(start, end, elements)\n",
    "            \n",
    "    swap(pivot_index, end, elements)\n",
    "    \n",
    "    return end\n",
    "    \n",
    "def quickSort(elements,start, end):\n",
    "    if start< end:\n",
    "        parition_index = parition(elements, start,end)\n",
    "        quickSort(elements, start, parition_index-1) # left partition\n",
    "        quickSort(elements, parition_index+1, end) # right partition\n",
    "\n",
    "elements = [11,9,29, 7, 2, 15, 28]\n",
    "\n",
    "quickSort(elements,0,len(elements)-1)\n",
    "tests = [\n",
    "    elements,\n",
    "    [1,2,3,4,5],\n",
    "    [5,4,3,2,1],\n",
    "    [29,15,28],\n",
    "    [],\n",
    "    [6],\n",
    "]\n",
    "\n",
    "for a in tests:\n",
    "    quickSort(a,0,len(a)-1)\n",
    "    print(a)"
   ]
  },
  {
   "cell_type": "code",
   "execution_count": 14,
   "metadata": {},
   "outputs": [
    {
     "name": "stdout",
     "output_type": "stream",
     "text": [
      "[1, 2, 3, 4, 5]\n"
     ]
    }
   ],
   "source": [
    "# implementation of quick sort in python using hoare partition scheme\n",
    "\n",
    "def swap(a, b, arr):\n",
    "    if a!=b:\n",
    "        tmp = arr[a]\n",
    "        arr[a] = arr[b]\n",
    "        arr[b] = tmp\n",
    "\n",
    "def quick_sort(elements, start, end):\n",
    "    if start < end:\n",
    "        pi = partition(elements, start, end)\n",
    "        quick_sort(elements, start, pi-1)\n",
    "        quick_sort(elements, pi+1, end)\n",
    "\n",
    "def partition(elements, start, end):\n",
    "    pivot_index = start\n",
    "    pivot = elements[pivot_index]\n",
    "\n",
    "    while start < end:\n",
    "        while start < len(elements) and elements[start] <= pivot:\n",
    "            start+=1\n",
    "\n",
    "        while elements[end] > pivot:\n",
    "            end-=1\n",
    "\n",
    "        if start < end:\n",
    "            swap(start, end, elements)\n",
    "\n",
    "    swap(pivot_index, end, elements)\n",
    "\n",
    "    return end\n",
    "\n",
    "\n",
    "# elements = [11,9,29,7,2,15,28]\n",
    "elements = [1,2,3,4,5]\n",
    "# elements = [\"mona\", \"dhaval\", \"aamir\", \"tina\", \"chang\"]\n",
    "quick_sort(elements, 0, len(elements)-1)\n",
    "print(elements)\n",
    "\n",
    "# tests = [\n",
    "#     [11,9,29,7,2,15,28],\n",
    "#     [3, 7, 9, 11],\n",
    "#     [25, 22, 21, 10],\n",
    "#     [29, 15, 28],\n",
    "#     [],\n",
    "#     [6]\n",
    "# ]\n",
    "\n",
    "# for elements in tests:\n",
    "#     quick_sort(elements, 0, len(elements)-1)\n",
    "#     print(f'sorted array: {elements}')\n",
    "\n"
   ]
  }
 ],
 "metadata": {
  "kernelspec": {
   "display_name": "langgraph",
   "language": "python",
   "name": "python3"
  },
  "language_info": {
   "codemirror_mode": {
    "name": "ipython",
    "version": 3
   },
   "file_extension": ".py",
   "mimetype": "text/x-python",
   "name": "python",
   "nbconvert_exporter": "python",
   "pygments_lexer": "ipython3",
   "version": "3.12.3"
  }
 },
 "nbformat": 4,
 "nbformat_minor": 2
}
