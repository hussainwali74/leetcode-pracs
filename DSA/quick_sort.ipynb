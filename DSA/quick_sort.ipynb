{
 "cells": [
  {
   "cell_type": "code",
   "execution_count": 22,
   "metadata": {},
   "outputs": [
    {
     "name": "stdout",
     "output_type": "stream",
     "text": [
      "[2, 7, 9, 11, 15, 28, 29]\n",
      "[1, 2, 3, 4, 5]\n",
      "[1, 2, 3, 4, 5]\n",
      "[15, 28, 29]\n",
      "[]\n",
      "[6]\n"
     ]
    }
   ],
   "source": [
    "def swap(a,b, arr):\n",
    "    temp = arr[a]\n",
    "    arr[a]=arr[b]\n",
    "    arr[b]=temp\n",
    "    # elements[start],elements[end]=elements[end], elements[start]\n",
    "    \n",
    "def parition(elements, start, end):\n",
    "    pivot_index = start\n",
    "    pivot = elements[pivot_index]\n",
    "    \n",
    "    while start< end:\n",
    "        # from start to end move till you find element> pivot\n",
    "        while(start< len(elements) and elements[start] <= pivot):\n",
    "            start+=1\n",
    "        \n",
    "        while elements[end] > pivot:\n",
    "            end -= 1\n",
    "            \n",
    "        if start < end:\n",
    "            swap(start, end, elements)\n",
    "            \n",
    "    swap(pivot_index, end, elements)\n",
    "    \n",
    "    return end\n",
    "    \n",
    "def quickSort(elements,start, end):\n",
    "    if start< end:\n",
    "        parition_index = parition(elements, start,end)\n",
    "        quickSort(elements, start, parition_index-1) # left partition\n",
    "        quickSort(elements, parition_index+1, end) # right partition\n",
    "\n",
    "elements = [11,9,29, 7, 2, 15, 28]\n",
    "\n",
    "quickSort(elements,0,len(elements)-1)\n",
    "tests = [\n",
    "    elements,\n",
    "    [1,2,3,4,5],\n",
    "    [5,4,3,2,1],\n",
    "    [29,15,28],\n",
    "    [],\n",
    "    [6],\n",
    "]\n",
    "\n",
    "for a in tests:\n",
    "    quickSort(a,0,len(a)-1)\n",
    "    print(a)"
   ]
  },
  {
   "cell_type": "code",
   "execution_count": 14,
   "metadata": {},
   "outputs": [
    {
     "name": "stdout",
     "output_type": "stream",
     "text": [
      "[1, 2, 3, 4, 5]\n"
     ]
    }
   ],
   "source": [
    "# implementation of quick sort in python using hoare partition scheme\n",
    "\n",
    "def swap(a, b, arr):\n",
    "    if a!=b:\n",
    "        tmp = arr[a]\n",
    "        arr[a] = arr[b]\n",
    "        arr[b] = tmp\n",
    "\n",
    "def quick_sort(elements, start, end):\n",
    "    if start < end:\n",
    "        pi = partition(elements, start, end)\n",
    "        quick_sort(elements, start, pi-1)\n",
    "        quick_sort(elements, pi+1, end)\n",
    "\n",
    "def partition(elements, start, end):\n",
    "    pivot_index = start\n",
    "    pivot = elements[pivot_index]\n",
    "\n",
    "    while start < end:\n",
    "        while start < len(elements) and elements[start] <= pivot:\n",
    "            start+=1\n",
    "\n",
    "        while elements[end] > pivot:\n",
    "            end-=1\n",
    "\n",
    "        if start < end:\n",
    "            swap(start, end, elements)\n",
    "\n",
    "    swap(pivot_index, end, elements)\n",
    "\n",
    "    return end\n",
    "\n",
    "\n",
    "# elements = [11,9,29,7,2,15,28]\n",
    "elements = [1,2,3,4,5]\n",
    "# elements = [\"mona\", \"dhaval\", \"aamir\", \"tina\", \"chang\"]\n",
    "quick_sort(elements, 0, len(elements)-1)\n",
    "print(elements)\n",
    "\n",
    "# tests = [\n",
    "#     [11,9,29,7,2,15,28],\n",
    "#     [3, 7, 9, 11],\n",
    "#     [25, 22, 21, 10],\n",
    "#     [29, 15, 28],\n",
    "#     [],\n",
    "#     [6]\n",
    "# ]\n",
    "\n",
    "# for elements in tests:\n",
    "#     quick_sort(elements, 0, len(elements)-1)\n",
    "#     print(f'sorted array: {elements}')\n",
    "\n"
   ]
  },
  {
   "cell_type": "code",
   "execution_count": 44,
   "metadata": {},
   "outputs": [
    {
     "data": {
      "text/plain": [
       "4"
      ]
     },
     "execution_count": 44,
     "metadata": {},
     "output_type": "execute_result"
    }
   ],
   "source": [
    "def partition(arr, left_index, right_index):\n",
    "    pivot = arr[right_index]\n",
    "    i = left_index - 1\n",
    "    for j in range(left_index, right_index):\n",
    "        if arr[j]< pivot:\n",
    "            i +=1\n",
    "            (arr[i], arr[j]) = (arr[j],arr[i])\n",
    "    (arr[i+1], arr[right_index]) = (arr[right_index], arr[i+1])\n",
    "\n",
    "    return i+1\n",
    "\n",
    "\n",
    "def qs(arr, left_index, right_index):\n",
    "    if left_index <right_index:\n",
    "        pi = partition(arr, left_index, right_index)\n",
    "        print('------------------------------------');\n",
    "        print(f'{pi=}');\n",
    "        print('------------------------------------');\n",
    "        qs(arr, left_index, pi-1)\n",
    "        qs(arr, pi+1, right_index)\n",
    "\n",
    "arr = [1,2,4,3,10]\n",
    "\n",
    "partition(arr,0, len(arr)-1)\n",
    "# qs(arr, 0, len(arr)-1)\n",
    "# arr"
   ]
  },
  {
   "cell_type": "code",
   "execution_count": 60,
   "metadata": {},
   "outputs": [
    {
     "name": "stdout",
     "output_type": "stream",
     "text": [
      "------------------------------------\n",
      "arr=[8, 2, 4, 10] left_index=0 right_index=3\n",
      "------------------------------------\n",
      "pi=3\n",
      "---------------------------a---------\n",
      "------------------------------------\n",
      "arr=[8, 2, 4, 10] left_index=0 right_index=2\n",
      "------------------------------------\n",
      "pi=1\n",
      "---------------------------a---------\n",
      "------------------------------------\n",
      "------------------------------------\n"
     ]
    },
    {
     "data": {
      "text/plain": [
       "[2, 4, 8, 10]"
      ]
     },
     "execution_count": 60,
     "metadata": {},
     "output_type": "execute_result"
    }
   ],
   "source": [
    "def partition(arr, left_index,right_index):\n",
    "    print('------------------------------------');\n",
    "    print(f'{arr=} {left_index=} {right_index=}');\n",
    "    print('------------------------------------');\n",
    "    pivot = arr[right_index]\n",
    "    i = left_index-1\n",
    "    for j in range(left_index,right_index):\n",
    "        if arr[j] <= pivot:\n",
    "            i += 1\n",
    "            (arr[i], arr[j]) = (arr[j], arr[i])\n",
    "    (arr[i + 1], arr[right_index]) = (arr[right_index], arr[i + 1])\n",
    "    \n",
    "    return i + 1\n",
    "\n",
    "def qs(arr, left_index, right_index):\n",
    "    if left_index <right_index:\n",
    "        pi = partition(arr, left_index, right_index)\n",
    "        print(f'{pi=}');\n",
    "        print('---------------------------a---------');\n",
    "        qs(arr, left_index, pi-1)\n",
    "        print('------------------------------------');\n",
    "        qs(arr, pi+1, right_index)\n",
    "\n",
    "arr = [1,2,4,3,10,6,5]\n",
    "# arr = [1,2] \n",
    "# arr = [1,2,1,3,3,4,] \n",
    "arr = [1,2,4,3,10]\n",
    "arr = [8,2,4,10]\n",
    "# partition(arr,0, len(arr)-1)\n",
    "# print('------------------------------------');\n",
    "# print(f'{arr=}');\n",
    "# print('------------------------------------');\n",
    "qs(arr, 0, len(arr)-1)\n",
    "arr"
   ]
  }
 ],
 "metadata": {
  "kernelspec": {
   "display_name": "langgraph",
   "language": "python",
   "name": "python3"
  },
  "language_info": {
   "codemirror_mode": {
    "name": "ipython",
    "version": 3
   },
   "file_extension": ".py",
   "mimetype": "text/x-python",
   "name": "python",
   "nbconvert_exporter": "python",
   "pygments_lexer": "ipython3",
   "version": "3.12.3"
  }
 },
 "nbformat": 4,
 "nbformat_minor": 2
}
