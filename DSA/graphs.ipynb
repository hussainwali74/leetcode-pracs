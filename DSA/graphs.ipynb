{
 "cells": [
  {
   "cell_type": "code",
   "execution_count": 12,
   "metadata": {},
   "outputs": [
    {
     "data": {
      "text/plain": [
       "[12, 12, 32, 32]"
      ]
     },
     "execution_count": 12,
     "metadata": {},
     "output_type": "execute_result"
    }
   ],
   "source": [
    "l1= [12,12]\n",
    "l2=  [32,32]\n",
    "l1+l2\n"
   ]
  },
  {
   "cell_type": "code",
   "execution_count": 20,
   "metadata": {},
   "outputs": [
    {
     "name": "stdout",
     "output_type": "stream",
     "text": [
      "mumbai->paris,dubai\n",
      "paris->dubai,newyork\n",
      "dubai->newyork\n",
      "newyork->toronto\n"
     ]
    },
    {
     "data": {
      "text/plain": [
       "['mumbai', 'paris', 'newyork']"
      ]
     },
     "execution_count": 20,
     "metadata": {},
     "output_type": "execute_result"
    }
   ],
   "source": [
    "paths = [(\"mumbai\", \"paris\"),\n",
    "    (\"mumbai\", \"dubai\"),\n",
    "    (\"paris\", \"dubai\"),\n",
    "    (\"paris\", \"newyork\"),\n",
    "    (\"dubai\", \"newyork\"),\n",
    "    (\"newyork\", \"toronto\")\n",
    "    ]\n",
    "\n",
    "class Graph:\n",
    "    def __init__(self, edges):\n",
    "        self.edges = edges\n",
    "        self.graph_dict = {}\n",
    "        for start, end in edges:\n",
    "            if start in self.graph_dict:\n",
    "                self.graph_dict[start]+=[end]\n",
    "            else:\n",
    "                self.graph_dict[start] = [end]\n",
    "                \n",
    "    def get_path2(self, start, end, path=[]):\n",
    "        path = path+[start]\n",
    "        \n",
    "        if start == end:\n",
    "            return [path]\n",
    "        \n",
    "        if start not in self.graph_dict:\n",
    "            return []\n",
    "        \n",
    "        paths = []\n",
    "        # print(f\"{path=}\")\n",
    "        for node in self.graph_dict[start]:\n",
    "            if node not in path:\n",
    "                new_paths = self.get_path2(node, end, path)\n",
    "                # if end in new_paths:\n",
    "                # paths+=new_paths\n",
    "                for p in new_paths:\n",
    "                    paths.append(p)\n",
    "        return paths\n",
    "    \n",
    "    def get_shortest_path(self, start, end, path=[]):\n",
    "        path = path+[start]\n",
    "        if start==end:\n",
    "            return path\n",
    "        if start not in self.graph_dict:\n",
    "            return None\n",
    "        shortest_path = None\n",
    "        for node in self.graph_dict[start]:\n",
    "            if node not in path:\n",
    "                sp = self.get_shortest_path(node,end,path)\n",
    "                if sp:\n",
    "                    if shortest_path is None or len(sp) <len(shortest_path):\n",
    "                      shortest_path = sp  \n",
    "        return shortest_path\n",
    "                    \n",
    "    def display(self):\n",
    "        for city in self.graph_dict:\n",
    "            print(city+\"->\"+','.join(self.graph_dict[city]))\n",
    "    \n",
    "routes_graph = Graph(paths)\n",
    "routes_graph.display()\n",
    "# routes_graph.get_path2('mumbai', 'newyork')\n",
    "routes_graph.get_shortest_path('mumbai', 'newyork')\n",
    "# routes_graph.get_path2('toronto', 'newyork')\n"
   ]
  }
 ],
 "metadata": {
  "kernelspec": {
   "display_name": "langgraph",
   "language": "python",
   "name": "python3"
  },
  "language_info": {
   "codemirror_mode": {
    "name": "ipython",
    "version": 3
   },
   "file_extension": ".py",
   "mimetype": "text/x-python",
   "name": "python",
   "nbconvert_exporter": "python",
   "pygments_lexer": "ipython3",
   "version": "3.12.3"
  }
 },
 "nbformat": 4,
 "nbformat_minor": 2
}
