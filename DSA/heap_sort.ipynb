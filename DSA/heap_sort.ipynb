{
 "cells": [
  {
   "cell_type": "markdown",
   "metadata": {},
   "source": [
    "Heap sort is strictly based on the heap data structure.\n",
    "\n",
    "it is a complete max/min binary tree.\n",
    "\n",
    "3 RUles to make heap representation of an array:\n",
    "\n",
    "i. root = Arr[0] \n",
    "\n",
    "ii. left child = Arr[(2*i)+1]\n",
    "\n",
    "ii. right child = Arr[(2*i)+2]\n",
    "\n",
    "\n",
    "to find the parent of any node in the tree:\n",
    "\n",
    "parent = Arr[ (i-1)/2 ] "
   ]
  },
  {
   "cell_type": "markdown",
   "metadata": {},
   "source": [
    "to createe max heap, first create max_heapify function\n",
    "\n",
    "we start at node i = 2, it is not a leaf node => n//2-1\n",
    "\n",
    "n = size(arr)\n",
    "\n",
    "n = 7\n",
    "\n",
    "7//2-1 = 2 so we will begin at 2\n",
    "\n",
    "assign this arr[2] element in the heap as the largest element (currently it is not but we assign it as so)\n",
    "\n",
    "\n",
    "now compare largest with left and right and swap it with the parent node. i==2 in this case.\n",
    "\n",
    "for i==n//2-1 to -1, -1:\n",
    "\n",
    "    -> max_heapify(2)\n",
    "\n",
    "    -> reassign largest\n",
    "\n",
    "    -> swap largest with the parent \n",
    "\n",
    "we do not call heapify function at the leaf nodes. so we start the heapify from the level above the last level or leaf node."
   ]
  },
  {
   "cell_type": "code",
   "execution_count": 2,
   "metadata": {},
   "outputs": [
    {
     "name": "stdout",
     "output_type": "stream",
     "text": [
      "max heap:  \n",
      "[66, 9, 30, 5, 2, 10]\n"
     ]
    }
   ],
   "source": [
    "# heap implementation\n",
    "\n",
    "def max_heapify(arr, n, i):\n",
    "    largest = i\n",
    "    left = (2*i)+1\n",
    "    right = (2*i)+2\n",
    "\n",
    "    # largest so far is compared with left child\n",
    "    if left<n and arr[largest] < arr[left]:\n",
    "        largest = left\n",
    "    \n",
    "    if right <n and arr[largest]< arr[right]:\n",
    "        largest =right\n",
    "\n",
    "    # change the parent\n",
    "    if i !=largest:\n",
    "        arr[i],arr[largest] = arr[largest], arr[i]\n",
    "    \n",
    "        # recursive call\n",
    "        max_heapify(arr, n, largest)\n",
    "\n",
    "\n",
    "\n",
    "arr = [2,66,30,5,9,10]\n",
    "\n",
    "n = len(arr)\n",
    "\n",
    "#build max heap\n",
    "for i in range(n//2-1,-1,-1):\n",
    "    max_heapify(arr, n, i)\n",
    "\n",
    "# display elements\n",
    "print(\"max heap:  \")\n",
    "\n",
    "print(arr)"
   ]
  },
  {
   "cell_type": "markdown",
   "metadata": {},
   "source": [
    "#### using max_heapify function to perfrom heap sort\n",
    "\n",
    "after calling max_heapify function on a tree we will get the largest element at the root. \n",
    "\n",
    "using this fact we can call max_heapify on remaining elements to get largest element at the root node at each level\n",
    "\n",
    "since after the first call we have the largest number in the right position i=0, if we call it again from zero it will disturb the position of the correct largest element.\n",
    "\n",
    "that is why after each call we take the largest number and take it to the end of the array (swap i =0 with i=n) and heapify from 0 to n-1, after second call 0 to n-2 and so on.\n",
    "\n",
    "max_heapify(arr,)"
   ]
  },
  {
   "cell_type": "code",
   "execution_count": 3,
   "metadata": {},
   "outputs": [
    {
     "name": "stdout",
     "output_type": "stream",
     "text": [
      "sorted  after max_heap function:  \n",
      "[2, 5, 9, 10, 30, 66]\n"
     ]
    }
   ],
   "source": [
    "# heap implementation\n",
    "\n",
    "def max_heapify(arr, n, i):\n",
    "    largest = i\n",
    "    left = (2*i)+1\n",
    "    right = (2*i)+2\n",
    "\n",
    "    # largest so far is compared with left child\n",
    "    if left<n and arr[largest] < arr[left]:\n",
    "        largest = left\n",
    "    \n",
    "    if right <n and arr[largest]< arr[right]:\n",
    "        largest =right\n",
    "\n",
    "    # change the parent\n",
    "    if i !=largest:\n",
    "        arr[i],arr[largest] = arr[largest], arr[i]\n",
    "    \n",
    "        # recursive call\n",
    "        max_heapify(arr, n, largest)\n",
    "\n",
    "\n",
    "\n",
    "arr = [2,66,30,5,9,10]\n",
    "\n",
    "n = len(arr)\n",
    "\n",
    "def heap_sort(Arr):\n",
    "    for i in range(n-1, 0, -1):\n",
    "        # swap\n",
    "        arr[i], arr[0] = arr[0], arr[i]\n",
    "\n",
    "        max_heapify(arr,i, 0)\n",
    "\n",
    "\n",
    "#build max heap\n",
    "for i in range(n//2-1,-1,-1):\n",
    "    max_heapify(arr, n, i)\n",
    "\n",
    "heap_sort(arr)\n",
    "# display elements\n",
    "print(\"sorted  after max_heap function:  \")\n",
    "\n",
    "print(arr)"
   ]
  }
 ],
 "metadata": {
  "kernelspec": {
   "display_name": "base",
   "language": "python",
   "name": "python3"
  },
  "language_info": {
   "codemirror_mode": {
    "name": "ipython",
    "version": 3
   },
   "file_extension": ".py",
   "mimetype": "text/x-python",
   "name": "python",
   "nbconvert_exporter": "python",
   "pygments_lexer": "ipython3",
   "version": "3.12.7"
  }
 },
 "nbformat": 4,
 "nbformat_minor": 2
}
