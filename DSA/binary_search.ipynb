{
 "cells": [
  {
   "cell_type": "code",
   "execution_count": 34,
   "metadata": {
    "ExecuteTime": {
     "end_time": "2024-06-13T10:18:47.601820Z",
     "start_time": "2024-06-13T10:18:47.592361Z"
    }
   },
   "outputs": [
    {
     "data": {
      "text/plain": [
       "-1"
      ]
     },
     "execution_count": 34,
     "metadata": {},
     "output_type": "execute_result"
    }
   ],
   "source": [
    "# arr = [1,2,3,4,5,6,7,8,9]\n",
    "arr = [1,2,3,4,5]\n",
    "# arr = [1,2,3,4]\n",
    "# n = 4\n",
    "n = 6\n",
    "# find index of n in arr\n",
    "def binary_search(arr, n, i=0):\n",
    "    if len(arr)==0 or n<arr[0] or arr[0]<n>arr[len(arr)-1]:\n",
    "        return -1 \n",
    "    if len(arr)==2:\n",
    "        if arr[0]==n:\n",
    "            return i\n",
    "        else:\n",
    "            return i+1\n",
    "    half = len(arr)//2\n",
    "    if arr[half]==n:\n",
    "        return i+half\n",
    "    if arr[half] < n:\n",
    "        return binary_search(arr[half:], n, i+half)\n",
    "    else:\n",
    "        return binary_search(arr[:half], n, i)\n",
    "binary_search(arr, n)\n"
   ]
  },
  {
   "cell_type": "code",
   "execution_count": 37,
   "metadata": {},
   "outputs": [
    {
     "data": {
      "text/plain": [
       "-1"
      ]
     },
     "execution_count": 37,
     "metadata": {},
     "output_type": "execute_result"
    }
   ],
   "source": [
    "def binary_search_recursive(arr, n, left_index, right_index):\n",
    "    if right_index <left_index:\n",
    "        return -1\n",
    "    mid_index = (left_index+right_index)//2\n",
    "    if mid_index >=len(arr) or mid_index<0:\n",
    "        return -1\n",
    "    mid_number = arr[mid_index]\n",
    "    \n",
    "    if mid_number==n:\n",
    "        return mid_index\n",
    "    \n",
    "    if mid_number< n:\n",
    "        left_index = mid_index+1\n",
    "    else:\n",
    "        right_index = mid_index-1\n",
    "    return binary_search_recursive(arr, n, left_index, right_index)\n",
    "arr = [1,2,3,4,5,6,7,8,9]\n",
    "n = \n",
    "binary_search_recursive(arr,n,0, len(arr))\n"
   ]
  },
  {
   "cell_type": "markdown",
   "metadata": {},
   "source": [
    "# soln \n",
    "moving indexes"
   ]
  },
  {
   "cell_type": "code",
   "execution_count": null,
   "metadata": {
    "ExecuteTime": {
     "start_time": "2024-06-13T10:22:11.674151Z"
    },
    "jupyter": {
     "is_executing": true
    }
   },
   "outputs": [
    {
     "name": "stdout",
     "output_type": "stream",
     "text": [
      "-------------------------------------------------------------------\n",
      "left_index=0 right_index=8 mid_index=4 mid_number=5\n",
      "-------------------------------------------------------------------\n",
      "-------------------------------------------------------------------\n",
      "left_index=5 right_index=8 mid_index=6 mid_number=7\n",
      "-------------------------------------------------------------------\n"
     ]
    }
   ],
   "source": [
    "def binary_search(arr, n):\n",
    "    left_index = 0\n",
    "    right_index = len(arr)-1\n",
    "    mid_index = 0\n",
    "    if n>arr[-1] or n<arr[0] or len(arr)==0:\n",
    "        return -1\n",
    "    while(left_index <=right_index):\n",
    "        mid_index = (left_index+right_index)//2\n",
    "        mid_number = arr[mid_index]\n",
    "        \n",
    "        if mid_number == n:\n",
    "            return mid_index\n",
    "        \n",
    "        if mid_number<n:\n",
    "            left_index = 1+mid_index\n",
    "        else:\n",
    "            right_index = mid_index-1\n",
    "arr = [1,2,3,4,5,6,7,8,9]\n",
    "n = 6\n",
    "binary_search(arr,n)\n"
   ]
  },
  {
   "cell_type": "code",
   "execution_count": 14,
   "metadata": {},
   "outputs": [
    {
     "name": "stdout",
     "output_type": "stream",
     "text": [
      "0 3\n",
      "1 3\n",
      "2 3\n",
      "3 3\n"
     ]
    }
   ],
   "source": [
    "x = 0\n",
    "y = 3\n",
    "while x<=y:\n",
    "    print(x,y)\n",
    "    x+=1"
   ]
  },
  {
   "cell_type": "code",
   "execution_count": null,
   "metadata": {},
   "outputs": [],
   "source": []
  },
  {
   "cell_type": "code",
   "execution_count": null,
   "metadata": {},
   "outputs": [],
   "source": []
  },
  {
   "cell_type": "code",
   "execution_count": null,
   "metadata": {},
   "outputs": [],
   "source": []
  }
 ],
 "metadata": {
  "kernelspec": {
   "display_name": "langgraph",
   "language": "python",
   "name": "python3"
  },
  "language_info": {
   "codemirror_mode": {
    "name": "ipython",
    "version": 3
   },
   "file_extension": ".py",
   "mimetype": "text/x-python",
   "name": "python",
   "nbconvert_exporter": "python",
   "pygments_lexer": "ipython3",
   "version": "3.12.3"
  }
 },
 "nbformat": 4,
 "nbformat_minor": 2
}
