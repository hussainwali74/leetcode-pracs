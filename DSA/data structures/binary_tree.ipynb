{
 "cells": [
  {
   "cell_type": "code",
   "execution_count": 11,
   "metadata": {},
   "outputs": [
    {
     "name": "stdout",
     "output_type": "stream",
     "text": [
      "1-2-4-5-3-6-7-\n",
      "1-2-4-5-3-6-7-\n",
      "4-5-2-6-7-3-1-\n"
     ]
    }
   ],
   "source": [
    "class Node(object):\n",
    "    def __init__(self, val):\n",
    "        self.val = val\n",
    "        self.left = None\n",
    "        self.right = None\n",
    "\n",
    "class Tree(object):\n",
    "    def __init__(self,root):\n",
    "        self.root = Node(root)\n",
    "    \n",
    "    def print_tree(self, traversal_type):\n",
    "        if traversal_type=='preorder':\n",
    "            return self.pre_order(self.root,'')\n",
    "        if traversal_type=='inorder':\n",
    "            return self.in_order(self.root,'')\n",
    "        if traversal_type=='postorder':\n",
    "            return self.post_order(self.root,'')\n",
    "        \n",
    "    \n",
    "    def pre_order(self, start_node, path_str):\n",
    "        if start_node:\n",
    "            path_str+=(str(start_node.val)+ \"-\")\n",
    "            path_str = self.pre_order(start_node.left,path_str)\n",
    "            path_str = self.pre_order(start_node.right,path_str)\n",
    "        return path_str\n",
    "\n",
    "    def in_order(self, start_node, path_str):\n",
    "        if start_node:\n",
    "            path_str+=(str(start_node.val)+'-')\n",
    "            path_str = self.in_order(start_node.left, path_str)\n",
    "            path_str = self.in_order(start_node.right, path_str)\n",
    "        return path_str\n",
    "    def post_order(self, start_node, path_str):\n",
    "        if start_node:\n",
    "            path_str = self.post_order(start_node.left, path_str)\n",
    "            path_str = self.post_order(start_node.right, path_str)\n",
    "            path_str+=(str(start_node.val)+'-')\n",
    "        return path_str\n",
    "# tree = Tree(\"F\")\n",
    "# tree.root.left  = Node(\"B\")\n",
    "# tree.root.right = Node(\"G\")\n",
    "# tree.root.left.left = Node('A')\n",
    "# tree.root.left.right = Node('D')\n",
    "tree = Tree(1)\n",
    "tree.root.left  = Node(2)\n",
    "tree.root.right = Node(3)\n",
    "tree.root.left.left = Node(4)\n",
    "tree.root.left.right = Node(5)\n",
    "tree.root.right.left = Node(6)\n",
    "tree.root.right.right = Node(7)\n",
    "# print(tree.pre_order(tree.root,''))\n",
    "print(tree.print_tree('preorder'))\n",
    "print(tree.print_tree('inorder'))\n",
    "print(tree.print_tree('postorder'))\n",
    "\n",
    "\n"
   ]
  },
  {
   "cell_type": "markdown",
   "metadata": {},
   "source": [
    "dfs\n",
    "pre-order"
   ]
  },
  {
   "cell_type": "markdown",
   "metadata": {},
   "source": [
    "     1\n",
    "    / \\\n",
    "   2   3\n",
    "  /\n",
    "4   \n",
    "     F\n",
    "    / \\\n",
    "   B   G\n",
    "  / \\\n",
    "A     D"
   ]
  },
  {
   "cell_type": "code",
   "execution_count": 24,
   "metadata": {},
   "outputs": [
    {
     "data": {
      "text/plain": [
       "[2]"
      ]
     },
     "execution_count": 24,
     "metadata": {},
     "output_type": "execute_result"
    }
   ],
   "source": [
    "arr = [1,0,2]\n",
    "\n",
    "arr[:len(arr)//2:-1]"
   ]
  }
 ],
 "metadata": {
  "kernelspec": {
   "display_name": "langgraph",
   "language": "python",
   "name": "python3"
  },
  "language_info": {
   "codemirror_mode": {
    "name": "ipython",
    "version": 3
   },
   "file_extension": ".py",
   "mimetype": "text/x-python",
   "name": "python",
   "nbconvert_exporter": "python",
   "pygments_lexer": "ipython3",
   "version": "3.12.3"
  }
 },
 "nbformat": 4,
 "nbformat_minor": 2
}
