{
 "cells": [
  {
   "cell_type": "markdown",
   "metadata": {},
   "source": []
  },
  {
   "cell_type": "code",
   "execution_count": 28,
   "metadata": {},
   "outputs": [
    {
     "data": {
      "text/plain": [
       "[1, 2, 3, 5, 5, 7, 9, 10]"
      ]
     },
     "execution_count": 28,
     "metadata": {},
     "output_type": "execute_result"
    }
   ],
   "source": [
    "arr = [3,2,5,10,1,5,7,9]\n",
    "\n",
    "def selection_sort(arr):\n",
    "    size = len(arr)\n",
    "    for i in range(size):\n",
    "        minimum_index = i        \n",
    "        for j in range(i+1, size):\n",
    "            \n",
    "            if arr[j]<arr[minimum_index]:\n",
    "                minimum_index = j\n",
    "        (arr[i], arr[minimum_index]) = (arr[minimum_index], arr[i])\n",
    "    return arr\n",
    "        \n",
    "selection_sort(arr)"
   ]
  },
  {
   "cell_type": "code",
   "execution_count": 30,
   "metadata": {},
   "outputs": [
    {
     "data": {
      "text/plain": [
       "[[1, 2, 3, 5, 5, 7, 9, 10],\n",
       " [1, 2, 3, 5, 5, 7, 9, 10],\n",
       " [1, 2, 3, 5, 5, 7, 9, 10]]"
      ]
     },
     "execution_count": 30,
     "metadata": {},
     "output_type": "execute_result"
    }
   ],
   "source": [
    "[_ for i in range(3)]"
   ]
  },
  {
   "cell_type": "code",
   "execution_count": 24,
   "metadata": {},
   "outputs": [
    {
     "name": "stdout",
     "output_type": "stream",
     "text": [
      "zzzzz\n",
      "zzzzz\n",
      "aazzz\n"
     ]
    }
   ],
   "source": [
    "def func(a):\n",
    "    a = a.replace('z','a')\n",
    "m = 'zzzzz'\n",
    "func(m)\n",
    "print(m)\n",
    "\n",
    "m.replace('z','a',2)\n",
    "print(m)\n",
    "m = m.replace('z','a',2)\n",
    "print(m)"
   ]
  },
  {
   "cell_type": "code",
   "execution_count": 20,
   "metadata": {},
   "outputs": [
    {
     "name": "stdout",
     "output_type": "stream",
     "text": [
      "['a', 'z', 'z', 'z']\n"
     ]
    }
   ],
   "source": [
    "def func(a):\n",
    "    a[0]='a'\n",
    "m = ['z','z','z','z']\n",
    "func(m)\n",
    "print(m)"
   ]
  },
  {
   "cell_type": "markdown",
   "metadata": {},
   "source": [
    "## Solution"
   ]
  },
  {
   "cell_type": "code",
   "execution_count": 16,
   "metadata": {},
   "outputs": [
    {
     "name": "stdout",
     "output_type": "stream",
     "text": [
      "Sorted Array in Ascending Order:\n",
      "[-9, -2, 0, 11, 45]\n"
     ]
    }
   ],
   "source": [
    "def selection_sort_solution(array, size):\n",
    "    \n",
    "    for step in range(size):\n",
    "        min_idx = step\n",
    "        \n",
    "        for i in range(step+1, size):\n",
    "            if array[i] < array[min_idx]:\n",
    "                min_idx = i\n",
    "        \n",
    "        # put min at the correct position\n",
    "        (array[step], array[min_idx]) = (array[min_idx], array[step])\n",
    "\n",
    "data = [-2, 45, 0, 11, -9]\n",
    "size = len(data)\n",
    "selection_sort_solution(data, size)\n",
    "print('Sorted Array in Ascending Order:')\n",
    "print(data)"
   ]
  }
 ],
 "metadata": {
  "kernelspec": {
   "display_name": "worksappai",
   "language": "python",
   "name": "python3"
  },
  "language_info": {
   "codemirror_mode": {
    "name": "ipython",
    "version": 3
   },
   "file_extension": ".py",
   "mimetype": "text/x-python",
   "name": "python",
   "nbconvert_exporter": "python",
   "pygments_lexer": "ipython3",
   "version": "3.12.3"
  }
 },
 "nbformat": 4,
 "nbformat_minor": 2
}
