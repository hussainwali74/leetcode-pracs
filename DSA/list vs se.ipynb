{
 "cells": [
  {
   "cell_type": "code",
   "execution_count": 67,
   "metadata": {},
   "outputs": [],
   "source": [
    "import time"
   ]
  },
  {
   "cell_type": "code",
   "execution_count": 68,
   "metadata": {},
   "outputs": [
    {
     "data": {
      "text/plain": [
       "0.06090259552001953"
      ]
     },
     "execution_count": 68,
     "metadata": {},
     "output_type": "execute_result"
    }
   ],
   "source": [
    "start = time.time()\n",
    "arr = []\n",
    "for i in range(1,n):\n",
    "    arr.append\n",
    "end = time.time()\n",
    "\n",
    "end-start\n"
   ]
  },
  {
   "cell_type": "code",
   "execution_count": 84,
   "metadata": {},
   "outputs": [
    {
     "name": "stdout",
     "output_type": "stream",
     "text": [
      "in\n",
      "0.0\n"
     ]
    }
   ],
   "source": [
    "n = 99999999\n",
    "\n",
    "arr = []\n",
    "for i in range(1,n):\n",
    "    arr.append(i)\n",
    "start = time.time()\n",
    "if 1 in arr:\n",
    "    print('in')\n",
    "end = time.time()\n",
    "\n",
    "t_arr = end-start\n",
    "print(t_arr)\n"
   ]
  },
  {
   "cell_type": "code",
   "execution_count": 85,
   "metadata": {},
   "outputs": [
    {
     "name": "stdout",
     "output_type": "stream",
     "text": [
      "in\n",
      "0.0\n"
     ]
    }
   ],
   "source": [
    "\n",
    "s = set()\n",
    "for i in range(1,n):\n",
    "    s.add(i)\n",
    "start = time.time()\n",
    "if 12429 in s:\n",
    "    print('in')\n",
    "end = time.time()\n",
    "\n",
    "t_set = end-start\n",
    "print(t_set)"
   ]
  }
 ],
 "metadata": {
  "kernelspec": {
   "display_name": "langgraph",
   "language": "python",
   "name": "python3"
  },
  "language_info": {
   "codemirror_mode": {
    "name": "ipython",
    "version": 3
   },
   "file_extension": ".py",
   "mimetype": "text/x-python",
   "name": "python",
   "nbconvert_exporter": "python",
   "pygments_lexer": "ipython3",
   "version": "3.12.3"
  }
 },
 "nbformat": 4,
 "nbformat_minor": 2
}
