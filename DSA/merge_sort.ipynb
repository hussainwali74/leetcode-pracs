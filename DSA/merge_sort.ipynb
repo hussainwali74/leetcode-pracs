{
 "cells": [
  {
   "cell_type": "code",
   "execution_count": 7,
   "metadata": {},
   "outputs": [
    {
     "data": {
      "text/plain": [
       "[0, 1, 2, 3, 4, 4, 4, 5, 6, 7, 8]"
      ]
     },
     "execution_count": 7,
     "metadata": {},
     "output_type": "execute_result"
    }
   ],
   "source": [
    "arr = [1,3,4,5,2,7,8,6,4,4,0]\n",
    "def merge_sort(arr):\n",
    "    if len(arr) > 1:\n",
    "        left_arr = arr[:len(arr)//2]\n",
    "        right_arr = arr[len(arr)//2:]\n",
    "        \n",
    "        #recursion\n",
    "        merge_sort(left_arr)\n",
    "        merge_sort(right_arr)\n",
    "        \n",
    "        # merge\n",
    "        i = 0 # left array index\n",
    "        j = 0 # right array index\n",
    "        k = 0 # merge array index\n",
    "        \n",
    "        while i< len(left_arr) and j < len(right_arr):\n",
    "            if left_arr[i] < right_arr[j]:\n",
    "                arr[k] = left_arr[i]\n",
    "                i+=1\n",
    "            else:\n",
    "                arr[k] = right_arr[j]\n",
    "                j+=1\n",
    "            k+=1\n",
    "            \n",
    "        while i<len(left_arr):\n",
    "            arr[k] = left_arr[i]\n",
    "            i+=1\n",
    "            k+=1\n",
    "            \n",
    "        while j<len(right_arr):\n",
    "            arr[k] = right_arr[j]\n",
    "            j+=1\n",
    "            k+=1\n",
    "merge_sort(arr)\n",
    "arr\n"
   ]
  },
  {
   "cell_type": "code",
   "execution_count": 4,
   "metadata": {},
   "outputs": [
    {
     "name": "stdout",
     "output_type": "stream",
     "text": [
      "------------------------------------\n",
      "left_arr=[1] right_arr=[3] len(arr)= 2 arr=[1, 3]\n",
      "------------------------------------\n",
      "------------------------------------\n",
      "left_arr=[1, 3] right_arr=[4, 5, 2] len(arr)= 5 arr=[1, 3, 4, 5, 2]\n",
      "------------------------------------\n",
      "------------------------------------\n",
      "left_arr=[4] right_arr=[5, 2] len(arr)= 3 arr=[4, 5, 2]\n",
      "------------------------------------\n",
      "------------------------------------\n",
      "left_arr=[5] right_arr=[2] len(arr)= 2 arr=[5, 2]\n",
      "------------------------------------\n",
      "------------------------------------\n",
      "left_arr=[1, 3, 4, 5, 2] right_arr=[7, 8, 6, 4, 4, 0] len(arr)= 11 arr=[1, 3, 4, 5, 2, 7, 8, 6, 4, 4, 0]\n",
      "------------------------------------\n",
      "------------------------------------\n",
      "left_arr=[7] right_arr=[8, 6] len(arr)= 3 arr=[7, 8, 6]\n",
      "------------------------------------\n",
      "------------------------------------\n",
      "left_arr=[8] right_arr=[6] len(arr)= 2 arr=[8, 6]\n",
      "------------------------------------\n",
      "------------------------------------\n",
      "left_arr=[7, 8, 6] right_arr=[4, 4, 0] len(arr)= 6 arr=[7, 8, 6, 4, 4, 0]\n",
      "------------------------------------\n",
      "------------------------------------\n",
      "left_arr=[4] right_arr=[4, 0] len(arr)= 3 arr=[4, 4, 0]\n",
      "------------------------------------\n",
      "------------------------------------\n",
      "left_arr=[4] right_arr=[0] len(arr)= 2 arr=[4, 0]\n",
      "------------------------------------\n"
     ]
    }
   ],
   "source": [
    "arr = [1,3,4,5,2,7,8,6,4,4,0]\n",
    "def merge_sort(arr):\n",
    "    if len(arr)>1:\n",
    "        m = len(arr)//2\n",
    "        left_arr = arr[:m]\n",
    "        right_arr = arr[m:]\n",
    "        #recursion\n",
    "        merge_sort(left_arr)\n",
    "        print('------------------------------------');\n",
    "        print(f'{left_arr=} {right_arr=} {len(arr)= } {arr=}');\n",
    "        print('------------------------------------');\n",
    "        merge_sort(right_arr)\n",
    "          \n",
    "merge_sort(arr)"
   ]
  }
 ],
 "metadata": {
  "kernelspec": {
   "display_name": "langgraph",
   "language": "python",
   "name": "python3"
  },
  "language_info": {
   "codemirror_mode": {
    "name": "ipython",
    "version": 3
   },
   "file_extension": ".py",
   "mimetype": "text/x-python",
   "name": "python",
   "nbconvert_exporter": "python",
   "pygments_lexer": "ipython3",
   "version": "3.12.3"
  }
 },
 "nbformat": 4,
 "nbformat_minor": 2
}
