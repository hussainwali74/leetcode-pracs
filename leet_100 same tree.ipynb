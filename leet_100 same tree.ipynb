{
 "cells": [
  {
   "cell_type": "code",
   "execution_count": 26,
   "metadata": {},
   "outputs": [
    {
     "name": "stdout",
     "output_type": "stream",
     "text": [
      "------------------------------------\n",
      "p.val=1\n",
      "------------------------------------\n",
      "------------------------------------\n",
      "p.val=2\n",
      "------------------------------------\n",
      "False\n"
     ]
    }
   ],
   "source": [
    "from typing import Optional\n",
    "# Definition for a binary tree node.\n",
    "class TreeNode:\n",
    "    def __init__(self, val=0, left=None, right=None):\n",
    "        self.val = val\n",
    "        self.left = left\n",
    "        self.right = right\n",
    "        \n",
    "class Solution:\n",
    "    res = [True]\n",
    "    def isSameTree(self, p: Optional[TreeNode], q: Optional[TreeNode]) -> bool:\n",
    "        print('------------------------------------');\n",
    "        print(f'{p.val=}');\n",
    "        print('------------------------------------');\n",
    "        if (p and q and p.val==q.val):\n",
    "            if p.left and q.left:\n",
    "                return self.isSameTree(p.left,q.left)\n",
    "            else:\n",
    "                self.res[0]=False\n",
    "            if p.right and q.right:\n",
    "                return self.isSameTree(p.right,q.right)\n",
    "            else:\n",
    "                self.res[0]=False\n",
    "        else:\n",
    "            self.res[0]= False\n",
    "        return self.res[0]\n",
    "    \n",
    "p = TreeNode(1, TreeNode(2), TreeNode(3))\n",
    "q = TreeNode(1, TreeNode(2), TreeNode(3))\n",
    "# q = TreeNode()\n",
    "soln = Solution()\n",
    "print(soln.isSameTree(p,q))"
   ]
  },
  {
   "cell_type": "code",
   "execution_count": 75,
   "metadata": {},
   "outputs": [
    {
     "name": "stdout",
     "output_type": "stream",
     "text": [
      "True\n"
     ]
    }
   ],
   "source": [
    "from typing import Optional\n",
    "# Definition for a binary tree node.\n",
    "class TreeNode:\n",
    "    def __init__(self, val=0, left=None, right=None):\n",
    "        self.val = val\n",
    "        self.left = left\n",
    "        self.right = right\n",
    "        \n",
    "class Solution:\n",
    "    res = [True]\n",
    "    def isSameTree(self, p: Optional[TreeNode], q: Optional[TreeNode]) -> bool:\n",
    "        if (not p and q) or (p and not q):\n",
    "            self.res[0]= False\n",
    "            return  self.res[0]\n",
    "        if p and q:\n",
    "            if p.val!=q.val or p.left and not q.left or p.right and not q.right:\n",
    "                self.res[0]= False\n",
    "                return self.res[0]\n",
    "            if p.left and q.left:\n",
    "                self.isSameTree(p.left, q.left)    \n",
    "            if p.right and q.right:\n",
    "                self.isSameTree(p.right, q.right)\n",
    "        else:\n",
    "            self.res[0]= True\n",
    "            return self.res[0]\n",
    "        return self.res[0]\n",
    "    \n",
    "# p = TreeNode(11, TreeNode(2), TreeNode(3))\n",
    "# q = TreeNode(1, TreeNode(2), TreeNode(3))\n",
    "p = TreeNode(1, None, TreeNode(3))\n",
    "q = TreeNode(1, None, TreeNode(3))\n",
    "# p = TreeNode()\n",
    "# q = TreeNode()\n",
    "p = TreeNode(0,TreeNode(-5))\n",
    "q = TreeNode(0, TreeNode(-5))\n",
    "# p = TreeNode(1,TreeNode(2))\n",
    "# q = TreeNode(1, None, TreeNode(2))\n",
    "# p = TreeNode(0)\n",
    "# q = TreeNode(0)\n",
    "soln = Solution()\n",
    "print(soln.isSameTree(p,q))"
   ]
  },
  {
   "cell_type": "code",
   "execution_count": 73,
   "metadata": {},
   "outputs": [
    {
     "name": "stdout",
     "output_type": "stream",
     "text": [
      "False\n"
     ]
    }
   ],
   "source": [
    "from typing import Optional\n",
    "# Definition for a binary tree node.\n",
    "class TreeNode:\n",
    "    def __init__(self, val=0, left=None, right=None):\n",
    "        self.val = val\n",
    "        self.left = left\n",
    "        self.right = right\n",
    "        \n",
    "class Solution:\n",
    "    res = [True]\n",
    "    def isSameTree(self, p: Optional[TreeNode], q: Optional[TreeNode]) -> bool:\n",
    "        if (not p and q) or (p and not q):\n",
    "            self.res[0]= False\n",
    "            return  self.res[0]\n",
    "        if p and q:\n",
    "            if p.val!=q.val or p.left and not q.left or p.right and not q.right:\n",
    "                self.res[0]= False\n",
    "                return self.res[0]\n",
    "            if p.left and q.left:\n",
    "                self.isSameTree(p.left, q.left)    \n",
    "            if p.right and q.right:\n",
    "                self.isSameTree(p.right, q.right)\n",
    "        else:\n",
    "            self.res[0]= True\n",
    "            return self.res[0]\n",
    "        return self.res[0]\n",
    "\n",
    "p = TreeNode(1, None, TreeNode(3))\n",
    "q = TreeNode(1, None, TreeNode(3))\n",
    "soln = Solution()\n",
    "print(soln.isSameTree(p,q))"
   ]
  },
  {
   "cell_type": "code",
   "execution_count": 72,
   "metadata": {},
   "outputs": [
    {
     "name": "stdout",
     "output_type": "stream",
     "text": [
      "False\n"
     ]
    }
   ],
   "source": [
    "from typing import Optional\n",
    "# Definition for a binary tree node.\n",
    "class TreeNode:\n",
    "    def __init__(self, val=0, left=None, right=None):\n",
    "        self.val = val\n",
    "        self.left = left\n",
    "        self.right = right\n",
    "        \n",
    "class Solution:\n",
    "    res = [True]\n",
    "    def isSameTree(self, p: Optional[TreeNode], q: Optional[TreeNode]) -> bool:\n",
    "        def isBalanced(p,q):\n",
    "            if not p and not q:\n",
    "                return True\n",
    "            \n",
    "            if (p and not q ) or (q and not p):\n",
    "                return False\n",
    "\n",
    "            if p.val != q.val:\n",
    "                return False\n",
    "            return isBalanced(p.left,q.left) and isBalanced(p.right, q.right)\n",
    "        return isBalanced(p,q) \n",
    "p = TreeNode(1, None, TreeNode(3))\n",
    "q = TreeNode(1, None)\n",
    "soln = Solution()\n",
    "print(soln.isSameTree(p,q))"
   ]
  }
 ],
 "metadata": {
  "kernelspec": {
   "display_name": "langgraph",
   "language": "python",
   "name": "python3"
  },
  "language_info": {
   "codemirror_mode": {
    "name": "ipython",
    "version": 3
   },
   "file_extension": ".py",
   "mimetype": "text/x-python",
   "name": "python",
   "nbconvert_exporter": "python",
   "pygments_lexer": "ipython3",
   "version": "3.12.3"
  }
 },
 "nbformat": 4,
 "nbformat_minor": 2
}
