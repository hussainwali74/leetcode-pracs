{
 "cells": [
  {
   "cell_type": "markdown",
   "metadata": {},
   "source": [
    "# 1143. Longest Common Subsequence\n",
    "\n",
    "### Difficulty\n",
    "Medium\n",
    "\n",
    "---\n",
    "\n",
    "### Problem Statement\n",
    "\n",
    "Given two strings `text1` and `text2`, return the length of their **longest common subsequence**. If there is no common subsequence, return `0`.\n",
    "\n",
    "A **subsequence** of a string is a new string generated from the original string with some characters (can be none) deleted without changing the relative order of the remaining characters.\n",
    "\n",
    "For example, `\"ace\"` is a subsequence of `\"abcde\"`.  \n",
    "A **common subsequence** of two strings is a subsequence that is common to both strings.\n",
    "\n",
    "---\n",
    "\n",
    "### Examples\n",
    "\n",
    "#### Example 1:\n",
    "**Input:**  \n",
    "`text1 = \"abcde\"`, `text2 = \"ace\"`  \n",
    "**Output:**  \n",
    "`3`  \n",
    "**Explanation:**  \n",
    "The longest common subsequence is `\"ace\"`, and its length is `3`.\n",
    "\n",
    "---\n",
    "\n",
    "#### Example 2:\n",
    "**Input:**  \n",
    "`text1 = \"abc\"`, `text2 = \"abc\"`  \n",
    "**Output:**  \n",
    "`3`  \n",
    "**Explanation:**  \n",
    "The longest common subsequence is `\"abc\"`, and its length is `3`.\n",
    "\n",
    "---\n",
    "\n",
    "#### Example 3:\n",
    "**Input:**  \n",
    "`text1 = \"abc\"`, `text2 = \"def\"`  \n",
    "**Output:**  \n",
    "`0`  \n",
    "**Explanation:**  \n",
    "There is no common subsequence, so the result is `0`.\n",
    "\n",
    "---\n",
    "\n",
    "### Constraints\n",
    "\n",
    "- `1 <= text1.length, text2.length <= 1000`\n",
    "- `text1` and `text2` consist of only lowercase English characters.\n"
   ]
  },
  {
   "cell_type": "markdown",
   "metadata": {},
   "source": [
    "---\n",
    "\n",
    "attempts"
   ]
  },
  {
   "cell_type": "code",
   "execution_count": 6,
   "metadata": {},
   "outputs": [
    {
     "name": "stdout",
     "output_type": "stream",
     "text": [
      "e ubmrapg\n",
      "z ubmrapg\n",
      "u ubmrapg\n",
      "p ubmrapg\n",
      "k ubmrapg\n",
      "r ubmrapg\n"
     ]
    },
    {
     "data": {
      "text/plain": [
       "'upr'"
      ]
     },
     "execution_count": 6,
     "metadata": {},
     "output_type": "execute_result"
    }
   ],
   "source": [
    "text1 = \"abcde\"\n",
    "text2 = \"ace\" \n",
    "text1 = \"abc\"\n",
    "text2 = \"def\" \n",
    "text1 = \"ezupkr\"\n",
    "text2 = \"ubmrapg\" \n",
    "\n",
    "\n",
    "n1 = len(text1)\n",
    "n2 = len(text2)\n",
    "\n",
    "shorter = text1 if n1<n2 else text2\n",
    "longer = text1 if n1>n2 else text2\n",
    "if n1==n2:\n",
    "    shorter = text1\n",
    "    longer = text2\n",
    "res=0\n",
    "ress = ''\n",
    "for c in shorter:\n",
    "    print(c, longer)\n",
    "    if c in longer:\n",
    "        ress+=c\n",
    "        res+=1\n",
    "ress"
   ]
  },
  {
   "cell_type": "code",
   "execution_count": 68,
   "metadata": {},
   "outputs": [
    {
     "name": "stdout",
     "output_type": "stream",
     "text": [
      "shorter='abcba'\n",
      "common_letters='abcba'\n",
      "b 3 4\n",
      "c 2 3\n",
      "b 3 2\n",
      "a 4 3\n",
      "b 5 6\n",
      "c 4 5\n",
      "b 5 4\n",
      "a 6 5\n"
     ]
    },
    {
     "data": {
      "text/plain": [
       "('abcba', 'abcbcba', 'aba', {'a': 4, 'b': 3, 'c': 2}, {'a': 6, 'b': 5, 'c': 4})"
      ]
     },
     "execution_count": 68,
     "metadata": {},
     "output_type": "execute_result"
    }
   ],
   "source": [
    "text1 = \"ezupr\"\n",
    "text2 = \"urapg\" \n",
    "\n",
    "text1=\"abcde\"\n",
    "text2 = \"ace\"\n",
    "\n",
    "text1=\"ezupkr\"\n",
    "text2 = \"ubmrapg\"\n",
    "\n",
    "text1=\"abcba\"\n",
    "text2 = \"abcbcba\"\n",
    "\n",
    "\n",
    "n1 = len(text1)\n",
    "n2 = len(text2)\n",
    "\n",
    "shorter = text1 if n1<n2 else text2\n",
    "longer = text1 if n1>n2 else text2\n",
    "if n1==n2:\n",
    "    shorter = text1\n",
    "    longer = text2\n",
    "res=0\n",
    "print(f\"{shorter=}\")\n",
    "common_letters = ''\n",
    "for c in shorter:\n",
    "    if c in longer:\n",
    "        common_letters+=c\n",
    "common_letters_shorter = common_letters\n",
    "\n",
    "print(f\"{common_letters=}\")\n",
    "shorter_indices_dict = {}\n",
    "for i,c in enumerate(shorter):\n",
    "    if c in common_letters_shorter:\n",
    "        shorter_indices_dict[c]=i\n",
    "        common_letters_shorter.replace(c,'',1)\n",
    "\n",
    "common_letters_longer = common_letters\n",
    "longer_indices_dict = {}\n",
    "for i,c in enumerate(longer):\n",
    "    if c in common_letters_longer:\n",
    "        longer_indices_dict[c]=i\n",
    "        common_letters_longer.replace(c,'',1)\n",
    "# print(shorter_indices_dict)\n",
    "# print(longer_indices_dict)\n",
    "# for k, v in shorter_indices_dict.items():\n",
    "#     if v <= longer_indices_dict[k]:\n",
    "#         res+=k\n",
    "res_shorter = common_letters[0]\n",
    "prev = shorter_indices_dict[common_letters[0]]\n",
    "for i in range(1,len(common_letters)):\n",
    "    curr = shorter_indices_dict[common_letters[i]]\n",
    "    print(common_letters[i], curr, prev)\n",
    "    if curr>prev:\n",
    "        res_shorter+=common_letters[i]\n",
    "    prev = curr\n",
    "res_longer = common_letters[0]\n",
    "prev = longer_indices_dict[common_letters[0]]\n",
    "for i in range(1,len(common_letters)):\n",
    "    curr = longer_indices_dict[common_letters[i]]\n",
    "    print(common_letters[i], curr, prev)\n",
    "    if curr>prev:\n",
    "        res_longer+=common_letters[i]\n",
    "    prev=curr\n",
    "# return len(res_shorter)\n",
    "text1,text2, res_shorter, shorter_indices_dict, longer_indices_dict\n",
    "# min(len(res_shorter), len(res_longer))\n",
    "# min(len(res_shorter), len(res_longer))"
   ]
  },
  {
   "cell_type": "markdown",
   "metadata": {},
   "source": [
    "---"
   ]
  },
  {
   "cell_type": "markdown",
   "metadata": {},
   "source": [
    "### Soln"
   ]
  },
  {
   "cell_type": "markdown",
   "metadata": {},
   "source": [
    "neets\n"
   ]
  },
  {
   "cell_type": "code",
   "execution_count": 75,
   "metadata": {},
   "outputs": [
    {
     "data": {
      "text/plain": [
       "4"
      ]
     },
     "execution_count": 75,
     "metadata": {},
     "output_type": "execute_result"
    }
   ],
   "source": [
    "class Solution:\n",
    "\n",
    "    def longestCommonSubsequence(self, text1:str, text2:str)->int:\n",
    "        dp = [[0 for j in range(len(text2)+1)] for i in range(len(text1)+1)]\n",
    "        for i in range(len(text1)-1,-1,-1):\n",
    "            for j in range(len(text2)-1,-1,-1):\n",
    "                if text1[i]==text2[j]:\n",
    "                    dp[i][j] = 1+dp[i+1][j+1]\n",
    "                else:\n",
    "                    dp[i][j] = max(dp[i][j+1],dp[i+1][j])\n",
    "        return dp[0][0]\n",
    "\n",
    "text1='abfcabc'\n",
    "text2='abdfcd'\n",
    "sol = Solution()\n",
    "sol.longestCommonSubsequence(text1, text2)\n",
    "\n",
    "# [[0, 0, 0, 0],\n",
    "#  [0, 0, 0, 0],\n",
    "#  [0, 0, 0, 0],\n",
    "#  [0, 0, 0, 0],\n",
    "#  [0, 0, 0, 0],\n",
    "#  [0, 0, 0, 0],\n",
    "#  [0, 0, 0, 0]\n",
    "# ]"
   ]
  },
  {
   "cell_type": "code",
   "execution_count": 18,
   "metadata": {},
   "outputs": [
    {
     "name": "stdout",
     "output_type": "stream",
     "text": [
      "5\n",
      "4 5\n",
      "4 4\n",
      "4 3\n",
      "4 2\n",
      "4 1\n",
      "4 0\n",
      "3 5\n",
      "3 4\n",
      "3 3\n",
      "3 2\n",
      "3 1\n",
      "3 0\n",
      "2 5\n",
      "2 4\n",
      "2 3\n",
      "2 2 [0, 0, 0, 0, 0, 0, 0] [0, 0, 0, 0, 0, 0, 0] c c\n",
      "2 1\n",
      "2 0\n",
      "1 5\n",
      "1 4\n",
      "1 3\n",
      "1 2\n",
      "1 1 [0, 0, 1, 0, 0, 0, 0] [0, 0, 1, 0, 0, 0, 0] b b\n",
      "1 0\n",
      "0 5 [0, 0, 0, 0, 0, 0, 0] [0, 0, 0, 0, 0, 0, 0] a a\n",
      "0 4 [0, 0, 0, 0, 0, 1, 0] [0, 0, 0, 0, 0, 0, 0] a a\n",
      "0 3 [0, 0, 0, 0, 1, 1, 0] [0, 0, 0, 0, 0, 0, 0] a a\n",
      "0 2\n",
      "0 1\n",
      "0 0 [0, 2, 1, 1, 1, 1, 0] [0, 2, 1, 1, 1, 1, 0] a a\n"
     ]
    },
    {
     "data": {
      "text/plain": [
       "3"
      ]
     },
     "execution_count": 18,
     "metadata": {},
     "output_type": "execute_result"
    }
   ],
   "source": [
    "class Solution:\n",
    "    def longestCommonSubsequence(self, text1: str, text2: str) -> int:\n",
    "        dp = [[0 for i in range(len(text2)+1)] for j in range(len(text1)+1)]\n",
    "        for i in range(len(text1)-1,-1,-1):\n",
    "            for j in range(len(text2)-1,-1,-1):\n",
    "                if text1[i] == text2[j]:\n",
    "                    dp[i][j] = 1+dp[i+1][j+1]\n",
    "                else:\n",
    "                    dp[i][j] = max(dp[i][j+1], dp[i+1][j])\n",
    "        return dp[0][0]\n",
    "\n",
    "text1 = 'abcde'\n",
    "text2 = \"abcaaa\"\n",
    "sol = Solution()\n",
    "sol.longestCommonSubsequence(text1,text2)\n"
   ]
  }
 ],
 "metadata": {
  "kernelspec": {
   "display_name": "base",
   "language": "python",
   "name": "python3"
  },
  "language_info": {
   "codemirror_mode": {
    "name": "ipython",
    "version": 3
   },
   "file_extension": ".py",
   "mimetype": "text/x-python",
   "name": "python",
   "nbconvert_exporter": "python",
   "pygments_lexer": "ipython3",
   "version": "3.12.7"
  }
 },
 "nbformat": 4,
 "nbformat_minor": 2
}
