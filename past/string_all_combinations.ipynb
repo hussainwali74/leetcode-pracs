{
 "cells": [
  {
   "cell_type": "markdown",
   "metadata": {},
   "source": [
    "for given string return all the combinations of the characters.\n",
    "example: x = \"aab\"\n",
    "result: [\"aab\", \"aba\", \"baa\"]\n",
    "\n",
    "x = \"vxyz\"\n",
    "[\"vxyz\", \"vxzy\", \"vzxy\", \"zvxy\", \"vyxz\", \"yvxz\", \"xvyz\"]\n",
    "\n",
    "x = \"aaba\"\n",
    "[\"aaba\", \"abaa\", \"baaa\", \"aaab\"]\n",
    "\n",
    "x = \"abc\"\n",
    "abc, acb, \n",
    "bca, bac,\n",
    "cab, cba\n",
    "---\n",
    "x='ab', n=2, l=2\n",
    "ab\n",
    "ba\n",
    "---\n",
    "x = \"abc\" n = 3, l = 6\n",
    "abc\n",
    "acb\n",
    "bac\n",
    "bca\n",
    "cba\n",
    "cab\n",
    "\n",
    "---\n",
    "\n",
    "x = \"abcd\", n=4, l=24\n",
    "[\"abcd\", \"abdc\", \"adbc\", \"dabc\", \"acbd\", \"cabd\", \"bacd\", \"badc\", \"bcda\", \"bdca\"]\n",
    "\n",
    "abcd, abdc,  acbd, acdb, adbc, adcb,\n",
    "bacd, badc, bcad, bcda,  bdca, bdac,\n",
    "cabd, cadb, cbad, cbda, cdab, cdba,\n",
    "dabc, dacb, dbac, dbca, dcab, dcba\n",
    "--"
   ]
  },
  {
   "cell_type": "code",
   "execution_count": 27,
   "metadata": {},
   "outputs": [
    {
     "data": {
      "text/plain": [
       "(['abcd',\n",
       "  'abdc',\n",
       "  'acbd',\n",
       "  'acdb',\n",
       "  'adbc',\n",
       "  'adcb',\n",
       "  'bacd',\n",
       "  'badc',\n",
       "  'bcad',\n",
       "  'bcda',\n",
       "  'bdac',\n",
       "  'bdca',\n",
       "  'cabd',\n",
       "  'cadb',\n",
       "  'cbad',\n",
       "  'cbda',\n",
       "  'cdab',\n",
       "  'cdba',\n",
       "  'dabc',\n",
       "  'dacb',\n",
       "  'dbac',\n",
       "  'dbca',\n",
       "  'dcab',\n",
       "  'dcba'],\n",
       " 24)"
      ]
     },
     "execution_count": 27,
     "metadata": {},
     "output_type": "execute_result"
    }
   ],
   "source": [
    "x ='abcd'\n",
    "# # fix 1s\n",
    "# \n",
    "def get_combination(x):\n",
    "    if len(x)==1:\n",
    "        return [x]\n",
    "    permutations = []\n",
    "    for i in range(0,len(x)):\n",
    "        s=x[i]\n",
    "        rems= x[:i]+x[i+1:]\n",
    "        remaining_perms = get_combination(rems)\n",
    "        for perm in remaining_perms:\n",
    "            permutations.append(s+perm)\n",
    "        \n",
    "    return permutations\n",
    "result = get_combination(x)   \n",
    "    # ith is fixed on the first spot\n",
    "result, len(result)"
   ]
  },
  {
   "cell_type": "markdown",
   "metadata": {},
   "source": [
    "# Solution\n",
    "\n",
    "**Base Case**: If the string length is 1, there's only one permutation: the string itself.\n",
    "\n",
    "**Recursive Case**: For a string of length n:\n",
    "\n",
    "   - For each character in the string:\n",
    "    \n",
    "   - Set that character as the first character and then find permutations of the rest of the string.\n",
    "\n",
    "   - Concatenate the first character with the permutations of the substring obtained by excluding the character."
   ]
  },
  {
   "cell_type": "code",
   "execution_count": 24,
   "metadata": {},
   "outputs": [
    {
     "name": "stdout",
     "output_type": "stream",
     "text": [
      "-------------------------------------------------------------------\n",
      "s='ab'\n",
      "-------------------------------------------------------------------\n",
      "-------------------------------------------------------------------\n",
      "s='b'\n",
      "-------------------------------------------------------------------\n",
      "-------------------------------------------------------------------\n",
      "remaining_permutations=['b']\n",
      "-------------------------------------------------------------------\n",
      "-------------------------------------------------------------------\n",
      "s='a'\n",
      "-------------------------------------------------------------------\n",
      "-------------------------------------------------------------------\n",
      "remaining_permutations=['a']\n",
      "-------------------------------------------------------------------\n",
      "['ab', 'ba']\n"
     ]
    }
   ],
   "source": [
    "def get_permutations(s):\n",
    "    print(\"-------------------------------------------------------------------\")\n",
    "    print(f\"{s=}\")\n",
    "    print(\"-------------------------------------------------------------------\")\n",
    "    \n",
    "    # If the string is empty or contains one character, return it as the only permutation\n",
    "    if len(s) <= 1:\n",
    "        return [s]\n",
    "    \n",
    "    # Otherwise, find permutations\n",
    "    permutations = []  # List to store all permutations\n",
    "    for i in range(len(s)):\n",
    "        # Get the current character\n",
    "        char = s[i]\n",
    "        # Form a substring by excluding the current character\n",
    "        remaining = s[:i] + s[i+1:]\n",
    "        \n",
    "        # Recursively get permutations of the remaining characters\n",
    "        remaining_permutations = get_permutations(remaining)\n",
    "        print(\"-------------------------------------------------------------------\")\n",
    "        print(f\"{remaining_permutations=}\")\n",
    "        print(\"-------------------------------------------------------------------\")\n",
    "        \n",
    "        # Add the current character to the start of each permutation of the remaining characters\n",
    "        for perm in remaining_permutations:\n",
    "            permutations.append(char + perm)\n",
    "    \n",
    "    return permutations\n",
    "\n",
    "# Example usage:\n",
    "x = \"ab\"\n",
    "print(get_permutations(x))\n"
   ]
  }
 ],
 "metadata": {
  "kernelspec": {
   "display_name": "langgraph",
   "language": "python",
   "name": "python3"
  },
  "language_info": {
   "codemirror_mode": {
    "name": "ipython",
    "version": 3
   },
   "file_extension": ".py",
   "mimetype": "text/x-python",
   "name": "python",
   "nbconvert_exporter": "python",
   "pygments_lexer": "ipython3",
   "version": "3.12.3"
  }
 },
 "nbformat": 4,
 "nbformat_minor": 2
}
