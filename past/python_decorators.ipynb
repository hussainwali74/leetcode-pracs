{
 "cells": [
  {
   "cell_type": "markdown",
   "metadata": {},
   "source": [
    "defines a Python decorator called time_it, which is used to measure the execution time of any function it is applied to. "
   ]
  },
  {
   "cell_type": "code",
   "execution_count": 2,
   "metadata": {},
   "outputs": [],
   "source": [
    "\n",
    "import time\n",
    "def time_it(func):\n",
    "    def wrapper(*args, **kwargs):\n",
    "        start = time.time()\n",
    "        result = func(*args, **kwargs)\n",
    "        end = time.time()\n",
    "        print(func.__name__+\" took\" +str((end-start)*1000) +\" mil secs\")\n",
    "        return result\n",
    "    return wrapper\n"
   ]
  },
  {
   "cell_type": "markdown",
   "metadata": {},
   "source": [
    "`def wrapper(*args, **kwargs):`\n",
    "\n",
    "Inside the time_it function, another function called wrapper is defined. \n",
    "\n",
    "This wrapper function is what actually gets called when you use the time_it decorator.\n",
    "\n",
    " It can accept any number of positional (*args) and keyword (**kwargs) arguments, which are passed on to the func when it's called.\n"
   ]
  },
  {
   "cell_type": "markdown",
   "metadata": {},
   "source": [
    "The *args and **kwargs syntax in Python is used to pass a variable number of arguments to a function. Here’s how each is used:\n",
    "\n",
    "*args allows you to pass an arbitrary number of positional arguments (i.e., arguments that are not keyword arguments).\n",
    "\n",
    "**kwargs allows you to pass an arbitrary number of keyword arguments (i.e., arguments specified by name).\n",
    "\n",
    "In the context of the time_it decorator function you provided, *args and **kwargs are used to ensure that the wrapper function can accept any combination of positional and keyword arguments that the function func might expect. This makes the decorator flexible, capable of being applied to any function regardless of the parameters it requires."
   ]
  },
  {
   "cell_type": "markdown",
   "metadata": {},
   "source": [
    "In Python, `*args` and `**kwargs` are used in function definitions to allow a function to accept a variable number of arguments. `*args` is used to pass a non-keyworded, variable-length argument list, while `**kwargs` allows you to pass keyworded variable-length arguments. Here's a simple explanation of each and a sample function to demonstrate how they work:\n",
    "\n",
    "\n",
    "\n",
    "1. **`*args`**: This syntax collects extra positional arguments as a tuple. This allows the function to accept additional arguments beyond those explicitly defined.\n",
    "\n",
    "\n",
    "\n",
    "2. **`**kwargs`**: This syntax collects extra keyword arguments as a dictionary. This is useful when you want to handle named arguments not defined in advance.\n",
    "\n",
    "\n",
    "\n",
    "Here’s an example that incorporates both:\n",
    "\n",
    "\n",
    "\n",
    "```python\n",
    "\n",
    "def example_func(*args, **kwargs):\n",
    "\n",
    "    print(\"args: \", args)\n",
    "\n",
    "    print(\"kwargs: \", kwargs)\n",
    "\n",
    "\n",
    "\n",
    "example_func(1, 2, 3, a=\"One\", b=\"Two\", c=\"Three\")\n",
    "\n",
    "```\n",
    "\n",
    "\n",
    "\n",
    "**Output Explanation**:\n",
    "\n",
    "- The numbers `1, 2, 3` are passed as `args`, and will be printed as a tuple: `(1, 2, 3)`.\n",
    "\n",
    "- The named arguments `a=\"One\", b=\"Two\", c=\"Three\"` are passed as `kwargs` and will be printed as a dictionary: `{'a': 'One', 'b': 'Two', 'c': 'Three'}`.\n",
    "\n",
    "\n",
    "\n",
    "These features are extremely useful for creating flexible and reusable functions in Python, allowing them to handle a wider variety of input options."
   ]
  }
 ],
 "metadata": {
  "kernelspec": {
   "display_name": "langgraph",
   "language": "python",
   "name": "python3"
  },
  "language_info": {
   "codemirror_mode": {
    "name": "ipython",
    "version": 3
   },
   "file_extension": ".py",
   "mimetype": "text/x-python",
   "name": "python",
   "nbconvert_exporter": "python",
   "pygments_lexer": "ipython3",
   "version": "3.12.3"
  }
 },
 "nbformat": 4,
 "nbformat_minor": 2
}
