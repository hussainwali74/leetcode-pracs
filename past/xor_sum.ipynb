{
 "cells": [
  {
   "cell_type": "markdown",
   "metadata": {},
   "source": [
    "## Bit Manipulation for Subset Generation:\n",
    "\n",
    "Each subset can be represented by a binary number, where each bit indicates whether an element is included in the subset.\n",
    "\n",
    "For a list of length ( n ), there are ( 2^n ) possible subsets.\n",
    "\n",
    "We can iterate through all binary numbers from ( 0 ) to ( 2^n - 1 ), and each number corresponds to a unique subset.\n"
   ]
  },
  {
   "cell_type": "markdown",
   "metadata": {},
   "source": [
    "### My Sol:"
   ]
  },
  {
   "cell_type": "code",
   "execution_count": 37,
   "metadata": {},
   "outputs": [
    {
     "name": "stdout",
     "output_type": "stream",
     "text": [
      "[] 0\n",
      "[5] 5\n",
      "[1] 6\n",
      "[5, 1] 10\n",
      "[6] 16\n",
      "[5, 6] 19\n",
      "[1, 6] 26\n",
      "[5, 1, 6] 28\n"
     ]
    },
    {
     "data": {
      "text/plain": [
       "28"
      ]
     },
     "execution_count": 37,
     "metadata": {},
     "output_type": "execute_result"
    }
   ],
   "source": [
    "class Solution:\n",
    "    def subsetXORSum(self, nums) -> int:\n",
    "        subsets = self.getSubArrays(nums)\n",
    "        sums = 0\n",
    "        for subset in subsets:\n",
    "            if len(subset)==1:\n",
    "                sums+=subset[0]\n",
    "            else:\n",
    "                xor = 0\n",
    "                for j in range(len(subset)):\n",
    "                    xor = subset[j]^xor\n",
    "                sums+=xor\n",
    "        return sums\n",
    "    def getSubArrays(self, nums):\n",
    "        sub_arrays=[]\n",
    "        l = len(nums)\n",
    "        n = 1<<l\n",
    "        for i in range(n):\n",
    "            subarry=[]\n",
    "            for j in range(l):\n",
    "                if i&(1<<j):\n",
    "                    subarry.append(nums[j])\n",
    "            sub_arrays.append(subarry)\n",
    "        return sub_arrays\n",
    "\n",
    "nums = [5,1,6] # [5,1], [5,6],[1,6]2\n",
    "sol = Solution()\n",
    "sol.subsetXORSum(nums)"
   ]
  },
  {
   "cell_type": "markdown",
   "metadata": {},
   "source": [
    "#### leet solutions:"
   ]
  },
  {
   "cell_type": "code",
   "execution_count": 29,
   "metadata": {},
   "outputs": [
    {
     "data": {
      "text/plain": [
       "12"
      ]
     },
     "execution_count": 29,
     "metadata": {},
     "output_type": "execute_result"
    }
   ],
   "source": [
    "class Solution:\n",
    "    def subsetXORSum(self, nums: List[int]) -> int:\n",
    "        n = len(nums)\n",
    "        total_sum = 0\n",
    "        # Iterate through all possible subsets\n",
    "        for i in range(1 << n):\n",
    "            subset_xor = 0\n",
    "            for j in range(n):\n",
    "                # Check if the j-th element is in the i-th subset\n",
    "                if i & (1 << j):\n",
    "                    subset_xor ^= nums[j]\n",
    "            total_sum += subset_xor\n",
    "        return total_sum"
   ]
  },
  {
   "cell_type": "code",
   "execution_count": 10,
   "metadata": {},
   "outputs": [
    {
     "name": "stdout",
     "output_type": "stream",
     "text": [
      "-------------------------------------------------------------------\n",
      "self.tail+1 =0, self.k=5 0%5=0 self.head=-1\n",
      "-------------------------------------------------------------------\n",
      "Initial queue\n",
      "1 \n"
     ]
    }
   ],
   "source": [
    "# Circular Queue implementation in Python\n",
    "\n",
    "\n",
    "class MyCircularQueue():\n",
    "\n",
    "    def __init__(self, k):\n",
    "        self.k = k\n",
    "        self.queue = [None] * k\n",
    "        self.head = self.tail = -1\n",
    "\n",
    "    # Insert an element into the circular queue\n",
    "    def enqueue(self, data):\n",
    "        print(\"-------------------------------------------------------------------\")\n",
    "        print(f\"{self.tail+1 =}, {self.k=} {0%5=} {self.head=}\")\n",
    "        print(\"-------------------------------------------------------------------\")\n",
    "        \n",
    "        if ((self.tail + 1) % self.k == self.head):\n",
    "            print(\"The circular queue is full\\n\")\n",
    "\n",
    "        elif (self.head == -1):\n",
    "            self.head = 0\n",
    "            self.tail = 0\n",
    "            self.queue[self.tail] = data\n",
    "        else:\n",
    "            self.tail = (self.tail + 1) % self.k\n",
    "            self.queue[self.tail] = data\n",
    "\n",
    "    # Delete an element from the circular queue\n",
    "    def dequeue(self):\n",
    "        if (self.head == -1):\n",
    "            print(\"The circular queue is empty\\n\")\n",
    "\n",
    "        elif (self.head == self.tail):\n",
    "            temp = self.queue[self.head]\n",
    "            self.head = -1\n",
    "            self.tail = -1\n",
    "            return temp\n",
    "        else:\n",
    "            temp = self.queue[self.head]\n",
    "            self.head = (self.head + 1) % self.k\n",
    "            return temp\n",
    "\n",
    "    def printCQueue(self):\n",
    "        if(self.head == -1):\n",
    "            print(\"No element in the circular queue\")\n",
    "\n",
    "        elif (self.tail >= self.head):\n",
    "            for i in range(self.head, self.tail + 1):\n",
    "                print(self.queue[i], end=\" \")\n",
    "            print()\n",
    "        else:\n",
    "            for i in range(self.head, self.k):\n",
    "                print(self.queue[i], end=\" \")\n",
    "            for i in range(0, self.tail + 1):\n",
    "                print(self.queue[i], end=\" \")\n",
    "            print()\n",
    "\n",
    "\n",
    "# Your MyCircularQueue object will be instantiated and called as such:\n",
    "obj = MyCircularQueue(5)\n",
    "obj.enqueue(1)\n",
    "# obj.enqueue(2)\n",
    "# obj.enqueue(3)\n",
    "# obj.enqueue(4)\n",
    "# obj.enqueue(5)\n",
    "print(\"Initial queue\")\n",
    "obj.printCQueue()\n",
    "\n",
    "# obj.dequeue()\n",
    "# print(\"After removing an element from the queue\")\n",
    "# obj.printCQueue()\n"
   ]
  }
 ],
 "metadata": {
  "kernelspec": {
   "display_name": "ai",
   "language": "python",
   "name": "python3"
  },
  "language_info": {
   "codemirror_mode": {
    "name": "ipython",
    "version": 3
   },
   "file_extension": ".py",
   "mimetype": "text/x-python",
   "name": "python",
   "nbconvert_exporter": "python",
   "pygments_lexer": "ipython3",
   "version": "3.12.3"
  }
 },
 "nbformat": 4,
 "nbformat_minor": 2
}
