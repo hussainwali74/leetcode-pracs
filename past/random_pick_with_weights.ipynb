{
 "cells": [
  {
   "cell_type": "markdown",
   "metadata": {},
   "source": [
    "## without bin search"
   ]
  },
  {
   "cell_type": "code",
   "execution_count": 115,
   "metadata": {},
   "outputs": [
    {
     "data": {
      "text/plain": [
       "1"
      ]
     },
     "execution_count": 115,
     "metadata": {},
     "output_type": "execute_result"
    }
   ],
   "source": [
    "import random\n",
    "w = [1,4,10]\n",
    "def pick(arr):\n",
    "    prob_arr = []\n",
    "    cumm_sum = 0\n",
    "    for i, val in enumerate(arr):\n",
    "        cumm_sum=val+cumm_sum\n",
    "        prob_arr.append(cumm_sum)\n",
    "        \n",
    "    rand = random.random() * cumm_sum\n",
    "    \n",
    "    for k, j in enumerate(prob_arr):\n",
    "        if rand < j:\n",
    "            return k\n",
    "    \n",
    "pick(w)"
   ]
  },
  {
   "cell_type": "markdown",
   "metadata": {},
   "source": [
    "## With Bin search\n"
   ]
  },
  {
   "cell_type": "code",
   "execution_count": 135,
   "metadata": {},
   "outputs": [
    {
     "data": {
      "text/plain": [
       "2"
      ]
     },
     "execution_count": 135,
     "metadata": {},
     "output_type": "execute_result"
    }
   ],
   "source": [
    "w = [1,3, 6]\n",
    "def pick(arr):\n",
    "    cumm_sum = 0\n",
    "    probs_arr = []\n",
    "    for i, val in enumerate(arr):\n",
    "        cumm_sum+=val\n",
    "        probs_arr.append(cumm_sum)\n",
    "    randn = round(random.random()*cumm_sum)\n",
    "    (low, high) = (0, len(probs_arr)-1)\n",
    "    while(low<high):\n",
    "        mid = low+(high-low)//2\n",
    "        if probs_arr[mid]==randn:\n",
    "            return mid\n",
    "        if probs_arr[mid]<randn:\n",
    "            low = mid+1\n",
    "        else:\n",
    "            high = mid\n",
    "    return low\n",
    "pick(w)"
   ]
  },
  {
   "cell_type": "code",
   "execution_count": 1,
   "metadata": {},
   "outputs": [
    {
     "data": {
      "text/plain": [
       "1"
      ]
     },
     "execution_count": 1,
     "metadata": {},
     "output_type": "execute_result"
    }
   ],
   "source": [
    "arr = [1,2]\n",
    "t1,t2 = arr\n",
    "t1"
   ]
  },
  {
   "cell_type": "markdown",
   "metadata": {},
   "source": [
    "# prev"
   ]
  },
  {
   "cell_type": "code",
   "execution_count": 13,
   "metadata": {},
   "outputs": [],
   "source": [
    "w = [1,3]\n",
    "w_sum = sum(w)\n",
    "import random\n",
    "arrays = []\n",
    "for _ in range(100):\n",
    "    arr = []\n",
    "    for i in w:\n",
    "        num = (random.random()*i)/w_sum\n",
    "        arr.append(num)\n",
    "    arrays.append(arr)\n",
    "# arrays"
   ]
  },
  {
   "cell_type": "code",
   "execution_count": 100,
   "metadata": {},
   "outputs": [
    {
     "name": "stdout",
     "output_type": "stream",
     "text": [
      "-------------------------------------------------------------------\n",
      "arrays=[0.0042177823519410846, 0.07394228537125122, 0.22052240867287162, 0.0676403245171669] sum(arrays)=0.36632280091323083\n",
      "-------------------------------------------------------------------\n",
      "2\n",
      "-------------------------------------------------------------------\n",
      "arrays=[0.03774625044206852, 0.07308787606412416, 0.1946778431254835, 0.2669379773180953] sum(arrays)=0.5724499469497715\n",
      "-------------------------------------------------------------------\n",
      "3\n",
      "-------------------------------------------------------------------\n",
      "arrays=[0.03021710580937574, 0.01574727346901718, 0.14089815125637534, 0.48454120505999576] sum(arrays)=0.671403735594764\n",
      "-------------------------------------------------------------------\n",
      "3\n",
      "-------------------------------------------------------------------\n",
      "arrays=[0.028070561403652494, 0.011086986304023506, 0.06562931307020564, 0.5450020780046383] sum(arrays)=0.64978893878252\n",
      "-------------------------------------------------------------------\n",
      "3\n",
      "-------------------------------------------------------------------\n",
      "arrays=[0.04925603029258121, 0.010921387802136659, 0.1683715145585407, 0.28121373614346035] sum(arrays)=0.5097626687967189\n",
      "-------------------------------------------------------------------\n",
      "3\n",
      "-------------------------------------------------------------------\n",
      "arrays=[0.018388461494876756, 0.1058088375316449, 0.075478086663321, 0.040424604838538714] sum(arrays)=0.24009999052838135\n",
      "-------------------------------------------------------------------\n",
      "1\n",
      "-------------------------------------------------------------------\n",
      "arrays=[0.012154868915757035, 0.03289211521583359, 0.03365601694991011, 0.21257480929167313] sum(arrays)=0.29127781037317385\n",
      "-------------------------------------------------------------------\n",
      "3\n",
      "-------------------------------------------------------------------\n",
      "arrays=[0.009671177242177932, 0.06522322766355977, 0.22498429304589973, 0.46807973654558954] sum(arrays)=0.767958434497227\n",
      "-------------------------------------------------------------------\n",
      "3\n",
      "-------------------------------------------------------------------\n",
      "arrays=[0.02647758633624913, 0.02590850345099839, 0.22284563551465345, 0.5445615553337048] sum(arrays)=0.8197932806356057\n",
      "-------------------------------------------------------------------\n",
      "3\n",
      "-------------------------------------------------------------------\n",
      "arrays=[0.04776389141886753, 0.04679193428484174, 0.13493091780673383, 0.4225560170415503] sum(arrays)=0.6520427605519934\n",
      "-------------------------------------------------------------------\n",
      "3\n"
     ]
    }
   ],
   "source": [
    "w = [1,2,5,10]\n",
    "w_sum = sum(w)\n",
    "import random\n",
    "def random_pick(arr):\n",
    "    arrays = []\n",
    "    for i in arr:\n",
    "        num = (random.random()*i)/w_sum\n",
    "        arrays.append(num)\n",
    "    max_ = max(arrays)    \n",
    "    index_max = arrays.index(max_)\n",
    "    return index_max\n",
    "for _ in range(10):\n",
    "    print(random_pick(w))"
   ]
  },
  {
   "cell_type": "markdown",
   "metadata": {},
   "source": [
    "---"
   ]
  },
  {
   "cell_type": "code",
   "execution_count": 154,
   "metadata": {},
   "outputs": [
    {
     "data": {
      "text/plain": [
       "2"
      ]
     },
     "execution_count": 154,
     "metadata": {},
     "output_type": "execute_result"
    }
   ],
   "source": [
    "class Solution:\n",
    "    def __init__(self, w):\n",
    "        self.prefix_sum_arr=[]\n",
    "        prefix_sum = 0 \n",
    "        for weight in w:\n",
    "            prefix_sum+=weight\n",
    "            self.prefix_sum_arr.append(prefix_sum)\n",
    "        self.total_sum = prefix_sum\n",
    "    \n",
    "    def pickIndex(self):\n",
    "        random_num = self.total_sum*random.random()\n",
    "        low,high = 0, len(self.prefix_sum_arr)\n",
    "        while low<high:\n",
    "            mid= low +(high-low)//2\n",
    "            if random_num > self.prefix_sum_arr[mid]:\n",
    "                low = mid+1\n",
    "            else:\n",
    "                high=mid\n",
    "        return low\n",
    "w = [1,2,5,10]\n",
    "\n",
    "sol = Solution(w)\n",
    "sol.pickIndex()"
   ]
  },
  {
   "cell_type": "code",
   "execution_count": null,
   "metadata": {},
   "outputs": [],
   "source": []
  },
  {
   "cell_type": "code",
   "execution_count": 156,
   "metadata": {},
   "outputs": [],
   "source": [
    "from typing import List\n",
    "class Solution:\n",
    "\n",
    "    def __init__(self, w: List[int]):\n",
    "\n",
    "        s = 0\n",
    "        self.prefix = []\n",
    "        for ww in w:\n",
    "            s += ww\n",
    "            self.prefix.append(s)\n",
    "\n",
    "        self.max = s\n",
    "\n",
    "    def pickIndex(self) -> int:\n",
    "        rand = ceil(random.random() * self.max)\n",
    "        return bisect_left(self.prefix, rand)\n",
    "        "
   ]
  }
 ],
 "metadata": {
  "kernelspec": {
   "display_name": "langgraph",
   "language": "python",
   "name": "python3"
  },
  "language_info": {
   "codemirror_mode": {
    "name": "ipython",
    "version": 3
   },
   "file_extension": ".py",
   "mimetype": "text/x-python",
   "name": "python",
   "nbconvert_exporter": "python",
   "pygments_lexer": "ipython3",
   "version": "3.12.3"
  }
 },
 "nbformat": 4,
 "nbformat_minor": 2
}
