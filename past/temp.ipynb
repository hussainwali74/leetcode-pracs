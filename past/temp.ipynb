{
 "cells": [
  {
   "cell_type": "code",
   "execution_count": 9,
   "metadata": {},
   "outputs": [
    {
     "name": "stdout",
     "output_type": "stream",
     "text": [
      "1->2->2->3\n"
     ]
    }
   ],
   "source": [
    "# python linked list\n",
    "\n",
    "class Node:\n",
    "    val = 0\n",
    "    next = None\n",
    "    def __init__(self, val, next):\n",
    "        self.val = val\n",
    "        self.next  = next\n",
    "\n",
    "class List:\n",
    "    head = None\n",
    "    next = None\n",
    "    def __init__(self, val):\n",
    "        head = Node(val,None)\n",
    "        self.head = head\n",
    "    def count(self):\n",
    "        node = self.head\n",
    "        count=0\n",
    "        if self.head:\n",
    "            count = 1 \n",
    "        while (node.next!=None):\n",
    "            count+=1\n",
    "            node = node.next\n",
    "        return count\n",
    "    def add_node(self, val):\n",
    "        node = self.head\n",
    "        while(node.next !=None):\n",
    "            node = node.next\n",
    "        new_node = Node(val, None)\n",
    "        node.next=new_node\n",
    "\n",
    "    def display(self):\n",
    "        node = self.head\n",
    "        x = str(node.val)\n",
    "        node=node.next\n",
    "        while(node.next!=None):\n",
    "            x+='->'+str(node.val)\n",
    "            node = node.next\n",
    "        x+='->'+str(node.val)\n",
    "        print(x)\n",
    "        \n",
    "list = List(1)\n",
    "list.add_node(2)\n",
    "list.add_node(2)\n",
    "list.add_node(3)\n",
    "list.display()"
   ]
  },
  {
   "cell_type": "code",
   "execution_count": 18,
   "metadata": {},
   "outputs": [
    {
     "data": {
      "text/plain": [
       "[[], [2], [4], [2, 4], [5], [2, 5], [4, 5], [2, 4, 5]]"
      ]
     },
     "execution_count": 18,
     "metadata": {},
     "output_type": "execute_result"
    }
   ],
   "source": [
    "class Solution:\n",
    "    def subsetXORSum(self, nums) -> int:\n",
    "        subsets = self.getSubArrays(nums)\n",
    "        sums = 0\n",
    "        for subset in subsets:\n",
    "            if len(subset)==1:\n",
    "                sums+=subset[0]\n",
    "            else:\n",
    "                xor = 0\n",
    "                for j in range(len(subset)):\n",
    "                    xor = subset[j]^xor\n",
    "                sums+=xor\n",
    "        return sums\n",
    "    def getSubArrays(self, nums):\n",
    "        sub_arrays=[]\n",
    "        l = len(nums)\n",
    "        n = 1<<l\n",
    "        for i in range(n):\n",
    "            subarry=[]\n",
    "            for j in range(l):\n",
    "                if i&(1<<j):\n",
    "                    subarry.append(nums[j])\n",
    "            sub_arrays.append(subarry)\n",
    "        return sub_arrays\n",
    "\n",
    "nums = [5,1,6] # [5,1], [5,6],[1,6]2\n",
    "nums = [2,4,5]\n",
    "sol = Solution()\n",
    "sol.subsetXORSum(nums)\n",
    "sol.getSubArrays(nums)"
   ]
  },
  {
   "cell_type": "markdown",
   "metadata": {},
   "source": [
    "#### leet solutions:"
   ]
  },
  {
   "cell_type": "code",
   "execution_count": 7,
   "metadata": {},
   "outputs": [
    {
     "name": "stdout",
     "output_type": "stream",
     "text": [
      "0\n",
      "2 4\n",
      "false\n",
      "2 6\n",
      "1\n",
      "4 6\n",
      "false\n",
      "TRUE\n"
     ]
    }
   ],
   "source": [
    "arr = [2,4,6]\n",
    "k=2\n",
    "for e in range(len(arr)-1):\n",
    "    print(e)\n",
    "    for f in range(e+1,len(arr)):\n",
    "        print(arr[e],arr[f])\n",
    "        if abs(arr[e]- arr[f])==k:\n",
    "            print('false')\n",
    "print('TRUE')"
   ]
  },
  {
   "cell_type": "code",
   "execution_count": 12,
   "metadata": {},
   "outputs": [
    {
     "name": "stdout",
     "output_type": "stream",
     "text": [
      "[2, 4, 6, 3]\n"
     ]
    }
   ],
   "source": [
    "subset = [1,2]\n",
    "def f(arr):\n",
    "    print(arr)\n",
    "f([*arr,3])"
   ]
  },
  {
   "cell_type": "code",
   "execution_count": 44,
   "metadata": {},
   "outputs": [
    {
     "data": {
      "text/plain": [
       "(0.002563399961218238, 1.239727700012736, 1.2705402000574395)"
      ]
     },
     "execution_count": 44,
     "metadata": {},
     "output_type": "execute_result"
    }
   ],
   "source": [
    "import timeit\n",
    "\n",
    "nums = list(range(10000))  # A list with 10,000 elements for benchmarking\n",
    "# Benchmarking [nums]\n",
    "time_nums = timeit.timeit('[nums]', globals=globals(), number=100000)\n",
    "# Benchmarking [nums[:]]\n",
    "time_nums_slice = timeit.timeit('[nums[:]]', globals=globals(), number=100000)\n",
    "\n",
    "# Benchmarking [nums.copy()]\n",
    "time_nums_copy = timeit.timeit('[nums.copy()]', globals=globals(), number=100000)\n",
    "\n",
    "(time_nums, time_nums_slice, time_nums_copy)\n"
   ]
  },
  {
   "cell_type": "code",
   "execution_count": 46,
   "metadata": {},
   "outputs": [
    {
     "data": {
      "text/plain": [
       "(0.0024522299878299235, 1.2678904949862044, 1.2763600950012914)"
      ]
     },
     "execution_count": 46,
     "metadata": {},
     "output_type": "execute_result"
    }
   ],
   "source": [
    "import timeit\n",
    "\n",
    "nums = list(range(10000))  # A list with 10,000 elements for benchmarking\n",
    "perfs = [[],[],[]]\n",
    "for i in range(20):\n",
    "    # Benchmarking [nums]\n",
    "    time_nums = timeit.timeit('[nums]', globals=globals(), number=100000)\n",
    "    perfs[0].append(time_nums)\n",
    "    # Benchmarking [nums[:]]\n",
    "    time_nums_slice = timeit.timeit('[nums[:]]', globals=globals(), number=100000)\n",
    "    perfs[1].append(time_nums_slice)\n",
    "\n",
    "    # Benchmarking [nums.copy()]\n",
    "    time_nums_copy = timeit.timeit('[nums.copy()]', globals=globals(), number=100000)\n",
    "    perfs[2].append(time_nums_copy)\n",
    "\n",
    "(sum(perfs[0])/len(perfs[0]), sum(perfs[1])/len(perfs[1]), sum(perfs[2])/len(perfs[2]))\n"
   ]
  },
  {
   "cell_type": "code",
   "execution_count": 43,
   "metadata": {},
   "outputs": [
    {
     "data": {
      "text/plain": [
       "[[0.0024207000387832522,\n",
       "  0.0024986000498756766,\n",
       "  0.002482699928805232,\n",
       "  0.0023744000354781747,\n",
       "  0.002365899970754981,\n",
       "  0.002338999998755753,\n",
       "  0.002879900042898953,\n",
       "  0.002341300016269088,\n",
       "  0.0024470000062137842,\n",
       "  0.0025406000204384327],\n",
       " [0.0024207000387832522,\n",
       "  0.0024986000498756766,\n",
       "  0.002482699928805232,\n",
       "  0.0023744000354781747,\n",
       "  0.002365899970754981,\n",
       "  0.002338999998755753,\n",
       "  0.002879900042898953,\n",
       "  0.002341300016269088,\n",
       "  0.0024470000062137842,\n",
       "  0.0025406000204384327],\n",
       " [0.0024207000387832522,\n",
       "  0.0024986000498756766,\n",
       "  0.002482699928805232,\n",
       "  0.0023744000354781747,\n",
       "  0.002365899970754981,\n",
       "  0.002338999998755753,\n",
       "  0.002879900042898953,\n",
       "  0.002341300016269088,\n",
       "  0.0024470000062137842,\n",
       "  0.0025406000204384327]]"
      ]
     },
     "execution_count": 43,
     "metadata": {},
     "output_type": "execute_result"
    }
   ],
   "source": [
    "perfs\n"
   ]
  },
  {
   "cell_type": "code",
   "execution_count": 34,
   "metadata": {},
   "outputs": [
    {
     "data": {
      "text/plain": [
       "262143"
      ]
     },
     "execution_count": 34,
     "metadata": {},
     "output_type": "execute_result"
    }
   ],
   "source": [
    "k = 27\n",
    "nums = [14,10,24,25,29,8,27,26,15,11,3,19,23,5,22,16,28,17] \n",
    "class Solution:\n",
    "    def beautifulSubsets(self, nums, k: int) -> int:\n",
    "        def differ( arr):\n",
    "            for e in range(len(arr)-1):\n",
    "                for f in range(e+1,len(arr)):\n",
    "                    if abs(arr[e]- arr[f])==k:\n",
    "                        return False\n",
    "            return True\n",
    "        l = len(nums)\n",
    "        subsets = []\n",
    "        for i in range(1<<l):\n",
    "            subset = []\n",
    "            for j in range(l):\n",
    "                if i&(1<<j):\n",
    "                    if differ([*subset, nums[j]]):\n",
    "                        subset.append(nums[j])\n",
    "            if len(subset) and subset not in(subsets):\n",
    "                subsets.append(subset)\n",
    "        return len(subsets)\n",
    "d = Solution()\n",
    "d.beautifulSubsets(nums,k)\n"
   ]
  },
  {
   "cell_type": "code",
   "execution_count": 21,
   "metadata": {},
   "outputs": [
    {
     "data": {
      "text/plain": [
       "[[], [2], [4], [2, 4], [5], [2, 5], [4, 5], [2, 4, 5]]"
      ]
     },
     "execution_count": 21,
     "metadata": {},
     "output_type": "execute_result"
    }
   ],
   "source": [
    "nums = [2,4,5]\n",
    "\n",
    "subsets = []\n",
    "l = len(nums)\n",
    "for i in range(1<<l):\n",
    "    subarray = []\n",
    "    for j in range(l):\n",
    "        if i&(1<<j):\n",
    "            subarray.append(nums[j])\n",
    "    subsets.append(subarray)\n",
    "\n",
    "subsets"
   ]
  },
  {
   "cell_type": "code",
   "execution_count": 20,
   "metadata": {},
   "outputs": [
    {
     "data": {
      "text/plain": [
       "[[], [[2, 4, 5]]]"
      ]
     },
     "execution_count": 20,
     "metadata": {},
     "output_type": "execute_result"
    }
   ],
   "source": [
    "sub_arrays=[]\n",
    "l = len(nums)\n",
    "n = 1<<l\n",
    "for i in range(n):\n",
    "    subarry=[]\n",
    "    for j in range(l):\n",
    "        if i&(1<<j):\n",
    "            subarry.append(nums[j])\n",
    "    sub_arrays.append(subarry)\n",
    "sub_arrays"
   ]
  },
  {
   "cell_type": "code",
   "execution_count": null,
   "metadata": {},
   "outputs": [],
   "source": [
    "    \n",
    "---------------------------------------------\n",
    "i=0\n",
    "j = 0\n",
    "0&(1<<0)= 0&1 = 0\n",
    "------------------------\n",
    "j = 1\n",
    "0&(1<<1)= 0&2 = 0\n",
    "------------------------\n",
    "j = 2\n",
    "0&(1<<2)= 0&4 = 0\n",
    "------------------------------------\n",
    "i=1\n",
    "j = 0\n",
    "1&(1<<0)= 1&1 = 1\n",
    "------------------------\n",
    "i=1\n",
    "j = 1\n",
    "1&(1<<1)= 1&2 = 0 \n",
    "=> 01\n",
    "   10  \n",
    "------------------------\n",
    "i=1\n",
    "j = 2\n",
    "1&(1<<2)= 1&4 = 0\n",
    "=>  001\n",
    "    110\n",
    "------------------------------------\n",
    "i=2\n",
    "j = 0\n",
    "2&(1<<0)= 2&1 = 0\n",
    "=> 10\n",
    "   01\n",
    "------------------------\n",
    "i=2\n",
    "j = 1\n",
    "2&(1<<1)= 2&2 = 1 \n",
    "=> 10\n",
    "   10\n",
    "   ----\n",
    "   10  \n",
    "------------------------\n",
    "i=2\n",
    "j = 2\n",
    "1&(1<<2)= 1&4 = 0\n",
    "=>  001\n",
    "    110\n",
    "------------------------------------\n"
   ]
  }
 ],
 "metadata": {
  "kernelspec": {
   "display_name": "ai",
   "language": "python",
   "name": "python3"
  },
  "language_info": {
   "codemirror_mode": {
    "name": "ipython",
    "version": 3
   },
   "file_extension": ".py",
   "mimetype": "text/x-python",
   "name": "python",
   "nbconvert_exporter": "python",
   "pygments_lexer": "ipython3",
   "version": "3.10.14"
  }
 },
 "nbformat": 4,
 "nbformat_minor": 2
}
