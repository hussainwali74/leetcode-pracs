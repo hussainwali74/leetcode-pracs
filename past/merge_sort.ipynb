{
 "cells": [
  {
   "cell_type": "code",
   "execution_count": 16,
   "metadata": {},
   "outputs": [
    {
     "name": "stdout",
     "output_type": "stream",
     "text": [
      "-------------------------------------------------------------------\n",
      "arr=[3, 5, 2, 1, 6, 5, 10] p=0 r=7\n",
      "-------------------------------------------------------------------\n",
      "arr=[3, 5, 2] p=0 r=3\n",
      "-------------------------------------------------------------------\n",
      "arr=[3] p=0 r=1\n",
      "-------------------------------------------------------------------\n",
      "sorted1=[3]\n",
      "arr[q:r]=[5, 2] p=0 q=1, r=3\n",
      "-------------------------------------------------------------------\n",
      "arr=[5, 2] p=0 r=3\n",
      "sorted2=[2, 5]\n",
      "-------------------------------------------------------------------\n",
      "-------------------------------------------------------------------\n",
      "sorted1=[3, 2, 5]\n",
      "arr[q:r]=[1, 6, 5, 10] p=0 q=3, r=7\n",
      "-------------------------------------------------------------------\n",
      "arr=[1, 6, 5, 10] p=0 r=7\n",
      "-------------------------------------------------------------------\n",
      "arr=[1, 6, 5] p=0 r=3\n",
      "-------------------------------------------------------------------\n",
      "arr=[1] p=0 r=1\n",
      "-------------------------------------------------------------------\n",
      "sorted1=[1]\n",
      "arr[q:r]=[6, 5] p=0 q=1, r=3\n",
      "-------------------------------------------------------------------\n",
      "arr=[6, 5] p=0 r=3\n",
      "sorted2=[5, 6]\n",
      "-------------------------------------------------------------------\n",
      "-------------------------------------------------------------------\n",
      "sorted1=[1, 5, 6]\n",
      "arr[q:r]=[10] p=0 q=3, r=7\n",
      "-------------------------------------------------------------------\n",
      "arr=[10] p=0 r=7\n",
      "sorted2=[10]\n",
      "-------------------------------------------------------------------\n",
      "sorted2=[1, 5, 6, 10]\n",
      "-------------------------------------------------------------------\n"
     ]
    },
    {
     "data": {
      "text/plain": [
       "[3, 2, 5, 1, 5, 6, 10]"
      ]
     },
     "execution_count": 16,
     "metadata": {},
     "output_type": "execute_result"
    }
   ],
   "source": [
    "arr = [3,5,2,1,6,5,10]\n",
    "n = len(arr) # = 7\n",
    "half = n//2\n",
    "def mergeSort(arr, p,r):\n",
    "    print(\"-------------------------------------------------------------------\")\n",
    "    print(f\"{arr=} {p=} {r=}\")\n",
    "    # print(\"-------------------------------------------------------------------\")\n",
    "    if len(arr)==0:\n",
    "        return \n",
    "    if len(arr)==1:\n",
    "        return arr\n",
    "    if len(arr)==2:\n",
    "        temp = 0\n",
    "        if arr[0]>arr[1]:\n",
    "            temp = arr[0]\n",
    "            arr[0]= arr[1]\n",
    "            arr[1]= temp\n",
    "        return arr\n",
    "    sorted_arr=[]\n",
    "    q = (p+r)//2\n",
    "    sorted1 = mergeSort(arr[p:q],p,q)\n",
    "    print(\"-------------------------------------------------------------------\")\n",
    "    print(f\"{sorted1=}\")\n",
    "    \n",
    "    print(f\"{arr[q:r]=} {p=} {q=}, {r=}\")\n",
    "    \n",
    "    sorted2 = mergeSort(arr[q:r],p,r)\n",
    "    print(f\"{sorted2=}\")\n",
    "    print(\"-------------------------------------------------------------------\")\n",
    "    return sorted1+sorted2\n",
    "mergeSort(arr,0,len(arr))"
   ]
  },
  {
   "cell_type": "code",
   "execution_count": 34,
   "metadata": {},
   "outputs": [
    {
     "name": "stdout",
     "output_type": "stream",
     "text": [
      "-------------------------------------------------------------------\n",
      "q=3\n",
      "-------------------------------------------------------------------\n",
      "-------------------------------------------------------------------\n",
      "n2=1 m=[None] m[0]= None  q=3 [1, 3, 2, 4]\n",
      "-------------------------------------------------------------------\n"
     ]
    },
    {
     "ename": "IndexError",
     "evalue": "list assignment index out of range",
     "output_type": "error",
     "traceback": [
      "\u001b[1;31m---------------------------------------------------------------------------\u001b[0m",
      "\u001b[1;31mIndexError\u001b[0m                                Traceback (most recent call last)",
      "Cell \u001b[1;32mIn[34], line 51\u001b[0m\n\u001b[0;32m     49\u001b[0m arr \u001b[38;5;241m=\u001b[39m [\u001b[38;5;241m3\u001b[39m,\u001b[38;5;241m2\u001b[39m,\u001b[38;5;241m4\u001b[39m,\u001b[38;5;241m1\u001b[39m]\n\u001b[0;32m     50\u001b[0m arr \u001b[38;5;241m=\u001b[39m [\u001b[38;5;241m1\u001b[39m, \u001b[38;5;241m3\u001b[39m, \u001b[38;5;241m2\u001b[39m, \u001b[38;5;241m4\u001b[39m]\n\u001b[1;32m---> 51\u001b[0m \u001b[43mmerge\u001b[49m\u001b[43m(\u001b[49m\u001b[43marr\u001b[49m\u001b[43m,\u001b[49m\u001b[38;5;241;43m0\u001b[39;49m\u001b[43m,\u001b[49m\u001b[38;5;241;43m3\u001b[39;49m\u001b[43m,\u001b[49m\u001b[38;5;241;43m4\u001b[39;49m\u001b[43m)\u001b[49m\n\u001b[0;32m     53\u001b[0m \u001b[38;5;66;03m# merge(arr,0,2,3)\u001b[39;00m\n\u001b[0;32m     54\u001b[0m \u001b[38;5;66;03m# merge(arr,0,2,3)\u001b[39;00m\n",
      "Cell \u001b[1;32mIn[34], line 44\u001b[0m, in \u001b[0;36mmerge\u001b[1;34m(arr, p, q, r)\u001b[0m\n\u001b[0;32m     41\u001b[0m     i\u001b[38;5;241m+\u001b[39m\u001b[38;5;241m=\u001b[39m\u001b[38;5;241m1\u001b[39m\n\u001b[0;32m     43\u001b[0m \u001b[38;5;28;01mwhile\u001b[39;00m(j\u001b[38;5;241m<\u001b[39mn2):\n\u001b[1;32m---> 44\u001b[0m     \u001b[43marr\u001b[49m\u001b[43m[\u001b[49m\u001b[43mk\u001b[49m\u001b[43m]\u001b[49m\u001b[38;5;241m=\u001b[39ml[j]\n\u001b[0;32m     45\u001b[0m     k\u001b[38;5;241m+\u001b[39m\u001b[38;5;241m=\u001b[39m\u001b[38;5;241m1\u001b[39m\n\u001b[0;32m     46\u001b[0m     k\u001b[38;5;241m+\u001b[39m\u001b[38;5;241m=\u001b[39m\u001b[38;5;241m1\u001b[39m\n",
      "\u001b[1;31mIndexError\u001b[0m: list assignment index out of range"
     ]
    }
   ],
   "source": [
    "#merge\n",
    "def merge(arr, p, q,r):\n",
    "    print(\"-------------------------------------------------------------------\")\n",
    "    print(f\"{q=}\")\n",
    "    print(\"-------------------------------------------------------------------\")\n",
    "    \n",
    "    n1 = q-p+1\n",
    "    n2 = r-q\n",
    "    \n",
    "    l = [None]*n1\n",
    "    m = [None]*n2\n",
    "    for i in range(n1):\n",
    "        l[i]=arr[p+i]\n",
    "    \n",
    "    for j in range(n2):\n",
    "        m[j]=arr[q+j]\n",
    "\n",
    "    # // Maintain current index of sub-arrays and main array\n",
    "    i=0\n",
    "    j=0\n",
    "    k=p\n",
    "\n",
    "    # // Until we reach either end of either L or M, pick larger among\n",
    "    # // elements L and M and place them in the correct position at A[p..r]    \n",
    "    while(i<n1 and j<n2):\n",
    "        if l[i] <=m[j]:\n",
    "            arr[k] = l[i]\n",
    "            i+=1\n",
    "        else:\n",
    "            arr[k] = m[j]\n",
    "            j+=1\n",
    "        k+=1\n",
    "    # // When we run out of elements in either L or M,\n",
    "    # // pick up the remaining elements and put in A[p..r]\n",
    "    while(i<n1):\n",
    "        arr[k]=l[i]\n",
    "        k+=1\n",
    "        i+=1\n",
    "    \n",
    "    while(j<n2):\n",
    "        arr[k]=l[j]\n",
    "        k+=1\n",
    "        k+=1\n",
    "    return arr\n",
    "    \n",
    "arr = [3,2,4,1]\n",
    "arr = [1, 3, 2, 4]\n",
    "merge(arr,0,3,4)\n",
    "\n",
    "# merge(arr,0,2,3)\n",
    "# merge(arr,0,2,3)"
   ]
  },
  {
   "cell_type": "code",
   "execution_count": 6,
   "metadata": {},
   "outputs": [
    {
     "name": "stdout",
     "output_type": "stream",
     "text": [
      "sdfsdf\n"
     ]
    }
   ],
   "source": [
    "print(\"sdfsdf\")\n",
    "x = ['ab']"
   ]
  },
  {
   "cell_type": "code",
   "execution_count": 12,
   "metadata": {},
   "outputs": [
    {
     "data": {
      "text/plain": [
       "[None, None, None]"
      ]
     },
     "execution_count": 12,
     "metadata": {},
     "output_type": "execute_result"
    }
   ],
   "source": [
    "x = [None]*3\n",
    "x"
   ]
  },
  {
   "cell_type": "markdown",
   "metadata": {},
   "source": [
    "# Solution"
   ]
  },
  {
   "cell_type": "code",
   "execution_count": 2,
   "metadata": {},
   "outputs": [
    {
     "name": "stdout",
     "output_type": "stream",
     "text": [
      "-------------------------------------------------------------------\n",
      " array=[5, 12] L=[5]  M=[12] k=2\n",
      "-------------------------------------------------------------------\n",
      "-------------------------------------------------------------------\n",
      " array=[5, 6, 12] L=[6]  M=[5, 12] k=3\n",
      "-------------------------------------------------------------------\n",
      "-------------------------------------------------------------------\n",
      " array=[1, 9] L=[9]  M=[1] k=2\n",
      "-------------------------------------------------------------------\n",
      "-------------------------------------------------------------------\n",
      " array=[1, 9, 10] L=[10]  M=[1, 9] k=3\n",
      "-------------------------------------------------------------------\n",
      "-------------------------------------------------------------------\n",
      " array=[1, 5, 6, 9, 10, 12] L=[5, 6, 12]  M=[1, 9, 10] k=6\n",
      "-------------------------------------------------------------------\n",
      "Sorted array is: \n",
      "1 5 6 9 10 12 \n"
     ]
    }
   ],
   "source": [
    "# MergeSort in Python\n",
    "\n",
    "\n",
    "def mergeSort(array):\n",
    "    \n",
    "    if len(array) > 1:\n",
    "        \n",
    "        #  r is the point where the array is divided into two subarrays\n",
    "        r = len(array)//2\n",
    "        L = array[:r]\n",
    "        M = array[r:]\n",
    "\n",
    "        # Sort the two halves\n",
    "        mergeSort(L)\n",
    "        mergeSort(M)\n",
    "\n",
    "        i = j = k = 0\n",
    "        \n",
    "        # Until we reach either end of either L or M, pick larger among\n",
    "        # elements L and M and place them in the correct position at A[p..r]\n",
    "        while i < len(L) and j < len(M):\n",
    "            if L[i] < M[j]:\n",
    "                array[k] = L[i]\n",
    "                i += 1\n",
    "            else:\n",
    "                array[k] = M[j]\n",
    "                j += 1\n",
    "            k += 1\n",
    "\n",
    "        # When we run out of elements in either L or M,\n",
    "        # pick up the remaining elements and put in A[p..r]\n",
    "        while i < len(L):\n",
    "            array[k] = L[i]\n",
    "            i += 1\n",
    "            k += 1\n",
    "\n",
    "        while j < len(M):\n",
    "            array[k] = M[j]\n",
    "            j += 1\n",
    "            k += 1\n",
    "        print(\"-------------------------------------------------------------------\")\n",
    "        print(f\" {array=} {L=}  {M=} {k=}\")\n",
    "        print(\"-------------------------------------------------------------------\")\n",
    "\n",
    "\n",
    "# Print the array\n",
    "def printList(array):\n",
    "    for i in range(len(array)):\n",
    "        print(array[i], end=\" \")\n",
    "    print()\n",
    "\n",
    "\n",
    "# Driver program\n",
    "if __name__ == '__main__':\n",
    "    array = [6, 5, 12, 10, 9, 1]\n",
    "\n",
    "    mergeSort(array)\n",
    "\n",
    "    print(\"Sorted array is: \")\n",
    "    printList(array)"
   ]
  },
  {
   "cell_type": "code",
   "execution_count": 4,
   "metadata": {},
   "outputs": [
    {
     "data": {
      "text/plain": [
       "tuple"
      ]
     },
     "execution_count": 4,
     "metadata": {},
     "output_type": "execute_result"
    }
   ],
   "source": [
    "arr = [11,1,1,1,1],\n",
    "type(arr)"
   ]
  },
  {
   "cell_type": "code",
   "execution_count": 5,
   "metadata": {},
   "outputs": [
    {
     "data": {
      "text/plain": [
       "1"
      ]
     },
     "execution_count": 5,
     "metadata": {},
     "output_type": "execute_result"
    }
   ],
   "source": [
    "len(arr)"
   ]
  }
 ],
 "metadata": {
  "kernelspec": {
   "display_name": "langgraph",
   "language": "python",
   "name": "python3"
  },
  "language_info": {
   "codemirror_mode": {
    "name": "ipython",
    "version": 3
   },
   "file_extension": ".py",
   "mimetype": "text/x-python",
   "name": "python",
   "nbconvert_exporter": "python",
   "pygments_lexer": "ipython3",
   "version": "3.12.3"
  }
 },
 "nbformat": 4,
 "nbformat_minor": 2
}
