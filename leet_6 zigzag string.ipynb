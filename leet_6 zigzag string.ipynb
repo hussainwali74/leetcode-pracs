{
 "cells": [
  {
   "cell_type": "code",
   "execution_count": 1,
   "metadata": {},
   "outputs": [
    {
     "data": {
      "text/plain": [
       "'PAHNAPLSIIGYIR'"
      ]
     },
     "execution_count": 1,
     "metadata": {},
     "output_type": "execute_result"
    }
   ],
   "source": [
    "class Solution:\n",
    "    def convert(self, s:str, numRows:int)->str:\n",
    "        if numRows==1: return s\n",
    "        \n",
    "        res = \"\"\n",
    "        for r in range(numRows):\n",
    "            increment = 2*(numRows-1)\n",
    "            for i in range(r, len(s),increment):\n",
    "                res += s[i]\n",
    "                if (r>0 and r<numRows-1 and i+increment-2*r <len(s)):\n",
    "                    res+=s[i+increment-2*r]\n",
    "        return res\n",
    "\n",
    "soln = Solution()\n",
    "soln.convert('PAYPALISHIRING',3)\n",
    "                    "
   ]
  },
  {
   "cell_type": "code",
   "execution_count": 18,
   "metadata": {},
   "outputs": [
    {
     "data": {
      "text/plain": [
       "[[0, 1], [2, 3]]"
      ]
     },
     "execution_count": 18,
     "metadata": {},
     "output_type": "execute_result"
    }
   ],
   "source": [
    "n = 2\n",
    "arr = [[]]*2\n",
    "c  = 0\n",
    "for i in range(n):\n",
    "    temp =[]\n",
    "    for j in range(1, n+1):\n",
    "        temp.append(c)\n",
    "        c+=1\n",
    "    arr[i] = temp\n",
    "# arr[0] = [1,2]\n",
    "arr"
   ]
  }
 ],
 "metadata": {
  "kernelspec": {
   "display_name": "langgraph",
   "language": "python",
   "name": "python3"
  },
  "language_info": {
   "codemirror_mode": {
    "name": "ipython",
    "version": 3
   },
   "file_extension": ".py",
   "mimetype": "text/x-python",
   "name": "python",
   "nbconvert_exporter": "python",
   "pygments_lexer": "ipython3",
   "version": "3.12.3"
  }
 },
 "nbformat": 4,
 "nbformat_minor": 2
}
