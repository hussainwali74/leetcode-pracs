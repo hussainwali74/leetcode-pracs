{
 "cells": [
  {
   "cell_type": "code",
   "execution_count": 36,
   "metadata": {},
   "outputs": [
    {
     "data": {
      "text/plain": [
       "'91152626225172623216211826265'"
      ]
     },
     "execution_count": 36,
     "metadata": {},
     "output_type": "execute_result"
    }
   ],
   "source": [
    "s = 'iaozzbyqzwbpurzze'\n",
    "sst = ''.join([str(ord(ss)-96) for ss in s])\n",
    "sst"
   ]
  },
  {
   "cell_type": "code",
   "execution_count": 42,
   "metadata": {},
   "outputs": [
    {
     "name": "stdout",
     "output_type": "stream",
     "text": [
      "i=0 ------------------------------------\n",
      "temp=91152626225172623216211826265\n",
      "temp=9115262622517262321621182626, sum_=5\n",
      "temp=911526262251726232162118262, sum_=11\n",
      "temp=91152626225172623216211826, sum_=13\n",
      "temp=9115262622517262321621182, sum_=19\n",
      "temp=911526262251726232162118, sum_=21\n",
      "temp=91152626225172623216211, sum_=29\n",
      "temp=9115262622517262321621, sum_=30\n",
      "temp=911526262251726232162, sum_=31\n",
      "temp=91152626225172623216, sum_=33\n",
      "temp=9115262622517262321, sum_=39\n",
      "temp=911526262251726232, sum_=40\n",
      "temp=91152626225172623, sum_=42\n",
      "temp=9115262622517262, sum_=45\n",
      "temp=911526262251726, sum_=47\n",
      "temp=91152626225172, sum_=53\n",
      "temp=9115262622517, sum_=55\n",
      "temp=911526262251, sum_=62\n",
      "temp=91152626225, sum_=63\n",
      "temp=9115262622, sum_=68\n",
      "temp=911526262, sum_=70\n",
      "temp=91152626, sum_=72\n",
      "temp=9115262, sum_=78\n",
      "temp=911526, sum_=80\n",
      "temp=91152, sum_=86\n",
      "temp=9115, sum_=88\n",
      "temp=911, sum_=93\n",
      "temp=91, sum_=94\n",
      "temp=9, sum_=95\n",
      "------------------------------------\n",
      "i=1 ------------------------------------\n",
      "temp=104\n",
      "temp=10, sum_=4\n",
      "temp=1, sum_=4\n",
      "------------------------------------\n"
     ]
    },
    {
     "data": {
      "text/plain": [
       "5"
      ]
     },
     "execution_count": 42,
     "metadata": {},
     "output_type": "execute_result"
    }
   ],
   "source": [
    "sum_ = 0\n",
    "\n",
    "for i in range(2):\n",
    "    print(f'{i=} ------------------------------------');\n",
    "    if sum_!=0:\n",
    "        temp = sum_\n",
    "        sum_= 0\n",
    "    else:\n",
    "        temp = int(sst)\n",
    "    print(f'{temp=}');\n",
    "    while(temp)>=10:\n",
    "        sum_+=temp%10\n",
    "        temp = temp//10\n",
    "        print(f'{temp=}, {sum_=}');\n",
    "    sum_+=temp\n",
    "    print('------------------------------------');\n",
    "sum_    "
   ]
  },
  {
   "cell_type": "code",
   "execution_count": 43,
   "metadata": {},
   "outputs": [],
   "source": [
    "#mine\n",
    "class Solution:\n",
    "    def getLucky(self, s: str, k: int) -> int:\n",
    "        sst = ''.join([str(ord(ss)-96) for ss in s])\n",
    "        sum_ = 0\n",
    "        for i in range(k):\n",
    "            if sum_ == 0:\n",
    "                temp=int(sst)\n",
    "            else:\n",
    "                temp = sum_\n",
    "                sum_=0\n",
    "            while temp>=10:\n",
    "                sum_+=temp%10\n",
    "                temp = temp//10\n",
    "            sum_+=temp\n",
    "        return sum_"
   ]
  },
  {
   "cell_type": "code",
   "execution_count": 38,
   "metadata": {},
   "outputs": [
    {
     "name": "stdout",
     "output_type": "stream",
     "text": [
      "------------------------------------\n",
      "temp=3\n",
      "------------------------------------\n"
     ]
    },
    {
     "data": {
      "text/plain": [
       "6"
      ]
     },
     "execution_count": 38,
     "metadata": {},
     "output_type": "execute_result"
    }
   ],
   "source": [
    "class Solution:\n",
    "    def getLucky(self, s: str, k: int) -> int:\n",
    "        def convert(s):\n",
    "            return ''.join(str(ord(c) - ord('a') + 1) for c in s)\n",
    "        \n",
    "        def transform(n):\n",
    "            return sum(int(d) for d in str(n))\n",
    "        \n",
    "        # Convert the string to the integer\n",
    "        num = convert(s)\n",
    "        \n",
    "        # Perform the transform operation k times\n",
    "        for _ in range(k):\n",
    "            num = transform(num)\n",
    "        \n",
    "        return num\n",
    "soln = Solution()\n",
    "s = \"iiii\"\n",
    "i ="
   ]
  }
 ],
 "metadata": {
  "kernelspec": {
   "display_name": "langgraph",
   "language": "python",
   "name": "python3"
  },
  "language_info": {
   "codemirror_mode": {
    "name": "ipython",
    "version": 3
   },
   "file_extension": ".py",
   "mimetype": "text/x-python",
   "name": "python",
   "nbconvert_exporter": "python",
   "pygments_lexer": "ipython3",
   "version": "3.12.3"
  }
 },
 "nbformat": 4,
 "nbformat_minor": 2
}
