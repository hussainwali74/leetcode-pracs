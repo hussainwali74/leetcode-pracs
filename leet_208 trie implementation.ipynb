{
 "cells": [
  {
   "cell_type": "code",
   "execution_count": 17,
   "metadata": {},
   "outputs": [],
   "source": [
    "class Child:\n",
    "    def __init__(self,val=None, idx=None,  filled=False, next=None):\n",
    "        self.val = val\n",
    "        self.filled = filled\n",
    "        self.next= [None for _ in range(26)]\n",
    "\n",
    "class Trie:\n",
    "\n",
    "    def __init__(self):\n",
    "        self.children = [None for _ in range(26)]\n",
    "\n",
    "    def insert(self, word: str) -> None:\n",
    "        next = None\n",
    "        for c in word:\n",
    "            indx = ord(c)-ord('a')\n",
    "            if self.children[indx] is None and next is None:\n",
    "                self.children[indx]=Child(val = c)\n",
    "                next = self.children[indx].next\n",
    "                \n",
    "            else:\n",
    "                if next is None:\n",
    "                    next=self.children[indx].next\n",
    "                else:\n",
    "                    next[indx] = Child(val=c)\n",
    "                    # next = next[indx].child\n",
    "    def print(self):\n",
    "        for s in self.children:\n",
    "            if s:\n",
    "                print('------------------------------------');\n",
    "                print(f'{s.val=}');\n",
    "                if s.next:\n",
    "                    print(f'{s.next[1].val=}');\n",
    "                print('------------------------------------');\n",
    "    def search(self, word: str) -> bool:\n",
    "        pass\n",
    "        \n",
    "\n",
    "    def startsWith(self, prefix: str) -> bool:\n",
    "        pass\n",
    "        \n",
    "\n",
    "\n",
    "# Your Trie object will be instantiated and called as such:\n",
    "obj = Trie()\n",
    "obj.insert(\"ab\")\n",
    "obj.insert(\"aba\")\n",
    "# obj.print()\n",
    "# param_2 = obj.search(word)\n",
    "# param_3 = obj.startsWith(prefix)"
   ]
  },
  {
   "cell_type": "code",
   "execution_count": 5,
   "metadata": {},
   "outputs": [
    {
     "data": {
      "text/plain": [
       "[None,\n",
       " None,\n",
       " None,\n",
       " None,\n",
       " None,\n",
       " None,\n",
       " None,\n",
       " None,\n",
       " None,\n",
       " None,\n",
       " None,\n",
       " None,\n",
       " None,\n",
       " None,\n",
       " None,\n",
       " None,\n",
       " None,\n",
       " None,\n",
       " None,\n",
       " None,\n",
       " None,\n",
       " None,\n",
       " None,\n",
       " None,\n",
       " None,\n",
       " None]"
      ]
     },
     "execution_count": 5,
     "metadata": {},
     "output_type": "execute_result"
    }
   ],
   "source": [
    "children = [None for _ in range(26)]\n",
    "children"
   ]
  }
 ],
 "metadata": {
  "kernelspec": {
   "display_name": "langgraph",
   "language": "python",
   "name": "python3"
  },
  "language_info": {
   "codemirror_mode": {
    "name": "ipython",
    "version": 3
   },
   "file_extension": ".py",
   "mimetype": "text/x-python",
   "name": "python",
   "nbconvert_exporter": "python",
   "pygments_lexer": "ipython3",
   "version": "3.12.3"
  }
 },
 "nbformat": 4,
 "nbformat_minor": 2
}
