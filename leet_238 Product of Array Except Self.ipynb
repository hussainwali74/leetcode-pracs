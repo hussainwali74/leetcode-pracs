{
 "cells": [
  {
   "cell_type": "markdown",
   "metadata": {},
   "source": [
    "## Problem Statement\n",
    "\n",
    "Given an integer array `nums`, return an array `answer` such that `answer[i]` is equal to the product of all the elements of `nums` except `nums[i]`.\n",
    "\n",
    "The product of any prefix or suffix of `nums` is guaranteed to fit in a 32-bit integer.\n",
    "\n",
    "You must write an algorithm that runs in `O(n)` time and without using the division operation.\n",
    "\n",
    "### Example 1\n",
    "\n",
    "- **Input:** `nums = [1,2,3,4]`\n",
    "- **Output:** `[24,12,8,6]`\n",
    "\n",
    "### Example 2\n",
    "\n",
    "- **Input:** `nums = [-1,1,0,-3,3]`\n",
    "- **Output:** `[0,0,9,0,0]`\n",
    "\n",
    "### Constraints\n",
    "\n",
    "- `2 <= nums.length <= 10^5`\n",
    "- `-30 <= nums[i] <= 30`\n",
    "- The product of any prefix or suffix of `nums` is guaranteed to fit in a 32-bit integer.\n",
    "\n",
    "### Follow Up\n",
    "\n",
    "Can you solve the problem in `O(1)` extra space complexity? (The output array does not count as extra space for space complexity analysis.)\n"
   ]
  },
  {
   "cell_type": "code",
   "execution_count": 7,
   "metadata": {},
   "outputs": [
    {
     "name": "stdout",
     "output_type": "stream",
     "text": [
      "[2, 3, 4]\n",
      "[1, 3, 4]\n",
      "[1, 2, 4]\n",
      "[1, 2, 3]\n"
     ]
    }
   ],
   "source": [
    "nums = [1,2,3,4]\n",
    "\n",
    "d = ''.join([str(x)  for x in nums])\n",
    "d\n",
    "arr = []\n",
    "for n in nums:\n",
    "    j = d.replace(str(n),'')\n",
    "    \n",
    "    print()"
   ]
  },
  {
   "cell_type": "code",
   "execution_count": 10,
   "metadata": {},
   "outputs": [],
   "source": [
    "from typing import List\n",
    "\n",
    "class Solution:\n",
    "    def productExceptSelf(self,nums:List[int]):\n",
    "        res = [1]* (len(nums))\n",
    "        \n",
    "        prefix = 1\n",
    "        for i in  range(len(nums)):\n",
    "            res[i]  = prefix\n",
    "            prefix = prefix * nums[i] \n",
    "            \n",
    "        postfix = 1\n",
    "        for i in range(len(nums)-1,-1,-1):\n",
    "            res[i] = res[i]* postfix\n",
    "            postfix = postfix*nums[i]\n",
    "        return res"
   ]
  },
  {
   "cell_type": "code",
   "execution_count": 18,
   "metadata": {},
   "outputs": [
    {
     "name": "stdout",
     "output_type": "stream",
     "text": [
      "------------------------------------\n",
      "res=[1, 1, 2, 6]\n",
      "------------------------------------\n",
      "------------------------------------\n",
      "postfix=4\n",
      "------------------------------------\n",
      "------------------------------------\n",
      "postfix=12\n",
      "------------------------------------\n",
      "------------------------------------\n",
      "postfix=24\n",
      "------------------------------------\n",
      "------------------------------------\n",
      "postfix=24\n",
      "------------------------------------\n"
     ]
    },
    {
     "data": {
      "text/plain": [
       "([24, 12, 8, 6], 24)"
      ]
     },
     "execution_count": 18,
     "metadata": {},
     "output_type": "execute_result"
    }
   ],
   "source": [
    "nums = [1,2,3,4]\n",
    "res = [1]* (len(nums))\n",
    "\n",
    "prefix = 1\n",
    "for i in  range(len(nums)):\n",
    "    res[i]  = prefix\n",
    "    prefix = prefix * nums[i] \n",
    "postfix = 1\n",
    "print('------------------------------------');\n",
    "print(f'{res=}');\n",
    "print('------------------------------------');\n",
    "for i in range(len(nums)-1,-1,-1):\n",
    "    res[i] = res[i] * postfix\n",
    "    postfix = postfix*nums[i]\n",
    "    print('------------------------------------');\n",
    "    print(f'{postfix=}');\n",
    "    print('------------------------------------');\n",
    "res, prefix"
   ]
  },
  {
   "cell_type": "code",
   "execution_count": null,
   "metadata": {},
   "outputs": [],
   "source": []
  },
  {
   "cell_type": "code",
   "execution_count": null,
   "metadata": {},
   "outputs": [],
   "source": []
  }
 ],
 "metadata": {
  "kernelspec": {
   "display_name": "langgraph",
   "language": "python",
   "name": "python3"
  },
  "language_info": {
   "codemirror_mode": {
    "name": "ipython",
    "version": 3
   },
   "file_extension": ".py",
   "mimetype": "text/x-python",
   "name": "python",
   "nbconvert_exporter": "python",
   "pygments_lexer": "ipython3",
   "version": "3.12.3"
  }
 },
 "nbformat": 4,
 "nbformat_minor": 2
}
