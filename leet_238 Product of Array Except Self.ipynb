{
 "cells": [
  {
   "cell_type": "markdown",
   "metadata": {},
   "source": [
    "## Problem Statement\n",
    "\n",
    "Given an integer array `nums`, return an array `answer` such that `answer[i]` is equal to the product of all the elements of `nums` except `nums[i]`.\n",
    "\n",
    "The product of any prefix or suffix of `nums` is guaranteed to fit in a 32-bit integer.\n",
    "\n",
    "You must write an algorithm that runs in `O(n)` time and without using the division operation.\n",
    "\n",
    "### Example 1\n",
    "\n",
    "- **Input:** `nums = [1,2,3,4]`\n",
    "- **Output:** `[24,12,8,6]`\n",
    "\n",
    "### Example 2\n",
    "\n",
    "- **Input:** `nums = [-1,1,0,-3,3]`\n",
    "- **Output:** `[0,0,9,0,0]`\n",
    "\n",
    "### Constraints\n",
    "\n",
    "- `2 <= nums.length <= 10^5`\n",
    "- `-30 <= nums[i] <= 30`\n",
    "- The product of any prefix or suffix of `nums` is guaranteed to fit in a 32-bit integer.\n",
    "\n",
    "### Follow Up\n",
    "\n",
    "Can you solve the problem in `O(1)` extra space complexity? (The output array does not count as extra space for space complexity analysis.)\n"
   ]
  },
  {
   "cell_type": "code",
   "execution_count": 7,
   "metadata": {},
   "outputs": [
    {
     "name": "stdout",
     "output_type": "stream",
     "text": [
      "[2, 3, 4]\n",
      "[1, 3, 4]\n",
      "[1, 2, 4]\n",
      "[1, 2, 3]\n"
     ]
    }
   ],
   "source": [
    "nums = [1,2,3,4]\n",
    "\n",
    "d = ''.join([str(x)  for x in nums])\n",
    "d\n",
    "arr = []\n",
    "for n in nums:\n",
    "    j = d.replace(str(n),'')\n",
    "    \n",
    "    print()"
   ]
  },
  {
   "cell_type": "code",
   "execution_count": 10,
   "metadata": {},
   "outputs": [],
   "source": [
    "from typing import List\n",
    "\n",
    "class Solution:\n",
    "    def productExceptSelf(self,nums:List[int]):\n",
    "        res = [1]* (len(nums))\n",
    "        \n",
    "        prefix = 1\n",
    "        for i in  range(len(nums)):\n",
    "            res[i]  = prefix\n",
    "            prefix = prefix * nums[i] \n",
    "            \n",
    "        postfix = 1\n",
    "        for i in range(len(nums)-1,-1,-1):\n",
    "            res[i] = res[i]* postfix\n",
    "            postfix = postfix*nums[i]\n",
    "        return res"
   ]
  },
  {
   "cell_type": "code",
   "execution_count": 23,
   "metadata": {},
   "outputs": [
    {
     "name": "stdout",
     "output_type": "stream",
     "text": [
      "------------------------------------\n",
      "res=[1, 1, 2, 6]\n",
      "------------------------------------\n",
      "------------------------------------\n",
      "i=3 postfix=1 res[i]=6 nums[i]=4 \n",
      "------------------------------------\n",
      "------------------------------------\n",
      "i=2 postfix=4 res[i]=2 nums[i]=3 \n",
      "------------------------------------\n",
      "------------------------------------\n",
      "i=1 postfix=12 res[i]=1 nums[i]=2 \n",
      "------------------------------------\n",
      "------------------------------------\n",
      "i=0 postfix=24 res[i]=1 nums[i]=1 \n",
      "------------------------------------\n"
     ]
    },
    {
     "data": {
      "text/plain": [
       "([24, 12, 8, 6], 24)"
      ]
     },
     "execution_count": 23,
     "metadata": {},
     "output_type": "execute_result"
    }
   ],
   "source": [
    "nums = [1,2,3,4]\n",
    "res = [1]* (len(nums))\n",
    "\n",
    "prefix = 1\n",
    "for i in  range(len(nums)):\n",
    "    res[i]  = prefix\n",
    "    prefix = prefix * nums[i] \n",
    "postfix = 1\n",
    "print('------------------------------------');\n",
    "print(f'{res=}');\n",
    "print('------------------------------------');\n",
    "for i in range(len(nums)-1,-1,-1):\n",
    "    print('------------------------------------');\n",
    "    print(f'{i=} {postfix=} {res[i]=} {nums[i]} ');\n",
    "    print('------------------------------------');\n",
    "    res[i] = res[i] * postfix\n",
    "    postfix = postfix*nums[i]\n",
    "res, prefix"
   ]
  },
  {
   "cell_type": "code",
   "execution_count": null,
   "metadata": {},
   "outputs": [],
   "source": []
  },
  {
   "cell_type": "code",
   "execution_count": 27,
   "metadata": {},
   "outputs": [
    {
     "name": "stdout",
     "output_type": "stream",
     "text": [
      "[4, 12, 24, 24, 48]\n",
      "[48, 12, 4, 2, 2]\n",
      "[12, 16, 24, 48, 24]\n"
     ]
    }
   ],
   "source": [
    "# nums = [1,2,3,4]\n",
    "nums=[4,3,2,1,2]\n",
    "n = len(nums)\n",
    "prefix = [1] * (n)\n",
    "prefix[0]=nums[0]\n",
    "for i in range(1,n):\n",
    "    prefix[i] = prefix[i-1]*nums[i]\n",
    "\n",
    "postfix=[1]*(n)\n",
    "postfix[n-1]=nums[n-1]\n",
    "for i in range(n-2,-1,-1):\n",
    "    postfix[i]=postfix[i+1]*nums[i]\n",
    "\n",
    "res = [1]*n\n",
    "\n",
    "for i in range(n):\n",
    "    if i==0:\n",
    "        res[i] = postfix[i+1]\n",
    "    elif i==n-1:\n",
    "        res[i] = prefix[i-1]\n",
    "    else:\n",
    "        res[i] = prefix[i-1]* postfix[i+1]\n",
    "print(prefix)\n",
    "\n",
    "print(postfix\n",
    ")\n",
    "print(res)"
   ]
  },
  {
   "cell_type": "code",
   "execution_count": 31,
   "metadata": {},
   "outputs": [
    {
     "data": {
      "text/plain": [
       "[24, 12, 8, 6]"
      ]
     },
     "execution_count": 31,
     "metadata": {},
     "output_type": "execute_result"
    }
   ],
   "source": [
    "nums = [1,2,3,4]\n",
    "# nums=[4,3,2,1,2]\n",
    "n = len(nums)\n",
    "\n",
    "res = [1]*n\n",
    "prefix = 1\n",
    "for i in range(n):\n",
    "    res[i] = prefix\n",
    "    prefix *= nums[i]\n",
    "\n",
    "postfix = 1\n",
    "for i in range(n-1,-1,-1):\n",
    "    res[i] =res[i] * postfix\n",
    "    postfix = postfix * nums[i]\n",
    "res"
   ]
  },
  {
   "cell_type": "code",
   "execution_count": 5,
   "metadata": {},
   "outputs": [
    {
     "name": "stdout",
     "output_type": "stream",
     "text": [
      "[1, 2, 6, 24]\n"
     ]
    },
    {
     "data": {
      "text/plain": [
       "[24, 12, 8, 6]"
      ]
     },
     "execution_count": 5,
     "metadata": {},
     "output_type": "execute_result"
    }
   ],
   "source": [
    "nums = [1,2,3,4]\n",
    "n = len(nums)\n",
    "res =[1]*n\n",
    "res[0] =nums[0]\n",
    "for i in range(1,n):\n",
    "    res[i] = res[i-1]*nums[i]\n",
    "postfix = 1\n",
    "print(res)\n",
    "for j in range(n-1,-1,-1):\n",
    "    if j==0:\n",
    "        res[j]= postfix\n",
    "    else:\n",
    "        res[j] = postfix*res[j-1]\n",
    "\n",
    "        postfix = nums[j]*postfix\n",
    "res\n"
   ]
  }
 ],
 "metadata": {
  "kernelspec": {
   "display_name": "base",
   "language": "python",
   "name": "python3"
  },
  "language_info": {
   "codemirror_mode": {
    "name": "ipython",
    "version": 3
   },
   "file_extension": ".py",
   "mimetype": "text/x-python",
   "name": "python",
   "nbconvert_exporter": "python",
   "pygments_lexer": "ipython3",
   "version": "3.12.7"
  }
 },
 "nbformat": 4,
 "nbformat_minor": 2
}
